{
 "cells": [
  {
   "cell_type": "markdown",
   "metadata": {},
   "source": [
    "$\\newcommand{\\vct}[1]{\\overrightarrow{#1}}$\n",
    "$\\newcommand{\\pd}[2]{\\frac{\\partial {#1}}{\\partial {#2}}}$\n",
    "$\\newcommand{\\wfint}[5]{\\int _{#1}^{#2} \\Psi _{#3}^* {#5} \\Psi _{#4} dx}$\n",
    "$\\newcommand{\\comp}{\\mathbb{C}}$\n",
    "$\\newcommand{\\fn}[3]{{#1}: {#2} \\rightarrow {#3}}$\n",
    "**Zgled:** Izračunaj LU razcep matrike"
   ]
  },
  {
   "cell_type": "markdown",
   "metadata": {},
   "source": [
    "$$A = \\begin{bmatrix} 1 & 4 & 3 & 1 \\\\ 2 & 9 & 8 & 5 \\\\ -2 & -7 & -3 & -1 \\\\ 3 & 13 & 13 & 3 \\end{bmatrix}$$"
   ]
  },
  {
   "cell_type": "markdown",
   "metadata": {},
   "source": [
    "a) brez pivotiranja $\\\\$\n",
    "b) z delnim pivotiranjem"
   ]
  },
  {
   "cell_type": "markdown",
   "metadata": {},
   "source": [
    "a) Vemo, da LU razcep obstaja. Želimo $A=LU$, kjer je L spodnjetrikotna z enkami na diagonali in U zgornjetrikotna z neničelnimi elementi na diagonali.\n",
    "$$\n",
    "\\begin{bmatrix} 1 & 4 & 3 & 1 \\\\ 2 & 9 & 8 & 5 \\\\ -2 & -7 & -3 & -1 \\\\ 3 & 13 & 13 & 3 \\end{bmatrix} \\to \n",
    "\\begin{bmatrix} 1 & 4 & 3 & 1 \\\\ 2/1 & 1 & 2 & 3 \\\\ -2/1 & 1 & 3 & 1 \\\\ 3/1 & 1 & 4 & 0 \\end{bmatrix} \\to\n",
    "\\begin{bmatrix} 1 & 4 & 3 & 1 \\\\ 2/1 & 1 & 2 & 3 \\\\ -2/1 & 1/1 & 1 & -1 \\\\ 3/1 & 1/1 & 2 & -3 \\end{bmatrix}\\to \n",
    "\\begin{bmatrix} 1 & 4 & 3 & 1 \\\\ 2/1 & 1 & 2 & 3 \\\\ -2/1 & 1/1 & 1 & -1 \\\\ 3/1 & 1/1 & 2/1 & 1 \\end{bmatrix}\n",
    "$$"
   ]
  },
  {
   "cell_type": "markdown",
   "metadata": {},
   "source": [
    "Naredili smo nekaj podobnega Gaussovi eliminaciji, le da prvega stolpca nismo odšteli, temveč le delili (slučajno se je izšlo, da vedno z 1). Eliminacijo smo izvajali na vedno manjšem kvadratu. Tako smo dobili:\n",
    "$$L = \\begin{bmatrix} 1 & 0 & 0 & 0 \\\\ 2 & 1 & 0 & 0 \\\\ -2 & 1 & 1 & 0 \\\\ 3 & 1 & 2 & 1 \\end{bmatrix}$$\n",
    "$$U = \\begin{bmatrix} 1 & 4 & 3 & 1 \\\\ 0 & 1 & 2 & 3 \\\\ 0 & 0 & 1 & -2 \\\\ 0 & 0 & 0 & 1 \\end{bmatrix}$$"
   ]
  },
  {
   "cell_type": "markdown",
   "metadata": {},
   "source": [
    "b) Ker ni dobro deliti z majhnimi števili, dodamo pivotiranje. Zato dodamo premutacijsko matriko P, ki ima v vsakem stolpcu in vsaki vrstici natako eno enico, ostalo pa so ničle. Tedaj velja $PA = LU$"
   ]
  },
  {
   "cell_type": "markdown",
   "metadata": {},
   "source": [
    "$$\n",
    "\\begin{bmatrix} 1 & 4 & 3 & 1 \\\\ 2 & 9 & 8 & 5 \\\\ -2 & -7 & -3 & -1 \\\\ 3 & 13 & 13 & 3 \\end{bmatrix} \\to\n",
    "\\begin{bmatrix} 3 & 13 & 13 & 3 \\\\ 2 & 9 & 8 & 5 \\\\ -2 & -7 & -3 & -1 \\\\ 1 & 4 & 3 & 1 \\end{bmatrix}$$"
   ]
  },
  {
   "cell_type": "markdown",
   "metadata": {},
   "source": [
    "zamenjali smo prvo in četrto vrstico. Permutacijsko matriko lahko konstruiramo tako, da imamo zraven identiteto, na kateri izvajamo iste menjave. Trenutno permutacijska matrika izgleda takole:\n",
    "$$P_1 = \\begin{bmatrix} 0 & 0 & 0 & 1 \\\\ 0 & 1 & 0 & 0 \\\\ 0 & 0 & 1 & 0 \\\\ 1 & 0 & 0 & 0 \\end{bmatrix}$$"
   ]
  },
  {
   "cell_type": "markdown",
   "metadata": {},
   "source": [
    "Naredimo eliminacijo:"
   ]
  },
  {
   "cell_type": "markdown",
   "metadata": {},
   "source": [
    "$$\\begin{bmatrix} 3 & 13 & 13 & 3 \\\\ 2 & 9 & 8 & 5 \\\\ -2 & -7 & -3 & -1 \\\\ 1 & 4 & 3 & 1 \\end{bmatrix} \\to \n",
    "\\begin{bmatrix} 3 & 13 & 13 & 3 \\\\ 2/3 & \\frac{1}{3} & -\\frac{2}{3} & 3 \\\\ -2/3 & \\frac{5}{3} & \\frac{17}{3} & 1 \\\\ 1/3 & -\\frac{1}{3} & -\\frac{4}{3} & 0 \\end{bmatrix}$$"
   ]
  },
  {
   "cell_type": "markdown",
   "metadata": {},
   "source": [
    "Izvedemo pivotiranje na drugem stolpcu (upoštevamo le zadnje tri vrstice, spremeni pa se tudi prvi stolpec). Zamenjali bomo drugo in tretjo vrstico, saj je po absolutni vrednosti največja vrednost $\\displaystyle{\\frac{5}{3}}$"
   ]
  },
  {
   "cell_type": "markdown",
   "metadata": {},
   "source": [
    "$$\\begin{bmatrix} 3 & 13 & 13 & 3 \\\\ 2/3 & \\frac{1}{3} & -\\frac{2}{3} & 3 \\\\ -2/3 & \\frac{5}{3} & \\frac{17}{3} & 1 \\\\ 1/3 & -\\frac{1}{3} & -\\frac{4}{3} & 0 \\end{bmatrix} \\to \\begin{bmatrix} 3 & 13 & 13 & 3 \\\\ -2/3 & \\frac{5}{3} & \\frac{17}{3} & 1 \\\\ 2/3 & \\frac{1}{3} & -\\frac{2}{3} & 3 \\\\ 1/3 & -\\frac{1}{3} & -\\frac{4}{3} & 0 \\end{bmatrix}$$"
   ]
  },
  {
   "cell_type": "markdown",
   "metadata": {},
   "source": [
    "Naš P je zdaj enak $$P_2 = \\begin{bmatrix}0 & 0 & 0 & 1 \\\\ 0 & 0 & 1 & 0 \\\\ 0 & 1 & 0 & 0 \\\\ 1 & 0 & 0 & 0 \\end{bmatrix}$$"
   ]
  },
  {
   "cell_type": "markdown",
   "metadata": {},
   "source": [
    "Naredimo še en korak eliminacije:\n",
    "$$\\begin{bmatrix} 3 & 13 & 13 & 3 \\\\ -2/3 & 5/3 & 17/3 & 1 \\\\ 2/3 & 1/3 & -\\frac{2}{3} & 3 \\\\ 1/3 & -1/3 & -\\frac{4}{3} & 0 \\end{bmatrix} \\to\n",
    "\\begin{bmatrix} 3 & 13 & 13 & 3 \\\\ -2/3 & 5/3 & 17/3 & 1 \\\\ 2/3 & 1/5 & -\\frac{9}{5} & \\frac{14}{5} \\\\ 2/3 & -1/5 & -\\frac{1}{5} & \\frac{1}{5} \\end{bmatrix}$$"
   ]
  },
  {
   "cell_type": "markdown",
   "metadata": {},
   "source": [
    "Pivotiranja nam tokrat ni treba izvajati, saj je $\\displaystyle{|-\\frac{9}{5}| > |-\\frac{1}{5}|}$"
   ]
  },
  {
   "cell_type": "markdown",
   "metadata": {},
   "source": [
    "$$\\begin{bmatrix} 3 & 13 & 13 & 3 \\\\ -2/3 & 5/3 & 17/3 & 1 \\\\ 2/3 & 1/5 & -\\frac{9}{5} & \\frac{14}{5} \\\\ 2/3 & -1/5 & -\\frac{1}{5} & \\frac{1}{5} \\end{bmatrix} \\to\n",
    "\\begin{bmatrix} 3 & 13 & 13 & 3 \\\\ -2/3 & 5/3 & 17/3 & 1 \\\\ 2/3 & 1/5 & -9/5 & 14/5 \\\\ 2/3 & -1/5 & 1/9 & -\\frac{1}{9} \\end{bmatrix}$$"
   ]
  },
  {
   "cell_type": "markdown",
   "metadata": {},
   "source": [
    "$$L = \\begin{bmatrix} 1 & 0 & 0 & 0 \\\\ -2/3 & 1 & 0 & 0 \\\\ 2/3 & 1/5 & 1 & 0 \\\\ 2/3 & -1/5 & 1/9 & 1 \\end{bmatrix}$$\n",
    "$$U = \\begin{bmatrix} 3 & 13 & 13 & 3 \\\\ 0 & 5/3 & 17/3 & 1 \\\\ 0 & 0 & -9/5 & 14/5 \\\\ 0 & 0 & 0 & 1/9 \\end{bmatrix}$$\n",
    "$$P = \\begin{bmatrix} 0 & 0 & 0 & 1 \\\\ 0 & 0 & 1 & 0 \\\\ 0 & 1 & 0 & 0 \\\\ 1 & 0 & 0 & 0 \\end{bmatrix}$$"
   ]
  },
  {
   "cell_type": "markdown",
   "metadata": {},
   "source": [
    "Lahko preverimo, da je $PA = LU$"
   ]
  },
  {
   "cell_type": "markdown",
   "metadata": {},
   "source": [
    "Zakaj nam to koristi? Kot vemo, lahko z razcepom zelo hitro rešimo sistem linearnih enačb:\n",
    "$$A\\mathbf{x} = \\mathbf{b}$$\n",
    "$$PA\\mathbf{x} = P\\mathbf{b} =: \\mathbf{c}$$\n",
    "S tem nismo spremenili rešitev, saj smo le zamenjali vrstni red enačb.\n",
    "$$(LU)\\mathbf{x} = \\mathbf{c}$$\n",
    "Uznačimo $\\mathbf{y}=U\\mathbf{x}$\n",
    "$$L\\mathbf{y} = \\mathbf{c}$$\n",
    "Sistem enačb z zgornje trikotno matriko pa znamo rešiti."
   ]
  },
  {
   "cell_type": "markdown",
   "metadata": {},
   "source": [
    "Drugi primer: Matrična enačba $AX = B \\\\$\n",
    "Če zapišemo $X = [\\mathbf{x_1}, \\mathbf{x_2} ..., \\mathbf{x_p}]$ in $B = [\\mathbf{b_1}, \\mathbf{b_2} ..., \\mathbf{b_p}]$, dobimo $p$ sistemov enačb\n",
    "$$A\\mathbf{x_i} = \\mathbf{b_i},~i = 1, 2, ... p$$\n",
    "Za vsak tak sistem zadošča isti $LU$ razcep, zato nam zelo pospeši reševanje.\n"
   ]
  },
  {
   "cell_type": "markdown",
   "metadata": {},
   "source": [
    "Tretji primer: Računanje inverza. Tega v numeriki sicer ne maramo početi, ampak če že moramo, je to rešitev sistema $AX=I$"
   ]
  },
  {
   "cell_type": "markdown",
   "metadata": {},
   "source": [
    "Stvar je celo nekoliko hitrejša kot reševanje navadnih matričnih sistemov. Kot je profesor močno poudaril, pa ne maramo računati inverzov."
   ]
  },
  {
   "cell_type": "markdown",
   "metadata": {},
   "source": [
    "Četrti primer: Računanje determinante. Velja $$det(PA) = det(LU)$$\n",
    "$$det(P) \\cdot det(A) = det(L) \\cdot det(U)$$\n",
    "Vemo, da je $det(L) = 1$, $det(U)$ pa je produkt diagonalnih elementov $U$. Determinanta $P$ zavzema vrednosti $\\pm 1$, predznak je odvisen od števila menjav (liho pomeni $-$, sodo pa $+$). Sledi:\n",
    "$$det(A) = (-1)^kdet(U)$$"
   ]
  },
  {
   "cell_type": "markdown",
   "metadata": {},
   "source": [
    "**Posebni sistemi:** Reševanje s pivotiranjem ima časovno zahtevnost $\\displaystyle{\\frac{8}{3}n^3}$, od tega $LU$ razcep porabi $\\displaystyle{\\frac{2}{3}n^3}$. Ni znano, ali se da hitreje, ampak v splošnem se verjame, da ne. obstajajo pa sistemi enačb, ki se jih da rešiti hitreje. Mednje sodijo zgornje in spodnje trikotni sistemi, tridiagonalni sistemi in simetrični pozitivno definitni sistemi. $\\\\$\n",
    "- Matrika je simetrično pozitivno definitna, če velja $A = A^T$ in $\\mathbf{x}^TA\\mathbf{x} \\geq 0$, in enakost velja le v primeru $\\mathbf{x}=0$.\n"
   ]
  },
  {
   "cell_type": "markdown",
   "metadata": {},
   "source": [
    "Za take sisteme uporabimo razcep Choleskega (beri \"Šoleskega\"). Choleski je bil vojaški oficir, in v vojski je presenetljivo prav prišlo, če si znal razcepljati matrike."
   ]
  },
  {
   "cell_type": "markdown",
   "metadata": {},
   "source": [
    "Cilj razcepa je zapisati matriko kot $A=VV^T$, kjer je $V$ spodnje trikotna in ima na diagonali pozitivne elemente. Časovna zahtevnost takega razcepa je $\\displaystyle{\\frac{1}{3}n^3}$ ali približno dvakrat manj kot $LU$ razcep."
   ]
  },
  {
   "cell_type": "markdown",
   "metadata": {},
   "source": [
    "Mimogrede: Če je $A$ pozitivno definitna, morajo biti njeni diagonalni elementi pozitivni. To dokažemo tako, da v zahtevo $\\mathbf{x}^TA\\mathbf{x} > 0$ za $\\mathbf{x} \\neq 0$ vstavimo $\\mathbf{x} = \\mathbf{e_i} = [0, ..., 0, 1, 0, ..., 0]$. Dobimo $A_{ii}$, ki mora biti torej večji od 0."
   ]
  },
  {
   "cell_type": "markdown",
   "metadata": {},
   "source": [
    "Poleg tega mora biti vsaka lastna vrednost matrike A pozitivna. Dokažemo tako, da v zahtevo $\\mathbf{x}^TA\\mathbf{x} > 0$ za $\\mathbf{x} \\neq 0$ vstavimo nek lastni vektor $x_i$ s pripadajočo lastno vrednostjo $\\lambda _i$. Velja $A\\mathbf{x_i} = \\lambda x_i$, zato dobimo\n",
    "$$\\mathbf{x_i}^T \\lambda \\mathbf{x_i} = \\lambda \\langle\\mathbf{x_i}, \\mathbf{x_i}\\rangle > 0$$\n",
    "Ker je skalarni produkt vektorja s samim sabo gotovo pozitiven za neničeln $x_i$, mora biti tudi $\\lambda > 0$"
   ]
  },
  {
   "cell_type": "markdown",
   "metadata": {},
   "source": [
    "Ena od težav takega razcepa je, da ne moremo več pivotirati po stolpcih, saj matrika pri tem ne ostane simetrična. V tem primeru moramo pivotirati vrednosti na diagonali in menjati tako vrstice kot stolpce. To je nepraktično, zato se matrikam, v katerih bi bilo to potrebno, poskušamo izogniti."
   ]
  },
  {
   "cell_type": "markdown",
   "metadata": {},
   "source": [
    "Kako preveriti, ali je matrika pozitivno definitna? Računanje lastnih vrednosti je zamudno, zato enostavno poskusimo izvesti razcep Cholskega. Če nam ne vrne napake, je matrika pozitivno definitna."
   ]
  },
  {
   "cell_type": "markdown",
   "metadata": {},
   "source": [
    "Kako izvedemo razcep Cholenskega?"
   ]
  },
  {
   "cell_type": "markdown",
   "metadata": {},
   "source": [
    "Imejmo $$A = \\begin{bmatrix} 1 & -2 & 1 & 1 \\\\ -2 & 8 & 2 & -4 \\\\ 1 & 2 & 14 & 2 \\\\ 1 & -4 & 2 & 19\\end{bmatrix}$$\n",
    "Če poskusimo hipotetično matriko $V$ zmnožiti s svojo transponirano vrednostjo, dobimo $A_{11} = V_{11}^2$ oziroma $V_{11} = \\sqrt{A_{11}}$. Ker ja $A$ pozitivno definitna, je ta koren gotovo realno število. Nato vse ostale elemente v prvem stolpcu dobimo po formuli $V_{1i} = A_{1i} / \\sqrt{A_{11}}$."
   ]
  },
  {
   "cell_type": "markdown",
   "metadata": {},
   "source": [
    "Ostali elementi v prvi vrstici so seveda 0."
   ]
  },
  {
   "cell_type": "markdown",
   "metadata": {},
   "source": [
    "V našem primeru ima V po tem koraku obliko $$\\begin{bmatrix} 1 & 0 & 0 & 0 \\\\ -2/1 &&& \\\\ 1/1 &&& \\\\ 1/1 &&& \\end{bmatrix}$$"
   ]
  },
  {
   "cell_type": "markdown",
   "metadata": {},
   "source": [
    "Nato je vrednost vsakega elementa na diagonali enaka $V_{k, k} = \\sqrt{A_{k, k} - V_{k,1:k-1}^2}$"
   ]
  },
  {
   "cell_type": "markdown",
   "metadata": {},
   "source": [
    "(seštevamo kvadrate komponent V v isti vrstici)"
   ]
  },
  {
   "cell_type": "markdown",
   "metadata": {},
   "source": [
    "V našem primeru dobimo $$\\begin{bmatrix} 1 & 0 & 0 & 0 \\\\ -2/1 & 2 && \\\\ 1/1 &&& \\\\ 1/1 &&& \\end{bmatrix}$$"
   ]
  },
  {
   "cell_type": "markdown",
   "metadata": {},
   "source": [
    "Preostanek drugega stolpca dobimo kot: $$V_{j, k} = A_{j, k} - \\langle V_{k, 1:k-1}, V_{j, 1:k-1}\\rangle$$"
   ]
  },
  {
   "cell_type": "markdown",
   "metadata": {},
   "source": [
    "Preostanek vrstice so ponovno ničle."
   ]
  },
  {
   "cell_type": "markdown",
   "metadata": {},
   "source": [
    "V našem primeru dobimo $$\\begin{bmatrix} 1 & 0 & 0 & 0 \\\\ -2 & 2 & 0 & 0 \\\\ 1 & 2 && \\\\ 1 & - 1 && \\end{bmatrix}$$"
   ]
  },
  {
   "cell_type": "markdown",
   "metadata": {},
   "source": [
    "Postopek ponovimo in dobimo $$\\begin{bmatrix} 1 & 0 & 0 & 0 \\\\ -2 & 2 & 0 & 0 \\\\ 1 & 2 & 3 & 0 \\\\ 1 & - 1 & 1 & 4 \\end{bmatrix}$$"
   ]
  },
  {
   "cell_type": "markdown",
   "metadata": {},
   "source": [
    "**Reševanje pasovnih sistemov:** Recimo, da ima matrika neničelne elemente le na $2k+1$ glavnih diagonalah. Take matrike se v fiziki pogosto pojavijo (iz različnih razlogov.)"
   ]
  },
  {
   "cell_type": "markdown",
   "metadata": {},
   "source": [
    "Najpreprostejši je tridiagonalni sistem (tudi zelo pogost). Želimo optimizirati algoritem za take sisteme. Uporabimo lahko kar Gaussovo eliminacijo, da nam ostanejo le vrednosti na diagonali."
   ]
  },
  {
   "cell_type": "markdown",
   "metadata": {},
   "source": [
    "Matrika ima obliko\n",
    "$$\\begin{bmatrix}\n",
    "* & * & 0 & ... &&&&& 0 \\\\\n",
    "* & * & * & 0 & ... &&&& 0 \\\\\n",
    "0 & * & * & * & 0 & ... &&& 0 \\\\\n",
    "... &&&&&&&& \\\\\n",
    "0 & 0 & ... &&&& * & * & * \\\\\n",
    "0 & 0 & ... &&&& 0 & * & * \\\\\n",
    "\\end{bmatrix}$$"
   ]
  },
  {
   "cell_type": "markdown",
   "metadata": {},
   "source": [
    "Reševanje takega sistema ima časovno zahtevnost $o(n)$, saj bomo rešitev dobili z eno zanko, prostorska zahtevnost pa je $3n$, saj si moramo zapomniti le glavno in obe stranski diagonali."
   ]
  },
  {
   "cell_type": "markdown",
   "metadata": {},
   "source": [
    "**Razpršene ali redke matrike** so matrike, ki imajo le majhno število neničelnih členov. Tudi take so zelo prijetne za reševanje. Uporabimo lahko kar $LU$ razcep, ker pa matrika nima veliko neničelnih vrednosti, je razcep precej hiter."
   ]
  }
 ],
 "metadata": {
  "language_info": {
   "name": "python"
  }
 },
 "nbformat": 4,
 "nbformat_minor": 2
}
