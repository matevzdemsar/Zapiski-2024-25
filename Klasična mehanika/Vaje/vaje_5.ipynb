{
 "cells": [
  {
   "cell_type": "markdown",
   "metadata": {},
   "source": [
    "$\\newcommand{\\vct}[1]{\\overrightarrow{#1}}$\n",
    "$\\newcommand{\\pd}[2]{\\frac{\\partial {#1}}{\\partial {#2}}}$\n",
    "$\\newcommand{\\wfint}[5]{\\int _{#1}^{#2} \\Psi _{#3}^* {#5} \\Psi _{#4} dx}$\n",
    "$\\newcommand{\\comp}{\\mathbb{C}}$\n",
    "$\\newcommand{\\fn}[3]{{#1}: {#2} \\rightarrow {#3}}$\n",
    "$\\newcommand{\\matrix}[1]{\\begin{bmatrix}{#1}\\end{bmatrix}}$\n",
    "$\\newcommand{\\avg}[1]{\\langle {#1} \\rangle}$\n",
    "**Lagrangeov formalizem**"
   ]
  },
  {
   "cell_type": "markdown",
   "metadata": {},
   "source": [
    "II. Newtonov zakon zapišemo v matrični obliki kot\n",
    "$$\\underline{F} = \\underline{\\underline{M}} \\, \\underline{\\ddot{R}}$$"
   ]
  },
  {
   "cell_type": "markdown",
   "metadata": {},
   "source": [
    "- $\\underline{F} = (F_{x1}, F_{y1}, F_{z1}, F_{x2}, F_{y2}, F_{z2} ...)$\n",
    "- $\\underline{R} = (x_1, y_1, z_1, x_2, y_2, z_2 ...)$\n",
    "- $\\underline{\\underline{M}} = \\text{diag}(m_1, m_1, m_1, m_2, m_2, m_2, ...)$"
   ]
  },
  {
   "cell_type": "markdown",
   "metadata": {},
   "source": [
    "Običajno uvedemo vez, torej dodaten pogoj oblike $f_k(\\underline{R}, t) = 0$"
   ]
  },
  {
   "cell_type": "markdown",
   "metadata": {},
   "source": [
    "Če uvedemo nov sistem koordinat $\\underline{q} = (q_1, ..., q_n)$, mora biti njih število enako $n = 3N - K$, kjer je $K$ število vezi."
   ]
  },
  {
   "cell_type": "markdown",
   "metadata": {},
   "source": [
    "Poleg tega smo izpeljali $$\\frac{d}{dt}\\left(\\pd{L}{\\dot{q_i}}\\right) - \\pd{L}{q_i} = Q_i$$"
   ]
  },
  {
   "cell_type": "markdown",
   "metadata": {},
   "source": [
    "Tu je $Q$ generalizirana sila, in sicer definirana kot\n",
    "$$Q_i = \\sum_{j}\\vct{F}_j \\cdot \\pd{\\vct{r}_j}{q_i}$$"
   ]
  },
  {
   "cell_type": "markdown",
   "metadata": {},
   "source": [
    "Poleg tega definiramo Lagrangeovo funkcijo $L = T - V$, kjer je $T$ kinetična energija, $V$ pa potencialna energija. "
   ]
  },
  {
   "cell_type": "markdown",
   "metadata": {},
   "source": [
    "**Naloga: Sistem škripcev z vzmetjo** Imamo škatlo z višino $h$. Na višini $h - z_2$ je pritrjen škripec, preko njega je napeljana vrv s konstantno dolžino $l$. Na eni strani škripca je drug škripec, ki je premičen. Na drugi strani je vrvica na tla pripeta z vzmetjo z znanim razteznim koeficientom in začetno dolžino. Oba škripca imata radij $R$ in maso $m$. "
   ]
  },
  {
   "cell_type": "markdown",
   "metadata": {},
   "source": [
    "Za opis sistema potrebujemo koordinate $z_1, z_3, \\varphi _1, \\varphi _2$"
   ]
  },
  {
   "cell_type": "markdown",
   "metadata": {},
   "source": [
    "- $z_1$ predstavlja razdaljo med drugim škripcem in stropom škatle\n",
    "- $z_3$ predstavlja razdaljo med koncem vzmeti in stropom škatle\n",
    "- $\\varphi _1$ in $\\varphi _2$ predstavljata zasuka škripcev."
   ]
  },
  {
   "cell_type": "markdown",
   "metadata": {},
   "source": [
    "Imamo sledeče vezi:\n",
    "- $l = z_1 - 2 \\pi R + (z_1 - z_2) + (z_3 - z_2)$\n",
    "- $\\dot{z}_3 = - R \\dot{\\varphi}_2$\n",
    "- $\\dot{z}_1 = - R \\dot{\\varphi}_1$"
   ]
  },
  {
   "cell_type": "markdown",
   "metadata": {},
   "source": [
    "$$T = \\frac{m(\\dot{z_1})^2}{2} + \\frac{J (\\dot{\\varphi _1})^2}{2} + \\frac{J (\\dot{\\varphi _2})^2}{2}$$\n",
    "$$V = \\frac{k (h - z_3 - l_0)^2}{2} - mgz_1$$"
   ]
  },
  {
   "cell_type": "markdown",
   "metadata": {},
   "source": [
    "Vse skupaj poskusimo izraziti z $z_1$"
   ]
  },
  {
   "cell_type": "markdown",
   "metadata": {},
   "source": [
    "$$T(z_1) = \\frac{m(\\dot{z}_1)^2}{2} + \\frac{J (\\dot{z}_1)^2}{2R^2} + \\frac{J (\\dot{z}_3)^2}{2R^2}$$"
   ]
  },
  {
   "cell_type": "markdown",
   "metadata": {},
   "source": [
    "Iz izraza za l lahko izrazimo $z_3$ kot $-2 z_1 + \\text{konst.}$, torej je $\\dot{z_3} = -2 \\dot{z_1}$"
   ]
  },
  {
   "cell_type": "markdown",
   "metadata": {},
   "source": [
    "Upoševamo še formulo za vztrajnostni moment valja: $\\displaystyle{J = \\frac{1}{2}mR^2}$"
   ]
  },
  {
   "cell_type": "markdown",
   "metadata": {},
   "source": [
    "$$T(z_1) = ... = (\\dot{z_1})^2 \\cdot \\frac{7}{4}m$$"
   ]
  },
  {
   "cell_type": "markdown",
   "metadata": {},
   "source": [
    "V izraz za potencialno energijo vstavimo vez za $l$ in dobimo $$V(z_1) = \\frac{k}{2}(\\alpha + 2z_1)^2 - mgz_1,$$\n",
    "kjer je $\\alpha = h - l_0 - l + 2 \\pi R - 2z_2$ konstanta."
   ]
  },
  {
   "cell_type": "markdown",
   "metadata": {},
   "source": [
    "Uporabimo Lagrangeov formalizem:\n",
    "$$L = \\frac{7}{4}m(\\dot{z}_1)^2 - \\frac{k}{2}(\\alpha - 2z_1)^2 + mgz_1$$\n",
    "$$\\pd{L}{\\dot{z}_1} = \\frac{7}{2}m\\dot{z}_1$$\n",
    "$$\\pd{L}{z_1} = -2k(\\alpha + 2z_1) + mg$$\n",
    "Enačbo gibanja dobimo iz dejstva, da na sistem zunanje sile ne delujejo, kar nam da zahtevo:\n",
    "$$\\frac{d}{dt}\\pd{L}{\\dot{q}_1} = \\pd{L}{q_1}$$\n",
    "$$\\frac{7}{2}m\\ddot{z}_1 = -2k(\\alpha + 2z_1) + mg$$\n",
    "$$\\ddot{z}_1 + \\frac{8k}{7m}z_1 = \\frac{2}{7}g - \\frac{4k\\alpha}{7m}$$"
   ]
  },
  {
   "cell_type": "markdown",
   "metadata": {},
   "source": [
    "Gre za diferencialno enačbo s splošno rešitvijo $$z_1(t) = z_0 + C\\cos\\left(\\sqrt{\\frac{8}{7}} \\omega _0 t\\right) + D \\sin\\left(\\sqrt{\\frac{8}{7}}\\omega _0 t\\right)$$"
   ]
  }
 ],
 "metadata": {
  "language_info": {
   "name": "python"
  }
 },
 "nbformat": 4,
 "nbformat_minor": 2
}
