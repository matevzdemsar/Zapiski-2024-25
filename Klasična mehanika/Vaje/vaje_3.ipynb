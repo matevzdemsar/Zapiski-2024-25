{
 "cells": [
  {
   "cell_type": "markdown",
   "metadata": {},
   "source": [
    "$\\newcommand{\\vct}[1]{\\overrightarrow{#1}}$\n",
    "$\\newcommand{\\pd}[2]{\\frac{\\partial {#1}}{\\partial {#2}}}$\n",
    "$\\newcommand{\\wfint}[5]{\\int _{#1}^{#2} \\Psi _{#3}^* {#5} \\Psi _{#4} dx}$\n",
    "$\\newcommand{\\comp}{\\mathbb{C}}$\n",
    "$\\newcommand{\\fn}[3]{{#1}: {#2} \\rightarrow {#3}}$\n",
    "**Novica dneva:** Asistentki je profesor ukradel flomastre. Poleg tega so znani točni termini izpitov, in sicer:\n",
    "- 1A izpit: 3. april od 16:15 do 17:45 v VFP\n",
    "- 1B izpiz: 9. junij od 17:15 do 18:45 v VFP\n",
    "- 2 izpit: 18. junij od 10:15 do 11:45 v VFP\n",
    "- 3 izpit: 25. avgust od 10:15 do 11:45 v VFP\n"
   ]
  },
  {
   "cell_type": "markdown",
   "metadata": {},
   "source": [
    "**Prost delec v vrtečem se koordinatnem sistemu.**\n",
    "Na plošči, ki se vrti s hitrostjo $\\vct{w}$, leži plošča, ki do časa $t=0$ miruje glede na ploščo, nato pa se odlepi in se začne prosto gibati. Opisati želimo gibanje mase v vrtečem se sistemu."
   ]
  },
  {
   "cell_type": "markdown",
   "metadata": {},
   "source": [
    "II. Newtonov zakon za enakomerno vrteč se sistem je:\n",
    "$$m\\vct{a}_{rel} = \\sum \\vct{F} - 2m\\vct{w} \\times \\vct{v}_{rel} - m\\vct{w} \\times (\\vct{w} \\times \\vct{r})$$"
   ]
  },
  {
   "cell_type": "markdown",
   "metadata": {},
   "source": [
    "Najprej zapišimo $\\vct{r}$ v vrtečem se sistemu $s'$:\n",
    "$$\\vct{r'} = x'\\vct{i'} + y'\\vct{j'}$$\n",
    "$$\\vct{v'} = \\dot{x}'\\vct{i'} + x'\\dot{\\vct{i'}} + \\dot{y}'\\vct{j'} + y'\\dot{\\vct{j'}}$$\n",
    "Gledamo relativno hitrost mase, torej enačimo $\\dot{\\vct{i'}} = \\dot{\\vct{j'}} = 0$\n",
    "$$\\vct{v}_{rel} = \\dot{x'}\\vct{i'} + \\dot{y'}\\vct{j}$$"
   ]
  },
  {
   "cell_type": "markdown",
   "metadata": {},
   "source": [
    "Podobno je $\\displaystyle{\\vct{a}_{rel} = \\ddot{x'}\\vct{i} + \\ddot{y'}\\vct{j'}}$"
   ]
  },
  {
   "cell_type": "markdown",
   "metadata": {},
   "source": [
    "Ker je vsota sil na maso enaka 0, enačimo:\n",
    "$$\\ddot{x'}\\vct{i'} + \\ddot{y'}\\vct{j'} = - 2\\vct{w} \\times \\vct{v}_{rel} - \\left((\\vct{w} \\cdot \\vct{r}) \\vct{w} - (\\vct{w} \\cdot \\vct{w}) \\vct{r} \\right)$$"
   ]
  },
  {
   "cell_type": "markdown",
   "metadata": {},
   "source": [
    "$\\vct{w} \\cdot \\vct{r}$ je gotovo enak 0, saj $r$ leži v ravnini, katere normala je $\\vct{w}$."
   ]
  },
  {
   "cell_type": "markdown",
   "metadata": {},
   "source": [
    "Sledi: $$\\ddot{x'} \\vct{i'} + \\ddot{y'} \\vct{j'} = 2w\\dot{y'}\\vct{i'} - 2w\\dot{x'}\\vct{j} + w^2x'\\vct{i'} + w^2y'\\vct{j'}$$\n",
    "Enačimo enačbi za $\\vct{i}$ in $\\vct{j}$ in dobimo sistem diferencialnih enačb:\n",
    "$\\begin{equation}\n",
    "\\ddot{x'} = 2w\\dot{y'} + w^2 x' ~\\,\n",
    "\\end{equation} \\\\\n",
    "\\begin{equation}\n",
    "\\ddot{y} = - 2w\\dot{x'} + w^2 y' ~\\,\n",
    "\\end{equation}$\n",
    "Sistem najlažje rešimo tako, da enačbo (2) pomnožimo z imaginarno enoto $i$ in enačbi seštejemo, da dobimo diferencialno enačbo za novo spremenljivko $\\alpha$."
   ]
  },
  {
   "cell_type": "markdown",
   "metadata": {},
   "source": [
    "$$\\ddot{\\alpha} = 2wi\\dot{\\alpha} + w^2\\alpha$$"
   ]
  },
  {
   "cell_type": "markdown",
   "metadata": {},
   "source": [
    "Enačbo rešujemo z nastavkom $\\alpha = C e^{\\lambda t}$.\n",
    "$$\\lambda^2 + 2wi \\lambda - w^2 = 0$$\n",
    "$$\\left( \\lambda + iw \\right)^2 = 0$$\n",
    "$$\\lambda _{1, 2} = iw$$\n",
    "$$\\alpha = Ce^{-iwt} + Dte^{-iwt}$$"
   ]
  },
  {
   "cell_type": "markdown",
   "metadata": {},
   "source": [
    "\n",
    "Vstavimo začetne pogoje, in sicer $x(t=0) = x_0$, $y(t=0) = y_0$ ter $\\vct{v}(t=0) = 0$:\n",
    "$$x_0 + iy_0 = C e^{-iwt}\\Big|_{t=0} + D te^{-iwt} \\Big|_{t=0} = C$$\n",
    "$$0 \\equiv \\dot{\\alpha} = -iwC + D$$\n",
    "$$D = iwx_0 - wy_0$$"
   ]
  },
  {
   "cell_type": "markdown",
   "metadata": {},
   "source": [
    "Iz $\\alpha$ izrazimo $x'$ in $y'$:\n",
    "$$\\alpha = x_0 e^{-iwt} +iy_0e^{-iwt} + \\left(iwx_0 - wy_0\\right)te^{-iwt}$$\n",
    "$$= \\left[\\cos(wt) - i\\sin(wt)\\right]\\left(x_0 + iy_0 + iwtx_0 - wty_0\\right)$$\n",
    "$$x' = \\mathfrak{Re}(\\alpha) = \\cos(wt)(x_0 - y_0wt) + \\sin(wt) (y_0 + x_0wt)$$\n",
    "$$y' = \\mathfrak{Im}(\\alpha) = \\cos(wt)(y_0 + x_0wt) - \\sin(wt) (x_0 - y_0wt)$$"
   ]
  },
  {
   "cell_type": "markdown",
   "metadata": {},
   "source": [
    "Alternativno reševanje: Rešimo v mirujočem sistemu in nato spremenimo bazo v vrtečo se."
   ]
  },
  {
   "cell_type": "markdown",
   "metadata": {},
   "source": [
    "\n",
    "V mirujočem sistemu $S$ je baza enaka $\\vct{r} = x\\vct{i} + y\\vct{j}$. Ker ni zunanjih sil, je pospešek enak 0 in bo veljalo\n",
    "$$x = A + Bt$$\n",
    "$$y = C + Dt$$\n",
    "Začetni pogoji so nekoliko drugačni, saj relativna hitrost ni več enaka 0, temveč je enaka $\\vct{w} \\times \\vct{r}$, tedaj je $\\vct{v}(t=0) = wx_0\\vct{j} - wy_0\\vct{i}$."
   ]
  },
  {
   "cell_type": "markdown",
   "metadata": {},
   "source": [
    "Dobimo $x(t) = x_0 - y_0wt$, $y(t) = y_0 + x_0 wt$"
   ]
  },
  {
   "cell_type": "markdown",
   "metadata": {},
   "source": [
    "Celoten sistem se vrti s kotno hitrostjo $w$, zato poiščemo prehodno matriko:\n",
    "$$R = \\begin{bmatrix}\\cos wt & -\\sin wt \\\\ \\sin wt & \\cos wt\\end{bmatrix}$$\n",
    "Velja $\\displaystyle{\\begin{bmatrix}x \\\\ y\\end{bmatrix} = R \\begin{bmatrix}x' \\\\ y'\\end{bmatrix}}$, mi pa hočemo ravno obratno, zato uporabimo inverz matrike $R$, ki je zaradi ortogonalnosti ravno enaka $R^T$. Dobimo točno isto kot prej."
   ]
  },
  {
   "cell_type": "markdown",
   "metadata": {},
   "source": [
    "Opomba: V splošnem je take bližnjice težje najti."
   ]
  },
  {
   "cell_type": "markdown",
   "metadata": {},
   "source": [
    "**Focaultovo nihalo:** Če nihalo dovolj dolgo niha, se začne poznati vrtenje Zemlje - ravnina, po kateri niha nihalo, se bo počasi sukala. To je sukanje odvisno od geografske širine - zanima nas, kako."
   ]
  },
  {
   "cell_type": "markdown",
   "metadata": {},
   "source": [
    "Najbolj prikladno je, da za neinercialni opazovalni sistem vzamemo vrh nihala. Najprej obravnavajmo II. Newtonov zakon:\n",
    "$$m\\vct{a}_{rel} = \\sum \\vct{F} - 2m\\vct{w} \\times \\vct{v}_{rel} - m\\vct{w}\\times\\left(\\vct{w}\\times(\\vct{R} + \\vct{r'})\\right)$$"
   ]
  },
  {
   "cell_type": "markdown",
   "metadata": {},
   "source": [
    "Seveda je $\\vct{r} = \\vct{R} + \\vct{r'}$"
   ]
  },
  {
   "cell_type": "markdown",
   "metadata": {},
   "source": [
    "Vsota sil na nihalo je enaka $\\vct{F}_v + \\vct{F}_g$. Označimo $\\displaystyle{\\vct{F}_v = F_v \\frac{\\vct{r'}}{|\\vct{r'}|}}$. Potrebujemo še sledeči približek:\n",
    "$$\\vct{F}_g = -mg \\, \\vct{k}$$\n",
    "To ni striktno res, saj tako $\\vct{k}$ kot $\\vct{F}_g$ kažeta proti središču Zemlje, torej nista nujno vzporedna. Vendar je razlika med njunima kotoma nepredstavljivo majhna, tako da si s tem ne bomo merili glave."
   ]
  },
  {
   "cell_type": "markdown",
   "metadata": {},
   "source": [
    "V ravnovesni legi glede na $S'$: $\\vct{a}_{rel} = \\vct{v}_{rel} = 0$\n",
    "$$-mg\\vct{k} - \\frac{F_v}{l}\\vct{r_0'} - m\\vct{w}\\times\\left(\\vct{w} \\times \\vct{R}\\right) - m\\vct{w} \\times \\left(\\vct{v} \\times \\vct{r_0'}\\right) = 0$$"
   ]
  },
  {
   "cell_type": "markdown",
   "metadata": {},
   "source": [
    "V primerjavi z ostalimi členi je $\\displaystyle{m\\vct{w} \\times \\left(\\vct{v} \\times \\vct{r_0'}\\right)}$ zelo majhne, zato zanemarimo tudi tega (ostali členi so reda velikosti $10^{-1}$, ta pa $10^{-8}$. Za nihalo tako ali tako potrebujemo aproksimacijo $\\sin \\varphi \\approx \\varphi$, ki je bistveno manj natančna.)"
   ]
  },
  {
   "cell_type": "markdown",
   "metadata": {},
   "source": [
    "$$\\vct{r_0'} = \\frac{lm}{F_v} \\left(g\\vct{k'} + \\vct{w} \\times (\\vct{w} \\times \\vct{R})\\right)$$"
   ]
  },
  {
   "cell_type": "markdown",
   "metadata": {},
   "source": [
    "Uporabimo Newtonov zakon za majhen odmik iz ravnovesne lege $\\alpha$, velja naj $\\alpha \\ll l$. Imamo torej $\\vct{r'} = \\vct{r_0} + \\vct{\\alpha}$"
   ]
  },
  {
   "cell_type": "markdown",
   "metadata": {},
   "source": [
    "$$m \\vct{a}_{rel} = mg \\vct{k'} - \\frac{F_v}{l} (\\vct{r_0} + \\vct{\\alpha}) - 2m\\vct{w} \\times \\vct{v}_{rel} - m\\vct{w} \\times (\\vct{w} \\times \\vct{R})$$"
   ]
  },
  {
   "cell_type": "markdown",
   "metadata": {},
   "source": [
    "Zadnji člen se pokrajša z $\\vct{r_0}$, ostane nam:\n",
    "$$m\\vct{a}_{rel} = -\\frac{F_v}{l}\\alpha - 2m\\vct{w} \\times \\vct{v}_{rel}$$\n",
    "Zadnja aproksimacija, ki jo potrebujemo, je sledeča: $$\\vct{\\alpha} = x'\\vct{i} + y'\\vct{j} + z'\\vct{k} \\approx x'\\vct{i} + y'\\vct{j},$$\n",
    "saj se utež nihala ne dviguje veliko. V bistvu smo aproksimirali $1 - \\cos \\varphi \\approx \\frac{1}{2} \\varphi^2$."
   ]
  },
  {
   "cell_type": "markdown",
   "metadata": {},
   "source": [
    "Sledi:\n",
    "$$\\ddot{x'}\\vct{i'} + \\ddot{y'}\\vct{j'} = \\frac{g}{l}(x'\\vct{i'} + y'\\vct{j'}) - 2w(-\\dot{y'}\\sin\\varphi \\vct{i'} + \\dot{x'}\\sin\\varphi\\vct{j'})$$"
   ]
  },
  {
   "cell_type": "markdown",
   "metadata": {},
   "source": [
    "Spet smo predpostavili, da odmiki v smeri $k$ ne vplivajo bistveno (vektorski produkt bi nam pridelal še člen s $k$)."
   ]
  },
  {
   "cell_type": "markdown",
   "metadata": {},
   "source": [
    "$$\\ddot{x} = - \\frac{g}{l}x' + 2\\dot{y'}w\\sin\\varphi$$\n",
    "$$\\ddot{y} = - \\frac{g}{l}y' + 2\\dot{x'}w\\sin\\varphi$$"
   ]
  },
  {
   "cell_type": "markdown",
   "metadata": {},
   "source": [
    "Naredimo isto kot prej: Spodnjo enačbo pomnožimo z imaginarno enoto $i$ in seštejemo, uvedemo $\\xi = x + iy$ in rešujemo diferencialno enačbo\n",
    "$$\\ddot{\\xi} = -\\frac{g}{l}\\xi - 2iw\\sin\\varphi \\dot{\\xi}$$"
   ]
  },
  {
   "cell_type": "markdown",
   "metadata": {},
   "source": [
    "Definirajmo $\\displaystyle{w_0^2 = \\frac{g}{l}}$"
   ]
  },
  {
   "cell_type": "markdown",
   "metadata": {},
   "source": [
    "$$\\ddot{\\xi} = -w_0^2 \\xi - 2iw\\sin\\varphi \\dot{\\xi}$$"
   ]
  },
  {
   "cell_type": "markdown",
   "metadata": {},
   "source": [
    "Ostalo prihodnjič."
   ]
  }
 ],
 "metadata": {
  "language_info": {
   "name": "python"
  }
 },
 "nbformat": 4,
 "nbformat_minor": 2
}
