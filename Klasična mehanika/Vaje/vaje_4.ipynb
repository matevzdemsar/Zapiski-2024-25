{
 "cells": [
  {
   "cell_type": "markdown",
   "metadata": {},
   "source": [
    "$\\newcommand{\\vct}[1]{\\overrightarrow{#1}}$\n",
    "$\\newcommand{\\pd}[2]{\\frac{\\partial {#1}}{\\partial {#2}}}$\n",
    "$\\newcommand{\\wfint}[5]{\\int _{#1}^{#2} \\Psi _{#3}^* {#5} \\Psi _{#4} dx}$\n",
    "$\\newcommand{\\comp}{\\mathbb{C}}$\n",
    "$\\newcommand{\\fn}[3]{{#1}: {#2} \\rightarrow {#3}}$\n",
    "$\\newcommand{\\matrix}[1]{\\begin{bmatrix}{#1}\\end{bmatrix}}$"
   ]
  },
  {
   "cell_type": "markdown",
   "metadata": {},
   "source": [
    "Nazadnje smo prišli do diferencialne enačbe\n",
    "$$\\ddot{\\xi} + 2i\\Omega\\dot{\\xi}\\sin\\varphi + w_0^2\\xi = 0$$\n",
    "v kateri naj $\\Omega$ predstavlja vrtenje Zemlje okoli lastne osi, $w_0$ pa $\\sqrt{g/l}$"
   ]
  },
  {
   "cell_type": "markdown",
   "metadata": {},
   "source": [
    "Enačbo rešujemo z nastavkom $\\displaystyle{\\xi = \\xi _0 e^{i\\omega t}}$. Dobimo kvadratno enačbo\n",
    "$$\\omega^2 + 2\\Omega \\sin\\varphi \\omega - \\omega _0^2 = 0$$\n",
    "z rešitvama $$\\omega _{1,2} = \\frac{1}{2}\\left(-2\\Omega\\sin\\varphi\\pm\\sqrt{4\\Omega^2\\sin^2\\varphi + 4\\omega _0^2}\\right)$$"
   ]
  },
  {
   "cell_type": "markdown",
   "metadata": {},
   "source": [
    "Privoščimo si še en približek, in sicer, da je vrtenje zemlje mnogo počasnejše od lastne frekvence nihala, torej je $\\sqrt{\\Omega^2 \\sin^2\\varphi + \\omega _0^2} \\approx \\omega _0$"
   ]
  },
  {
   "cell_type": "markdown",
   "metadata": {},
   "source": [
    "Tedaj je $\\omega _1 = -\\Omega \\sin \\varphi + \\omega _0$ in $\\omega _2 = - \\Omega \\sin \\varphi - \\omega _0$"
   ]
  },
  {
   "cell_type": "markdown",
   "metadata": {},
   "source": [
    "$$\\xi = Ae^{-i(\\Omega \\sin \\varphi + \\omega _0)t} + Be^{-i(\\Omega \\sin \\varphi - \\omega _0)t}$$"
   ]
  },
  {
   "cell_type": "markdown",
   "metadata": {},
   "source": [
    "Vstavimo robne pogoje pri času 0 (torej $\\xi(0) = x_0$ in $\\dot{\\xi}(0) = 0$), da dobimo vrednosti $A$ in $B$, in sicer sta obe enaki $x_0/2$"
   ]
  },
  {
   "cell_type": "markdown",
   "metadata": {},
   "source": [
    "$$\\xi (t) = \\frac{x_0}{2} e^{-i\\Omega t \\sin\\varphi} \\left(e^{-\\omega _0t} + e^{-\\omega _0t}\\right) = x_0 e^{-i\\Omega t \\sin\\varphi} \\cos(\\omega _0t)$$"
   ]
  },
  {
   "cell_type": "markdown",
   "metadata": {},
   "source": [
    "Zdaj lahko izrazimo $x'$ in $y'$ kot realni in imaginarni del $\\xi$, in sicer:\n",
    "$$x' = x_0 \\cos (\\Omega t \\sin\\varphi)\\cos(\\omega _0t)$$\n",
    "$$y' = - x_0 \\sin (\\Omega t \\sin\\varphi)\\cos(\\omega _0t)$$\n",
    "Nazadnje lahko izrazimo $\\vct{r'}$, in sicer je enak\n",
    "$$\\vct{r'} = \\vct{r_0'} + x'\\vct{i'} + y'\\vct{j'} = \\vct{r_0'} + x_0\\cos{\\omega _0 t}\\left(\\cos(\\Omega t \\sin\\varphi) \\vct{i'} - \\sin(\\Omega t \\sin \\varphi) \\vct{j'}\\right)$$"
   ]
  },
  {
   "cell_type": "markdown",
   "metadata": {},
   "source": [
    "Izraz v oklepaju je odvisen le od $\\Omega$ in $\\varphi$ in predstavlja vrtenje ravnine, v kateri se giblje nihalo."
   ]
  },
  {
   "cell_type": "markdown",
   "metadata": {},
   "source": [
    "*\"Zdaj gremo na najbolj grozno nalogo iz vrtečih se sistemov. Potem bo nekaj časa bolje. Potem pa spet slabše.\"*"
   ]
  },
  {
   "cell_type": "markdown",
   "metadata": {},
   "source": [
    "**Padanje kamna v jašek** Na geografski širini $\\varphi$ imamo jašek, ki vodi proti središču Zemlje. Nevrteč se koordinatni sistem naj se nakaja v središču Zemlje in ima bazne vektorje $\\vct{i}, \\vct{j}, \\vct{k}$, na vrhu jaška pa definiramo vrteč koodrinatni sistem z baznimi vektorji $\\vct{i'}, \\vct{j'}, \\vct{k'}$. Zemlja se vrti s kotno hitrostjo $\\Omega$. Kako se v vrtečem koordinatnem sistemu giblje kamen?"
   ]
  },
  {
   "cell_type": "markdown",
   "metadata": {},
   "source": [
    "Reševanje: Coriolisovo in centrifugalno silo smo že zapisali kot\n",
    "$$\\vct{F}_{cor} = -m\\left(\\vct{\\Omega} \\times \\vct{v}_{rel}\\right)$$\n",
    "$$\\vct{F}_{c} = -m \\left(\\vct{\\Omega} \\times \\left(\\vct{\\Omega} \\times (\\vct{R} + \\vct{r'})\\right)\\right)$$"
   ]
  },
  {
   "cell_type": "markdown",
   "metadata": {},
   "source": [
    "Poleg tega na kamen deluje tudi sila gravitacije: $$\\vct{F_g} = m \\vct{g} = -mg\\vct{k'}$$"
   ]
  },
  {
   "cell_type": "markdown",
   "metadata": {},
   "source": [
    "Centrifugalna sila je zanemarljivo majhna v primerjavi z ostalima dvema, njen največji prispevek je nekolikšna sprememba efektivnega gravitacijskega pospeška, spremeni namreč obliko Zemlje iz krogle v nekaj bolj podobnega elipsoidu. V nadaljnje z $g$ označujemo ta popravljeni $g$, ki je sicer enak\n",
    "$$g\\vct{k} = \\vct{g_0} - \\vct{\\Omega} \\times \\left(\\vct{\\Omega} \\times \\vct{r'}\\right)$$\n",
    "Ta približek pa si lahko privoščimo le ob majhnih časih, ko je $\\vct{R} + \\vct{r'} \\approx \\vct{R}$."
   ]
  },
  {
   "cell_type": "markdown",
   "metadata": {},
   "source": [
    "$$m\\vct{a}_{rel} = -2m\\vct{\\Omega} \\times \\vct{v}_{rel} + m\\vct{g}$$"
   ]
  },
  {
   "cell_type": "markdown",
   "metadata": {},
   "source": [
    "$$\\vct{r'} = x'\\vct{i'} + y'\\vct{j'} + z\\vct{k'}$$\n",
    "$$\\vct{v}_{rel} = \\dot{x'}\\vct{i'} + \\dot{y'}\\vct{j'} + \\dot{z'}\\vct{k'}$$\n",
    "$$\\vct{a}_{rel} = \\ddot{x'}\\vct{i'} + \\ddot{y'}\\vct{j'} + \\ddot{z'}\\vct{k'}$$\n",
    "$$\\vct{\\Omega} \\times \\vct{v}_{rel} = ... = \\Omega \\left(\\cos\\varphi \\dot{z'} - \\sin\\varphi \\dot{y'}\\right)\\vct{i'} + \\Omega \\sin\\varphi\\dot{x'}\\vct{j'} - \\Omega\\cos\\varphi \\dot{x'}\\vct{k'}$$"
   ]
  },
  {
   "cell_type": "markdown",
   "metadata": {},
   "source": [
    "Izrazimo komponente $\\vct{i'}, \\vct{j'}$ in $\\vct{k'}$ in dobimo sistem treh enačb:\n",
    "$\\begin{equation} \\ddot{x'} = 2\\Omega \\sin \\varphi \\dot{y'} - 2\\Omega \\cos\\varphi \\dot{z'}\\end{equation}$\n",
    "$\\begin{equation} \\ddot{y'} = - 2\\Omega \\sin \\varphi \\dot{x'}\\end{equation}$\n",
    "$\\begin{equation} \\ddot{z'} = 2\\Omega \\cos \\varphi \\dot{x'} - g\\end{equation}$"
   ]
  },
  {
   "cell_type": "markdown",
   "metadata": {},
   "source": [
    "Uvedemo novi spremenljivki $\\gamma = z'\\cos\\varphi - y'\\sin\\varphi$ in $\\beta = z'\\sin\\varphi + y'\\cos\\varphi$, s čemer smo v bistvu uvedli nov koordinatni sitem, ki se vrti skupaj z originalnim, vendar se glede nanj ne vrti."
   ]
  },
  {
   "cell_type": "markdown",
   "metadata": {},
   "source": [
    "Iz enačbe (1) dobimo\n",
    "$\\begin{equation} \\ddot{x} = -2\\Omega \\dot{\\gamma},\\end{equation}$\n",
    "iz vsote $(2) \\cos\\varphi + (3)\\sin\\varphi$ dobimo\n",
    "$\\begin{equation}\\ddot{\\beta} = -g\\sin\\varphi,\\end{equation}$\n",
    "iz vsote $-(3) \\cos \\varphi + (2) \\sin \\varphi$ pa dobimo\n",
    "$\\begin{equation}\\ddot{\\gamma} = 2\\Omega\\dot{x'} - g\\cos\\varphi\\end{equation}$\n",
    "Najprej se lotimo enačbe za $\\ddot{\\beta}$. Uvedemo novo spremenljivko $s = \\dot{\\beta}$, kar nam omogoči, da z integralom dobimo vrednost $\\beta$:\n",
    "$$\\beta = \\frac{gt^2}{2}\\sin\\varphi + Ct + D$$"
   ]
  },
  {
   "cell_type": "markdown",
   "metadata": {},
   "source": [
    "Nato rešimo še ostali dve enačbi, in sicer tako, da v vsoto $(4) + i(6)$ uvedemo novo spremenljivko $\\xi = x' + i\\gamma$\n",
    "$$\\ddot{\\xi} = i2\\Omega\\dot{\\xi} - ig\\cos\\varphi$$\n",
    "Dobili smo nehomogeno diferencialno enačbo. Najprej rešujemo homogeni del, za kar uporabimo nastavek $\\xi = \\xi _0e^{iwt}$\n",
    "$$-\\xi _0 w^2 e^{iwt} - 2\\Omega i\\xi _0 iwe^{iwt} = ig\\cos\\varphi$$\n",
    "Ko pokrajšamo $\\displaystyle{e^{iwt}}$ in $\\xi _0$, dobimo kvadratno enačbo $$w^2 - 2\\Omega w = 0$$\n",
    "z rešitvama $w_1 = 0$ in $w_2 = 2\\Omega$"
   ]
  },
  {
   "cell_type": "markdown",
   "metadata": {},
   "source": [
    "Partikularno rešitev dobimo z nastavkom $\\xi = At + B$, kar nam da $\\dot{\\xi} = A,~\\ddot{\\xi} = 0$. Ko to vstavimo v enačbo, dobimo $\\displaystyle{A = \\frac{g\\cos\\varphi}{2\\Omega}}$"
   ]
  },
  {
   "cell_type": "markdown",
   "metadata": {},
   "source": [
    "$$\\xi = E + Fe^{2i\\Omega t} + \\frac{g\\cos\\varphi}{2\\Omega}t$$"
   ]
  },
  {
   "cell_type": "markdown",
   "metadata": {},
   "source": [
    "Vstavimo začetna pogoja\n",
    "$$\\xi(t=0) = 0 = E + F$$\n",
    "$$\\dot{\\xi}(t = 0) = 0 = i2\\Omega F + \\frac{g\\cos\\varphi}{2\\Omega}$$\n",
    "Iz tega hitro izračunamo $E$ in $F$ ter izrazimo $\\xi (t)$:\n",
    "$$\\xi(t) = \\frac{-ig\\cos\\varphi}{(2\\Omega)^2} + \\frac{ig\\cos\\varphi}{(2\\Omega)^2}e^{i2\\Omega t} + \\frac{g\\cos\\varphi}{2\\omega}t$$"
   ]
  },
  {
   "cell_type": "markdown",
   "metadata": {},
   "source": [
    "Vzeti moramo še robne pogoje za $\\beta$. Šlo je za enačbo\n",
    "$$\\beta = -\\frac{gt^2}{2}\\sin\\varphi + Ct + D$$"
   ]
  },
  {
   "cell_type": "markdown",
   "metadata": {},
   "source": [
    "Ker sta tako $\\beta(t=0)$ kot $\\dot{\\beta}(t=0)$ enaki 0, velja $C=D=0$ in je potemtakem $$\\beta = -\\frac{gt^2}{2}\\sin\\varphi$$"
   ]
  },
  {
   "cell_type": "markdown",
   "metadata": {},
   "source": [
    "Iz $\\xi$ moramo izraziti $x'$ in $\\gamma$, in sicer je $x' = \\mathfrak{Re}(\\xi)$ in $\\gamma = \\mathfrak{Im}(\\xi)$\n",
    "$$x' = \\frac{g\\cos\\varphi}{2\\Omega}t - \\frac{g\\cos\\varphi\\sin(2\\Omega t)}{(2\\Omega)^2}$$\n",
    "$$\\gamma = \\frac{g\\cos\\varphi}{(2\\Omega)^2}\\left(\\cos(2\\Omega t) - 1\\right)$$"
   ]
  },
  {
   "cell_type": "markdown",
   "metadata": {},
   "source": [
    "Nazadnje iz $\\beta$ in $\\gamma$ izrazimo $y'$ in $z'$. Spomnimo se, da je\n",
    "$$\\beta = z' \\sin \\varphi + y' \\cos \\varphi$$\n",
    "$$\\gamma = z' \\cos \\varphi - y' \\sin \\varphi$$"
   ]
  },
  {
   "cell_type": "markdown",
   "metadata": {},
   "source": [
    "Sledi\n",
    "$$y' = \\cos\\varphi \\cdot \\beta - \\sin\\varphi \\cdot \\gamma$$\n",
    "$$z' = \\cos\\varphi \\cdot \\gamma + \\sin\\varphi \\cdot \\beta$$"
   ]
  },
  {
   "cell_type": "markdown",
   "metadata": {},
   "source": [
    "$$y' = -g\\cos\\varphi\\sin\\varphi\\left(\\frac{t^2}{2} + \\frac{\\cos(2\\Omega t) - 1}{(2\\Omega)^2}\\right)$$\n",
    "$$z' = \\cos^2\\varphi \\cdot \\frac{g}{(2\\Omega)^2} \\left(\\cos(2\\Omega t) - 1\\right) - \\sin^2\\varphi \\frac{gt^2}{2}$$"
   ]
  },
  {
   "cell_type": "markdown",
   "metadata": {},
   "source": [
    "Nazadnje obravnavajmo rešitev pri zelo majhnih časih, da lahko $\\cos(2\\Omega t)$ in $\\sin(2\\Omega t)$ razvijemo po Taylorju:\n",
    "$$\\cos(2\\omega t) \\sim 1 - \\frac{(2\\Omega t)^2}{2}$$\n",
    "$$\\sin(2\\Omega t) \\sim 2\\Omega t - \\frac{(2\\Omega t)^3}{6}$$"
   ]
  },
  {
   "cell_type": "markdown",
   "metadata": {},
   "source": [
    "Za tak približek dobimo\n",
    "$$z' \\approx -\\frac{gt^2}{2}$$\n",
    "$$y' \\approx 0$$\n",
    "$$x' \\approx \\frac{g\\cos\\varphi}{2\\Omega}t - \\frac{g\\cos\\varphi}{(2\\Omega)^2}\\left(2\\Omega t - \\frac{(2\\Omega t)^3}{6}\\right)$$"
   ]
  },
  {
   "cell_type": "markdown",
   "metadata": {},
   "source": [
    "Vidimo torej, da kamen ne leti naravnost po jašku."
   ]
  }
 ],
 "metadata": {
  "language_info": {
   "name": "python"
  }
 },
 "nbformat": 4,
 "nbformat_minor": 2
}
