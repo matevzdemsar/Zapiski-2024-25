{
 "cells": [
  {
   "cell_type": "markdown",
   "metadata": {},
   "source": [
    "informacije: $\\\\$\n",
    "3. 4. izpit 1A $\\\\$\n",
    "9. 6. izpit 1B $\\\\$\n",
    "18. 6. izpit 2 $\\\\$\n",
    "25. 8. izpit 3 $\\\\$\n",
    "G-mail: lara.ucakar@fmf.uni-lj.si $\\\\$\n",
    "\"Govorilne ure\": P.09 na matematiki.\n",
    "Snov: Alternativni pristopi do reševanja problemov iz klasične mehanike (Hamiltonova in Lagrangeova mehanika)"
   ]
  },
  {
   "cell_type": "markdown",
   "metadata": {},
   "source": [
    "1. poglavje: Newtonov zakon v krivočrtnih (ne nujno kartezičnih) koordinatah:"
   ]
  },
  {
   "cell_type": "markdown",
   "metadata": {},
   "source": [
    "Kartezične koordinate: Imamo koordinate x, y, z in bazne vektorje $\\overrightarrow{i},~\\overrightarrow{j},~\\overrightarrow{k}$.\n",
    "Mimogrede uvedemo pojem koordinatnih črt: črte, pri katerih se spreminja le ena od koordinat. Na podlagi tega lahko definiramo bazne vektorja:\n",
    "$$\\overrightarrow{i} = \\frac{\\partial \\overrightarrow{r}}{\\partial x}$$\n",
    "$$\\overrightarrow{j} = \\frac{\\partial \\overrightarrow{r}}{\\partial y}$$\n",
    "$$\\overrightarrow{k} = \\frac{\\partial \\overrightarrow{r}}{\\partial z}$$"
   ]
  },
  {
   "cell_type": "markdown",
   "metadata": {},
   "source": [
    "Takšni bazi pravimo globalna baza, torej lahko take koordinate dobimo povsod v prostoru. Pri krivočrtnih koordinatah to ni mogoče. Vzemimo neke krivočrtne koordinate (v 2D prostoru): $x_\\alpha$ in $x_\\beta$. Zanje je smer baznih vektorjev ($\\overrightarrow{e_\\alpha}$ in $\\overrightarrow{e_\\beta}$) odvisna od pozicije v prostoru, torej lahko postavimo samo lokalno bazo, ne pa tudi globalne."
   ]
  },
  {
   "cell_type": "markdown",
   "metadata": {},
   "source": [
    "Prednost globalne baze je v tem, da lahko vsak vektor zapišemo kot\n",
    "$$\\overrightarrow{r} = x_\\alpha \\cdot \\overrightarrow{e_\\alpha} + x_\\beta \\cdot \\overrightarrow{e_\\beta}$$\n",
    "V krivočrtnih koordinatah imamo\n",
    "$$\\overrightarrow{r} = x(x_\\alpha, x_\\beta) \\cdot \\overrightarrow{e_\\alpha} + y(x_\\alpha, x_\\beta) \\cdot \\overrightarrow{e_\\beta}$$"
   ]
  },
  {
   "cell_type": "markdown",
   "metadata": {},
   "source": [
    "Dovolj majhne premike lahko zapišemo z lokalno bazo, torej\n",
    "$$d\\overrightarrow{r} = dx_\\alpha \\cdot \\overrightarrow{e_\\alpha} + dx_\\beta \\cdot \\overrightarrow{e_\\beta}$$"
   ]
  },
  {
   "cell_type": "markdown",
   "metadata": {},
   "source": [
    "Posledično lahko zapišemo hitrost kot\n",
    "$$\\dot{\\overrightarrow{r}} = \\frac{\\partial{\\overrightarrow{r}}}{\\partial x_\\alpha} \\frac{d x_\\alpha}{dt} + \\frac{\\partial{\\overrightarrow{r}}}{\\partial x_\\beta} \\frac{d x_\\beta}{dt}$$\n",
    "$$\\dot{\\overrightarrow{r}} = \\overrightarrow{e}_\\alpha \\dot{x_\\alpha} + \\overrightarrow{e_\\beta}\\dot{x}_\\beta$$"
   ]
  },
  {
   "cell_type": "markdown",
   "metadata": {},
   "source": [
    "Zgled: polarne koordinate v 2D"
   ]
  },
  {
   "cell_type": "markdown",
   "metadata": {},
   "source": [
    "$$x = r \\cos\\varphi$$\n",
    "$$y = r \\sin\\varphi$$\n",
    "$$\\overrightarrow{r} = r \\cos\\varphi \\overrightarrow{i} + r \\sin\\varphi \\overrightarrow{j}$$\n"
   ]
  },
  {
   "cell_type": "markdown",
   "metadata": {},
   "source": [
    "Izračunamo lahko bazne vektorje:\n",
    "$$\\overrightarrow{e_r} = \\cos\\varphi \\overrightarrow{i} + r\\cos\\varphi \\overrightarrow{j}$$\n",
    "$$\\overrightarrow{e_\\varphi} = - r \\sin \\varphi \\overrightarrow{i} + r\\cos\\varphi \\overrightarrow{j}$$\n",
    "$$\\overrightarrow{e_r} \\cdot \\overrightarrow{e_r} = 1$$\n",
    "$$\\overrightarrow{e_\\varphi} \\cdot \\overrightarrow{e_\\varphi} = r^2$$\n",
    "$$\\overrightarrow{e_r} \\cdot \\overrightarrow{e_\\varphi} = 0$$\n",
    "Bazna vektorja sta torej vedno ortogonalna, nista pa oba normirana."
   ]
  },
  {
   "cell_type": "markdown",
   "metadata": {},
   "source": [
    "2. Newtonov zakon:\n",
    "$\\ddot{\\overrightarrow{r}}m = \\sum\\overrightarrow{F}$"
   ]
  },
  {
   "cell_type": "markdown",
   "metadata": {},
   "source": [
    "$$\\ddot{\\overrightarrow{r}} = \\frac{d}{dt}(\\overrightarrow{e_r}\\dot{r} + \\overrightarrow{e_\\varphi}\\dot{\\varphi})$$\n",
    "$$= \\ddot{r} \\overrightarrow{e_r} + \\dot{r}\\dot{\\overrightarrow{e_r}} + \\ddot{\\varphi} \\overrightarrow{e_\\varphi} + \\dot{\\varphi}\\dot{\\overrightarrow{e_\\varphi}}$$"
   ]
  },
  {
   "cell_type": "markdown",
   "metadata": {},
   "source": [
    "Prej izračunana $\\overrightarrow{e_r}$ in $\\overrightarrow{e_\\varphi}$ odvajamo po času in dobimo:\n",
    "$$\\dot{\\overrightarrow{e_r}} = \\frac{\\dot{\\varphi}}{r}\\overrightarrow{e_\\varphi}$$\n",
    "$$\\dot{\\overrightarrow{e_\\varphi}} = -\\dot{\\varphi}r\\overrightarrow{e_r} + \\frac{\\dot{r}}{r}\\overrightarrow{e_\\varphi}$$"
   ]
  },
  {
   "cell_type": "markdown",
   "metadata": {},
   "source": [
    "Ali nazadnje:\n",
    "$$\\sum\\overrightarrow{F} = m(\\ddot{r} - r\\dot{\\varphi}^2) \\overrightarrow{e_r} + m(\\ddot{\\varphi} + \\frac{2\\dot{r}\\dot{\\varphi}}{r}) \\overrightarrow{e_\\varphi}$$"
   ]
  },
  {
   "cell_type": "markdown",
   "metadata": {},
   "source": [
    "$\\textbf{Vaja: Kinetična energija v sferičnih koordinatah}$\n",
    "$$x = r \\sin\\vartheta \\cos \\varphi$$\n",
    "$$y = r \\sin\\vartheta \\sin \\varphi$$\n",
    "$$z = r \\cos\\vartheta$$"
   ]
  },
  {
   "cell_type": "markdown",
   "metadata": {},
   "source": [
    "Označimo T ... kinetična energija. $T = \\frac{1}{2} m \\dot{\\overrightarrow{r}}^2 = \\frac{1}{2} m (\\dot{x}^2 + \\dot{y}^2 + \\dot{z}^2)$"
   ]
  },
  {
   "cell_type": "markdown",
   "metadata": {},
   "source": [
    "$$\\dot{\\overrightarrow{r}} = \\overrightarrow{e_r} \\dot{r} + \\overrightarrow{e_\\varphi} \\dot{\\varphi} + \\overrightarrow{e_\\vartheta} \\dot{\\vartheta}$$"
   ]
  },
  {
   "cell_type": "markdown",
   "metadata": {},
   "source": [
    "Izrazimo bazne vektorje:\n",
    "$$\\overrightarrow{e_r} = \\sin \\vartheta \\cos \\varphi \\overrightarrow{i} + \\sin \\vartheta \\sin \\varphi \\overrightarrow{j} + \\cos\\vartheta \\overrightarrow{k}$$\n",
    "$$\\overrightarrow{e_\\vartheta} = r \\cos \\vartheta \\cos \\varphi \\overrightarrow{i} + r \\cos \\vartheta \\sin \\varphi \\overrightarrow{j} - r \\sin \\vartheta \\overrightarrow{k}$$\n",
    "$$\\overrightarrow{e_\\varphi} = - r \\cos \\vartheta \\sin \\varphi \\overrightarrow{i} + r \\cos \\vartheta \\cos \\varphi \\overrightarrow{j}"
   ]
  },
  {
   "cell_type": "markdown",
   "metadata": {},
   "source": [
    "$\\newcommand{\\vct}{#1}$"
   ]
  },
  {
   "cell_type": "markdown",
   "metadata": {},
   "source": [
    "$\\renewcommand{\\vct}[1]{\\overrightarrow{#1}}$"
   ]
  },
  {
   "cell_type": "markdown",
   "metadata": {},
   "source": [
    "$\\newcommand{\\pd}[2]{\\frac{\\partial {#1}}{\\partial {#2}}}$"
   ]
  },
  {
   "cell_type": "markdown",
   "metadata": {},
   "source": [
    "Potrebujemo še $\\dot{\\vct{r}}^2$:\n",
    "$$\\dot{\\vct{r}}^2 = \\vct{e_r}^2 \\dot{r}^2 + \\vct{e_\\varphi}^2 \\dot{\\varphi}^2 + \\vct{e_\\vartheta}^2 \\dot{\\vartheta}^2 +\n",
    "2 \\vct{e_r}\\vct{e_\\varphi} \\dot{r} \\dot{\\varphi} + 2 \\vct{e_r}\\vct{e_\\vartheta} \\dot{r} \\dot{\\vartheta} + 2 \\vct{e_\\theta}\\vct{e_\\varphi} \\dot{\\vartheta} \\dot{\\varphi}$$"
   ]
  },
  {
   "cell_type": "markdown",
   "metadata": {},
   "source": [
    "Izračunamo skalarne produkte med baznimi vektorji, npr.:\n",
    "$$\\vct{e_\\varphi} \\cdot \\vct{e_\\varphi} = r^2 \\sin^2\\vartheta \\cos^2\\varphi \\vct{i}^2 + r^2\\sin^2\\vartheta\\sin^2\\varphi$$\n",
    "$$=r^2\\sin^2\\vartheta$$\n",
    "Podobno dobimo $\\vct{e_r}\\cdot\\vct{e_r} = 1$ in $\\vct{e_\\vartheta} \\cdot \\vct{e_\\vartheta} = r^2$, mešani členi pa so enaki 0."
   ]
  },
  {
   "cell_type": "markdown",
   "metadata": {},
   "source": [
    "Vstavimo v enačbo za kinetično energijo in dobimo $T = (\\dot{r}^2 + r^2 \\sin^2\\vartheta \\dot{\\varphi}^2 + r^2 \\dot{\\vartheta}^2) \\frac{m}{2}$"
   ]
  },
  {
   "cell_type": "markdown",
   "metadata": {},
   "source": [
    "$\\textbf{Vaja: Kroženje po območju z viskoznostjo}$"
   ]
  },
  {
   "cell_type": "markdown",
   "metadata": {},
   "source": [
    "Ležeči obroč, viskoznost $\\eta$, radij $R$. Velja $\\vct{F_v} = \\vct{v} \\eta$."
   ]
  },
  {
   "cell_type": "markdown",
   "metadata": {},
   "source": [
    "Ob času $t=0$: $\\varphi(0) = \\varphi _0$, $\\dot{\\varphi}(0) = v_{\\phi_0}$"
   ]
  },
  {
   "cell_type": "markdown",
   "metadata": {},
   "source": [
    "2. Newtonov zakon smo prej izpeljali kot:\n",
    "$$m(\\ddot{r} - r\\varphi^2)\\vct{e_r} + m(\\ddot{\\varphi} + \\frac{2\\dot{r}\\dot{\\varphi}}{r})\\vct{e_\\varphi} = \\sum \\vct{F}$$"
   ]
  },
  {
   "cell_type": "markdown",
   "metadata": {},
   "source": [
    "Silo razstavimo na tangentno in centripetalno komponento. Vemo $r = R$, $\\dot{r} = \\ddot{r} = 0$."
   ]
  },
  {
   "cell_type": "markdown",
   "metadata": {},
   "source": [
    "$$-mR\\dot{\\varphi}^2\\vct{e_r} + m\\ddot{\\varphi}\\vct{e_\\varphi} = -\\vct{e_\\varphi} \\dot{\\varphi}\\eta - F_c \\cdot \\vct{e_r}$$"
   ]
  },
  {
   "cell_type": "markdown",
   "metadata": {},
   "source": [
    "Ali drugače:\n",
    "$$\\vct{e_r}(F_c - mR\\dot{\\varphi^2}) + \\vct{e_\\varphi}(m\\ddot{\\varphi} + \\dot{\\phi}\\eta) = 0$$\n",
    "Dobimo dve diferencialni enačbi:\n",
    "$$F_c - mR\\dot{\\varphi^2} = 0$$\n",
    "$$m\\ddot{\\varphi} + \\eta \\dot{\\varphi} = 0$$"
   ]
  },
  {
   "cell_type": "markdown",
   "metadata": {},
   "source": [
    "Rešujemo najprej drugo, in sicer najprej uvedemo $x = \\dot{\\varphi}$, nato uporabimo separacijo:\n",
    "$$\\frac{\\dot{x}}{x} = -\\frac{\\eta}{m}$$\n",
    "$$x = x_0 e^{-\\frac{\\eta}{m}t} = \\dot{\\varphi}$$\n",
    "$$\\varphi - \\varphi _0 = -v_{\\varphi _0} \\frac{m}{\\eta} (e^{-\\frac{\\eta}{m}t}-1)$$"
   ]
  },
  {
   "cell_type": "markdown",
   "metadata": {},
   "source": [
    "$\\textbf{Vaja: Pokončno postavljen obroč}$"
   ]
  },
  {
   "cell_type": "markdown",
   "metadata": {},
   "source": [
    "Zapiski so slikani na mojem telefonu (17. 2. 2025). Sicer pa je naloga podobna, le uvedemo silo gravitacije $\\vct{F} = -mgĵ$ in $ĵ$ izrazimo z $\\vct{e_r}$ in $\\vct{e_\\varphi}$"
   ]
  },
  {
   "cell_type": "markdown",
   "metadata": {},
   "source": []
  }
 ],
 "metadata": {
  "language_info": {
   "name": "python"
  }
 },
 "nbformat": 4,
 "nbformat_minor": 2
}
