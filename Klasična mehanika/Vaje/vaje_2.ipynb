{
 "cells": [
  {
   "cell_type": "markdown",
   "metadata": {},
   "source": [
    "$\\newcommand{\\vct}[1]{\\overrightarrow{#1}}$\n",
    "$\\newcommand{\\pd}[2]{\\frac{\\partial {#1}}{\\partial {#2}}}$\n",
    "$\\newcommand{\\wfint}[5]{\\int _{#1}^{#2} \\Psi _{#3}^* {#5} \\Psi _{#4} dx}$\n",
    "$\\newcommand{\\comp}{\\mathbb{C}}$\n",
    "$\\newcommand{\\fn}[3]{{#1}: {#2} \\rightarrow {#3}}$\n",
    "**Kolokvij 2017:** Drsenje po kosinusni podlagi."
   ]
  },
  {
   "cell_type": "markdown",
   "metadata": {},
   "source": [
    "$y(x) = y_0 \\cos \\frac{x}{x_0} \\\\$\n",
    "Ob času $t=0$: $y = y_0$, $x = 0$, $v = v_0 \\rightarrow 0 \\\\$\n",
    "Pri katerem $y$ klada zleti s podlage? \n"
   ]
  },
  {
   "cell_type": "markdown",
   "metadata": {},
   "source": [
    "Na klado delujeta dve sili: gravitacija in normalna sila. Predpostavimo, da ni trenja. $\\\\$\n",
    "Nalogo obravnavamo v koordinatnem sistemu, ki bo sledil podlagi. Definiramo bazni vektor $\\vct{e_1}$, ki je tangenten na podlago,\n",
    "in $\\vct{e_2}$, ki je pravokoten na podlago. Lahko si predstavljamo, kot da celoten sistem obračamo z rotacijsko matriko. Označimo $\\varphi = \\arctan (dy/dx)$"
   ]
  },
  {
   "cell_type": "markdown",
   "metadata": {},
   "source": [
    "$$\\vct{e_1} = \\vct{i} \\cos \\varphi + \\vct{j} \\sin \\varphi$$\n",
    "$$\\vct{e_2} = - \\vct{i} \\sin \\varphi + \\vct{j} \\cos \\varphi$$"
   ]
  },
  {
   "cell_type": "markdown",
   "metadata": {},
   "source": [
    "Zapišemo 2. Newtonov zakon:\n",
    "$$m \\ddot{\\vct{r}} = \\vct{F_p} + \\vct{F_g}$$"
   ]
  },
  {
   "cell_type": "markdown",
   "metadata": {},
   "source": [
    "Namesto $\\ddot{\\vct{r}}$ pišimo $\\frac{d}{dt}\\vct{v}$, saj pričakujemo, da bo hitrost (vsaj nekaj časa) vzporedna s podlago."
   ]
  },
  {
   "cell_type": "markdown",
   "metadata": {},
   "source": [
    "$$\\ddot{\\vct{r}} = \\frac{d}{dt} \\vct{v} = v \\dot{\\vct{e_1}} + \\dot{v}\\vct{e_1} = v \\dot{\\varphi} \\vct{e_2} + \\dot{v} \\vct{e_1}$$"
   ]
  },
  {
   "cell_type": "markdown",
   "metadata": {},
   "source": [
    "Za izračun sile gravitacije moramo izraziti vektor $j$:\n",
    "$$\\vct{e_1} = \\vct{i} \\cos \\varphi + \\vct{j} \\sin \\varphi$$\n",
    "$$\\vct{e_2} = - \\vct{i} \\sin \\varphi + \\vct{j} \\cos \\varphi$$"
   ]
  },
  {
   "cell_type": "markdown",
   "metadata": {},
   "source": [
    "Prvo enačbo pomnožimo s $\\sin \\varphi$, drugo pa s $\\cos \\varphi$, nato ju seštejemo."
   ]
  },
  {
   "cell_type": "markdown",
   "metadata": {},
   "source": [
    "$$\\vct{e_1} \\sin \\varphi + \\vct{e_2} \\cos \\varphi = \\vct{i} \\sin \\varphi \\cos \\varphi + \\vct{j} \\sin^2 \\varphi\n",
    "- \\vct{i} \\sin \\varphi \\cos \\varphi + \\vct{j} \\cos^2 \\varphi = \\vct{j}$$"
   ]
  },
  {
   "cell_type": "markdown",
   "metadata": {},
   "source": [
    "Te dve enakosti vstavimo v 2. Newtonov zakon in dobimo sistem dveh diferencialnih enačb (kot prej zahtevamo, da sta obe komponenti sile enaki 0, saj to pomeni, da se ima klada priložnost odlepiti):\n",
    "$$\\vct{e_1}:~m\\dot{v} = -mg\\sin \\varphi$$\n",
    "$$\\vct{e_2}:~mv\\dot{\\varphi} = F_p - mg\\cos \\varphi$$"
   ]
  },
  {
   "cell_type": "markdown",
   "metadata": {},
   "source": [
    "Obravnavamo enačbo za $\\vct{e_2}$, saj ta določa silo vzdolž podlage.\n",
    "Najprej naredimo sledeč razmislek: $$\\dot \\varphi = \\frac{d \\varphi}{dt} = \\frac{d\\varphi}{dx} \\frac{dx}{dt} = v\\cos \\varphi \\frac{d\\varphi}{dx}$$ "
   ]
  },
  {
   "cell_type": "markdown",
   "metadata": {},
   "source": [
    "$$\\frac{d \\varphi}{dx} = \\frac{d}{dx} (\\arctan y') = \\frac{y''}{1 + y'^2}$$"
   ]
  },
  {
   "cell_type": "markdown",
   "metadata": {},
   "source": [
    "$$mv^2 \\cos \\varphi \\frac{y''}{1 + y'^2} = F_p - mg cos \\varphi = -mg \\cos \\varphi$$"
   ]
  },
  {
   "cell_type": "markdown",
   "metadata": {},
   "source": [
    "\n",
    "Kajti zahtevali smo $F_p = 0$. Enačbo na obeh straneh množimo z $(1 + y'^2)$."
   ]
  },
  {
   "cell_type": "markdown",
   "metadata": {},
   "source": [
    "$$(v^2 y'' + g(1 + y'^2))\\cos\\varphi = 0$$"
   ]
  },
  {
   "cell_type": "markdown",
   "metadata": {},
   "source": [
    "Rešujemo to enačbo, vemo, da mora biti $v^2 y'' + g(1 + y'^2) = 0$"
   ]
  },
  {
   "cell_type": "markdown",
   "metadata": {},
   "source": [
    "$$y'^2 = \\frac{y_0^2}{x_0^2} \\sin^2 \\frac{x}{x_0} = \\frac{y_0^2}{x_0^2} \\left(1 - \\frac{y^2}{y_0^2}\\right)$$\n",
    "$$y'' = -\\frac{y}{x_0^2}$$"
   ]
  },
  {
   "cell_type": "markdown",
   "metadata": {},
   "source": [
    "Iz ohranitve energije vemo tudi $$\\frac{1}{2}mv^2 + mgy = mgy_0$$\n",
    "$$v^2 = 2g(y_0 - y)$$"
   ]
  },
  {
   "cell_type": "markdown",
   "metadata": {},
   "source": [
    "Ko vse to vstavimo v enačbo, dobimo kvadratno enačbo, in sicer:\n",
    "$$y^2 - 2y_0 y + (x_0^2 + y_0^2) = 0$$\n",
    "$$y = \\frac{2y_0 \\pm \\sqrt{4y_0^2 - 4(x_0^2 + y_0^2)}}{2}$$"
   ]
  },
  {
   "cell_type": "markdown",
   "metadata": {},
   "source": [
    "$$y = y_0 \\pm \\sqrt{-x_0^2}$$"
   ]
  },
  {
   "cell_type": "markdown",
   "metadata": {},
   "source": [
    "Rešitev je kompleksna, iskali pa smo realno. To pomeni, da klada ostane na podlagi."
   ]
  },
  {
   "cell_type": "markdown",
   "metadata": {},
   "source": [
    "Na spletni učilnici je še ena zanimiva in težka naloga, in sicer gibanje delcev v okolici (hipotetičnega) monopola (ali pa zelo blizu enega od polov dipola)"
   ]
  },
  {
   "cell_type": "markdown",
   "metadata": {},
   "source": [
    "**Vrteči / neinercialni sistemi**"
   ]
  },
  {
   "cell_type": "markdown",
   "metadata": {},
   "source": [
    "V vrtečem sistemu bo na lokalni koordinatni sistem delovala nekakšna sila (centripetalna, coriolissova sila). Bazna vektorja se zato s časom spreminjata. Formalno izpeljavo smo naredili na predavanju, za vajo pa naredimo še preprostejšo izpeljavo."
   ]
  },
  {
   "cell_type": "markdown",
   "metadata": {},
   "source": [
    "Zaradi delovanja sistemskih sil zapišemo 2. Newtonov zakon kot $$m\\vct{a}_{rel} = \\sum \\vct{F} + \\vct{F_s}$$"
   ]
  },
  {
   "cell_type": "markdown",
   "metadata": {},
   "source": [
    "Zamislimo si, da stojimo na površini vrteče se krogle (to bo zahtevalo nekaj domišljije).\n",
    "Izberemo mirujoč koordinatni sistem S z vektorji $\\vct{i}, \\vct{j}, \\vct{k}$. Krogla se vrti s hitrostjo $\\vct{\\Omega} = \\Omega \\vct{k}$."
   ]
  },
  {
   "cell_type": "markdown",
   "metadata": {},
   "source": [
    "\n",
    "V točki na krogli izberemo tak koordinatni sistem, da je vektor $\\vct{i'}$ vzdolž vzporednika, $\\vct{j'}$ vzdolž poldnevnika, $\\vct{k'}$ pa pravokoten na površino krogle.\n",
    "Ti vektorji se zaradi vrtenja spreminjajo s časom, in sicer:\n",
    "$$\\vct{i'} = \\vct{i} \\cos \\Omega t + \\vct{j} \\sin \\Omega t$$\n",
    "$$\\vct{j'} = - \\vct{i} \\sin \\Omega t \\sin \\varphi + \\vct{j} \\cos \\Omega t \\sin \\varphi + \\vct{k} \\cos \\varphi$$\n",
    "$$\\vct{k'} = - \\vct{i} \\sin \\Omega t \\cos \\varphi - \\vct{j} \\cos \\Omega t \\cos \\varphi + \\vct{k} \\sin \\varphi$$"
   ]
  },
  {
   "cell_type": "markdown",
   "metadata": {},
   "source": [
    "Označili smo $\\varphi$ ... kot glede na ekvator. Neke sorte geografska višina."
   ]
  },
  {
   "cell_type": "markdown",
   "metadata": {},
   "source": [
    "\n",
    "$$\\vct{r} = \\vct{R} + \\vct{r'}$$"
   ]
  },
  {
   "cell_type": "markdown",
   "metadata": {},
   "source": [
    "$$m \\ddot{\\vct{r}} = \\ddot{\\vct{R}} + \\ddot{\\vct{r'}}$$"
   ]
  },
  {
   "cell_type": "markdown",
   "metadata": {},
   "source": [
    "$$\\dot{\\vct{r'}} = \\dot{x'} \\vct{i}' + \\dot{y'} \\vct{j}' + \\dot{z} \\vct{k}' + x' \\dot{\\vct{i}'} + y' \\dot{\\vct{j}'} + z' \\dot{\\vct{k}'}$$"
   ]
  },
  {
   "cell_type": "markdown",
   "metadata": {},
   "source": [
    "Z odvajanjem dobimo\n",
    "$$\\dot{\\vct{i}'} = [\\vct{j}' \\sin \\varphi - \\vct{k}' \\cos \\varphi]\\Omega$$\n",
    "$$\\dot{\\vct{j}'} = - \\Omega \\vct{i}' \\sin \\varphi$$\n",
    "$$\\dot{\\vct{k}'} = \\Omega \\vct{i}' \\cos \\varphi$$"
   ]
  },
  {
   "cell_type": "markdown",
   "metadata": {},
   "source": [
    "Na predavanju smo pokazali, da velja\n",
    "$$\\dot{\\vct{i}'} = \\vct{\\Omega} \\times \\vct{i}'$$\n",
    "$$\\dot{\\vct{j}'} = \\vct{\\Omega} \\times \\vct{j}'$$\n",
    "$$\\dot{\\vct{k}'} = \\vct{\\Omega} \\times \\vct{k}'$$\n",
    "V našem primeru lahko tudi računsko preverimo, da to velja."
   ]
  },
  {
   "cell_type": "markdown",
   "metadata": {},
   "source": [
    "Zdaj lahko $\\dot{\\vct{r}'}$ zapišemo kot vsoto relativne hitrosti in hitrrosti, pridobljeni zaradi vrtenja krogle. Velja\n",
    "$$\\dot{\\vct{r}'} = \\vct{v_{rel}} + \\vct{\\Omega} \\times \\vct{r}$$\n",
    "$$\\dot{\\vct{R}} = 0 + \\vct{\\Omega} \\times \\vct{R}$$\n",
    "$$\\ddot{\\vct{r}'} = \\dot{\\vct{v_{rel}}} + \\dot{\\vct{\\Omega}} \\times \\vct{r}' + \\vct{\\Omega} \\times \\dot{\\vct{r}'}$$\n",
    "Seveda je $\\dot{\\vct{\\Omega}} = 0$, saj je kotna hitrost (zaenkrat) konstantna."
   ]
  },
  {
   "cell_type": "markdown",
   "metadata": {},
   "source": [
    "\n",
    "$$\\ddot{\\vct{r}'} = \\frac{d}{dt}(\\dot{x}' \\vct{i}' + ...) + \\vct{\\Omega} \\times (\\vct{v}_{rel} + \\vct{\\Omega} \\times \\vct{v}_{rel})$$\n",
    "$$= \\ddot{x}' \\vct{i}' + \\ddot{y}' \\vct{j}' + \\ddot{z} \\vct{k}' + \\dot{x}' \\dot{\\vct{i}'} + \\dot{y}' \\dot{\\vct{j}'} + \\dot{z}' \\dot{\\vct{k}'} + \\vct{\\Omega} \\times \\vct{v}{rel} + \\vct{\\Omega} \\times (\\vct{\\Omega} \\times \\vct{r'})$$\n",
    "$$= \\vct{a}_{rel} + \\vct{\\Omega} \\times \\vct{v}_{rel} + \\vct{\\Omega} \\times \\vct{v}_{rel} + \\vct{\\Omega} \\times (\\vct{\\Omega} \\times \\vct{r'})$$\n",
    "Dobimo torej izraza za $\\ddot{\\vct{r}'}$ in $\\ddot{\\vct{R}}$:\n",
    "$$\\ddot{\\vct{r}'} = \\vct{a}_{rel} + 2 \\vct{\\Omega} \\times \\vct{v}_{rel} + \\vct{\\Omega} \\times (\\vct{\\Omega} \\times \\vct{r}')$$\n",
    "$$\\ddot{\\vct{R}} = \\vct{\\Omega} \\times \\dot{\\vct{R}} = \\vct{\\Omega} \\times (\\vct{\\Omega} \\times \\vct{R})$$"
   ]
  },
  {
   "cell_type": "markdown",
   "metadata": {},
   "source": [
    "Tako lahko 2. Newtonov zakon zapišemo v obliki\n",
    "$$m\\vct{a}_{rel} = \\sum \\vct{F} - 2m \\vct{\\Omega} \\times \\vct{v}_{rel} - m \\vct{\\Omega} \\times (\\vct{\\Omega} \\times (\\vct{r'} + \\vct{R}))$$"
   ]
  },
  {
   "cell_type": "markdown",
   "metadata": {},
   "source": [
    "Člen $\\displaystyle{-2m \\vct{\\Omega} \\times \\vct{v}_{rel}}$ imenujemo Coriolisova sila, člen $-\\displaystyle{m \\vct{\\Omega} \\times (\\vct{\\Omega} \\times (\\vct{r'} + \\vct{R}))}$ pa centrifugalna sila."
   ]
  }
 ],
 "metadata": {
  "language_info": {
   "name": "python"
  }
 },
 "nbformat": 4,
 "nbformat_minor": 2
}
