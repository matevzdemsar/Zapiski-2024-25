{
 "cells": [
  {
   "cell_type": "markdown",
   "metadata": {},
   "source": [
    "$\\newcommand{\\vct}[1]{\\overrightarrow{#1}}$\n",
    "$\\newcommand{\\pd}[2]{\\frac{\\partial {#1}}{\\partial {#2}}}$\n",
    "$\\newcommand{\\dd}[2]{\\frac{\\mathrm{d} {#1}}{\\mathrm{d} {#2}}}$\n",
    "$\\newcommand{\\wfint}[5]{\\int _{#1}^{#2} \\Psi _{#3}^* {#5} \\Psi _{#4} dx}$\n",
    "$\\newcommand{\\comp}{\\mathbb{C}}$\n",
    "$\\newcommand{\\fn}[3]{{#1}: {#2} \\rightarrow {#3}}$\n",
    "$\\newcommand{\\matrix}[1]{\\begin{bmatrix}{#1}\\end{bmatrix}}$\n",
    "$\\newcommand{\\avg}[1]{\\langle {#1} \\rangle}$"
   ]
  },
  {
   "cell_type": "markdown",
   "metadata": {},
   "source": [
    "**Nekatere lastnosti Lagrangeove funkcije**"
   ]
  },
  {
   "cell_type": "markdown",
   "metadata": {},
   "source": [
    "**1. $L$ je nedoločena do odvoda neke funkcije.**\n",
    "$$L(\\underline{q}, \\underline{\\dot{q}}, t),~j=1, 2, ... n$$\n",
    "Vzamemo funkcijo $F(q_1, ..., q_n, t)$. Trdimo, da lahko sestavimo funkcijo $\\displaystyle{L' = L + \\frac{d}{dt}F}$, ki nam da enake rešitve, kot $L. \\\\$\n",
    "Dokaz: $$\\frac{d}{dt}\\pd{L'}{\\dot{q}_j} ' \\pd{L'}{q} = \\frac{d}{dt}\\pd{L}{\\dot{q}_j} - \\pd{L}{q} + \\frac{d}{dt}\\pd{}{\\dot{q}_j}\\frac{d}{dt}F - \\pd{}{q_j}\\frac{d}{dt}F$$"
   ]
  },
  {
   "cell_type": "markdown",
   "metadata": {},
   "source": [
    "Za prva dva člena že vemo, da je njuna razlika 0. Drugi člen izvrednostimo s posrednim odvajanjem:\n",
    "$$= 0 + \\frac{d}{dt}\\pd{}{\\dot{q}_j}\\left(\\sum_{k=1}^{n} \\pd{F}{q_j} \\dot{q}_k + \\pd{F}{t}\\right) - \\pd{}{q_j}\\frac{d}{dt}F$$\n",
    "Odvod $\\displaystyle{\\pd{}{\\dot{q}_j} \\pd{F}{q_j}\\dot{q}_k}$ je neničeln le za $j = k$, saj je $\\displaystyle{\\pd{F}{q_j}}$ neodvisen od $\\dot{q_j}$."
   ]
  },
  {
   "cell_type": "markdown",
   "metadata": {},
   "source": [
    "$$= \\frac{d}{dt}\\pd{F}{q_j} - \\pd{}{q_j}\\frac{dF}{dt} = 0$$"
   ]
  },
  {
   "cell_type": "markdown",
   "metadata": {},
   "source": [
    "**2. $L$ je nedoločena do predfaktorja.** Če ima $L$ neke rešitve, ima $L' = cL$ enake rešitve. Dokažemo podobno."
   ]
  },
  {
   "cell_type": "markdown",
   "metadata": {},
   "source": [
    "**3.** Naj bo potencialna funkcija homogena funkcija koordinat.\n",
    "$$\\vct{r}_i \\to \\vct{r}_i = \\alpha \\vct{r}_i$$\n",
    "$$V(\\alpha \\vct{r}_1, \\alpha \\vct{r}_2, ... \\alpha \\vct{r}_N) = \\alpha^{k} V(\\vct{r}_1, \\vct{r}_2, ... \\vct{r}_N)$$"
   ]
  },
  {
   "cell_type": "markdown",
   "metadata": {},
   "source": [
    "Če transformiramo tudi čas, to vpliva na kinteično, in sicer:\n",
    "$$t \\to \\beta t \\Rightarrow \\vct{v}_i \\to \\frac{\\alpha}{\\beta}\\vct{v}_i$$\n",
    "$$T \\to T' = \\left (\\frac{\\alpha}{\\beta}\\right)^2T$$"
   ]
  },
  {
   "cell_type": "markdown",
   "metadata": {},
   "source": [
    "Sledi:\n",
    "$$L' = cL = c(T - V)$$\n",
    "$$c = \\left(\\frac{\\alpha}{\\beta}\\right)^2 = \\alpha^k$$\n",
    "Iz tega sledi $$\\alpha^{1 - \\frac{1}{2}k} = \\beta$$"
   ]
  },
  {
   "cell_type": "markdown",
   "metadata": {},
   "source": [
    "$$\\left(\\frac{t'}{t}\\right) = \\beta = \\left(\\frac{l'}{l}\\right)^{1 - \\frac{1}{2}k}$$\n",
    "$$\\left(\\frac{v'}{v}\\right) = \\frac{\\alpha}{\\beta} = \\alpha^{\\frac{1}{2}k} = \\left(\\frac{l'}{l}\\right)^{\\frac{1}{2}k}$$\n",
    "$$\\left(\\frac{E'}{E}\\right) = \\alpha^k = \\left(\\frac{l'}{l}\\right)^{k}$$"
   ]
  },
  {
   "cell_type": "markdown",
   "metadata": {},
   "source": [
    "Temu se včasih reče *dimenzijska analiza*"
   ]
  },
  {
   "cell_type": "markdown",
   "metadata": {},
   "source": [
    "**Konstante gibanja** Imejmo funkcijo $F$ z lastnostjo $$\\frac{d}{dt}F(\\underline{q}, \\underline{\\dot{q}}, t) = 0$$"
   ]
  },
  {
   "cell_type": "markdown",
   "metadata": {},
   "source": [
    "Koordinata $q_j$ je ciklična, če se ne pojavi v $L$, torej če $L$ ni odvisen od $q_j$."
   ]
  },
  {
   "cell_type": "markdown",
   "metadata": {},
   "source": [
    "Tedaj je $$\\frac{d}{dt}\\pd{F}{\\dot{q}_j} - \\pd{L}{q_j} = \\frac{d}{dt}\\pd{F}{\\dot{q}_j} = 0$$"
   ]
  },
  {
   "cell_type": "markdown",
   "metadata": {},
   "source": [
    "Uvedemo $\\displaystyle{p_j = \\pd{L}{\\dot{q}_j}}$ kot posplošeni impulz gibalne količine. Vidimo, da mora biti, če je $q_j$ ciklična, konstanten."
   ]
  },
  {
   "cell_type": "markdown",
   "metadata": {},
   "source": [
    "**Kinetična energija** Naj bo $\\vct{r_i} = \\vct{r_i}(q_1, q_2, ..., q_n)$ neodvisen od $t$.\n",
    "$$T = \\sum_{i=1}^{N} \\frac{1}{2}m \\dot{\\vct{r}_i}^2 = \\sum_{i=1}^{N}\\frac{1}{2}m_i\\left(\\sum_{j=1}^{n}\\pd{\\vct{r}_i}{q_j}\\dot{q}_j + \\pd{\\vct{r}_i}{t}\\right)\\cdot\\left(\\sum_{j=1}^{n}\\pd{\\vct{r}_i}{q_j}\\dot{q}_j + \\pd{\\vct{r}_i}{t}\\right)$$\n",
    "Upoštevamo $\\displaystyle{\\pd{\\vct{r}_i}{t} = 0}$ in uvedemo $\\displaystyle{w = \\sum_{i=1}^{N}m_i\\pd{\\vct{r}_i}{q_j}\\pd{\\vct{r}_i}{q_k}}$. Tedaj je\n",
    "$$T = \\sum_{j=1}^{n}\\sum_{k = 1}^{n}\\frac{1}{2}w_{jk}(q_1, q_2, ..., q_n)\\dot{q}_j\\dot{q}_k$$"
   ]
  }
 ],
 "metadata": {
  "language_info": {
   "name": "python"
  }
 },
 "nbformat": 4,
 "nbformat_minor": 2
}
