{
 "cells": [
  {
   "cell_type": "markdown",
   "metadata": {},
   "source": [
    "$\\newcommand{\\vct}[1]{\\overrightarrow{#1}}$\n",
    "$\\newcommand{\\pd}[2]{\\frac{\\partial {#1}}{\\partial {#2}}}$\n",
    "$\\newcommand{\\wfint}[5]{\\int _{#1}^{#2} \\Psi _{#3}^* {#5} \\Psi _{#4} dx}$\n",
    "$\\newcommand{\\comp}{\\mathbb{C}}$\n",
    "$\\newcommand{\\fn}[3]{{#1}: {#2} \\rightarrow {#3}}$\n",
    "Pri prejšnjem predavanju in vajah smo obravnavali Newtonov zakon v vrtečih se sistemih. Pokazali smo, da je\n",
    "$$\\frac{d\\vct{r}'}{dt} = \\vct{v}' = ... = \\left(\\frac{d\\vct{r}'}{dt}\\right)_{neinerc} + \\vct{\\omega}'(t) \\times \\vct{r}'$$"
   ]
  },
  {
   "cell_type": "markdown",
   "metadata": {},
   "source": [
    "Poleg tega velja\n",
    "$$\\frac{d\\vct{\\omega}'}{dt} = \\left(\\frac{d\\vct{\\omega}'}{dt}\\right) + \\vct{\\omega}' \\times \\vct{\\omega}' = \\left(\\frac{d\\vct{\\omega}'}{dt}\\right)$$"
   ]
  },
  {
   "cell_type": "markdown",
   "metadata": {},
   "source": [
    "Sledi, da je kotni pospešek enak v obeh sistemih."
   ]
  },
  {
   "cell_type": "markdown",
   "metadata": {},
   "source": [
    "Sedaj obravnavajmo še pospešek:\n",
    "$$\\vct{a} = \\frac{d\\vct{v}}{dt} = \\frac{d^2 \\vct{r}}{dt^2} = \\frac{d^2 \\vct{R}}{dt^2} + \\frac{d^2\\vct{r}'}{dt^2} = \\sum_{i} \\ddot{x}_i \\vct{e_i}$$"
   ]
  },
  {
   "cell_type": "markdown",
   "metadata": {},
   "source": [
    "$$\\frac{d^2\\vct{r}'}{dt^2} = \\frac{d}{dt}\\left[\\left(\\frac{d\\vct{r}'}{dt}\\right)_{neinerc} + \\vct{\\omega}' \\times \\vct{r}' \\right]$$"
   ]
  },
  {
   "cell_type": "markdown",
   "metadata": {},
   "source": [
    "Za izpeljavo potrebujemo vektorje $\\vct{e_1}'$, $\\vct{e_2}'$ in $\\vct{e_3}'$. Definiramo\n",
    "$$\\vct{e_1}'(t) = \\alpha(t) \\vct{e_1} + \\beta(t) \\vct{e_2} + \\gamma(t) \\vct{e_3},$$\n",
    "$\\vct{e_2}'$ in $\\vct{e_3}'$ definiramo tako, da so vektorji ortonormirani."
   ]
  },
  {
   "cell_type": "markdown",
   "metadata": {},
   "source": [
    "$$\\frac{d^2\\vct{r}'}{dt^2} = \\frac{d}{dt}\\left[\\sum_{\\alpha} \\dot{x}_\\alpha\\vct{e_\\alpha'} + \\vct{\\omega}'\\times \\vct{r}'\\right]$$\n",
    "$$= \\sum_{\\alpha} \\ddot{x}_\\alpha' \\vct{e_\\alpha'} + \\sum_{\\alpha} \\dot{x}_\\alpha' \\dot{\\vct{e}'}\\alpha + \\vct{\\omega}' \\times \\sum_{\\alpha} \\dot{x}_\\alpha' \\vct{e_\\alpha'} + \\sum_{\\alpha} x_\\alpha' \\dot{\\vct{e}'}_\\alpha$$"
   ]
  },
  {
   "cell_type": "markdown",
   "metadata": {},
   "source": [
    "$$= \\left(\\frac{d^2 \\vct{r'}}{dt^2}\\right)_{neinerc} + \\vct{\\omega} \\times \\sum_{\\alpha} \\dot{x}_\\alpha' \\vct{e_\\alpha'} + \\dot{\\vct{\\omega'}} \\times \\vct{r'} + \\vct{\\omega'} \\times \\vct{v'} + \\vct{\\omega'} \\times (\\vct{\\omega'} \\times \\vct{r'})$$"
   ]
  },
  {
   "cell_type": "markdown",
   "metadata": {},
   "source": [
    "V drugem členu prepoznamo veektorski produkt $\\vct{\\omega'} \\times \\vct{v'}$.\n",
    "$$\\vct{a'} := \\vct{a}_{neinerc} + 2 \\vct{\\omega'} \\times \\vct{v'} + \\vct{\\omega'} \\times (\\vct{\\omega'} \\times \\vct{r'}) + \\dot{\\vct{\\omega'}} \\times \\vct{r'}$$"
   ]
  },
  {
   "cell_type": "markdown",
   "metadata": {},
   "source": [
    "Dobimo sistemske sile: $2 \\vct{\\omega'} \\times \\vct{v'}$ imenujemo Coriolisova sila, $\\vct{\\omega'} \\times (\\vct{\\omega'} \\times \\vct{r'})$ je centrifugalna sila, $\\dot{\\vct{\\omega'}} \\times \\vct{r'}$ pa je posledica spreminjanja hitrosti vrtenja sistema."
   ]
  },
  {
   "cell_type": "markdown",
   "metadata": {},
   "source": [
    "**Sistemske sile:** Znotraj neinercialnega sistema označimo $\\vct{F'} = m\\vct{a'}$. Izven inercialnega sistema označimo\n",
    "$\\vct{F} + \\vct{F}_{sis} =  m \\vct{a'}$. Seveda velja $\\vct{F} = m\\vct{a}$.\n",
    "Sledi $\\vct{F}_{sis} = m(\\vct{a'} - \\vct{a})$"
   ]
  },
  {
   "cell_type": "markdown",
   "metadata": {},
   "source": [
    "Drugi osnovni pojmi iz klasične mehanike:\n",
    "- Gibalna količina: $\\vct{p} = m\\vct{v}$. Če masa ni konstantna, je pravilnejša oblika Newtonovega zakona $\\displaystyle{\\vct{F} = \\frac{d\\vct{p}}{dt}}$.\n",
    "- Vrtilna količina (uporabljamo oznake $\\vct{l}$, $\\vct{L}$, $\\vct{j}$, $\\vct{J}$). Definiramo $\\vct{L} = \\vct{r} \\times \\vct{p}$. Njen časovni odvod je $\\vct{r} \\times \\vct{F} =: \\vct{M}$\n",
    "- Kinetične energija: Označimo $\\displaystyle{T = \\frac{1}{2}mv^2 = \\frac{1}{2}m\\vct{v}\\cdot\\vct{v}}$.\n",
    "- Delo sile: $\\displaystyle{A = \\int_{\\text{pot}} \\vct{F}(\\vct{r}) \\cdot d\\vct{r}}$\n",
    "- Potencialna energija: Označimo $U$, $\\mathcal{U}$. Definirana je kot $U = mV$, kjer je $V$ potencial polja. V primeru enostavno povezanih območij (zvezdastih območij) lahko govorimo o konzervativnih silah - silah, za katere velja $\\oint \\vct{F}(\\vct{r})d\\vct{r} = 0. \\\\$ Za take sile lahko označimo $\\vct{F} = - \\nabla \\vct{U}$\n",
    "- Celotna energija ($E$): $E = T + \\mathcal{U}$. $\\Delta E  = (T_2 - T_1) + (\\mathcal{U}_2 - \\mathcal{U}_1) = A + (-A) = 0$\n",
    "- Konzervativne sile: V eni dimenziji to pomeni $\\displaystyle{U(x) = -\\int_{x_0}^{x} F(s)ds \\Rightarrow F(x) = -\\frac{dU}{dx}} \\\\$\n",
    "V dveh dimenzijah: $\\vct{F}(x, y) = - \\pd{U}{x}\\vct{e_x} - \\pd{U}{y} \\vct{e_y} \\\\$\n",
    "To seveda pomeni, da mora biti $U$ odvedljiv po obeh spremenljivkah, kar v veliki večini primerov velja.\n",
    "- Nekonzervativne sile: $\\\\$\n",
    "Upor (linearni zakon): $\\vct{F} = -k\\vct{v}$, zato je $A = -k \\int \\vct{v} \\cdot \\vct{v} \\leq 0 \\\\$\n",
    "Trenje: $F_x = -k F_N \\text{sgn} v_x \\\\$\n",
    "Upor (kvadratni zakon):$\\vct{F} = -k v^2 \\frac{\\vct{v}}{v}$"
   ]
  },
  {
   "cell_type": "markdown",
   "metadata": {},
   "source": [
    "Sistem N točkastih teles:\n",
    "$$\\vct{p} = \\sum_{i=1}^N \\vct{p}_i,$$\n",
    "$$\\text{3. Newtonov zakon poka\\v ze:} \\frac{d\\vct{p}}{dt} = \\sum_{i=1}^N \\vct{F}_i^{(zun)}$$"
   ]
  },
  {
   "cell_type": "markdown",
   "metadata": {},
   "source": [
    "Označimo $M = \\sum_{i} m_i$. Težišče označimo kot $$\\vct{r}_T = \\frac{1}{M} \\sum_{i=1}^N m_i \\vct{r}_i$$\n",
    "Velja $\\displaystyle{M\\frac{d^2}{dt^2}\\vct{r}_T = \\vct{F}^{(zun)}}$"
   ]
  },
  {
   "cell_type": "markdown",
   "metadata": {},
   "source": [
    "Kljub temu moramo biti pozorni pri sestavljenih telesih. Primer: Vozeči se avto. Sila deluje med kolesi in tlemi: kolesa in tla so \"zobata\", kolesa so vrtljiva glede na avto. Kolo potiska cesto nazaj, po III. Newtonovem zakonu deluje nazaj na kolo nasprotno enaka sila, zaradi česar se kolo prevali naprej. Sila trenja poskrbi, da kolo ne zdrsi. Težišče avtomobila pa niti približno ni v kolesu."
   ]
  }
 ],
 "metadata": {
  "language_info": {
   "name": "python"
  }
 },
 "nbformat": 4,
 "nbformat_minor": 2
}
