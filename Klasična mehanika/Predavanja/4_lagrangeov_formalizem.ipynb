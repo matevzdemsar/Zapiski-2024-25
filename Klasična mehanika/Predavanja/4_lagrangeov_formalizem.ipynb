{
 "cells": [
  {
   "cell_type": "markdown",
   "metadata": {},
   "source": [
    "$\\newcommand{\\vct}[1]{\\overrightarrow{#1}}$\n",
    "$\\newcommand{\\pd}[2]{\\frac{\\partial {#1}}{\\partial {#2}}}$\n",
    "$\\newcommand{\\wfint}[5]{\\int _{#1}^{#2} \\Psi _{#3}^* {#5} \\Psi _{#4} dx}$\n",
    "$\\newcommand{\\comp}{\\mathbb{C}}$\n",
    "$\\newcommand{\\fn}[3]{{#1}: {#2} \\rightarrow {#3}}$\n",
    "$\\newcommand{\\matrix}[1]{\\begin{bmatrix}{#1}\\end{bmatrix}}$\n",
    "$\\newcommand{\\avg}[1]{\\langle {#1} \\rangle}$"
   ]
  },
  {
   "cell_type": "markdown",
   "metadata": {},
   "source": [
    "**D'Alembertov princip:** Imejmo sistem teles z masami $m_i$, na vsako telo pa delujejo sile. Za vsako telo velja Newtonov zakon:\n",
    "$\\vct{F_i} = m_i \\ddot{\\vct{r_i}}$"
   ]
  },
  {
   "cell_type": "markdown",
   "metadata": {},
   "source": [
    "Denimo, da se nahajamo v polarnih koordinatah in da se telo giblje po krožnici s fiksnim polmerom:\n",
    "$$\\vct{r} = (r\\cos\\varphi, r\\sin\\varphi)$$\n",
    "$$dx = -r\\sin\\varphi d\\varphi$$\n",
    "$$dy = r\\cos\\varphi d\\varphi$$"
   ]
  },
  {
   "cell_type": "markdown",
   "metadata": {},
   "source": [
    "$$\\vct{F_i} - m_i \\ddot{\\vct{r_i}} = 0$$\n",
    "Zamislimo si premik $\\delta \\, \\vct{r_i};~i=1, 2, ..., N$\n",
    "$$(\\vct{F_i} - m_i \\ddot{\\vct{r_i}}) \\cdot \\delta \\, \\vct{r_i} = 0$$"
   ]
  },
  {
   "cell_type": "markdown",
   "metadata": {},
   "source": [
    "Silo razstavimo na dve komponenti: aktivno in silo vezi - sila vezi je tista, v smeri katere ni gibanja.\n",
    "$$\\sum_{i=1}^{N} \\left(\\vct{F_{i}^{a}} - m_i\\ddot{\\vct{r_i}}\\right) \\cdot \\delta \\, \\vct{r_i} + \\sum_{i=1}^{N} \\vct{F_{i}^{v}}\\cdot\\delta\\,\\vct{r_i}$$\n",
    "Druga vsota je, po definiciji sile vezi, enaka 0. $\\\\ \\delta \\vct{r_i}$ bomo nadomestili z $\\vct{v_i} dt$, $\\ddot{\\vct{r_i}}$ pa z $\\dot{\\vct{v_i}}$:"
   ]
  },
  {
   "cell_type": "markdown",
   "metadata": {},
   "source": [
    "$$= \\sum_{i=1}^{N}\\vct{F_{i}^{a}} \\cdot \\delta \\, \\vct{r_i} + \\sum_{i=1}^{N} m_i \\dot{\\vct{v_i}} \\cdot \\vct{v_i} dt$$"
   ]
  },
  {
   "cell_type": "markdown",
   "metadata": {},
   "source": [
    "Opazimo, da je $\\dot{\\vct{v_i}} \\cdot \\vct{v_i}$ ravno enako $\\displaystyle{\\frac{1}{2}\\frac{d}{dt}v_i^2}$, kar nam da kinetično energijo $T$, $\\\\ \\vct{F_{i}^{a}} \\cdot \\delta\\,\\vct{r_i}$ pa je ravno diferencial dela."
   ]
  },
  {
   "cell_type": "markdown",
   "metadata": {},
   "source": [
    "Sledi $\\delta A - \\delta T = 0$"
   ]
  },
  {
   "cell_type": "markdown",
   "metadata": {},
   "source": [
    "**Euler-Lagrangeove enačbe:** Spomnimo se, da smo koordinate izrazili s posplošenimi koordinatami:\n",
    "$$\\vct{r_i} = \\vct{r_i}(q_1, q_2, ..., q_n, t)$$\n",
    "Če število vezi označimo s $K$, za opis $N$-dimenzionalnega prostora potrebujemo $3N - K$ koordinat. Oziroma $n \\leq 3N$"
   ]
  },
  {
   "cell_type": "markdown",
   "metadata": {},
   "source": [
    "$$dr_i = \\sum_{j=1}^{n} = \\pd{\\vct{r_i}}{q_j}dq_j + \\pd{\\vct{r_i}}{t}$$"
   ]
  },
  {
   "cell_type": "markdown",
   "metadata": {},
   "source": [
    "Primer: $x = r\\cos\\varphi + r_0(t)$\n",
    "$$\\frac{dx}{dt} = \\dot{r}\\cos\\varphi - r\\sin\\varphi\\cdot\\dot{\\varphi} + \\pd{\\vct{r_0}}{t}$$"
   ]
  },
  {
   "cell_type": "markdown",
   "metadata": {},
   "source": [
    "$$\\vct{v_i} = \\frac{d\\vct{r_i}}{dt} = \\sum_{j=1}^{n} \\pd{\\vct{r_i}}{q_j}\\dot{q_j} + \\pd{\\vct{r_i}}{t}$$"
   ]
  },
  {
   "cell_type": "markdown",
   "metadata": {},
   "source": [
    "Izrazimo zdaj $\\delta A$ v splošnih koordinatah:\n",
    "$$\\delta A = \\sum_{i=1}^{N} \\vct{F}_i^a \\cdot \\left(\\sum_{j=1}^{n}\\pd{r_i}{q_j}\\delta q_j\\right) = \\sum_{j=1}^{n}\\left(\\sum_{i=1}^{N}\\vct{F}_i^a\\cdot\\pd{\\vct{r_i}}{q_j}\\right)\\delta q_j =: \\sum_{j=1}^{n} Q_j\\delta q_j$$"
   ]
  },
  {
   "cell_type": "markdown",
   "metadata": {},
   "source": [
    "Vpeljali smo posplošeno silo $Q = (Q_1, Q_2, ... Q_n)$, v poenostavljenih primerih gre za nekakšen navor."
   ]
  },
  {
   "cell_type": "markdown",
   "metadata": {},
   "source": [
    "Zdaj bomo izrazili $\\delta T$."
   ]
  },
  {
   "cell_type": "markdown",
   "metadata": {},
   "source": [
    "**Pomožni račun:**\n",
    "$$\\sum_{i=1}^{N} m_i\\ddot{\\vct{r_i}} \\cdot \\delta \\, \\vct{r_i} = \\sum_{i=1}^{N} m_i\\dot{\\vct{r_i}} \\cdot \\sum_{j=1}^{n} \\pd{\\vct{r_i}}{q_j}\\delta q_j = \\sum_{i, j} \\left[\\frac{d}{dt} \\left(m_i\\dot{\\vct{r_i}}\\cdot\\pd{\\vct{r_i}}{q_j}\\right) - m_i\\dot{\\vct{r_i}} \\frac{d}{dt} \\pd{\\vct{r_i}}{q_j}\\right]\\delta q_j$$"
   ]
  },
  {
   "cell_type": "markdown",
   "metadata": {},
   "source": [
    "S hitrim pomožnim računom preverimo, da je $\\displaystyle{\\pd{\\vct{v_i}}{\\dot{q_j}} = \\pd{\\vct{r_i}}{q_j}}$, in da je $\\displaystyle{\\frac{d}{dt}\\pd{\\vct{r_i}}{q_j}} = \\pd{\\vct{v_j}}{q_j}$."
   ]
  },
  {
   "cell_type": "markdown",
   "metadata": {},
   "source": [
    "$$\\sum_{i, j} \\left[\\frac{d}{dt} \\left(m_i\\dot{\\vct{r_i}}\\cdot\\pd{\\vct{r_i}}{q_j}\\right) - m_i\\dot{\\vct{r_i}} \\frac{d}{dt} \\pd{\\vct{r_i}}{q_j}\\right]\\delta q_j =\n",
    "\\sum_{i, j} \\left[\\frac{d}{dt} \\left(m_i\\vct{v_i}\\cdot\\pd{\\vct{v_i}}{\\dot{q_j}}\\right) - m_i\\vct{v_i} \\cdot \\pd{\\vct{v_i}}{q_j}\\right]\\delta q_j$$"
   ]
  },
  {
   "cell_type": "markdown",
   "metadata": {},
   "source": [
    "Prvi člen je ravno enak $$\\frac{d}{dt} \\left(m_i\\vct{v_i}\\cdot\\pd{\\vct{v_i}}{\\dot{q_j}}\\right) = \\frac{d}{dt}\\pd{T_i}{\\dot{q_j}}$$"
   ]
  },
  {
   "cell_type": "markdown",
   "metadata": {},
   "source": [
    "Drugi pa\n",
    "$$m_i\\vct{v_i}\\pd{\\vct{v_i}}{q_j} = \\pd{T_i}{q_j}$$"
   ]
  },
  {
   "cell_type": "markdown",
   "metadata": {},
   "source": [
    "Ko to seštejemo po $I$, lahko ponovno uvedemo posplošeno silo $Q$:\n",
    "$$\\delta T = \\sum_{j=1}^{n}\\left(\\frac{d}{dt} \\pd{T}{\\dot{q_j}} - \\pd{T}{q_j}\\right)\\delta q_j$$\n",
    "Vstavimo v zahtevo $\\delta A - \\delta T = 0$:\n",
    "$$\\sum_{j=1}^{n} \\left(Q_j - \\frac{d}{dt} \\pd{T}{\\dot{q_j}} + \\pd{T}{q_j}\\right)\\delta q_j~\\forall\\delta q_j$$"
   ]
  },
  {
   "cell_type": "markdown",
   "metadata": {},
   "source": [
    "Sledi:\n",
    "$$Q_j = \\frac{d}{dt}\\pd{T}{\\dot{q_j}} - \\pd{T}{q_j} = \\sum_{i=1}^{N}\\vct{F}_i^a \\cdot \\pd{\\vct{r_i}}{q_j}$$"
   ]
  },
  {
   "cell_type": "markdown",
   "metadata": {},
   "source": [
    "Predpostavimo, da imamo opravka s konzervativnimi silami, torej da gre za gradiente nekakšnega potencialnega polja:\n",
    "$$\\vct{F}_i^a = -\\nabla _i V(\\vct{r_i}, t)$$\n",
    "$$Q_j = - \\pd{V}{q_j}$$"
   ]
  },
  {
   "cell_type": "markdown",
   "metadata": {},
   "source": [
    "Definiramo Lagrangeovo funkcijo: $$L = T - V$$"
   ]
  },
  {
   "cell_type": "markdown",
   "metadata": {},
   "source": [
    "$$L = L(q, \\dot{q}, t)$$"
   ]
  },
  {
   "cell_type": "markdown",
   "metadata": {},
   "source": [
    "Zapišemo enačbo od prej:\n",
    "$$\\frac{d}{dt}\\pd{T}{\\dot{q_j}} - \\pd{T}{q_j} = - \\pd{V}{q_j}$$"
   ]
  },
  {
   "cell_type": "markdown",
   "metadata": {},
   "source": [
    "Predpostavimo, da velja $V = V(q, t)$ ... in ne $V = V(q, \\dot{q}, t)$"
   ]
  },
  {
   "cell_type": "markdown",
   "metadata": {},
   "source": [
    "Sledi $\\displaystyle{\\pd{V}{q_j} = 0}$. Tedaj dobimo:\n",
    "$$\\frac{d}{dt}\\pd{L}{\\dot{q_j}} - \\pd{L}{q_j} = 0$$\n",
    "To pa je pogoj za lokalni ekstrem fukcionala, kakršnega smo obravnavali pri Matematiki III."
   ]
  },
  {
   "cell_type": "markdown",
   "metadata": {},
   "source": [
    "Kaj pa, če velja $V = V(q, \\dot{q}, t)$? Vzemimo na primer Lorentzovo silo.\n",
    "$$\\vct{F} = e\\vct{E} + e\\vct{v} \\times \\vct{B}$$\n",
    "Tedaj lahko $e\\vct{E}$ razglasimo za $-\\nabla V$, $\\\\ e \\vct{v} \\times \\vct{B}$ pa za $\\displaystyle{\\sum_{j}\\frac{d}{dt}\\pd{V}{\\dot{q_j}}}$"
   ]
  }
 ],
 "metadata": {
  "language_info": {
   "name": "python"
  }
 },
 "nbformat": 4,
 "nbformat_minor": 2
}
