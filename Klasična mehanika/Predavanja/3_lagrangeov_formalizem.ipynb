{
 "cells": [
  {
   "cell_type": "markdown",
   "metadata": {},
   "source": [
    "$\\newcommand{\\vct}[1]{\\overrightarrow{#1}}$\n",
    "$\\newcommand{\\pd}[2]{\\frac{\\partial {#1}}{\\partial {#2}}}$\n",
    "$\\newcommand{\\wfint}[5]{\\int _{#1}^{#2} \\Psi _{#3}^* {#5} \\Psi _{#4} dx}$\n",
    "$\\newcommand{\\comp}{\\mathbb{C}}$\n",
    "$\\newcommand{\\fn}[3]{{#1}: {#2} \\rightarrow {#3}}$"
   ]
  },
  {
   "cell_type": "markdown",
   "metadata": {},
   "source": [
    "**Primer: Virialni teorem**"
   ]
  },
  {
   "cell_type": "markdown",
   "metadata": {},
   "source": [
    "Imamo $N$ teles, $i = 1, 2, 3, ... N$"
   ]
  },
  {
   "cell_type": "markdown",
   "metadata": {},
   "source": [
    "$\\renewcommand{\\vct}[1]{\\overrightarrow{#1}}$\n",
    "$\\renewcommand{\\pd}[2]{\\frac{\\partial {#1}}{\\partial {#2}}}$\n",
    "$\\renewcommand{\\wfint}[5]{\\int _{#1}^{#2} \\Psi _{#3}^* {#5} \\Psi _{#4} dx}$\n",
    "$\\renewcommand{\\comp}{\\mathbb{C}}$\n",
    "$\\renewcommand{\\fn}[3]{{#1}: {#2} \\rightarrow {#3}}$\n",
    "$$m\\ddot{\\vct{r_i}} = \\sum_{j,~j \\neq i} \\vct{F}_{ij} + \\vct{F^{(z)}}_i$$"
   ]
  },
  {
   "cell_type": "markdown",
   "metadata": {},
   "source": [
    "$\\renewcommand{\\vct}[1]{\\overrightarrow{#1}}$\n",
    "$\\renewcommand{\\pd}[2]{\\frac{\\partial {#1}}{\\partial {#2}}}$\n",
    "$\\renewcommand{\\wfint}[5]{\\int _{#1}^{#2} \\Psi _{#3}^* {#5} \\Psi _{#4} dx}$\n",
    "$\\renewcommand{\\comp}{\\mathbb{C}}$\n",
    "$\\renewcommand{\\fn}[3]{{#1}: {#2} \\rightarrow {#3}}$\n",
    "Enačbo na obeh straneh skalarno pomnožimo z $\\vct{r_i} in seštejemo po vseh $i$.\n",
    "$$\\sum_{i}m_i\\ddot{\\vct{r_i}}\\cdot\\vct{r_i} = \\sum_{i,j}\\vct{F_{i, j}}\\cdot\\vct{r_i} + \\sum_{i}\\vct{F^{(z)}}_i\\cdot\\vct{r_i}$$"
   ]
  },
  {
   "cell_type": "markdown",
   "metadata": {},
   "source": [
    "$\\renewcommand{\\vct}[1]{\\overrightarrow{#1}}$\n",
    "$\\renewcommand{\\pd}[2]{\\frac{\\partial {#1}}{\\partial {#2}}}$\n",
    "$\\renewcommand{\\wfint}[5]{\\int _{#1}^{#2} \\Psi _{#3}^* {#5} \\Psi _{#4} dx}$\n",
    "$\\renewcommand{\\comp}{\\mathbb{C}}$\n",
    "$\\renewcommand{\\fn}[3]{{#1}: {#2} \\rightarrow {#3}}$\n",
    "Prvi pomožni račun:\n",
    "$$\\frac{d^2}{dt^2} \\sum_{i}m_i\\vct{r_i}^2 = \\frac{d}{dt}\\left(2\\sum_{i}m_i\\vct{r_i}\\cdot\\dot{\\vct{r_i}}\\right) = 2\\sum_{i}m_i\\dot{\\vct{r_i}}^2 + 2\\sum_{i}m_i\\ddot{\\vct{r_i}}\\vct{r_i}$$"
   ]
  },
  {
   "cell_type": "markdown",
   "metadata": {},
   "source": [
    "\n",
    "V izrazu $\\displaystyle{\\sum_{i}m_i\\dot{\\vct{r_i}}^2}$ prepoznamo kinetično energijo sistema: $2T$."
   ]
  },
  {
   "cell_type": "markdown",
   "metadata": {},
   "source": [
    "Drugi pomožni račun: $$\\sum_{j, j \\neq i}\\vct{F_{ij}}\\cdot\\vct{r_i} = \\frac{1}{2}\\sum_{i,j; i \\neq j}\\left(\\vct{F_{ij}} + \\vct{F_{ji}}\\right)\\cdot\\vct{r_i}$$\n",
    "$$= \\frac{1}{2} \\sum_{i, j; i \\neq j} \\left(\\vct{F_{ij}} \\cdot \\vct{r_j} - \\vct{F_{ji}} \\cdot \\vct{r_i}\\right)$$\n",
    "$$= \\frac{1}{2} \\sum_{i, j; i \\neq j} \\vct{F_{ij}} \\cdot \\left(\\vct{r_i} - \\vct{r_j}\\right) = \\frac{1}{2}\\sum_{i, j; i \\neq j}\\vct{F_{ij}} \\cdot \\vct{r_{ij}}$$\n"
   ]
  },
  {
   "cell_type": "markdown",
   "metadata": {},
   "source": [
    "Privzemimo, da so sile konzervativne in centralne (npr. gravitacijska in električna sila). Tedaj je\n",
    "$$\\vct{F_{ij}}(\\vct{r_{ij}}) = - \\nabla _{r_{ij}}V_{ij}(\\vct{r_{ij}})$$"
   ]
  },
  {
   "cell_type": "markdown",
   "metadata": {},
   "source": [
    "Vse to vstavimo v začetno enačbo in dobimo:\n",
    "$$\\frac{d^2}{dt^2}\\sum_{i}\\frac{m\\vct{r_i}^2}{2} = 2T - \\frac{1}{2} \\sum_{i, j;i \\neq j} \\pd{V_{ij}}{r_{ij}} \\frac{\\vct{r_{ij}}}{r_{ij}} \\vct{r_{ij}} + \\sum_{i}\\vct{F_i^{(z)}}\\cdot \\vct{r_i}$$"
   ]
  },
  {
   "cell_type": "markdown",
   "metadata": {},
   "source": [
    "Levo stran povprečimo po času: $\\displaystyle{\\overline{f(t)} = \\frac{1}{\\tau} \\int_{0}^{\\tau} f(t) dt}$\n",
    "$$\\frac{1}{\\tau} \\int_{0}^{\\tau} \\frac{d^2}{dt^2}\\sum_{i}\\frac{m_i\\vct{r_i}^2}{2} = \\frac{1}{\\tau} \\frac{d}{dt}\\sum_{i}\\frac{m_i\\vct{r_i}^2}{2}\\Big|_0^\\tau = \\frac{1}{\\tau} \\sum_{i}m_i\\vct{r_i}\\cdot\\dot{\\vct{r_i}}$$"
   ]
  },
  {
   "cell_type": "markdown",
   "metadata": {},
   "source": [
    "\n",
    "Privzemimo, da sta $\\vct{r_i}$ in $\\dot{\\vct{r_i}}$ vseskozi končni in si oglejmo limito, ko gre $\\tau \\to \\infty$"
   ]
  },
  {
   "cell_type": "markdown",
   "metadata": {},
   "source": [
    "\n",
    "$$\\lim_{\\tau \\to \\infty}\\frac{1}{\\tau}\\sum_{i}m_i\\vct{r_i}\\cdot\\dot{\\vct{r_i}} = 0$$"
   ]
  },
  {
   "cell_type": "markdown",
   "metadata": {},
   "source": [
    "\n",
    "Če vrh tega ni zunanjih sil, torej $\\vct{F_i^{(z)}} = 0$, velja\n",
    "$$2\\overline{T} = \\frac{1}{2} \\overline{\\sum_{i, j; i \\neq j} \\pd{V_{ij}}{r_{ij}}\\vct{r_{ij}}}$$"
   ]
  },
  {
   "cell_type": "markdown",
   "metadata": {},
   "source": [
    "\n",
    "Primer. Denimo $V(\\vct{r}) = \\alpha r^n$\n",
    "$$2\\overline{T} = \\frac{1}{2}\\overline{\\sum_{i, j; i \\neq j} n\\alpha r_{ij}^{n-1}r_{ij}}$$\n",
    "$$= \\frac{1}{2} n \\sum_{i, j; i \\neq j} n \\overline{V_{ij}}$$\n",
    "$$= \\sum_{i, j; i < j} n \\overline{V_{ij}}$$"
   ]
  },
  {
   "cell_type": "markdown",
   "metadata": {},
   "source": [
    "**Lagrangeov formalizem.** Obravnavali bomo\n",
    "- Koordinatne sisteme, koordinate\n",
    "- Vezi med koordinatami\n",
    "- Posplošene koordinate $\\\\$\n",
    "Vezi: Povezave med koordinatami, ki jih uporabimo za uvedbo novih koordinat."
   ]
  },
  {
   "cell_type": "markdown",
   "metadata": {},
   "source": [
    "**Primer:** Imejmo krožnico v kartezičnih koordinatah.\n",
    "$$x^2 + y^2 = R^2$$\n",
    "Uvedemo lahko koordinati $R, \\varphi$. Kako tedaj izračunamo $\\ddot{\\varphi}$, ki ga potrebujemo za II. Newtonov zakon?"
   ]
  },
  {
   "cell_type": "markdown",
   "metadata": {},
   "source": [
    "\n",
    "Vez: Če obstaja $f(\\vct{r_1}, \\vct{r_2}, ... \\vct{r_v}, t) = 0$, je $f$ holonomna vez. Če taka $f$ ne obstaja (npr. da je $f$ le večja ali enaka 0, enakost pa nikoli ne velja), govorimo o neholonomni vezi. $\\\\$\n",
    "Sistem holonomnih vezi:\n",
    "- $f_k(\\vct{r_1}, \\vct{r_2}, ... \\vct{r_v}, t) = 0$, $k=1, 2, ... K$"
   ]
  },
  {
   "cell_type": "markdown",
   "metadata": {},
   "source": [
    "Če imamo recimo $N$ delcev in $3N$ koordinat, definiramo pa K vezi, do število neodvisnih koordinat enako $n = 3N - K$"
   ]
  },
  {
   "cell_type": "markdown",
   "metadata": {},
   "source": [
    "\n",
    "Za vsako koordinato vemo, da jo lahko izrazimo z neodvisnimi koordinatami:\n",
    "$$\\vct{r_i} = \\vct{r_i}(q_1, q_2, ..., q_v, t)$$\n",
    "$q_j$ imenujemo posplošena koordinata (in je neodvisna od ostalih). Primerov, ki vključujejo čas, pri tem predmetu običajno ne bomo obravnavali."
   ]
  },
  {
   "cell_type": "markdown",
   "metadata": {},
   "source": [
    "\n",
    "Posplošene koordinate $q_j$ lahko izračunamo iz že znanega:\n",
    "$$q_j = q_j(\\vct{r_1}, \\vct{r_2}, ..., \\vct{r_v}, t) + \\text{vezi } f_k$$"
   ]
  },
  {
   "cell_type": "markdown",
   "metadata": {},
   "source": [
    "Primer: polarne koordinate: $(x, y) = (r\\cos\\varphi, r\\sin\\varphi)$\n",
    "- $\\displaystyle{q_1 = r = \\sqrt{x^2 + y^2}}$\n",
    "- $\\displaystyle{q_2 = \\varphi = \\arctan \\frac{y}{x}}$"
   ]
  },
  {
   "cell_type": "markdown",
   "metadata": {},
   "source": [
    "**Primer: D'Alembertov princip**\n",
    "Na steno je pritrjena utež z maso $m_1$, nanjo je s palico (lahko) pritrjena utež z maso $m_2$, ta pa je s še eno palico povezana s kolesom, ki se lahko giblje po steni. Kolo ima maso $m_3$. Med prvo utežjo in kolesom je lahka vzmet s koeficientom $k$. Zanima nas, za koliko se raztegne."
   ]
  },
  {
   "cell_type": "markdown",
   "metadata": {},
   "source": [
    "Običajno bi se morali naloge lotiti tako, da bi zapisali vsoto vseh sil ter vsoto vseh navorov, nato pa obe vsoti enačili z 0. Podobno lahko zahtevamo, da je vsota sil na vsako utež enaka 0. Nadaljnje vzmet ne sme opravljati dela. Po nekaj računanja dobimo pogoj za statiko:\n",
    "$$\\sin \\varphi = \\frac{m_2g - kh}{4kl}$$"
   ]
  },
  {
   "cell_type": "markdown",
   "metadata": {},
   "source": [
    "Sledi velika količina računanja, ki mu s tipkanjem ne morem slediti."
   ]
  }
 ],
 "metadata": {
  "language_info": {
   "name": "python"
  }
 },
 "nbformat": 4,
 "nbformat_minor": 2
}
