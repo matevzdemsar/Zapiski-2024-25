{
 "cells": [
  {
   "cell_type": "markdown",
   "metadata": {},
   "source": [
    "$\\newcommand{\\vct}[1]{\\overrightarrow{#1}}$\n",
    "$\\newcommand{\\pd}[2]{\\frac{\\partial {#1}}{\\partial {#2}}}$\n",
    "$\\newcommand{\\wfint}[5]{\\int _{#1}^{#2} \\Psi _{#3}^* {#5} \\Psi _{#4} dx}$\n",
    "$\\newcommand{\\comp}{\\mathbb{C}}$\n",
    "$\\newcommand{\\fn}[3]{{#1}: {#2} \\rightarrow {#3}}$"
   ]
  },
  {
   "cell_type": "markdown",
   "metadata": {},
   "source": [
    "# Klasična mehanika\n",
    "Na spletni učilnici je skripta, ki sedobro ujema s predavanji (le indeksi so zamenjani), drugi dober vir je Goldstein, na katerem je tudi naprednejša snov. $\\\\$\n",
    "Osnovni pojmi:\n",
    "- Newton (1668): Principia. V njej opiše tri zakone (Lex 1, Lex 2, Lex 3)\n",
    "- Koordinatni sistem (običajno kartezičen)\n",
    "- $\\vct{r} = (x, y, z)$ ... lega telesa, privzamemo, da so $x$, $y$, $z$ realna števila.\n",
    "- $t$ ... čas (realen in neodvisen od izbire sistema)\n",
    "- Z odvajanjem lege po času dobimo hitrost in pospešek (tega Newton še ni opisal v Principii)\n",
    "- Diferencialni račun (analiza) - odkrila Newton in Leibniz, verjetno neodvisno"
   ]
  },
  {
   "cell_type": "markdown",
   "metadata": {},
   "source": [
    "Lex I: Če je vsota sil na objekt enaka 0, je hitrost konstantna. Ta zakon vpelje inercialen koordinatni sistem. Poznal ga je že Galileo."
   ]
  },
  {
   "cell_type": "markdown",
   "metadata": {},
   "source": [
    "Lex II: $\\ddot{\\vct{r}} = \\vct{f}(\\vct{r}, \\dot{\\vct{r}}, t)$. Interpretacija: pospešek ni odvisen od pospeška samega (npr. hitrost je odvisna od začetne hitrosti, pospešek pa ne).\n",
    "**Arnold:**\n",
    "- Fizik mora poiskati to funkcijo: $\\displaystyle{\\vct{f} = \\frac{F(\\vct{r}, \\dot{\\vct{r}}, t)}{m}}$\n",
    "- Matematik jo vzame kot definicijo problema (npr. za nihalo: $\\displaystyle{f = - \\frac{kx}{m}}$)"
   ]
  },
  {
   "cell_type": "markdown",
   "metadata": {},
   "source": [
    "Lex III. $\\vct{F}_{12} = \\vct{F}_{21}$"
   ]
  },
  {
   "cell_type": "markdown",
   "metadata": {},
   "source": [
    "V relativistični in kvantni fiziki $F = ma$ ni striktno *res*, vendar se bo v vsakdanjem življenju redko zgodilo, da bo zahtevalo popravek. Pri gibanju z zvočno hitrostjo (cca. $3 \\cdot 10^2$ m/s) sila, dobljena s $F = ma$ od resnične sile odstopa za $v^2/c^2 \\approx 10^{-12}$"
   ]
  },
  {
   "cell_type": "markdown",
   "metadata": {},
   "source": [
    "**Komentar:** Opazujemo interakcijo med dvema gibajočema se delcema (gibljeta naj se pravokotno eden glede na drugega). Okoli prvega nastaja polje $B_1$, okoli drugega pa $B_2$. Velja:\n",
    "$$\\vct{F}_{21} = e_2\\vct{v}_2 \\times {B}_1 \\neq e_1 \\vct{v}_1 \\times \\vct{B}_1 = F_{12}$$"
   ]
  },
  {
   "cell_type": "markdown",
   "metadata": {},
   "source": [
    "Kajti $B_2$ deluje v ravnini, katere normala je $\\vct{v_2}$, ki ni nujno skladna z ravnino, po kateri se giblje delec $e_1$. Medtem se lahko delec $e_2$ giblje po ravnini, katere normala je $\\vct{v_1}$, torej nanj deluje sila."
   ]
  },
  {
   "cell_type": "markdown",
   "metadata": {},
   "source": [
    "Obstaja 10 neodvisnih transformacij med inercialnimi koordinatnimi sistemi.\n",
    "- 3 rotacije: okoli osi x, okoli osi y, okoli osi z ali kombinacija teh treh. Matematično zapišemo $\\vct{r'} = O\\vct{r}$, kjer je O ortogonalna matrika.\n",
    "- 3 translacije: vzdolž osi x, vzdolž osi y, vzdolž osi z\n",
    "- 3 premiki hitrosti (angleško \"boost\") - hitrost ima lahko tri razližne smeri (x, y, z). Matematično $\\vct{r'} = \\vct{r} + \\vct{u}t$\n",
    "- 1 premik časa: $t' = t + t_0$. Na odvod $dr/dt$ to nima vpliva."
   ]
  },
  {
   "cell_type": "markdown",
   "metadata": {},
   "source": [
    "Če je problem ni invarianten na premik časa (torej so sile odvisne od časa), zadnja transformacija ne velja."
   ]
  },
  {
   "cell_type": "markdown",
   "metadata": {},
   "source": [
    "**Neinercialni koordinatni sistemi:** $\\\\$\n",
    "To so sistemi, v katerih Lex I. (prvi Newtonov zakon) ne velja. Imejmo koordinatni sistem $S$ z izhodiščem v 0 enotskimi vektorji $\\vct{e_1}, \\vct{e_2}, \\vct{e_3}$ in gibajoč se koordinatni sistem (z izhodiščem v $R(t)$ glede na $S$ in enotskimi vektorji $\\vct{e_1'}, \\vct{e_2'}, \\vct{e_3'}$)"
   ]
  },
  {
   "cell_type": "markdown",
   "metadata": {},
   "source": [
    "Za neko točko iščemo krajevni vektor v obeh koordinatnih sistemih. Če je $\\vct{r'}(t)$ krajevni vektor točke v $S'$, je $\\vct{r}(t) = \\vct{R}(t) + \\vct{r}'(t)$ v $S$"
   ]
  },
  {
   "cell_type": "markdown",
   "metadata": {},
   "source": [
    "Vzemimo $$\\vct{R}(t) = (X(t), Y(t), Z(t)) = \\sum _{\\alpha = 1}^3 X_\\alpha \\vct{e}_\\alpha$$"
   ]
  },
  {
   "cell_type": "markdown",
   "metadata": {},
   "source": [
    "$$\\vct{r'}(t) = \\sum _{\\alpha = 1}^3 x'_\\alpha \\vct{e'}_\\alpha$$\n",
    "$$\\vct{r}(t) = \\sum _{\\alpha = 1}^3 x_\\alpha \\vct{e}_\\alpha$$"
   ]
  },
  {
   "cell_type": "markdown",
   "metadata": {},
   "source": [
    "Zahtevali bomo, da sta S in S' ortonormirana, torej da je $\\langle\\vct{e_{\\alpha}}, \\vct{e_{\\beta}}\\rangle = \\delta_{\\alpha, \\beta}$ in $\\langle\\vct{e'_{\\alpha}}, \\vct{e'_{\\beta}}\\rangle = \\delta_{\\alpha, \\beta}$"
   ]
  },
  {
   "cell_type": "markdown",
   "metadata": {},
   "source": [
    "$$\\vct{v} = \\frac{d\\vct{r}}{dt} = \\frac{d\\vct{R}}{dt} + \\frac{d\\vct{r'}}{dt} = \\sum _\\alpha \\dot{x}_\\alpha \\vct{e_\\alpha}$$"
   ]
  },
  {
   "cell_type": "markdown",
   "metadata": {},
   "source": [
    "$$\\frac{d\\vct{e'_\\alpha}}{dt} = \\sum _{\\beta = 1}^2 a_{\\alpha \\beta}\\vct{e'}_\\beta$$"
   ]
  },
  {
   "cell_type": "markdown",
   "metadata": {},
   "source": [
    "$$\\frac{d\\vct{e'_\\alpha}}{dt} \\cdot \\vct{e'}_\\gamma = a_{\\alpha \\gamma}$$\n",
    "$$= \\frac{d}{dt} (\\vct{e'}_\\alpha \\cdot \\vct{e'}_\\gamma) - \\vct{e'}_\\alpha \\cdot \\frac{d\\vct{e'}_\\gamma}{dt} = -a_{\\gamma \\alpha}$$"
   ]
  },
  {
   "cell_type": "markdown",
   "metadata": {},
   "source": [
    "Za $\\alpha = 1:$\n",
    "$$\\frac{d\\vct{e'}_1}{dt} = \\sum_\\beta a_{1b} \\vct{e'}_\\beta = a_{12} \\vct{e'}_2, a_{13} \\vct{e'}_3$$"
   ]
  },
  {
   "cell_type": "markdown",
   "metadata": {},
   "source": [
    "Definiramo $\\vct{w'} = (w_1, w_2, w_3)$.\n",
    "$$\\vct{w'} \\times \\vct{e'}_1 = \\sum _{\\alpha} w'\\alpha \\vct{e'}_\\alpha \\times e_1 = 0 + w'_2 \\vct{e'}_2 \\times \\vct{e'}_1 + w'_3 \\vct{e'}_3 \\times \\vct{e'}_1$$\n",
    "Zaradi ortogonalnosti je to enako:\n",
    "$$= -w_2\\vct{e'}_3 + w_3\\vct{e'}_2$$"
   ]
  },
  {
   "cell_type": "markdown",
   "metadata": {},
   "source": [
    "Dokazali smo, da je $\\frac{d\\vct{e'}_\\alpha}{dt} = \\vct{w'} \\times \\vct{e'}_\\alpha$, oz. da je odvod enotskega vektorja po času ekvivalenten vrtenju okoli nekega vektorja $w'(t)$, poleg tega pa isti vektor $w$ zadošča za vse vektorje, ne glede na to, kako jih določimo, dokler so pri tem ortogonalni."
   ]
  },
  {
   "cell_type": "markdown",
   "metadata": {},
   "source": [
    "Če v sistemu $S'$ izberemo neki vektor $\\vct{b}$, je $$\\frac{d\\vct{b'}}{dt} = \\sum _\\alpha \\dot{b_\\alpha'}\\vct{e'_\\alpha} + \\vct{w'} \\times \\vct{b'}$$"
   ]
  },
  {
   "cell_type": "markdown",
   "metadata": {},
   "source": []
  }
 ],
 "metadata": {
  "language_info": {
   "name": "python"
  }
 },
 "nbformat": 4,
 "nbformat_minor": 2
}
