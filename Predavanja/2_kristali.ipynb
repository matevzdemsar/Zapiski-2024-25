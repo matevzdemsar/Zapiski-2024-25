{
 "cells": [
  {
   "cell_type": "markdown",
   "metadata": {},
   "source": [
    "# Elektroni v kristalih"
   ]
  },
  {
   "cell_type": "markdown",
   "metadata": {},
   "source": [
    "$\\textbf{Približek prostih elektronov} \\\\$\n",
    "Valovno funkcijo elektrona v kristalu lahko poskusimo sestaviti kot linearno kombinacijo valovnih funkcij v okolici posameznega jedra (kakor smo to storili pri molekuli vodika)."
   ]
  },
  {
   "cell_type": "markdown",
   "metadata": {},
   "source": [
    "$\\Psi(x) = \\sum _{j=1}^N c_j\\Phi(x - ja) = \\sum _{j=1}^N c_j\\Phi _j(x)$    (približek tesne vezi)"
   ]
  },
  {
   "cell_type": "markdown",
   "metadata": {},
   "source": [
    "S tem nastavkom gremo v Schroedingerjevo enačbo in dobimo (Čopič 13.1):\n",
    "$$W_1c_j - J(c_{j-1} + c_{j+1}) = W_{c_j}$$"
   ]
  },
  {
   "cell_type": "markdown",
   "metadata": {},
   "source": [
    "Pri čemer je J prekrivalni integral: $$J = -\\int_\\infty^\\infty V_{j+1}\\Phi _{j+1}^*\\Phi _j = -\\int_\\infty^\\infty V_{j-1}\\Phi _{j-1}^*\\Phi _j$$"
   ]
  },
  {
   "cell_type": "markdown",
   "metadata": {},
   "source": [
    "Vstavimo $c_j = Ae^{ikaj}$\n",
    "$$W_1 - J(e^{-ika} + e^{-ika}) = W_1 - 2J\\cos ka$$"
   ]
  },
  {
   "cell_type": "markdown",
   "metadata": {},
   "source": [
    "Sledi $W = W_1 - 2J\\cos ka$"
   ]
  },
  {
   "cell_type": "markdown",
   "metadata": {},
   "source": [
    "Kot robni pogoj izberemo periodičnost, saj kristal obravnavamo kot neskončen.\n",
    "Sledi\n",
    "$$c_0 = c_N$$\n",
    "$$1 = e^{ikaN}$$\n",
    "$$kaN = n2\\pi$$\n",
    "Pri čemer je $n \\in \\mathbb{Z}$. Če zahtevamo, da je $-N/2 < n < N/2$, dobimo $-\\pi/a < k <\\pi/a$. Množici teh vrednostih $k$ pravimo Brillouinova cona."
   ]
  },
  {
   "cell_type": "markdown",
   "metadata": {},
   "source": [
    "Zahtevajmo $k<<1$. Tedaj lahko aprokcimiramo:\n",
    "$$W = W_1 - 2J \\cos ka \\approx W_1 - 2J(1 - \\frac{1}{2}k^2a^2)$$\n",
    "$$W_1 = W_1 - 2J + Ja^2k^2$$\n",
    "Spomnimo se, da ima energija elektrona obliko $W = \\frac{p^2}{2m} = \\frac{\\hbar ^2 k^2}{2m}$."
   ]
  },
  {
   "cell_type": "markdown",
   "metadata": {},
   "source": [
    "Vpeljemo \"efektivno maso\": $m^* = \\frac{\\hbar^2}{2Ja^2}$. Tedaj lahko zapišemo energijo elektrona kot\n",
    "$$W = W_1 - 2J + \\frac{\\hbar^2 k^2}{2m^*}$$"
   ]
  },
  {
   "cell_type": "markdown",
   "metadata": {},
   "source": [
    "$\\textbf{Kronig-Penneyev model kristala}$"
   ]
  },
  {
   "cell_type": "markdown",
   "metadata": {},
   "source": [
    "$$\\cos ka = \\cos Ka + \\frac{mA}{\\hbar Ka} \\sin Ka$$\n",
    "$$K = \\sqrt{\\frac{2mE}{\\hbar^2}}$$\n",
    "Izpeljavo bomo naredili na vajah. $\\\\$\n",
    "V limiti majhnih $ka$ in $Ka$ uporabimo Taylorjev razvoj na kosinusu in sinusu:\n",
    "$$1 - \\frac{1}{2}k^2a^2 = 1 - \\frac{1}{2}K^2a^2 + \\frac{mA}{\\hbar}$$"
   ]
  },
  {
   "cell_type": "markdown",
   "metadata": {},
   "source": [
    "Poleg drugih poenostavljanj lahko na obeh straneh delimo z $a^2/2$:\n",
    "$$K^2 = k^2 + \\frac{2mA}{\\hbar^2 a^2}$$"
   ]
  },
  {
   "cell_type": "markdown",
   "metadata": {},
   "source": [
    "$$\\frac{2mE}{\\hbar} = k^2 + \\frac{2mA}{\\hbar a^2}$$\n",
    "$$E = \\frac{\\hbar ^2 k^2}{2m} + \\text{konst.}$$\n",
    "Sledi $m^* \\approx m$, kar je posledica limite majhne $ka$."
   ]
  },
  {
   "cell_type": "markdown",
   "metadata": {},
   "source": [
    "Uporabimo približek prostih elektronov. Obrvnavamo elektron kot ravni val: $$\\Psi = Ae^{i(kx - wt)}$$. Ko pride elektron do jedra,to predstavlja nekakšno potencialno bariero, od katere se elektron bodisi odbije bodisi gre skozi. Dokler pa $\\lambda$ elektrona ni večkratnik dolžine, odbiti valovi $\\Psi = Be^{i(-kx - wt)}$ med seboj destruktivno interferirajo. ($e^{i\\phi} + e^{i2\\phi} + e^{i3\\phi} + ...$ prej ko slej med seboj interferira v 0.)"
   ]
  },
  {
   "cell_type": "markdown",
   "metadata": {},
   "source": [
    "Če pa velja $ka = n\\pi$ za neki cel $n$:\n",
    "$$\\Psi = \\Psi _\\rightarrow \\pm \\Psi _\\leftarrow = A(e^{i(kx - wt)} \\pm e^{i(-kx - wt)})$$"
   ]
  },
  {
   "cell_type": "markdown",
   "metadata": {},
   "source": [
    "Če izpostavimo $e^{-iwt}$, se stvar poenostavi v kotno funkcijo:\n",
    "$$\\Psi _+ = Ae^{-iwt} \\cdot 2 \\cos(ka)$$\n",
    "$$\\Psi _- = Ae^{-iwt} \\cdot 2i \\sin(ka)$$"
   ]
  },
  {
   "cell_type": "markdown",
   "metadata": {},
   "source": [
    "Poskrbimo, da sta $\\Psi _+$ in $\\Psi _-$ normalizirani:\n",
    "$$1 = \\int _0 ^a \\Psi _+ ^* \\Psi _+ dx = 4A^2 \\int _0 ^a cos^2(n\\pi x/a) = 2A^2a$$"
   ]
  },
  {
   "cell_type": "markdown",
   "metadata": {},
   "source": [
    "Sledi $A = 1/\\sqrt{2a}$"
   ]
  },
  {
   "cell_type": "markdown",
   "metadata": {},
   "source": [
    "Elektron čuti privlačen potencial, lahko izračunamo\n",
    "$$W_p = <V_+> = \\int _0^a \\Psi _+^* V(x) \\Psi _+ dx$$\n",
    "$$W_p = <V_-> = \\int _0^a \\Psi _-^* V(x) \\Psi _- dx$$"
   ]
  },
  {
   "cell_type": "markdown",
   "metadata": {},
   "source": [
    "Pričakujemo, da bosta obe vrednosti potencialne energije manjši od 0, saj je potencial privlačen."
   ]
  },
  {
   "cell_type": "markdown",
   "metadata": {},
   "source": [
    "$$<V_+> = A^2 \\int _0^a cos^2(\\frac{n\\pi}{a}) V(x)dx$$\n",
    "$$<V_-> = - A^2 \\int _0^a sin^2(\\frac{n\\pi}{a}) V(x)dx$$"
   ]
  },
  {
   "cell_type": "markdown",
   "metadata": {},
   "source": [
    "Velja torej $V_+ < V_- < 0$"
   ]
  },
  {
   "cell_type": "markdown",
   "metadata": {},
   "source": [
    "Tedaj je $\\Delta V = V_- - V_+ > 0$"
   ]
  },
  {
   "cell_type": "markdown",
   "metadata": {},
   "source": [
    "Kar to pomeni v praksi: Ko elektron pride do atoma, se lahko odbije (tedaj ima potencial $V_-$) ali gre mimo (tedaj ima potencial $V_+$). Ta dva potenciala se razlikujeta za $\\Delta V$, ki je sicer majhna, a večja od 0.\n",
    "Posledično obstajajo energije, ki niso mogoče (med $V_+$ in $V_-$ za vsak atom - temu pravimo prepovedani pas.)"
   ]
  },
  {
   "cell_type": "markdown",
   "metadata": {},
   "source": [
    "$\\textbf{Kristali v električnem polju}$"
   ]
  },
  {
   "cell_type": "markdown",
   "metadata": {},
   "source": [
    "Prost elektron:\n",
    "$$v = \\frac{p}{m} = \\frac{\\hbar k}{m}$$\n",
    "$$W_k = \\frac{p^2}{2m} = \\frac{\\hbar^2 k^2}{2m}$$\n",
    "$$\\frac{dW_k}{dk} = \\frac{\\hbar^2 k}{m} = \\hbar v$$"
   ]
  },
  {
   "cell_type": "markdown",
   "metadata": {},
   "source": [
    "Dobili smo relacijo $v = \\frac{1}{\\hbar} \\cdot \\frac{dW_k}{dk}$"
   ]
  },
  {
   "cell_type": "markdown",
   "metadata": {},
   "source": [
    "Uvedemo pojem grupne hitrosti $dW_k/dk$ in fazne hitrosti $W_k/k$"
   ]
  },
  {
   "cell_type": "markdown",
   "metadata": {},
   "source": [
    "V električnem polju velja $dW_k = F dx = F v dt$"
   ]
  },
  {
   "cell_type": "markdown",
   "metadata": {},
   "source": [
    "$$dW_k = F \\frac{1}{\\hbar} \\frac{d W_k}{dk} dt$$"
   ]
  },
  {
   "cell_type": "markdown",
   "metadata": {},
   "source": [
    "$$\\frac{dk}{dt} = \\frac{F}{\\hbar}$$"
   ]
  },
  {
   "cell_type": "markdown",
   "metadata": {},
   "source": [
    "$\\newcommand{\\vct}[1]{\\overrightarrow{#1}} \\\\\n",
    " \\newcommand{\\pd}[2]{\\frac{\\partial {#1}}{\\partial {#2}}}$"
   ]
  },
  {
   "cell_type": "markdown",
   "metadata": {},
   "source": [
    "Silo izrazimo kot $\\vct{F} = -e_0 \\vct{E}$"
   ]
  },
  {
   "cell_type": "markdown",
   "metadata": {},
   "source": [
    "Poglavitna razlika med prevodniki in izolatorji je v tem, da v prevodnikih elektroni zmorejo premagati energijske razlike med atomi (predstavljaj si, da se peljejo po periodah sinusne funkcije kot po vlakcu smrti - če gre za prevodnik, imajo dovolj hitrosti, sicer pa pač ne in se ustavijo vsak v svoji luknji.)"
   ]
  }
 ],
 "metadata": {
  "language_info": {
   "name": "python"
  }
 },
 "nbformat": 4,
 "nbformat_minor": 2
}
