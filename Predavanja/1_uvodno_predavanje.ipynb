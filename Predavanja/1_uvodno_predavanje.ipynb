{
 "cells": [
  {
   "cell_type": "markdown",
   "metadata": {},
   "source": [
    "Plini imajo to lastnost, da je gostota reda velikosti $1~kg/m^3$, povprečna prosta pot je reda velikosti $10^{-7}$ m (mnogo več od velikosti delcev) in povprečen čas med trki reda velikosti $10^{10}$ s."
   ]
  },
  {
   "cell_type": "markdown",
   "metadata": {},
   "source": [
    "Kapljevine so približno 1000-krat gostejše, in sicer reda velikosti 10 $kg/m^3$, povprečna prosta pot je reda velikosti $10^{-9}$ m in povprečen čas med trkoma je reda velikosti $10^{-12}$ sekunde."
   ]
  },
  {
   "cell_type": "markdown",
   "metadata": {},
   "source": [
    "Gostota trdnih snovi je občiajno okoli $10~kg/m^3$, delijo se po strukturi, in sicer na urejene in neurejene. Nas zanimajo urejene, torej kristali."
   ]
  },
  {
   "cell_type": "markdown",
   "metadata": {},
   "source": [
    "Za kristale je značilna periodična struktura. Označimo linearno neodvisne vektorje, ki opisujejo dimenzijo ene \"celice\" ($\\overrightarrow{a},~\\overrightarrow{b},~\\overrightarrow{c}$). Najpreprosteje je, če so med seboj pravokotni in enako dolgi. Temu pravimo kubična mreža. Če so med seboj tako nepravakotni kot različno dolgi, pravimo temu triklinska vez.\n",
    "Med atomi v kristalih se lahko pojavijo različne vrste vezi.\n",
    "Ionska vez: najpogostejša med alkalnimi kovinami in halogeni. Za take kristale velja, da so stabilni, imajo visoko tališče in da so dielektriki. Prozorni so za vidno svetlobo, ne pa tudi za UV.\n",
    "Zgled: mreža izmenjujočih se Na in Cl atomov. Izračunamo energijo posameznega $Na^+$. Označimo razdaljo med CL atomoma kot $a$."
   ]
  },
  {
   "cell_type": "markdown",
   "metadata": {},
   "source": [
    "$W_{Na^+} = \\frac{e^2}{4 \\pi \\varepsilon _0 (\\frac{a}{2})} \\, \\left(-6 + \\frac{12}{\\sqrt{2}} - \\frac{8}{\\sqrt{3}} + ... \\right)$"
   ]
  },
  {
   "cell_type": "markdown",
   "metadata": {},
   "source": [
    "Vrsta na koncu počasi konvergira (gre za oddaljenosti okoliških atomov z enoto $a/2$), njeno vsoto označimo kot $\\alpha _M = 175$, torej je $$W_{Na^+} = \\frac{-e^2\\alpha _M}{4 \\pi \\varepsilon _0 (a/2)}$$\n",
    "Energija celotnega kristala je\n",
    "$W = \\frac{N}{2}\\,W_{Na^+}$"
   ]
  },
  {
   "cell_type": "markdown",
   "metadata": {},
   "source": [
    "Zakaj $\\frac{N}{2}$? $W_{Na^+}$ opisuje energijo vezi med dvema atomoma. Ker je vseh delcev skupaj N, je parov $\\frac{N}{2}$."
   ]
  },
  {
   "cell_type": "markdown",
   "metadata": {},
   "source": [
    "V tej kristalni rešetki atomi nihajo. Izračunamo lahko energijo nihanja. Predstavljamo si lahko, da v ravni vrsti leži N atomov, njihova mesta na premici označimo z $...~j-1,~j,~j+1~...$ na pozicijah $...~x_{j-1},~x_{j},~x_{j+1}~...$ Označimo še M ... masa atoma."
   ]
  },
  {
   "cell_type": "markdown",
   "metadata": {},
   "source": [
    "2. Newtonov zakon: $M\\ddot{x_j} = -K(x_j - x_{j-1}) - K(x_{j+1} - x_j)$,\n",
    "kjer je K koeficient vzmeti. Imamo robni pogoj $x_0 = x_N$. Seveda moramo upoštevati, da se tudi $x_{j-1}$ in $x_{j+1}$ spreminjata."
   ]
  },
  {
   "cell_type": "markdown",
   "metadata": {},
   "source": [
    "Iščemo rešitev v obliki valovanja, torej:\n",
    "$x_j = A \\cdot e^{i(k\\cdot aj - \\omega t)}$"
   ]
  },
  {
   "cell_type": "markdown",
   "metadata": {},
   "source": [
    "Nastavek vstavimo v 2. newtonov zakon:\n",
    "$$-MA\\omega^2 \\, e^{i(k\\cdot aj - \\omega t)} = -AK(e^{i(k\\cdot aj - \\omega t)} - e^{i(k\\cdot a(j-1) - \\omega t)}) - AK(e^{i(k\\cdot a(j+1) - \\omega t)} - e^{i(k\\cdot aj - \\omega t)})$$"
   ]
  },
  {
   "cell_type": "markdown",
   "metadata": {},
   "source": [
    "Na obeh straneh lahko pokrajšamo $A$ in $e^{-i\\omega t}$.\n",
    "$$-M\\omega^2 e^{ikaj} = - K(2e^{ikaj} - e^{ika(j-1)} - e^{ika(j-1)})$$\n",
    "$$-M\\omega^2 e^{ikaj} = - K\\, e^{ikaj} (2 - e^{-ika} - e^{ika})$$\n",
    "$$-M\\omega^2 e^{ikaj} = - K\\, e^{ikaj} (2 - 2\\cos(ka))$$\n",
    "$$-M\\omega^2 e^{ikaj} = - K\\, e^{ikaj} 2 \\cdot 2 \\cdot \\sin^2 \\frac{ka}{2}$$\n",
    "$$-M\\omega^2 = -4K \\sin^2\\frac{ka}{2}$$"
   ]
  },
  {
   "cell_type": "markdown",
   "metadata": {},
   "source": [
    "Uporabimo približek $ka << 1$, oziroma $k << a$.\n",
    "$$M\\omega^2 = 4K \\frac{(ka)^2}{4}$$\n",
    "$$\\omega = \\sqrt{\\frac{K}{M}} ka$$\n",
    "$$v_Z = \\omega / k = \\sqrt{\\frac{K}{M}} a$$"
   ]
  },
  {
   "cell_type": "markdown",
   "metadata": {},
   "source": [
    "Uporabimo še robni pogoj $x_0 = x_N$.\n",
    "$$Ae^{-iwt} = Ae^{i(kaN - \\omega t)}$$\n",
    "$$1 = e^{ikaN} => kaN = 2\\pi \\cdot n$$\n",
    "pri čemer je $n \\in \\mathbb{Z}$ celo število. Iz robnega pogoja torej dobimo valovni vektor $k$, ki je enak $k = \\frac{2\\pi}{Na}\\,n$ za celo število $n$"
   ]
  },
  {
   "cell_type": "markdown",
   "metadata": {},
   "source": [
    "Ker imamo N nihal, gre za N neodvisnih (sklopljenih) nihanj. V treh dimanzijah vsak atom niha longitudinalno v eno smer in transverzalno v dve smeri, torej imamo 3N nihanj."
   ]
  },
  {
   "cell_type": "markdown",
   "metadata": {},
   "source": [
    "Notranja energija in specifična toplota:\n",
    "$W_j = \\hbar \\omega (n_j + \\frac{1}{2})$, $n_j$ = 0, 1, 2, ..."
   ]
  },
  {
   "cell_type": "markdown",
   "metadata": {},
   "source": [
    "Za vsako od nihanj velja kanonična porazdelitev:\n",
    "$$P(n_j) = \\frac{1}{Z} e^{-\\hbar \\omega n_j \\beta}$$\n",
    "Označili smo $\\beta = 1/k_B T$ in $$Z = \\sum_{n_j} e^{-\\hbar \\omega n_j \\beta} ~\\text{(normirna konstanta)}$$"
   ]
  },
  {
   "cell_type": "markdown",
   "metadata": {},
   "source": [
    "Iz statistične termodinamike vemo, da je skupna energija kristala enaka:\n",
    "$$\\overline{W_j} = \\sum _{n_j} ^\\infty P(n_j) \\hbar \\omega n_j = \\frac{\\hbar \\omega}{e^{\\hbar \\omega \\beta} - 1}$$\n",
    "$$W = \\sum \\overline{W_j} = \\sum _j \\frac{\\hbar \\omega}{e^{\\hbar \\omega \\beta} - 1}$$\n",
    "$$= \\frac{8V\\hbar}{2\\pi^2 v_Z^3} \\int_0^\\infty \\frac{\\omega^3}{e^{\\hbar \\omega \\beta} - 1}$$\n",
    "V nizko temperaturni limiti dobimo $c_v \\propto T^3$, v visoko temperaturni limiti pa konstantno vrednost\n",
    "$c_v = 3 \\frac{m}{M} R$"
   ]
  }
 ],
 "metadata": {
  "language_info": {
   "name": "python"
  }
 },
 "nbformat": 4,
 "nbformat_minor": 2
}
