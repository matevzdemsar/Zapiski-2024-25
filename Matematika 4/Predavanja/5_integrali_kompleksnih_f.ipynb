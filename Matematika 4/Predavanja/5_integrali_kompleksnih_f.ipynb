{
 "cells": [
  {
   "cell_type": "markdown",
   "metadata": {},
   "source": [
    "$\\newcommand{\\vct}[1]{\\overrightarrow{#1}}$\n",
    "$\\newcommand{\\pd}[2]{\\frac{\\partial {#1}}{\\partial {#2}}}$\n",
    "$\\newcommand{\\wfint}[5]{\\int _{#1}^{#2} \\Psi _{#3}^* {#5} \\Psi _{#4} dx}$\n",
    "$\\newcommand{\\comp}{\\mathbb{C}}$\n",
    "$\\newcommand{\\fn}[3]{{#1}: {#2} \\rightarrow {#3}}$\n",
    "**Integrali kompleksnih funkcij**"
   ]
  },
  {
   "cell_type": "markdown",
   "metadata": {},
   "source": [
    "Vzemimo $\\fn{\\gamma}{[a, b]}{\\comp}$. Velja $$\\int_{\\gamma} f(z) dz = \\int_{a}^{b}f(\\gamma (t)) \\dot{\\gamma}(t) dt$$"
   ]
  },
  {
   "cell_type": "markdown",
   "metadata": {},
   "source": [
    "**Opomba:** Funkcijo $\\gamma$ lahko zapišemo kot vsoto realne in imaginarne komponente kot $\\gamma _1 + i\\gamma _2$. Podobno lahko funkcijo $f(z)$ zapišemo kot $f(z) = u(x, y) + iv(x, y)$"
   ]
  },
  {
   "cell_type": "markdown",
   "metadata": {},
   "source": [
    "$$\\int_{\\gamma}f(z)dz = \\int_{a}^{b} \\left(u(\\gamma _1(t), \\gamma _2(t)) + iv(\\gamma _1(t), \\gamma _2(t))\\right)(\\dot{\\gamma}_1(t) + \\dot{\\gamma}_2(t))dt$$\n",
    "$$= \\int_{a}{b}(u\\dot{\\gamma _1} -v\\dot{\\gamma}_2)dt + i\\int_{a}^{b} (u\\dot{\\gamma}_2 + v\\dot{\\gamma}_1)dt$$\n",
    "$$= \\int_{\\gamma} (udx - vdy) + i\\int_{\\gamma}(udy + vdx)$$"
   ]
  },
  {
   "cell_type": "markdown",
   "metadata": {},
   "source": [
    "**Lema:** $\\displaystyle{\\left|\\int_{\\gamma} f(z) dz\\right| \\leq \\int_{\\gamma} \\left|f(z)\\right|ds}$, kjer je $ds$ tako imenovani ločni element."
   ]
  },
  {
   "cell_type": "markdown",
   "metadata": {},
   "source": [
    "**Dokaz:** $$\\left|\\int_{\\gamma} f(z) dz\\right| = \\left|\\int_{a}^{b} f(\\gamma(t))\\dot{\\gamma}(t)dt\\right|$$\n",
    "Dobimo integral realne funkcije, za katero lastnost velja, torej:\n",
    "$$\\leq \\int_{a}^{b} \\left|f(\\gamma(t))\\right|\\left|\\dot{\\gamma}(t)\\right|$$\n",
    "Označimo $\\displaystyle{\\left|\\dot{\\gamma}(t)\\right|dt = ds}$\n",
    "$$= \\int_{\\gamma} \\left|f(z)\\right|ds$$"
   ]
  },
  {
   "cell_type": "markdown",
   "metadata": {},
   "source": [
    "Poseben primer: $\\fn{f(\\gamma(t))}{[a,b]}{\\comp}$ je zvezna. Tedaj je $\\displaystyle{\\left|f(\\gamma(t))\\right| \\leq M ~\\, \\forall t \\in [a,b]}$"
   ]
  },
  {
   "cell_type": "markdown",
   "metadata": {},
   "source": [
    "Torej je $$\\left|\\int_{\\gamma}f(z)dz\\right| \\leq M \\int_{\\gamma}ds = M \\, l(\\gamma)$$"
   ]
  },
  {
   "cell_type": "markdown",
   "metadata": {},
   "source": [
    "Z $l(\\gamma)$ označimo dolžino krivulje $\\gamma$."
   ]
  },
  {
   "cell_type": "markdown",
   "metadata": {},
   "source": [
    "Trditev: Recimo, da je $\\fn{\\varphi}{[c,d]}{[a,b]}$ naraščajoča in zvezno odvedljiva in $\\fn{\\gamma}{[a, b]}{[\\comp]}$ zvezno odvedljiva pot. Tedaj je\n",
    "$$\\int_{\\gamma \\circ \\varphi} f(z) dz = \\int_{\\gamma} f(z) dz$$"
   ]
  },
  {
   "cell_type": "markdown",
   "metadata": {},
   "source": [
    "Gre v bistvu za uvedbo novih spremenljivk."
   ]
  },
  {
   "cell_type": "markdown",
   "metadata": {},
   "source": [
    "**Dokaz:** Pokažemo kar z direktnim izračunom, in sicer je $\\displaystyle{\\int{\\gamma\\circ \\varphi} f(z) dz}$ enak\n",
    "$$= \\int_{c}^{d} f(\\gamma(\\varphi(t))) \\dot{\\gamma}(\\varphi(t)) \\dot{\\varphi}(t) dt$$\n",
    "Ker operiramo na realnih številih, lahko uporabimo substitucijo, torej vzamemo $u = \\varphi(t)$:\n",
    "$$= \\int_{a}^{b} f(\\gamma(u)) \\dot{\\gamma}(u)du = \\int_{\\gamma}f(z)dz$$"
   ]
  },
  {
   "cell_type": "markdown",
   "metadata": {},
   "source": [
    "Nekaj besed o poteh:\n",
    "- Nasprotna pot: če je $\\fn{\\gamma}{[a, b]}{\\comp}$ pot z začetno točko $\\gamma(a)$ in končno točko $\\gamma(b)$, je njena nasprotna pot taka $\\fn{\\gamma^-}{[a, b]}{\\comp}$, da je $\\gamma^-(t) = \\gamma(a + b - t)$ - torej $\\gamma^-$ preteče isto krivuljo v ravno nasprotno smer.\n",
    "- Spoj krivulj: Naj bosta $\\fn{\\gamma _1, \\gamma _2}{[0, 1]}{\\comp}$ taki funkciji, da bo $\\gamma _2(0) = \\gamma _1(1)$. Njun spoj definiramo kot $\\displaystyle{(\\gamma _1 \\cup \\gamma _2) = \\begin{cases}\\gamma _1(2t) & t \\in [0, \\frac{1}{2}] \\\\ \\gamma _2(2t-1) & t\\in(\\frac{1}{2}, 1]\\end{cases}} \\\\$\n",
    "Če se ne omejimo na pot $[0, 1]$, temveč kakšen drug interval $[a, b]$, lahko definiramo novo spremenljivko $u = \\frac{t-a}{b-a}$, da je $u$ omejen na $[0, 1]$. Kot smo že dokazali, uvedba nove spremenljivke ne vpliva na integral."
   ]
  },
  {
   "cell_type": "markdown",
   "metadata": {},
   "source": [
    "**Trditev:**\n",
    "1. $\\displaystyle{\\int_{\\gamma^-}f(z)dz = -\\int_{\\gamma}f(z)dz}$\n",
    "2. $\\displaystyle{\\int_{\\gamma _1 \\cup \\gamma _2} f(z) dz = \\int_{\\gamma _1} f(z)dz + \\int_{\\gamma _2} f(z)dz}$"
   ]
  },
  {
   "cell_type": "markdown",
   "metadata": {},
   "source": [
    "**Dokaz:** Lahko s pomočjo krivuljnih integralov, ni pa nujno:\n",
    "$$\\int_{\\gamma^-}f(z)dz = \\int_{a}^{b} f(\\gamma(a+b-t))\\dot{\\gamma}(a+b-t)(-dt)$$"
   ]
  },
  {
   "cell_type": "markdown",
   "metadata": {},
   "source": [
    "Uvedemo $u = a + b - t$"
   ]
  },
  {
   "cell_type": "markdown",
   "metadata": {},
   "source": [
    "$$= \\int_{b}^{a}f(\\gamma(u))\\dot{\\gamma}(u)du = -\\int_{a}^{b}f(\\gamma(u))\\dot{\\gamma}(u)du = - \\int_{\\gamma}f(z)dz$$"
   ]
  },
  {
   "cell_type": "markdown",
   "metadata": {},
   "source": [
    "Drugi del trditve dokažemo podobno."
   ]
  },
  {
   "cell_type": "markdown",
   "metadata": {},
   "source": [
    "**Trditev:** Naj bo $\\fn{f}{D}{\\comp}$ holomorfna in $\\fn{\\gamma}{[a, b]}{\\comp}$ zvezno odvedljiva pot v $D \\subseteq \\comp$"
   ]
  },
  {
   "cell_type": "markdown",
   "metadata": {},
   "source": [
    "Tedaj je $$\\int_{\\gamma}f'(z)dz = f(\\gamma(b)) - f(\\gamma(a))$$"
   ]
  },
  {
   "cell_type": "markdown",
   "metadata": {},
   "source": [
    "**Dokaz:** Trditev je mogoče dokazati tako, da pokažemo, da je $f'(z)$ potencialno polje, vendar se bomo stvari lotili drugače:\n",
    "$$\\int_{\\gamma}f'(z)dz = \\int_{a}^{b}f'(\\gamma(t)) \\dot{\\gamma}(t)dt$$\n",
    "V izrazu prepoznamo odvod $f \\circ \\gamma$. Pri prejšnjem predavanju smo dokazali, da ima odvod kompozituma tudi v kompleksnih številih tako obliko.\n",
    "Dobimo:\n",
    "$$\\int_{a}^{b}\\frac{d}{dt}(f \\circ \\gamma)dt = (f\\circ \\gamma) \\Big|^b_a$$"
   ]
  },
  {
   "cell_type": "markdown",
   "metadata": {},
   "source": [
    "**Posledica:** Če je $\\fn{f}{D}{\\comp}$ holomorfna in $\\gamma$ sklenjena pot v $D$, je $$\\int_{\\gamma} f'(z)dz = 0$$"
   ]
  },
  {
   "cell_type": "markdown",
   "metadata": {},
   "source": [
    "**Izrek:** Če za vsako sklenjeno pot $\\gamma$ v območju $D$ velja $\\displaystyle{\\int _{\\gamma} f(z)dz = 0}$, pri čemer naj bo $\\fn{f}{D}{\\comp}$ zvezna,\n",
    "tedaj obstaja taka holomorfna funkcija $\\fn{F}{D}{\\comp}$, da je $F' = f$"
   ]
  },
  {
   "cell_type": "markdown",
   "metadata": {},
   "source": [
    "**Dokaz:** Želimo definirati $F(z)$ in pokazati, da je $f$ odvod te funkcije. Izberimo si neko fiksno točko $a$. Ker je območje povezano, gotovo obstaja neka pot $\\gamma$ med točko $a$ in poljubno točko $z \\in D$. Tedaj definiramo $\\displaystyle{F(z) = \\int_{\\gamma}f(w)dw}$. Najprej moramo preveriti, ali je definicija neodvisna od izbire poti. Če izberemo dve poljubni (različni) poti $\\gamma _1$ in $\\gamma _2$, lahko eno izmed njiju obrnemo in dobimo zaključeno pot, tako da je $\\displaystyle{\\int_{\\gamma _1 \\cup \\gamma^-_2} f(w)dw = \\int _{\\gamma_1} f(w)dw - \\int _{\\gamma _2} f(w)dw = 0}$"
   ]
  },
  {
   "cell_type": "markdown",
   "metadata": {},
   "source": [
    "Nazadnje moramo preveriti še, ali je $F'(z) = f(z)$, ali drugače, da gre\n",
    "$$\\left|\\frac{F(z+h) - F(z)}{h} - f(z)\\right| \\to 0,~\\,\\text{ko gre h $\\to$ 0.}$$"
   ]
  },
  {
   "cell_type": "markdown",
   "metadata": {},
   "source": [
    "$z+h$ izberemo dovolj blizu $z$, da bo daljica med njima cela v območju. To moremo doseči, ker je $D$ območje, torej odprta množica. Označimo to daljico z $\\gamma _2$, izbrana pot od $a$ do $z$ bodi $\\gamma _1$, pot od $a$ do $z+h$ pa $\\gamma _3$ (tudi ta gotovo obstaja).\n",
    "$$\\left|\\frac{1}{h}\\left(F(z+h) - F(z)\\right)\\right| = \\left|\\frac{1}{h} \\int_{\\gamma _3} f(w)dw - \\frac{1}{h}\\int_{\\gamma _1} f(w)dw - f(z)\\right|$$\n",
    "Opazimo, da tvorijo $\\gamma _1$, $\\gamma _2$ in $\\gamma _3$ sklenjeno krivuljo, torej da je $\\displaystyle{\\int _a^{z+h} f(w)dw + \\int _{z+h}^z + \\int _z^a = 0}$.\n",
    "Torej je \n",
    "$$\\left|\\frac{F(z+h) - F(z)}{h} - f(z)\\right| = \\left|\\frac{1}{h}\\int_{z}^{z+h}f(w)dw - f(z)\\right|$$\n",
    "$f(z)$ lahko zapišemo kot $\\displaystyle{\\frac{1}{h}\\int _z^{z+h} f(z) dw}$, $f(z)$ je v konstanta, torej dobimo $f(z) \\cdot (z+h-z)/h = f(z)$"
   ]
  },
  {
   "cell_type": "markdown",
   "metadata": {},
   "source": [
    "Ostane nam $$\\left|\\frac{F(z+h) - F(z)}{h} - f(z)\\right| = \\frac{1}{|h|}\\left|\\int_{z}^{z+h}\\left(f(w) - f(z)\\right)dw\\right|$$"
   ]
  },
  {
   "cell_type": "markdown",
   "metadata": {},
   "source": [
    "$$\\leq \\frac{1}{|h|} \\int_{z}^{z+h}\\left|f(w) - f(z)\\right|dz$$\n",
    "Ker je $f$ zvezna, je $f(w) - f(z)$ poljubno majhno, čim je $h$ dovolj majhen. Vrednost aproksimirajmo s poljubno majhnim $\\varepsilon$"
   ]
  },
  {
   "cell_type": "markdown",
   "metadata": {},
   "source": [
    "$$< \\frac{1}{|h|}\\int_{z}^{z+h}\\varepsilon dz = \\frac{1}{|h|} \\varepsilon |h| = \\varepsilon$$"
   ]
  }
 ],
 "metadata": {
  "kernelspec": {
   "display_name": "Python 3",
   "language": "python",
   "name": "python3"
  },
  "language_info": {
   "name": "python",
   "version": "3.13.2"
  }
 },
 "nbformat": 4,
 "nbformat_minor": 2
}
