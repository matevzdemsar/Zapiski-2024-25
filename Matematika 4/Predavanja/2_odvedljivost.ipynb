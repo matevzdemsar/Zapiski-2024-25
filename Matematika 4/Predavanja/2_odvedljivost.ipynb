{
 "cells": [
  {
   "cell_type": "markdown",
   "metadata": {},
   "source": [
    "$\\newcommand{\\vct}[1]{\\overrightarrow{#1}}$\n",
    "$\\newcommand{\\pd}[2]{\\frac{\\partial {#1}}{\\partial {#2}}}$\n",
    "$\\newcommand{\\wfint}[5]{\\int _{#1}^{#2} \\Psi _{#3}^* {#5} \\Psi _{#4} dx}$\n",
    "$\\newcommand{\\comp}{\\mathbb{C}}$\n",
    "$\\newcommand{\\fn}[3]{{#1}: {#2} \\rightarrow {#3}}$"
   ]
  },
  {
   "cell_type": "markdown",
   "metadata": {},
   "source": [
    "**Razširjena kompleksna ravnina** $\\\\$\n",
    "Označimo $\\overline{\\comp} = \\comp \\cup \\{\\infty\\}$. "
   ]
  },
  {
   "cell_type": "markdown",
   "metadata": {},
   "source": [
    "Stereografska projekcija: Točko na sferi vzdolž gradienta preslikamo na ravnino. Sfero označimo z $S^2$, funkcijo zapišemo kot:\n",
    "$$\\fn{\\varphi}{S^2\\backslash N}{\\comp}$$"
   ]
  },
  {
   "cell_type": "markdown",
   "metadata": {},
   "source": [
    "$N$ označuje severni pol, saj je v njem gradient 0. Funkcijo za koordinate $(x, y, z)$ zapišemo kot\n",
    "$$\\varphi(x, y, z) = \\frac{x}{1-z} + i\\frac{y}{1-z}$$\n",
    "Ta preslikava je zvezna in bijektivna."
   ]
  },
  {
   "cell_type": "markdown",
   "metadata": {},
   "source": [
    "$\\varphi$ razširimo do preslikave $\\fn{\\overline{\\varphi}}{S^2}{\\overline{\\comp}},~\\varphi(N) = \\infty$. Vidimo, da je pri tem še vedno zvezna in bijektivna, torej lahko $\\overline{\\comp}$ indetificiramo z $S^2$."
   ]
  },
  {
   "cell_type": "markdown",
   "metadata": {},
   "source": [
    "**Holomorfne funkcije** $\\\\$\n",
    "Gledamo funkcije $\\fn{f}{U}{\\comp}$, kjer je $U \\subseteq \\comp$, tipično želimo tudi, da je $U$ odprta in (kasneje) povezana, torej da gre za območje."
   ]
  },
  {
   "cell_type": "markdown",
   "metadata": {},
   "source": [
    "$\\fn{f}{U}{\\comp} \\\\$\n",
    "$z \\rightarrow f(z) = Re(f(z)) + Im(f(z)) \\cdot i$"
   ]
  },
  {
   "cell_type": "markdown",
   "metadata": {},
   "source": [
    "$z = x + iy$, sledi: $\\\\$\n",
    "$f(z) = u(x, y) + v(x, y) \\cdot i, \\\\$\n",
    "kjer sta $\\fn{u}{\\mathbb{R}}{\\mathbb{R}}$, $\\fn{v}{\\mathbb{R}}{\\mathbb{R}}$. Funkcijo $f$ si lahko torej predstavljamo kot vektorsko funkcijo $\\\\$\n",
    "$\\fn{F}{\\mathbb{R}^2}{\\mathbb{R}^2}$"
   ]
  },
  {
   "cell_type": "markdown",
   "metadata": {},
   "source": [
    "**Zgled:** $f(z) = z^2: \\\\$\n",
    "$u(x, y) = x^2 - y^2 \\\\$\n",
    "$v(x, y) = 2xy$"
   ]
  },
  {
   "cell_type": "markdown",
   "metadata": {},
   "source": [
    "**Definicija:** $\\fn{f}{U}{\\comp},~z \\in U \\\\$\n",
    "Pravimo, da je f odvedljiva v $z$, če obstaja\n",
    "$$\\lim_{w \\to z} \\frac{f(w) - f(z)}{w - z} =: f'(z)$$\n"
   ]
  },
  {
   "cell_type": "markdown",
   "metadata": {},
   "source": [
    "**Opomba:** $\\lim_{w \\to z} g(z) = A: \\\\$\n",
    "$\\forall \\varepsilon > 0 \\exists \\delta > 0: \\\\$\n",
    "$|w - z| < \\delta$ => $|f(w) - f(z)| < \\varepsilon$"
   ]
  },
  {
   "cell_type": "markdown",
   "metadata": {},
   "source": [
    "Pojavi se manjši problem, ker lahko limita v nekaterih smereh obstaja, v nekaterih pa ne."
   ]
  },
  {
   "cell_type": "markdown",
   "metadata": {},
   "source": [
    "**Primer:** $f(z) = z^n \\\\$\n",
    "$f'(z) = \\lim_{w \\to z} \\frac{w^n - z^n}{w - z} = \\lim_{w \\to z} \\frac{(w - z)(w^{n-1} + zw^{n-2} + ... + wz^{n-2} + z^{n-1})}{w - z} = nz^{n-1}$\n"
   ]
  },
  {
   "cell_type": "markdown",
   "metadata": {},
   "source": [
    "**Primer:** $f(z) = \\overline{z}$. Ta ni odvedljiva. Predpostavimo, da je, in jo poskusimo odvajati."
   ]
  },
  {
   "cell_type": "markdown",
   "metadata": {},
   "source": [
    "$\\lim_{w \\to z} \\frac{\\overline w - \\overline z}{w - z} \\\\$\n",
    "Stvari se bomo najlažje lotili, če postavimo $z = 0$. Tedaj je\n",
    "$\\\\ f'(0) = \\lim_{w \\to 0}\\frac{\\overline{w}}{w}$\n",
    "Pošljimo $w \\to 0$ najprej po realni in nato po imaginarni osi. Zapišimo $w_0 x + iy$\n",
    "$$\\lim_{x \\to 0, ~ y = 0} \\frac{x}{x} = 1$$\n",
    "$$\\lim_{y \\to 0, ~ x = 0} \\frac{-y}{y} = -1$$"
   ]
  },
  {
   "cell_type": "markdown",
   "metadata": {},
   "source": [
    "V drugih točkah je podobno."
   ]
  },
  {
   "cell_type": "markdown",
   "metadata": {},
   "source": [
    "**Izrek:** $\\fn{f}{U}{\\comp},~f(z) = u(x, y) + iu(x, y) \\\\$\n",
    "Recimo, da je $f$ odvedljiva v z. Potem sta $u$ in $v$ parcialno odvedljivi po x in y in velja:\n",
    "$$u_x = v_y$$\n",
    "$$v_x = -u_y$$"
   ]
  },
  {
   "cell_type": "markdown",
   "metadata": {},
   "source": [
    "(Temu pravimo Cauchy-Riemannovi enačbi)"
   ]
  },
  {
   "cell_type": "markdown",
   "metadata": {},
   "source": [
    "Obratno lahko na podlagi Cauchy-Riemannovih enakosti vemo, da $f'(z)$ obstaja in ga lahko izračunamo:\n",
    "$$f'(z) = u_x + iv_x = v_y - iu_y$$"
   ]
  },
  {
   "cell_type": "markdown",
   "metadata": {},
   "source": [
    "**Opomba:** Namesto $w \\to z$ lahko pišemo $h \\to 0$, pri čemer je $h \\in \\comp$ in $w = z + h$"
   ]
  },
  {
   "cell_type": "markdown",
   "metadata": {},
   "source": [
    "**Dokaz:** $\\\\$ (=>) Po predpostavki odvod obstaja. $$f'(z) = \\lim_{h \\to 0} \\frac{f(z + h) - f(z)}{h}$$"
   ]
  },
  {
   "cell_type": "markdown",
   "metadata": {},
   "source": [
    "Pošljimo $h \\to 0$ vzdolž realne in imaginarne osi. Označimo $z = u(x, y) + iv(x, y)$"
   ]
  },
  {
   "cell_type": "markdown",
   "metadata": {},
   "source": [
    "Vzdolž realne osi: $\\\\$\n",
    "$$f'(z) = \\lim_{h \\to 0} \\frac{f(z+h) - f(z)}{h} = \\lim_{h \\to 0} \\frac{u(x + h, y) + iv(x + h, y) - u(x, y) - iv(x, y)}{h}$$"
   ]
  },
  {
   "cell_type": "markdown",
   "metadata": {},
   "source": [
    "$$= \\lim_{h \\to 0} \\left(\\frac{u(x+h, y) - u(x, y)}{h} + i\\frac{v(x+h, y) - v(x, y)}{h} \\right) = \\pd{u}{x} + i\\pd{v}{x}$$"
   ]
  },
  {
   "cell_type": "markdown",
   "metadata": {},
   "source": [
    "Vzdolž imaginarne osi: $h = ik,~k\\in \\mathbb{R} \\\\$\n",
    "$z + h = x + i(y + k)$\n",
    "$$f'(z) = \\lim_{h \\to 0} \\frac{f(z + h) - f(z)}{h} = \\lim_{k \\to 0} \\frac{u(x, y + k) + iv(x, y + k) - u(x, y) - v(x, y)}{ik}$$\n",
    "$$= \\lim_{k \\to 0} \\left( \\frac{v(x, y+k) - v(x, y)}{k} - i\\frac{u(x, y+k) - u(x, y)}{k} \\right) = \\pd{v}{y} - i \\pd{u}{y}$$"
   ]
  },
  {
   "cell_type": "markdown",
   "metadata": {},
   "source": [
    "Ker sta po predpostavki limiti enaki, mora biti $\\pd{u}{x} = \\pd{v}{y}$ (realni del) in $\\pd{v}{x} = - \\pd{u}{y}$ (imaginarni del), kar sta ravno Cauchy-Riemannovi enačbi."
   ]
  },
  {
   "cell_type": "markdown",
   "metadata": {},
   "source": [
    "(<=) $u$ in $v$ sta po predpostavki odvedljivi. Označimo $h = h_1 + ih_2$"
   ]
  },
  {
   "cell_type": "markdown",
   "metadata": {},
   "source": [
    "$$u(x + h_1, y + h_2) = u(x, y) + u_x(x, y)h_1 + u_y(x, y)h_2 + o_1(h)$$\n",
    "$$v(x + h_1, y + h_2) = v(x, y) + v_x(x, y)h_1 + v_y(x, y)h_2 + o_2(h)$$"
   ]
  },
  {
   "cell_type": "markdown",
   "metadata": {},
   "source": [
    "(Tu smo predpostavili, da sta $u$ in $v$ za dovolj majhne odmike $h_1,~h_2$ približno linearni. Ostanka $o_1(h), o_2(h)$ padata proti nič hitreje kot $h$, torej je $lim_{h \\to 0} o(h) / h = 0$)"
   ]
  },
  {
   "cell_type": "markdown",
   "metadata": {},
   "source": [
    "$$\\lim_{h \\to 0} \\left[ \\frac{f(z + h) - f(z)}{h} - (u_x(x, y) + iv_x(x, y)) \\right]$$\n",
    "$$= \\lim_{h \\to 0} \\left[ \\frac{u(x + h_1, y + h_2) + iv(x + h_1, y + h_2) - u(x, y) - v(x, y)}{h} - (u_x(x, y) + iv_x(x, y)) \\right]$$\n",
    "$$= \\lim_{h \\to 0} \\left[ \\frac{u_xh_1 + u_yh_2 + o_1(h) + i(v_xh_1 + v_yh_2 + o_2(h))}{h} - (u_x + iv_x) \\right]$$"
   ]
  },
  {
   "cell_type": "markdown",
   "metadata": {},
   "source": [
    "Upoštevamo Cauchy-Riemannovi identiteti:\n",
    "$$= \\lim_{h \\to 0} \\left[\\frac{u_xh_1 - v_xh_2 + iv_xh_1 + iu_xh_2}{h} + \\frac{o(h)}{h} - (u_x + iv_x)\\right]$$\n",
    "$$= \\lim_{h \\to 0} \\left[\\frac{u_x + iv_x}{h_1 + ih_2} + \\frac{o(h)}{h} - (u_x - iv_x)\\right]$$\n",
    "$$= \\lim_{h \\to 0} \\left[\\frac{(u_x + iv_x)h}{h} - (u_x + iv_x) + \\frac{o(h)}{h}\\right]$$\n",
    "$$= \\lim{h \\to 0}\\frac{o(h)}{h} = 0$$\n",
    "Ker to velja za nsako izbiro $h_1$ in $h_2$, je funkcija resnično odvedljiva in njen odvod je $u_x + iv_x$"
   ]
  },
  {
   "cell_type": "markdown",
   "metadata": {},
   "source": [
    "**Opomba:** Če je funkcija $\\fn{f}{U}{\\comp}$ odvedljiva v $z$, pravimo, da je $f$ holomorfna v $z$. $\\\\$\n",
    "Če je $\\fn{f}{\\comp}{\\comp}$ holomorfna v vseh točkah, pravimo, da je cela. $\\\\$\n",
    "Odvajanje funkcij, v katerih ne nastopa $\\overline{z}$ ali kaj podobnega, ima enaka pravila kot v realnih številih."
   ]
  },
  {
   "cell_type": "markdown",
   "metadata": {},
   "source": [
    "**Opomba:** $\\fn{f}{U}{\\comp}$ lahko gledamo kot preslikavo, odvisno od spremenljivk x, y. Uvedemo novi spremenljivki $$z = x + iy$$ $$\\overline z = x - iy$$"
   ]
  },
  {
   "cell_type": "markdown",
   "metadata": {},
   "source": [
    "Odvajamo po verižnem pravilu, in sicer:\n",
    "$$\\pd{f}{z} = \\pd{f}{x} \\cdot \\pd{x}{z} + \\pd{f}{y} \\cdot \\pd{y}{z}$$\n",
    "$$= (u_x + iv_v) \\cdot \\frac{1}{2} + (u_y + iv_y) \\cdot \\frac{1}{2i}$$"
   ]
  }
 ],
 "metadata": {
  "language_info": {
   "name": "python"
  }
 },
 "nbformat": 4,
 "nbformat_minor": 2
}
