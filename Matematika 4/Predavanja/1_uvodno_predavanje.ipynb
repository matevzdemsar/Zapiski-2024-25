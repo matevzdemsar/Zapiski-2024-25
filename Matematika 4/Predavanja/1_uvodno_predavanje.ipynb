{
 "cells": [
  {
   "cell_type": "markdown",
   "metadata": {},
   "source": [
    "$\\newcommand{\\vct}[1]{\\overrightarrow{#1}} \\\\\n",
    " \\newcommand{\\pd}[2]{\\frac{\\partial {#1}}{\\partial {#2}}} \\\\\n",
    " \\newcommand{\\wfint}[5]{\\int _{#1}^{#2} \\Psi _{#3}^* {#5} \\Psi _{#4} dx}$"
   ]
  },
  {
   "cell_type": "markdown",
   "metadata": {},
   "source": [
    "Ocenjevanje: Izpit iz vaj in izpit iz teorije, oba pisna, za pisni izpit iz vaj štejeta dva kolokvija, domače naloge = bonus točke."
   ]
  },
  {
   "cell_type": "markdown",
   "metadata": {},
   "source": [
    "Snov: $\\\\$\n",
    "- Kompleksna analiza (funkcije $\\mathbb{C} \\rightarrow \\mathbb{C}$) $\\\\$\n",
    "- Harmonične funkcije $\\\\$\n",
    "- Fourierova transformacija $\\\\$\n",
    "- Navadne diferencialne enačbe 2. reda\n",
    "- Besselova funkcija ipd.\n",
    "- Fizikalno uporabne parcialne diferencialne enačbe"
   ]
  },
  {
   "cell_type": "markdown",
   "metadata": {},
   "source": [
    "$\\textbf{Topologija kompleksne ravnine}$"
   ]
  },
  {
   "cell_type": "markdown",
   "metadata": {},
   "source": [
    "Topologija, vsaj za naše namene, pomeni to, kaj so odprte množice."
   ]
  },
  {
   "cell_type": "markdown",
   "metadata": {},
   "source": [
    "$\\mathbb{C} = \\{a + bi; a, b \\in \\mathbb{R}, i^2 = -1\\}$"
   ]
  },
  {
   "cell_type": "markdown",
   "metadata": {},
   "source": [
    "Na prvi pogled je $\\mathbb{C}$ malo podoben $\\mathbb{R}^2$"
   ]
  },
  {
   "cell_type": "markdown",
   "metadata": {},
   "source": [
    "Definiramo konjugirano kompleksno število in absolutno vrednost:\n",
    "$$\\overline{a + bi} = a - bi$$\n",
    "$$|a + bi| = |a - bi| = \\sqrt{(a + bi)(a - bi)} = \\sqrt{a^2 + b^2}$$\n",
    "Zadnji izraz je v bistvu Pitagorov izrek."
   ]
  },
  {
   "cell_type": "markdown",
   "metadata": {},
   "source": [
    "Naj bosta $z, w$ kompleksni števili:\n",
    "$$|z - w| = ... = \\sqrt{(a-c)^2 + (b-d)^2}$$\n",
    "S tem je definirana metrika na kompleksnih številih."
   ]
  },
  {
   "cell_type": "markdown",
   "metadata": {},
   "source": [
    "Oglejmo si okolice točk:\n",
    "$$D(a, r) = \\{z \\in \\mathbb{C}; |z-a| < r\\}$$\n",
    "Temu rečemo odprti krog okoli $a$."
   ]
  },
  {
   "cell_type": "markdown",
   "metadata": {},
   "source": [
    "Zaprti krog definiramo kot\n",
    "$$\\overline{D}(a, r) = \\{z \\in \\mathbb{C}; |z-a| \\leq r\\}$$"
   ]
  },
  {
   "cell_type": "markdown",
   "metadata": {},
   "source": [
    "Rob odprtega kroga pa označimo kot\n",
    "$$S(a, r) = \\{z \\in \\mathbb{C}; |z-a| = r\\}$$"
   ]
  },
  {
   "cell_type": "markdown",
   "metadata": {},
   "source": [
    "Definicija: U naj bo podmnožica v $\\mathbb{C}$. Pravimo, da je U odprta, če za vsak $a \\in U$ obstaja $r>0$, da je $D(a, r) \\sub U$"
   ]
  },
  {
   "cell_type": "markdown",
   "metadata": {},
   "source": [
    "Opomba: Velja ekvivalenca $\\\\$\n",
    "Množica U je odprta <=> U je unija vseh krogov, ki jih vsebuje\n",
    "(dokaz v bistvu sledi iz definicije)"
   ]
  },
  {
   "cell_type": "markdown",
   "metadata": {},
   "source": [
    "Definicija: Množica $Z \\sub \\mathbb{C}$ je odprta, če je njen komplement $\\mathbb{C} - Z$ odprta množica. $\\\\$\n",
    "Ekvivalentno lahko rečemo, da je množica odprta, če vsebuje svoje robne točke (točke $a$, za katere velja, da $D(a, r)$ vsebuje tako točke iz $Z$ kot tudi točke iz $\\mathbb{C} - Z$ za še tako majhen radij $r$)."
   ]
  },
  {
   "cell_type": "markdown",
   "metadata": {},
   "source": [
    "Definicija: Množica $A \\sub \\mathbb{C}$ je omejena, če obstaja tak $a \\in \\mathbb{C}$ in $r>0$, da je $A \\sub D(a, r)$"
   ]
  },
  {
   "cell_type": "markdown",
   "metadata": {},
   "source": [
    "V kompleksnih številih (in drugih polnih množicah) je množica kompaktna, če je omejena in zaprta."
   ]
  },
  {
   "cell_type": "markdown",
   "metadata": {},
   "source": [
    "Definicija: Bodi $a \\in \\mathbb{C}$, $A \\sub \\mathbb{C}$, $a \\in A$. $A$ je okolica $a$, če obstaja odprta množica U, ki vsebuje a in je podmnožica A."
   ]
  },
  {
   "cell_type": "markdown",
   "metadata": {},
   "source": [
    "Definicija: Naj bo $A \\sub \\mathbb{C}$. Pravimo, da je $A$ povezana, če ne obstajata odprti množici $U$ in $V$, ki bi imela neničelna preseka z A, med seboj pa ne bi imela preseka, in je A unija presekov (A in U) ter (A in V)"
   ]
  },
  {
   "cell_type": "markdown",
   "metadata": {},
   "source": [
    "Intuitivno to pomeni, da A ni sestavljena iz dveh kosov, ki med seboj nimata preseka."
   ]
  },
  {
   "cell_type": "markdown",
   "metadata": {},
   "source": [
    "$\\textbf{Zveznost funkcij} \\\\$\n",
    "Bodi $X \\subseteq \\mathbb{C},~f: X \\rightarrow \\mathbb{C}$. $f$ je zvezna, če $\\forall \\varepsilon > 0 ~ \\exists \\delta > 0:~|z - a| < \\delta => |f(z) - f(a)| < \\varepsilon$"
   ]
  },
  {
   "cell_type": "markdown",
   "metadata": {},
   "source": [
    "Za DN lahko dokažeš tudi, da velja $f:X \\rightarrow \\mathbb{C}$ je zvezna, če in samo če je praslika vsake odprte množice v $\\mathbb{C}$ odprta v X."
   ]
  },
  {
   "cell_type": "markdown",
   "metadata": {},
   "source": [
    "Trditev: Naj bo $f:X \\rightarrow \\mathbb{C}$ zvezna in $A\\subseteq X$ povezana množica. Tedaj je tudi $f(A) povezana.$"
   ]
  },
  {
   "cell_type": "markdown",
   "metadata": {},
   "source": [
    "Dokaz: (ideja dokaza) Recimo, da f(A) ni povezana. Tedaj obstajata odprti U, V, za katera velja:\n",
    "$$f(A) = (U \\cap f(A)) \\cup (V \\cap f(A))$$"
   ]
  },
  {
   "cell_type": "markdown",
   "metadata": {},
   "source": [
    "Označimo $U' = f^{-1}(U)$ in $V' = f^{-1}(V)$. U', V' sta odprti, ker je $f$ zvezna. Pokazati moramo le, da je $$A = (U \\cap A) \\cup (V \\cap A)$$"
   ]
  },
  {
   "cell_type": "markdown",
   "metadata": {},
   "source": [
    "Podrobnega dokaza ne bomo delali, vendar s tem pridemo do protislovja, saj smo predpostavili, da je A povezana."
   ]
  },
  {
   "cell_type": "markdown",
   "metadata": {},
   "source": [
    "Definicija: Območje je odprta povezana podmnožica v $\\mathbb{C}$"
   ]
  },
  {
   "cell_type": "markdown",
   "metadata": {},
   "source": [
    "Definicija: Naj bo $X \\subseteq \\mathbb{C},~a, b \\in X$. Pot med a, b je zvezna preslikava $$\\gamma: [\\alpha, \\beta] \\rightarrow X,~\\gamma (\\alpha) = a,~\\gamma (\\beta) = b$$"
   ]
  },
  {
   "cell_type": "markdown",
   "metadata": {},
   "source": [
    "Definicija: Množica je povezana s potmi, če za poljubni točki $a,\\,b$ obstaja pot med njima ($\\gamma$, definirana kot prej), ki je v celoti znotraj množice (torej za je za $\\forall t \\in [\\alpha, \\beta]: \\gamma (t) \\in X$)."
   ]
  },
  {
   "cell_type": "markdown",
   "metadata": {},
   "source": [
    "Opomba: ker je $\\gamma (t)$ komplektno število, lahko pot predstavimo kot par dveh realnih funkcij:\n",
    "$$\\gamma(t) = \\gamma _1 (t) + i \\gamma _2 (t)$$\n",
    "Hitro se vidi, da je $\\gamma$ zvezna, če in samo če sta tudi $\\gamma _1$ in $\\gamma _2$ zvezni. (Dokažemo lahko z implikacijo v obe smeri)"
   ]
  },
  {
   "cell_type": "markdown",
   "metadata": {},
   "source": [
    "Običajno zahtevamo, da je $\\gamma$ poljubnokrat odvedljiva (gladka). Označimo $\\dot{\\gamma} (t) = \\dot{\\gamma}_1 (t) + i\\dot{\\gamma}_2 (t)$"
   ]
  },
  {
   "cell_type": "markdown",
   "metadata": {},
   "source": [
    "Lahko pa se zadovoljimo tudi s tem, da je odsekoma gladka, torej da je točk, v katerih je neodvedljiva, končno mnogo."
   ]
  },
  {
   "cell_type": "markdown",
   "metadata": {},
   "source": [
    "Ker je $\\gamma$ zaprta, v robnih točkah ne moremo zahtevati odvoda, temveč lahko zahtevamo le obstoj desnega in levega odvoda."
   ]
  },
  {
   "cell_type": "markdown",
   "metadata": {},
   "source": [
    "Včasih bomo predpostavili tudi, da je pot regularna, torej $\\dot{\\gamma} (t) \\neq 0$"
   ]
  },
  {
   "cell_type": "markdown",
   "metadata": {},
   "source": [
    "Namesto $[\\alpha, \\beta]$ bomo pogosto pisali kar [0, 1]. Seveda lahko za vsak $\\alpha$ in $\\beta$ poiščemo bijekcijo v [0, 1], tako da s tem nismo naredili nobene škode."
   ]
  },
  {
   "cell_type": "markdown",
   "metadata": {},
   "source": [
    "$\\textbf{Zgled.}$ Množica, ki je povezana, ni pa povezana s potmi. Definiramo funkcijo $$f(x) = \\sin (\\pi / x),~x \\in [0, 1]$$"
   ]
  },
  {
   "cell_type": "markdown",
   "metadata": {},
   "source": [
    "Periode sinusa v limiti $x \\rightarrow 0$ lezejo vedno bolj skupaj. Množico A definiramo kot\n",
    "$$A = \\Gamma _f \\cup \\{(x, y) \\in \\mathbb{R}^2; x = 0\\}$$"
   ]
  },
  {
   "cell_type": "markdown",
   "metadata": {},
   "source": [
    "Če izberemo npr. $a = (1, 0)$ in $b = (0, 1)$, ju ne moremo povezati s potmi. Hkrati ne moremo najti takih odprtih množic, ki bi množico A ločila na dva dela, torej je A povezana. Eksaktnega dokaza ne bomo delali. Za DN lahko dokažemo, da je A povezana, če je povezana s potmi."
   ]
  }
 ],
 "metadata": {
  "language_info": {
   "name": "python"
  }
 },
 "nbformat": 4,
 "nbformat_minor": 2
}
