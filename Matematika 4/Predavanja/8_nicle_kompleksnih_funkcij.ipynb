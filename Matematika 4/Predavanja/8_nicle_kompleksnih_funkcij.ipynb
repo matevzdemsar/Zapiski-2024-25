{
 "cells": [
  {
   "cell_type": "markdown",
   "metadata": {},
   "source": [
    "$\\newcommand{\\vct}[1]{\\overrightarrow{#1}}$\n",
    "$\\newcommand{\\pd}[2]{\\frac{\\partial {#1}}{\\partial {#2}}}$\n",
    "$\\newcommand{\\wfint}[5]{\\int _{#1}^{#2} \\Psi _{#3}^* {#5} \\Psi _{#4} dx}$\n",
    "$\\newcommand{\\comp}{\\mathbb{C}}$\n",
    "$\\newcommand{\\fn}[3]{{#1}: {#2} \\rightarrow {#3}}$\n",
    "$\\newcommand{\\matrix}[1]{\\begin{bmatrix}{#1}\\end{bmatrix}}$\n",
    "$\\newcommand{\\avg}[1]{\\langle {#1} \\rangle}$\n",
    "**Ničle kompleksnih funkcij**"
   ]
  },
  {
   "cell_type": "markdown",
   "metadata": {},
   "source": [
    "Bodi $\\fn{f}{\\mathcal{D}}{\\comp}$ holomorfna ter nekonstantna in $a \\in \\mathcal{D}$ taka točka, da je $f(a) = 0$. Na $D(a, r)$ razvijemo $f$ v potenčno vrsto okoli $a$:\n",
    "$$f(z) = \\sum_{n=0}^{\\infty} a_n(z-a)^n = (z-a)^m g(z),~\\,g(a) \\neq 0$$"
   ]
  },
  {
   "cell_type": "markdown",
   "metadata": {},
   "source": [
    "Ker je $f$ holomorfna, je $g$ holomorfna in potemtakem zvezna. Zato obstaja neka okolica $a$, na kateri $g$ (in posledično $f$) nima ničle."
   ]
  },
  {
   "cell_type": "markdown",
   "metadata": {},
   "source": [
    "Sledi: Če je $a$ ničla holomorfne funkcije, potem obstaja neka okolica $a$, v kateri ni nobene druge ničle."
   ]
  },
  {
   "cell_type": "markdown",
   "metadata": {},
   "source": [
    "Konstruirajmo funkcijo $$h(z) = \\begin{cases}\\frac{f(z)}{(z-a)^m} & z \\neq a,~z \\in \\mathcal{D} \\\\ a_m & z=a\\end{cases}$$"
   ]
  },
  {
   "cell_type": "markdown",
   "metadata": {},
   "source": [
    "**Definicija:** Bodi $\\mathcal{A}$ množica kompleksnih števil. Točka $a$ je stekališče množice $\\mathcal{A}$, če v vsaki okolici $a$ najdemo vsaj en element množice $\\mathcal{A}$, ki ni enak $a$."
   ]
  },
  {
   "cell_type": "markdown",
   "metadata": {},
   "source": [
    "**Izrek:** Bodi $\\mathcal{D}$ območje, $\\fn{f}{\\mathcal{D}}{\\comp}$ holomorfna in naj bo $Z_f$ množica vseh ničel funkcije $f$. Tedaj velja ena od dveh trditev:\n",
    "- $f=0$\n",
    "- $Z_f$ nima stekališč in za vsak $a \\in Z_f$ obstaja $m$ (odvisen od $a$), da je $f(z) = (z-a)^m\\, h(z)~\\text{pri čemer } h(z) \\neq 0~\\forall z \\in \\mathcal{D}$"
   ]
  },
  {
   "cell_type": "markdown",
   "metadata": {},
   "source": [
    "**Dokaz:** Naj bo $\\mathcal{A}$ množica stekališč množice $Z_f$.\n",
    "1. Če je $\\mathcal{A} = \\emptyset$, so ničle izolirane točke in velja druga možnost.\n",
    "2. Če $\\mathcal{A} \\neq \\emptyset$, v vsaki okolici neke točke $a$ obstaja najdemo vsaj eno ničlo $f$. Zaradi zveznosti mora biti tedaj tudi $a$ ničla."
   ]
  },
  {
   "cell_type": "markdown",
   "metadata": {},
   "source": [
    "Predpostavimo, da je $f$ neničelna (torej nekonstantna). Dokazali bomo, da je $\\mathcal{A}$ hkrati odprta in zaprta množica. Ko to dokažemo, bomo lahko zapisali $\\mathcal{D} = \\mathcal{A} \\cup \\mathcal{A}^c$. Ker je množica $\\mathcal{D}$ povezana, ne sme biti unija dveh disjunktnih zaprtih množic, razen, če je ena od njiju prazna.\n",
    "- Dokažimo, da je $\\mathcal{A}$ zaprta. Če vzamemo zaporedje stekališč $\\mathcal{A}$, zaradi zveznosti $f$ sledi, da je stekališče tega tudi stekališče.\n",
    "- Zdaj dokažimo, da je $\\mathcal{A}$ odprta. Če vzamemo neki $a \\in \\mathcal{A}$. Ker je $\\mathcal{D}$ odprta, okoli $a$ obstaja $D(a, r) \\subset \\mathcal{D}$. Za $z \\in D(a, r)$ moramo dokazati, da je $f(z) = 0$. To storimo s protislovjem - predpostavimo, da ni. Tedaj lahko zapišemo $\\displaystyle{f(z) = (z-a)^m g(z) ~\\, g \\neq 0}$, in zaradi zveznosti $f$ obstaja $D(a, r_1) \\subset D(a, r)$, na katerem $f$ nima ničle. Ker naj bi bila $a$ stekališče množice ničel, bi morala vedno obstajati okolica $a$, na kateri je vsaj ena ničla, torej smo dobili protislovje. Naša predpostavka, torej da $D(a, r) \\nsubseteq \\mathcal{A}$, je bila torej napačna, torej je $\\mathcal{A}$ odprta. $\\square$"
   ]
  },
  {
   "cell_type": "markdown",
   "metadata": {},
   "source": [
    "**Posledica:** Bodi $\\mathcal{D}$ območje in $\\mathcal{B} \\subseteq \\mathcal{D}$ množica s stekališčem v $\\mathcal{D}$. Naj bosta $\\fn{f, g}{\\mathcal{D}}{\\comp}$ holomorfni in naj velja $$f\\big|_{\\mathcal{B}} = g\\big|_{\\mathcal{B}}$$\n",
    "Potem je $f \\equiv g$ na $\\mathcal{D}$."
   ]
  },
  {
   "cell_type": "markdown",
   "metadata": {},
   "source": [
    "**Dokaz:** $(f-g)\\big|_{\\mathcal{B}} \\equiv 0$. Za množico ničel $(f-g)$ mora po prejšnjem izreku veljati, da bodisi nima stekališč, bodisi pa je enaka $0$ na celem definicijskem območju. Ker ima po predpostavki stekališče na podmnožici $\\mathcal{B}$, je $(f-g) \\equiv 0$ na celotnem $\\mathcal{D}. ~\\square$"
   ]
  },
  {
   "cell_type": "markdown",
   "metadata": {},
   "source": [
    "**Posledica:** Recimo, da je $\\mathcal{D}$ območje, $\\fn{f}{\\mathcal{D}}{\\comp}$ holomorfna in $f \\neq 0$. Poleg tega naj bo $\\mathcal{K}$ kompaktna podmnožica v $\\mathcal{D}$. Potem ima $f$ na $\\mathcal{K}$ končno mnogo ničel, na $\\mathcal{D}$ pa kvečjemo števno neskončno."
   ]
  },
  {
   "cell_type": "markdown",
   "metadata": {},
   "source": [
    "**Dokaz:** Obravnavamo $K \\cap Z_f$. Če je to neskončna množica, ima zaradi kompaktnosti stekališče. Če ima $Z_f$ stekališče, pa mora biti $f \\equiv 0$. Drugega dela trditve ne bomo dokazovali. (Verjetno bi se dalo pokazati, da se da $\\mathcal{D}$ sestaviti iz števno neskončno kompaktnih območij?)"
   ]
  },
  {
   "cell_type": "markdown",
   "metadata": {},
   "source": [
    "**Razvoj v Laurentovo vrsto:** (izg. Lauronovo) Če je $f$ holomorfna na okolici $D(a, r)$, jo lahko na $D(a, r)$ razvijemo v potenčno vrsto.\n",
    "Splošneje: Recimo, da je $f$ holomorfna na okolici kolobarja\n",
    "$$\\overline{A}(a, r, R) = \\{z \\in \\comp; r \\leq |z-a| \\leq R\\}$$"
   ]
  },
  {
   "cell_type": "markdown",
   "metadata": {},
   "source": [
    "**Izrek:** Naj bo $f$ holomorfna v okolici takšnega kolobarja $\\overline{A}$. Potem lahko za vsak $z \\in A(a, r, R)$ zapišemo $f$ kot\n",
    "$$f(z) = \\sum_{-\\infty}^{\\infty} c_n(z-a)^n = \\sum_{-\\infty}^{-1}c_n(z-a)^n + \\sum_{0}^{\\infty} c_n(z-a)^n$$"
   ]
  },
  {
   "cell_type": "markdown",
   "metadata": {},
   "source": [
    "Prvemu delu vrste rečemo glavni del, drugemu pa regularni del. Notranji rob kolobarja označimo z $\\gamma _1$, zunanji pa z $\\gamma _2$, in označimo, da imata različno orientacijo."
   ]
  },
  {
   "cell_type": "markdown",
   "metadata": {},
   "source": [
    "Za $n \\geq 0$: $$c_n = \\frac{1}{2 \\pi i}\\int_{\\gamma _2}\\frac{f(\\zeta)}{(\\zeta - a)^{n+1}}d\\zeta$$\n",
    "Za $n \\lt 0$: $$c_n = \\frac{1}{2 \\pi i}\\int_{\\gamma _1}\\frac{f(\\zeta)}{(\\zeta - a)^{n+1}}d\\zeta$$\n",
    "Glavni del konvergira za $|z-a| \\gt r$, regularni del konvergira za $|z-a| \\lt R$."
   ]
  },
  {
   "cell_type": "markdown",
   "metadata": {},
   "source": [
    "**Dokaz:** Uporabimo Cauchyjevo formulo za območja.\n",
    "$$f(z) = \\frac{1}{2 \\pi i}\\int_{\\partial A} \\frac{f(\\zeta)}{\\zeta - z}d\\zeta$$\n",
    "$$= \\frac{1}{2 \\pi i} \\int_{\\gamma _2}\\frac{f(\\zeta)}{\\zeta - z}d\\zeta - \\frac{1}{2 \\pi i} \\int_{\\gamma _1}\\frac{f(\\zeta)}{\\zeta - z}d\\zeta$$\n",
    "$$= \\frac{1}{2 \\pi i} \\int_{\\gamma _2}\\frac{f(\\zeta)}{\\zeta - a + a - z}d\\zeta - \\frac{1}{2 \\pi i} \\int_{\\gamma _1}\\frac{f(\\zeta)}{\\zeta - a + a - z}d\\zeta$$\n",
    "$$= \\frac{1}{2 \\pi i} \\int_{\\gamma _2}\\frac{f(\\zeta)}{(\\zeta - a)(1 - \\frac{z-a}{\\zeta - a})}d\\zeta - \\frac{1}{2 \\pi i} \\int_{\\gamma _1}\\frac{f(\\zeta)}{(z - a)(-1)(1 - \\frac{\\zeta-a}{z - a})}d\\zeta$$\n",
    "Pričakujemo, da je $\\displaystyle{\\left|\\frac{z-a}{\\zeta-a}\\right| \\lt 1}$, če je $\\zeta$ na $\\gamma _2$, in $\\displaystyle{\\left|\\frac{\\zeta-a}{z-a}\\right| \\lt 1}$, če je $\\zeta$ na $\\gamma _1$\n"
   ]
  },
  {
   "cell_type": "markdown",
   "metadata": {},
   "source": [
    "Vemo: $\\displaystyle{\\frac{1}{1-q} = \\sum_{n=0}^{\\infty} q^n}$, zato ta člen nadomestimo z vrsto.\n",
    "$$= \\frac{1}{2 \\pi i}\\int_{\\gamma _2}\\frac{f(\\zeta)}{(\\zeta - a)}\\sum_{n=0}^{\\infty}\\left(\\frac{z-a}{\\zeta - a}\\right)^n d\\zeta + \\frac{1}{2 \\pi i}\\int_{\\gamma _1}\\frac{f(\\zeta)}{(z - a)}\\sum_{n=0}^{\\infty}\\left(\\frac{\\zeta-a}{z - a}\\right)^n d\\zeta$$"
   ]
  },
  {
   "cell_type": "markdown",
   "metadata": {},
   "source": [
    "Vrsti konvergirata enakomerno (pokažemo z Weierstrassovim kriterijem ali čim podobnim), zato lahko zamenjamo vrstni red vsote in integrala:\n",
    "$$= \\sum_{n=0}^{\\infty}\\left(\\frac{1}{2\\pi i}\\int_{\\gamma _2} \\frac{f(\\zeta)}{(\\zeta - a)^{n+1}}d\\zeta\\right)(z-a)^n + \\sum_{n=0}^{\\infty}\\left(\\frac{1}{2\\pi i}\\int_{\\gamma _1}f(\\zeta)(\\zeta - a)^n d\\zeta\\right)(z - a)^{-n-1}$$"
   ]
  },
  {
   "cell_type": "markdown",
   "metadata": {},
   "source": [
    "V drugi vsoti $n$ nadomestimo z $-n-1$ in dobimo željeni rezultat. $~\\square$"
   ]
  },
  {
   "cell_type": "markdown",
   "metadata": {},
   "source": [
    "**Opomba:** Naj bo $f$ holomorfna na $\\mathcal{D}\\setminus\\{a\\}$. Formuli za $c_n$ sta neodvisni od izbire $\\gamma _1$ in $\\gamma _2$, torej lahko poskrbimo, da bo izbira krožnic poljubno majhna. Pravimo, da je $a$ izolirana singularnost. $f$ v tem primeru lahko razvijemo v Laurentovo vrsto na $D'(a, r) = D(a, r) \\setminus {a}$"
   ]
  },
  {
   "cell_type": "markdown",
   "metadata": {},
   "source": [
    "(Takemu $D'(a, r)$ pravimo punktiran disk)."
   ]
  }
 ],
 "metadata": {
  "language_info": {
   "name": "python"
  }
 },
 "nbformat": 4,
 "nbformat_minor": 2
}
