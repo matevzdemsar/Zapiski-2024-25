{
 "cells": [
  {
   "cell_type": "markdown",
   "metadata": {},
   "source": [
    "Na prejšnjem predavanju smo prišli do relacije\n",
    "$$\\Big| \\frac{f(z) - f(w)}{z - w} - g(z) \\Big| \\rightarrow 0,~\\text{ko gre } w \\to z,$$\n",
    "ki smo jo želeli dokazati. Zapišemo $f$ in $g$ kot potenčni vrsti (zaradi asociativnosti seštevanja lahko vse združimo v eno vsoto)"
   ]
  },
  {
   "cell_type": "markdown",
   "metadata": {},
   "source": [
    "$$\\Big|\\sum_{n=0}^\\infty\\ \\left(a_n \\frac{w^n - z^n}{w - z} - na_nz^{n-1} \\right)\\Big| =$$\n",
    "$$= \\Big|\\sum_{n=0}^{\\infty} a_n \\left(w^{n-1} + w^{n-2}z + ... + wz^{n-2} + z^{n - 1} - nz^{n-1} \\right)\\Big|$$\n",
    "$- nz^{n-1}$ lahko zapišemo kot $- z^{n-1} - z^{n-1} - ... - z^{n-1}$. Torej od vsakega od prvih $n$ členov v oklepaju odštejemo $z^{n-1}$"
   ]
  },
  {
   "cell_type": "markdown",
   "metadata": {},
   "source": [
    "$$=  \\Big|\\sum_{n=0}^{\\infty} a_n \\left([w^{n-1} - z^{n-1}] + [zw^{n-2} - z^{n-1}] + ... + [wz^{n-1} - z^{n-1}] + [z^{n-1} - z^{n-1}]\\right) \\Big|$$\n",
    "Iz vsakega kvadratnega oklepaja izpostavimo $z$ na najvišjo skupno potenco, nato izpostavimo še $w - z$.\n",
    "$$= \\Big|(w - z) \\sum_{n=0}^{\\infty} a_n ($$\n",
    "$$(w^{n-2} + w^{n-3}z + ... + z^{n-2})$$\n",
    "$$+ z(w^{n-3} + w^{n-4}z + ... + z^{n-3})$$\n",
    "$$+ z^2(w^{n-4} + w^{n-5}z + ... + z^{n-4})$$\n",
    "$$+ ... +$$\n",
    "$$+ z^{n-2}(w-z))\\Big|$$"
   ]
  },
  {
   "cell_type": "markdown",
   "metadata": {},
   "source": [
    "Zadevo seštejemo:\n",
    "$$= \\Big|(w-z) \\sum_{n=0}^{\\infty} a_n (w^{n-2} + 2w^{n-3}z + 3w^{n-4}z^2 + ... + (n-1)z^{n-2})\\Big|$$\n",
    "Upoštevamo trikotniško neenakost, upoštevamo dejstvo, da sta tako $|w|$ in $|z|$ manjša od konvergenčnega radija $\\rho$.\n",
    "$$\\leq |w-z|\\sum_{n=0}^{\\infty}|a_n| (\\rho^{n-2} + 2\\rho^{n-2} + 3\\rho^{n-2} + ... + (n-1)\\rho^{n-2})$$\n",
    "$$= |w-z|\\sum_{n=0}^{\\infty} |a_n|\\rho^{n-2}(1 + 2 + 3 + ... + (n-1))$$\n",
    "Opazimo vsoto prvih $n$ naravnih števil.\n",
    "$$= |w-z| \\sum_{n=0}^{\\infty} \\frac{n(n-1)}{2}|a_n|\\rho^{n-2}$$\n",
    "Dokazali smo že, da imata vrsti $\\sum_{n=0}^{\\infty} a_n t^n$ in $\\sum_{n=0}{\\infty} na_n t^{n-1}$ enak konvergenčni radij.\n",
    "Na enak način pokažemo, da ima tudi $\\sum_{n=0}{\\infty} n(n-1)a_n t^{n-2}$ tak konvergenčni radij. Sledi:\n",
    "$$\\sum_{n=0}^{\\infty} |a_n|n(n-1)\\rho^{n-2} = M < \\infty$$\n",
    "$$\\Big| \\frac{f(z) - f(w)}{z - w} - g(z) \\Big| \\leq \\frac{M}{2} |w-z|$$\n",
    "V limiti $w \\to z$ gre zgornji izraz proti 0."
   ]
  },
  {
   "cell_type": "markdown",
   "metadata": {},
   "source": [
    "**Posledica:** Naj bo $\\displaystyle{f(z) = \\sum_{n=0}^{\\infty} a_n (z-\\alpha)^n}$ in $R$ njen konvergenčni radij. Tedaj je $f(z)$ neskončnokrat odvedljiva na $D(\\alpha, R)$ (odvajamo lahko členoma) in velja\n",
    "$$a_n = \\frac{f^{(n)}(\\alpha)}{n!}$$"
   ]
  },
  {
   "cell_type": "markdown",
   "metadata": {},
   "source": [
    "**Skica dokaza:** Indukcija:\n",
    "- $f(\\alpha) = a_0$, sledi $a_0 = \\frac{f^(0)(\\alpha)}{0!} = f(\\alpha)$\n",
    "- $f'(z) = \\sum_{n=0}^\\infty na_n(z-\\alpha)^{n-1}$\n",
    "- $f'(\\alpha) = 1 \\cdot a_1$, sledi $a_1 = \\frac{f'(\\alpha)}{1!}$\n",
    "- $f''(z) = \\sum_{n=0}^\\infty n(n-1)a_n(z-\\alpha)^{n-2}$\n",
    "- $f''(\\alpha) = 2(2-1)a_2 = 2a_2$, sledi $a_2 = \\frac{f''(\\alpha)}{2!} \\\\$\n",
    "In tako naprej."
   ]
  },
  {
   "cell_type": "markdown",
   "metadata": {},
   "source": [
    "Tako lahko definiramo $\\displaystyle{e^z = \\sum_{n=0}^{\\infty} \\frac{z^n}{n!}}$. Izračunamo lahko, da je njen konvergenčni radij $\\infty$, zato je po izreku $e^z$ holomorfna na $\\comp$, členoma lahko odvajamo in dobimo $(e^z)' = e^z$."
   ]
  },
  {
   "cell_type": "markdown",
   "metadata": {},
   "source": [
    "S pomočjo $e^z$ lahko definiramo tudi druge funkcije:\n",
    "$$\\cosh(z) = \\frac{e^z + e^{-z}}{2}$$\n",
    "$$\\sinh(z) = \\frac{e^z - e^{-z}}{2}$$\n",
    "$$\\sin(z) = \\frac{e^{iz} + e^{-iz}}{2}$$\n",
    "$$\\sin(z) = \\frac{e^{iz} - e^{-iz}}{2}$$"
   ]
  },
  {
   "cell_type": "markdown",
   "metadata": {},
   "source": [
    "Opazimo: $\\cos z + i\\sin z \\equiv e^{iz} ~ \\forall z \\in \\comp$"
   ]
  },
  {
   "cell_type": "markdown",
   "metadata": {},
   "source": [
    "Druge prijetne lastnosti eksponentne funkcije (velja za vsak $z \\in \\comp$):\n",
    "- $e^z e^w = e^{z + w} \\\\$\n",
    "(dokažemo lahko z množenjem potenčnih vrst, vendar ne na predavanju, ker bi predolgo trajalo)\n",
    "- $e^z e^{-z} = e^0 = 1$\n",
    "- $e^z \\neq 0$\n",
    "- $|e^z| = |e^{x+iy}| = e^x|e^{iy}| = e^x = e^{\\mathfrak{R}\\mathfrak{e}z}$\n",
    "- $e^z = 1$ <=> $z = i \\cdot 2\\pi k,~k\\in \\mathbb{N}$\n",
    "- $e^z = e^w$ <=> $z-w = i \\cdot 2\\pi k,~k\\in \\mathbb{N} \\\\$ (dokaz: $e^z = e^w$ na obeh straneh množimo z $e^{-w}$)"
   ]
  },
  {
   "cell_type": "markdown",
   "metadata": {},
   "source": [
    "**Integracija kompleksnih funkcij**"
   ]
  },
  {
   "cell_type": "markdown",
   "metadata": {},
   "source": [
    "Poseben primer: $\\fn{f}{[a, b]}{\\comp} \\\\$\n",
    "$f(t) = u(t) + iv(t), ~\\fn{u, v}{[a, b]}{\\mathbb{R}} \\\\$\n",
    "V tem primeru je stvar preprosta, dokler sta funkciji $u(t)$ in $v(t)$ integrabilni (zahtevamo lahko, da sta zvezni).\n",
    "Definiramo $$\\int_{a}^{b} f(t)dt = \\int_{a}^{b} u(t)dt + i\\int_{a}^{b} v(t)dt $$"
   ]
  },
  {
   "cell_type": "markdown",
   "metadata": {},
   "source": [
    "Opomba: Tak integral lahko definiramo tudi preko Riemannovih vsot. Stvar je popolnoma enaka kot v realnih številih."
   ]
  },
  {
   "cell_type": "markdown",
   "metadata": {},
   "source": [
    "**Trditev:** Če je $f$ integrabilna na [a, b], potem je\n",
    "$$\\Big|\\int_{a}^{b}f(t)dt\\Big| \\leq \\int_{a}^{b}|f(t)|dt$$\n",
    "Dokaz: Sledi iz definicije, še bolj intuitivno pa lahko stvar dokažemo z Riemannovo vsoto in trikotniško neenakostjo."
   ]
  },
  {
   "cell_type": "markdown",
   "metadata": {},
   "source": [
    "Naj bo sedaj $\\fn{\\gamma}{[a, b]}{\\comp}$ zvezno odvedljiva pot in naj bo $U$ območje, ki vsebuje cel tir poti $\\gamma$."
   ]
  },
  {
   "cell_type": "markdown",
   "metadata": {},
   "source": [
    "**Definicija:** Integral kompleksne funkcije po taki poti $\\gamma$ definiramo kot:\n",
    "$$\\int_{\\gamma} f(z)dz = \\int_{a}^{b} f(\\gamma (t)) \\dot{\\gamma}(t) dt$$"
   ]
  },
  {
   "cell_type": "markdown",
   "metadata": {},
   "source": [
    "Opomba: Če je $\\gamma$ odsekoma zvezno odvedljiva, jo razdelimo na zvezne dele in integriramo po posameznih delih. Natančneje bomo o tem govorili naslednjič, v osnovi pa gre za integral $$\\int_{\\gamma} f(z) dz = \\int_{\\gamma _1}f(z)dz + \\int_{\\gamma _2}f(z)dz + ...$$"
   ]
  },
  {
   "cell_type": "markdown",
   "metadata": {},
   "source": []
  }
 ],
 "metadata": {
  "language_info": {
   "name": "python"
  }
 },
 "nbformat": 4,
 "nbformat_minor": 2
}
