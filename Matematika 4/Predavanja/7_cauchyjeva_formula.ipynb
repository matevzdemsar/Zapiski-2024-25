{
 "cells": [
  {
   "cell_type": "markdown",
   "metadata": {},
   "source": [
    "$\\newcommand{\\vct}[1]{\\overrightarrow{#1}}$\n",
    "$\\newcommand{\\pd}[2]{\\frac{\\partial {#1}}{\\partial {#2}}}$\n",
    "$\\newcommand{\\wfint}[5]{\\int _{#1}^{#2} \\Psi _{#3}^* {#5} \\Psi _{#4} dx}$\n",
    "$\\newcommand{\\comp}{\\mathbb{C}}$\n",
    "$\\newcommand{\\fn}[3]{{#1}: {#2} \\rightarrow {#3}}$\n",
    "$\\newcommand{\\matrix}[1]{\\begin{bmatrix}{#1}\\end{bmatrix}}$\n",
    "$\\newcommand{\\avg}[1]{\\langle {#1} \\rangle}$"
   ]
  },
  {
   "cell_type": "markdown",
   "metadata": {},
   "source": [
    "**Primer:** Obravnavajmo funkcijo $\\displaystyle{f(z) = \\frac{1}{z}}$ na $D(0, 1)\\backslash\\{0\\}$. Naj bo $\\gamma$ rob tega kroga."
   ]
  },
  {
   "cell_type": "markdown",
   "metadata": {},
   "source": [
    "$\\text{ind}_\\gamma 0 = 1$, saj $\\gamma$ natanko enkrat obkroži točko 0 (to naj bi bila neuradna definicija indeksa?). Pri Cauchyjevem izreku smo zahtevali, da mora biti $\\text{ind}_\\gamma w = 0$ za vsak $w$ izven definicijskega območja. V našem primeru bi bil $$\\int_{\\gamma} f(z) dz = \\int_{0}^{2\\pi} \\frac{1}{e^{it}}\\cdot ie^{it}dt = 2\\pi i \\neq 0,$$\n",
    "torej Cauchylev izrek ne velja."
   ]
  },
  {
   "cell_type": "markdown",
   "metadata": {},
   "source": [
    "**Posledica: Cauchyjev izrek za območja** $\\\\$\n",
    "Bodi $D$ območje, U pa odprta množica, za katero velja\n",
    "$$D \\cup \\partial D \\subseteq U$$\n",
    "Poleg tega naj bo $f$ holomorfna na U. Tedaj je $$\\int_{\\partial D} f(z)dz = 0$$\n",
    "To velja tudi, če je rob sestavljen tudi iz več sklenjenih poti."
   ]
  },
  {
   "cell_type": "markdown",
   "metadata": {},
   "source": [
    "**Dokaz:** $\\partial D$ lahko prevedemo na sklenjeno pot v $U$ (hodimo po zunanjem robu, na vsake toliko gremo po notranjosti množice do \"lukenj\", jih obkrožimo in gremo nazaj ven), za katero predpostavka Cauchyjevega izreka velja. Nato enostavno uporabimo Cauchyjev izrek.  "
   ]
  },
  {
   "cell_type": "markdown",
   "metadata": {},
   "source": [
    "**Izrek: Cauchyjeva formula** Bodi $D$ odprta množica, $\\fn{f}{D}{\\comp}$ holomorfna in $\\gamma$ sklenjena pot v $D$. Za vsak $w \\in \\comp \\backslash D$ naj velja $\\text{ind}_\\gamma w = 0$. "
   ]
  },
  {
   "cell_type": "markdown",
   "metadata": {},
   "source": [
    "Potem za vsak $z \\in D$, ki ne leži na tiru poti $\\gamma$, velja\n",
    "$$f(z) \\text{ind}_\\gamma z = \\frac{1}{2\\ pi i} \\int_{\\gamma}\\frac{f(\\zeta)}{\\zeta^{-z}}d\\zeta$$"
   ]
  },
  {
   "cell_type": "markdown",
   "metadata": {},
   "source": [
    "**Dokaz:** Vzamemo $\\gamma _1$, ki naj bo krožnica z majhnim polmerom $r$ in središčem v $z$, tako da se $\\gamma$ in $\\gamma _1$ ne bosta sekali. Nato definirajmo\n",
    "$$g(\\zeta) = \\frac{f(\\zeta) - f(z)}{\\zeta - z}$$\n",
    "$g(\\zeta)$ je holomorfna na $D \\backslash \\{z\\}$"
   ]
  },
  {
   "cell_type": "markdown",
   "metadata": {},
   "source": [
    "Definirajmo še pot $\\gamma' = \\gamma \\cup \\gamma _1$, nato uporabimo Cauchyjev izrek za območja."
   ]
  },
  {
   "cell_type": "markdown",
   "metadata": {},
   "source": [
    "$$\\int_{\\gamma'} g(\\zeta) d\\zeta = 0$$\n",
    "$$\\int_{\\gamma}g(\\zeta) d\\zeta - \\int_{\\gamma _1}g(\\zeta)d\\zeta$$\n",
    "$$= \\int_{\\gamma} \\frac{f(\\zeta) - f(z)}{\\zeta - z}d\\zeta - \\int_{\\gamma _1} \\frac{f(\\zeta) - f(z)}{\\zeta - z}d\\zeta$$\n",
    "$$= \\int_{\\gamma} \\frac{f(\\zeta)}{\\zeta - z}d\\zeta - f(z)\\int_{\\gamma} \\frac{1}{\\zeta - z}d\\zeta - \\int_{\\gamma _1} \\frac{f(\\zeta) - f(z)}{\\zeta - z}d\\zeta$$"
   ]
  },
  {
   "cell_type": "markdown",
   "metadata": {},
   "source": [
    "Iz definicije indeksa vemo, da je $\\displaystyle{\\int_{\\gamma}\\frac{1}{\\zeta - z}d\\zeta = 2 \\pi i \\,\\text{ind}_\\gamma z}$"
   ]
  },
  {
   "cell_type": "markdown",
   "metadata": {},
   "source": [
    "$$\\int_{\\gamma} \\frac{f(\\zeta)}{\\zeta - z}d\\zeta = f(z) 2\\pi i \\, \\text{ind}_\\gamma z + \\int_{\\gamma _1} \\frac{f(\\zeta) - f(z)}{\\zeta - z} d\\zeta$$"
   ]
  },
  {
   "cell_type": "markdown",
   "metadata": {},
   "source": [
    "Z izjemo zadnjega člena je to željeni rezultat. Pokažemo še, da je v limiti $r \\to 0$ integral po $\\gamma _1$ enak 0. To naredimo tako, da parametriziramo $\\gamma _1$:"
   ]
  },
  {
   "cell_type": "markdown",
   "metadata": {},
   "source": [
    "$$\\left|\\int_{\\gamma_1}\\frac{f(\\zeta) - f(z)}{\\zeta - z} d \\zeta\\right| = \\left|\\int_{2\\pi}^{0} \\frac{f(z + re^{it}) - f(z)}{re^{it}}rie^{it}dt\\right| \\leq \\int_{2\\pi}^{0} \\left|f(z + re^{it}) - f(z)\\right|dt$$"
   ]
  },
  {
   "cell_type": "markdown",
   "metadata": {},
   "source": [
    "Ker je $f$ zvezna (posledica odvedljivosti), je zadnji integral pri dovolj majhnem $r$ poljubno majhen, v limiti $r \\to 0$ je torej enak 0. \n",
    "$~\\square$"
   ]
  },
  {
   "cell_type": "markdown",
   "metadata": {},
   "source": [
    "**Posledica: Cauchyjeva formula za območja** Če je $\\fn{f}{U}{\\comp}$ holomorfna in $z \\in D \\backslash \\partial D$, je $$f(z) = \\frac{1}{2\\pi i} \\int_{\\partial D} \\frac{f(\\zeta)}{\\zeta - z}d\\zeta$$"
   ]
  },
  {
   "cell_type": "markdown",
   "metadata": {},
   "source": [
    "In hkrati $$f^{(n)}(z) = \\frac{n!}{2\\pi i} \\int_{\\partial D}\\frac{f(\\zeta)}{(\\zeta - z)^{n+1}}d\\zeta$$"
   ]
  },
  {
   "cell_type": "markdown",
   "metadata": {},
   "source": [
    "**Dokaz:** Sledi iz Cauchyjeve formule pri $\\text{ind}_\\gamma(z) = 1$, formulo za $f^{(n)}$ pa dobimo z odvajanjem integrala s parametrom."
   ]
  },
  {
   "cell_type": "markdown",
   "metadata": {},
   "source": [
    "Posledica je, da je vsaka holomorfna funkcija neskončnokrat odvedljiva."
   ]
  },
  {
   "cell_type": "markdown",
   "metadata": {},
   "source": [
    "**Izrek:** Bodi $D$ odprta množica in $\\fn{f}{D}{\\comp}$ holomorfna. Potem se da $f(z)$ na vsakem krogu $D(a, r)$, ki leži znotraj $D$, razviti v potenčno vrsto\n",
    "$$f(z) = \\sum_{n=0}^{\\infty} a_n(z-a)^n,$$\n",
    "pri čemer je $$a_n = \\frac{f^{(n)}(a)}{n!} = \\frac{1}{2 \\pi i} \\int_{\\gamma}\\frac{f(\\zeta)}{(\\zeta - a)^{n+1}}d\\zeta$$\n",
    "kjer je $\\gamma$ lahko krožnica s središčem v $a$ in polmerom $\\rho \\lt r$"
   ]
  },
  {
   "cell_type": "markdown",
   "metadata": {},
   "source": [
    "**Dokaz** smo bolj ali manj že opravili pri prejšnjem predavanju."
   ]
  },
  {
   "cell_type": "markdown",
   "metadata": {},
   "source": [
    "**Izrek: Cauchyjeva ocena** Bodi $\\fn{f}{D(a, r)}{\\comp}$ holomorfna in omejena - naj bo torej $|f(z)| \\leq M$ za vse $z \\in D(a, r).$\n",
    "Potem je $$|f^{(n)}(a)| \\leq \\frac{n!M}{r^n}$$"
   ]
  },
  {
   "cell_type": "markdown",
   "metadata": {},
   "source": [
    "Dokaz: Izberemo krog s polmerom $\\rho \\lt r$, zanj uporabimo Cauchyjevo formulo za n-ti odvod:\n",
    "$$f^{(n)}(a) = \\frac{n!}{2\\pi i} \\int_{\\gamma}\\frac{f(\\zeta)}{(\\zeta - z)^{n+1}}d\\zeta$$\n",
    "Parametriziramo $\\gamma$ kot $\\zeta = a + \\rho e^{it},~d\\zeta = \\rho ie^{it},~t \\in [0, 2\\pi]$"
   ]
  },
  {
   "cell_type": "markdown",
   "metadata": {},
   "source": [
    "$$f^{(n)}(a) = \\frac{n!}{2\\pi i} \\int_{0}^{2\\pi} \\frac{f(a + \\rho e^{it})}{\\rho^{n+1}e^{(n+1)it}} \\,\\rho \\, i e^{it}dt$$"
   ]
  },
  {
   "cell_type": "markdown",
   "metadata": {},
   "source": [
    "$$= \\frac{n!}{2\\pi} \\frac{1}{\\rho^n} \\int_{0}^{2\\pi} \\frac{f(a + \\rho e^{it})}{e^{int}}dt$$"
   ]
  },
  {
   "cell_type": "markdown",
   "metadata": {},
   "source": [
    "Zdaj si oglejmo absolutno vrednost tega izraza:\n",
    "$$\\left|f^{(n)}(a)\\right| \\leq \\frac{n!}{2\\pi \\rho^n} \\int_{0}^{2\\pi}\\frac{|f(a + \\rho e^{it})|}{|e^{int}|}$$"
   ]
  },
  {
   "cell_type": "markdown",
   "metadata": {},
   "source": [
    "$\\displaystyle{|e^{ix}|}$, kjer je $x$ dobesedno karkoli realnega, je 1, $|f(a + \\rho e^{it})|$ pa je po predpostavki manjši ali enak nekemu $M$. Sledi:"
   ]
  },
  {
   "cell_type": "markdown",
   "metadata": {},
   "source": [
    "$$\\left|f^{(n)}(a)\\right| \\leq \\frac{Mn!}{2\\pi \\rho^n} \\int_{0}^{2\\pi}dt = \\frac{Mn!}{\\rho^n}$$\n",
    "Ko pošljemo $\\rho \\to r$, dobimo želeno neenakost.  $\\square$"
   ]
  },
  {
   "cell_type": "markdown",
   "metadata": {},
   "source": [
    "**Izrek (Liouvilleov izrek)** Bodi $\\fn{f}{\\comp}{\\comp}$ omejena cela funkcija (tj. holomorfna na $\\comp$). Tedaj je $f$ konstantna funkcija. "
   ]
  },
  {
   "cell_type": "markdown",
   "metadata": {},
   "source": [
    "**Dokaz:** Izberemo $a \\in \\comp$ in poglejmo, ali je $f'(a) = 0$."
   ]
  },
  {
   "cell_type": "markdown",
   "metadata": {},
   "source": [
    "$$|f(z)| \\leq M ~\\forall z \\in \\comp, ~\\, |f'(a)| \\leq \\frac{M}{r}$$"
   ]
  },
  {
   "cell_type": "markdown",
   "metadata": {},
   "source": [
    "Ker je $f$ odvedljiva povsod na $\\comp$, lahko $r$ pošljemo proti neskončno in dobimo $|f'(a)| = 0$"
   ]
  },
  {
   "cell_type": "markdown",
   "metadata": {},
   "source": [
    "**Izrek (osnovni izrek algebre)** Vsak nekonstanten polinom s kompleksnimi koeficienti ima vsaj eno kompleksno ničlo. (Posledičnoima polinom toliko ničel, kolikor je stopnja polinoma, saj ga lahko po tem, ko najdemo ničlo, npr. $a$, delimo z $z-a$, in ponovimo postopek)"
   ]
  },
  {
   "cell_type": "markdown",
   "metadata": {},
   "source": [
    "**Dokaz:** Recimo, da imamo nekonstanten polinom $p(z)$, ki nima nobene kompleksne ničle. Definiramo\n",
    "$$f(z) = \\frac{1}{p(z)}$$\n",
    "Ker je $p$ neničeln in holomorfen, je $f$ povsod definirana in holomorfna. Dokažimo, da je omejena, saj lahko tedaj uporabimo Liouviellov izrek in popkažemo, da mora biti $p$ konstanten."
   ]
  },
  {
   "cell_type": "markdown",
   "metadata": {},
   "source": [
    "Recimo, da je $p(z) = a_nz^n + a_{n-1}z^{n-1} + ... + a_1z + a_0$. Brez škode za splošnost lahko rečemo, da je $a_n = 1$, sicer bi pač vse skupaj delili z $a_n$."
   ]
  },
  {
   "cell_type": "markdown",
   "metadata": {},
   "source": [
    "$$|f(z)| = \\frac{1}{\\left|z^n\\left(1 + \\frac{a_{n-1}}{z} + \\frac{a_{n-2}}{z^2} + ... + \\frac{a_1}{z^{n-1}} + \\frac{a_0}{z^n}\\right)\\right|}$$"
   ]
  },
  {
   "cell_type": "markdown",
   "metadata": {},
   "source": [
    "Uporabimo t.i. obratno trikotniško neenakost: $|a + b| \\geq |a| - |b|$. Po potrebi jo dokažemo s kvadriranjem."
   ]
  },
  {
   "cell_type": "markdown",
   "metadata": {},
   "source": [
    "$$\\leq \\frac{1}{|z^n|\\left(1 - \\frac{|a_{n-1}|}{|z|} - \\frac{|a_{n-2}|}{|z^2|} - ... - \\frac{|a_1|}{|z^{n-1}|} + \\frac{|a_0|}{|z^n|}\\right)}$$"
   ]
  },
  {
   "cell_type": "markdown",
   "metadata": {},
   "source": [
    "Ko gre $|z| \\to \\infty$, gre izraz v oklepaju proti 1, $1/|z^n|$ pa proti 0. Če bi poslali $|z|$ proti 0, bi šla vrednost funkcije proti $1/|a_0|$. v vsakem primeru je torej funkcija omejena, in ker je hkrati holomorfna na celotnem $\\comp$, je konstantna. Tedaj je tudi $p$ konstanten, ker je v protislovju z našo začetno predpostavko. $~\\square$"
   ]
  },
  {
   "cell_type": "markdown",
   "metadata": {},
   "source": [
    "**Ničle holomorfnih funkcij** Bodi $\\fn{f}{D}{\\comp}$ holomorfna. Na vsakem $D(a, r)$ znotraj D lahko $f(z)$ razvijemo v potenčno vrsto."
   ]
  },
  {
   "cell_type": "markdown",
   "metadata": {},
   "source": [
    "$$f(z) = \\sum_{0}^{\\infty} a_n (z-a)^n = a_0 + a_1(z-a) + a_2(z-a)^2 + ...$$\n",
    "Recimo, da je $a$ ničla $f(z)$: tedaj je $a_0 = 0$."
   ]
  },
  {
   "cell_type": "markdown",
   "metadata": {},
   "source": [
    "Recimo, da je $a_0 = a_1 = ... = a_{m-1} = 0$ in $a_m \\neq 0$. Tedaj je $\\displaystyle{f(z) = (z-a)^mg(z)}$, kjer je $g(a) \\neq 0$. Pravimo, da je $a$ ničla stopnje $m$."
   ]
  },
  {
   "cell_type": "markdown",
   "metadata": {},
   "source": []
  }
 ],
 "metadata": {
  "language_info": {
   "name": "python"
  }
 },
 "nbformat": 4,
 "nbformat_minor": 2
}
