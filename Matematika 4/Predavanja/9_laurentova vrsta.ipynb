{
 "cells": [
  {
   "cell_type": "markdown",
   "metadata": {},
   "source": [
    "$\\newcommand{\\vct}[1]{\\overrightarrow{#1}}$\n",
    "$\\newcommand{\\pd}[2]{\\frac{\\partial {#1}}{\\partial {#2}}}$\n",
    "$\\newcommand{\\dd}[2]{\\frac{\\mathrm{d} {#1}}{\\mathrm{d} {#2}}}$\n",
    "$\\newcommand{\\wfint}[5]{\\int _{#1}^{#2} \\Psi _{#3}^* {#5} \\Psi _{#4} dx}$\n",
    "$\\newcommand{\\comp}{\\mathbb{C}}$\n",
    "$\\newcommand{\\fn}[3]{{#1}: {#2} \\rightarrow {#3}}$\n",
    "$\\newcommand{\\matrix}[1]{\\begin{bmatrix}{#1}\\end{bmatrix}}$\n",
    "$\\newcommand{\\avg}[1]{\\langle {#1} \\rangle}$"
   ]
  },
  {
   "cell_type": "markdown",
   "metadata": {},
   "source": [
    "Pri prejšnjem predavanju smo uvedli Laurontovo vrsto - če je $a$ singularna točka, jo lahko na $D'(a, r)$ razvijemo v vrsto\n",
    "$$f(z) = \\sum_{n=-\\infty}^{\\infty}c_n(z-a)^n$$\n",
    "Singularna točka $a$ je lahko:\n",
    "1. Odpravljiva singularnost, če je $c_{-n} = 0$ za vsak $n\\in\\mathbb{N},~n>0 \\\\$\n",
    "Primer: $\\displaystyle{f(z) = \\frac{\\sin z}{z}}$ ima odpravljivo singularnost pri $z=0$, saj jo lahko razvijemo kot $\\displaystyle{f(z) = 1 - \\frac{z^2}{3!} + \\frac{z^4}{5!} - ...}$\n",
    "2. Pol, če obstaja tak $m \\in \\mathbb{N}$, da je $c_{-m} \\neq 0$ in hkrati $c_{-m-1} = c_{-m-2} = ... = 0$. Tedaj pravimo, da je $a$ pol stopnje $m. \\\\$\n",
    "Primer: $\\displaystyle{f(z) = \\frac{\\sin z}{z^3}}$ ima pol pri $z=0$, saj jo lahko razvijemo kot $\\displaystyle{f(z) = \\frac{1}{z^2} - \\frac{1}{3!} + \\frac{z^2}{5!} - ...}$\n",
    "3. Bistvena singularnost, če je $c_{-n} \\neq 0$ za neskončno mnogo $n \\in \\mathbb{N} \\\\$\n",
    "Primer: $\\displaystyle{f(z) = e^{1/z} = 1 + \\frac{1}{z} + \\frac{1}{2!}\\frac{1}{z^2} + \\frac{1}{3!}\\frac{1}{z^3} + ...}$\n"
   ]
  },
  {
   "cell_type": "markdown",
   "metadata": {},
   "source": [
    "**Trditev:** Bodi $f$ holomorfna na $D'(a, r)$ in v okolici $a$ omejena. Tedaj je $a$ odpravljiva singularnost."
   ]
  },
  {
   "cell_type": "markdown",
   "metadata": {},
   "source": [
    "**Dokaz:** Bodi $\\delta$ majhen. Po definiciji izračunajmo $c_{-n}$. $$c_n = \\frac{1}{2 \\pi i}\\int_{\\gamma _\\delta}\\frac{f(\\zeta)}{(\\zeta - a)^{-n+1}}d\\zeta$$"
   ]
  },
  {
   "cell_type": "markdown",
   "metadata": {},
   "source": [
    "$\\gamma _\\zeta$ parametriziramo kot $a + \\delta e^{i\\varphi}$, $\\varphi \\in [0, 2\\pi]$\n",
    "$$|c_{-n}| = \\left|\\frac{1}{2 \\pi i} \\int_{0}^{2\\pi}\\frac{f(a + \\delta e^{i\\varphi})}{\\left(\\delta e^{i\\varphi}\\right)^{-n+1}}\\delta i e^{i\\varphi}d\\varphi\\right|$$\n",
    "$$\\leq \\frac{1}{2\\pi}\\int_{0}^{2\\pi}\\frac{|f(a + \\delta e^{i\\varphi})|}{\\delta^{-n}|e^{-in\\varphi}|}d\\varphi$$\n",
    "Upoštevamo, da je $f$ omejena, recimo manjša od neke konstante $M$:\n",
    "$$\\leq \\frac{1}{2\\pi} \\int_{0}^{2\\pi}M\\delta^{n}d\\varphi = M\\delta^n$$\n",
    "Za kateri koli $M$ lahko izberemo tak $\\delta$, da bo to poljubno majhno. $~\\square$"
   ]
  },
  {
   "cell_type": "markdown",
   "metadata": {},
   "source": [
    "**Izrek:** (Casorati-Weierstrass) Recimo, da je $f$ holomorfna na $D'(a, r)$. Recimo, da je $a$ bistvena singularnost. Potem za vsak $w \\in \\comp$ in vsaka $\\varepsilon, \\delta \\gt 0$ obstaja tak $z \\in \\comp$, da je $|f(z) - w| \\lt \\varepsilon$, dokler je $|z - a| \\lt \\delta$ (seveda pa mora veljati $z \\neq a$)."
   ]
  },
  {
   "cell_type": "markdown",
   "metadata": {},
   "source": [
    "**Dokaz:** (Protislovje.) Recimo, da obstajajo taki $w,\\,\\varepsilon$ in $\\delta$, da je $|f(z) - w| > \\varepsilon$ za vsak $z \\in \\comp. \\\\$ Definiramo funkcijo $\\displaystyle{g(z) = \\frac{1}{f(z) - w}}$. Biti mora holomorfna, saj je $f$ holomorfna. Biti mora omejena, saj je $|f(z) - w| \\gt \\varepsilon$. Po prejšnji trditvi sledi, da ja za funkcijo $g$ točka $a$ odpravljiva singularnost. To pomeni, da lahko $g$ razvijemo v funkcijsko vrsto s členi $c_{-n} = 0$ za vsako neničelno naravno število $n$. Poleg tega lahko zapišemo $$g(z) = \\left(z-a\\right)^mh(z)$$\n",
    "z zahtevo, da je $h$ neničelna funkcija.\n",
    "$$f(z) = \\frac{1}{g(z) + w} = \\frac{1}{(z-a)^mh(z)} + w$$\n",
    "To nas postavi v protislovje s predpostavko, da je $a$ bistvena singularnost, kajti tu smo pokazali, da je pol."
   ]
  },
  {
   "cell_type": "markdown",
   "metadata": {},
   "source": [
    "**Logaritmi in potence:** Bodi $z \\in \\comp$. Pravimo, da je $w$ logaritem $z$, če velja $e^w = z$"
   ]
  },
  {
   "cell_type": "markdown",
   "metadata": {},
   "source": [
    "Rešujemo enačbo $e^w = z$\n",
    "$$e^x + iy = re^{i\\varphi}$$\n",
    "$$e^x e^{iy} = re^{i\\varphi}$$\n",
    "$$y = \\varphi + 2 \\pi n,~e^x = r$$\n",
    "Vrednosti $\\varphi$ rečemo tudi *argument* $z$.\n",
    "$$w = \\ln|z| + i(\\varphi + 2 \\pi n),~n\\in\\mathbb{Z}$$"
   ]
  },
  {
   "cell_type": "markdown",
   "metadata": {},
   "source": [
    "Običajno se pri računanju $\\ln z$ odločimo za glavno vejo, tj. $k=0$. Tedaj je $w = \\ln |z| + i\\,\\text{arg}z$"
   ]
  },
  {
   "cell_type": "markdown",
   "metadata": {},
   "source": [
    "Definicijsko območje logaritma so vsa kompleksna števila razen realnega intervala $(-\\infty, 0]$."
   ]
  },
  {
   "cell_type": "markdown",
   "metadata": {},
   "source": [
    "**Definicija:** funkcija $g(z)$ je logaritem neničelne funkcije $f(z)$, če velja $e^{g(z)} = f(z)$.\n",
    "**Izrek:** Na območju $\\mathcal{D}$ bodi $\\fn{f}{\\mathcal{D}}{\\comp}$ holomorfna. Na $\\mathcal{D}$ naj velja $$\\text{ind}_\\gamma w = 0$$ za vsako sklenjeno pot $\\gamma$ znotraj $\\mathcal{D}$ in vsako točko $w \\in \\comp \\setminus \\mathcal{D}$. Če $f$ nima ničel, obstaja holomorfna funkcija $g(z)$ na $\\mathcal{D}$, da je $e^{g(z)} = f(z)~\\forall z \\in \\mathcal{D}$. Poleg tega: Če obstaja še ena taka funkcija $h(z)$, je $g(z) - h(z) = 2 \\pi n i$, kjer je $n \\in \\mathbb{Z}$."
   ]
  },
  {
   "cell_type": "markdown",
   "metadata": {},
   "source": [
    "**Dokaz:** Imejmo nekje na $\\mathcal{D}$ neki $z$. Izberemo si $z_0 \\in \\mathcal{D}$, in zaradi lastnosti množice $\\mathcal{D}$ smo lahko prepričani, da med tema točkama obstaja pot - imenujmo jo $\\gamma$. Na podlagi tega definiramo $$g(z) = z_0 + \\int_{\\gamma} \\frac{f'(\\zeta)}{f(\\zeta)}d\\zeta$$"
   ]
  },
  {
   "cell_type": "markdown",
   "metadata": {},
   "source": [
    "Mimogrede: tu nam pride prav, da $f$ nima ničel."
   ]
  },
  {
   "cell_type": "markdown",
   "metadata": {},
   "source": [
    "Zaradi pogoja, da je $\\text{ind}_\\gamma w = 0$, lahko uporabimo Cauchyjev izrek, ki nam pove, da je taka definicija $g(z)$ neodvisna od izbire poti."
   ]
  },
  {
   "cell_type": "markdown",
   "metadata": {},
   "source": [
    "Dokazati moramo, da je $e^{g(z)} = f(z)$. Dokažimo, da je funkcija $G(z) = f(z)e^{-g(z)}$ konstantna.\n",
    "$$G'(z) = f'(z)e^{-g(z)} - e^{-g(z)}g'(z)f(z) = f'(z)e^{-g(z)} - e^{-g(z)}\\frac{f'(z)}{f(z)}f(z) = f'(z)e^{-g(z)} - f'(z)e^{-g(z)} = 0$$"
   ]
  },
  {
   "cell_type": "markdown",
   "metadata": {},
   "source": [
    "Torej je $G(z)$ konstantna. $z_0$ lahko nastavimo tako, da je $G(z_0) = 1$, in sicer:\n",
    "$$e^{z_0}f(z_0) = G(z_0) = e^{-g(z_0)} f(z_0)$$\n",
    "$$e^{z_0} = f(z_0) = w_0$$\n",
    "$$z_0 = \\ln w_0$$"
   ]
  },
  {
   "cell_type": "markdown",
   "metadata": {},
   "source": [
    "Recimo, da je $e^{g(z)} = f(z)$ in $e^{h(z)} = f(z)$. Eno enakost delimo z drugo in dobimo $$e^{g(z) - h(z)} = 1,$$\n",
    "kar je mogoče le, če je $g(z) - h(z) = 2\\pi n i$ za nek $n \\in \\mathbb{Z}$."
   ]
  },
  {
   "cell_type": "markdown",
   "metadata": {},
   "source": [
    "**Izrek o residuih:** Bodi $f$ holomorfna na $D'(a, r)$ - torej jo lahko razvijemo v Laurentovo vrsto. Nato si oglejmo njen integral po poljubni sklenjeni poti $\\gamma$.\n",
    "$$\\int_{\\gamma} f(z) dz = \\int_{\\gamma} \\sum_{n = -\\infty}^{\\infty}c_n(z-a)^n$$"
   ]
  },
  {
   "cell_type": "markdown",
   "metadata": {},
   "source": [
    "Ker bo vrsta enakomerno konvergentna, lahko zamenjamo vrstni red vsote in integrala.\n",
    "$$\\sum_{n = -\\infty}^{\\infty} c_n \\int_{\\gamma} (z-a)^{n} dz = c_{-1} \\int_{\\gamma}\\frac{dz}{z-a} + \\sum_{n \\neq 1} \\int_{\\gamma}c_n (z-a)^n$$"
   ]
  },
  {
   "cell_type": "markdown",
   "metadata": {},
   "source": [
    "Bojda je takšna vsota enaka 0, torej nam ostane $\\displaystyle{\\int_{\\gamma}\\frac{dz}{z-a}}$, ki pa je ravno enak $2\\pi i\\, \\text{ind}_\\gamma a$"
   ]
  },
  {
   "cell_type": "markdown",
   "metadata": {},
   "source": [
    "$$\\int_{\\gamma} f(z)dz = c_{-1} 2\\pi i \\, \\text{ind} _\\gamma a$$"
   ]
  }
 ],
 "metadata": {
  "language_info": {
   "name": "python"
  }
 },
 "nbformat": 4,
 "nbformat_minor": 2
}
