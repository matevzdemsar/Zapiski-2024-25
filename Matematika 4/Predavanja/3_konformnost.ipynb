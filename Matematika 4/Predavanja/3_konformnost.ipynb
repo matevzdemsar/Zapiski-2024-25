{
 "cells": [
  {
   "cell_type": "markdown",
   "metadata": {},
   "source": [
    "$\\newcommand{\\vct}[1]{\\overrightarrow{#1}}$\n",
    "$\\newcommand{\\pd}[2]{\\frac{\\partial {#1}}{\\partial {#2}}}$\n",
    "$\\newcommand{\\wfint}[5]{\\int _{#1}^{#2} \\Psi _{#3}^* {#5} \\Psi _{#4} dx}$\n",
    "$\\newcommand{\\comp}{\\mathbb{C}}$\n",
    "$\\newcommand{\\fn}[3]{{#1}: {#2} \\rightarrow {#3}}$\n",
    "Na prejšnjem predavanju smo v funkcijo $f(z) = u(x, y) + iv(x, y)$, pri čemer označimo $z = x + iy$, vstavili novi spremenljivki $z = x + iy$ in $\\overline{z} = x - iy$."
   ]
  },
  {
   "cell_type": "markdown",
   "metadata": {},
   "source": [
    "$$\\pd{f}{z} = \\pd{f}{x} \\pd{x}{z} + \\pd{f}{y} \\pd{y}{z} = ... = \\frac{1}{2}(u_x + iv_x) + \\frac{1}{2i}(u_y + iv_y)$$\n",
    "$$\\pd{f}{\\overline{z}} = \\pd{f}{x} \\pd{x}{\\overline{z}} + \\pd{f}{y} \\pd{y}{\\overline{z}} = ... = \\frac{1}{2}(u_x + iv_x) - \\frac{1}{2i}(u_y + iv_y)$$"
   ]
  },
  {
   "cell_type": "markdown",
   "metadata": {},
   "source": [
    "$$\\pd{f}{\\overline{z}} = ... =  \\frac{1}{2}(u_x - v_y) + i \\frac{1}{2}(u_y + v_x)$$\n",
    "Na prejšnjem predavanju smo dokazali, da za funkcijo $f$, če je le-ta holomorfna, veljata Cauchy-Riemannovi enačbi in je $\\displaystyle{\\pd{f}{\\overline{z}}} = 0$."
   ]
  },
  {
   "cell_type": "markdown",
   "metadata": {},
   "source": [
    "Pri predpostavki, da je $f$ holomorfna, lahko napodoben način obravnavamo tudi $\\displaystyle{\\pd{f}{z}}$ in dobimo $u_x + iv_x = f'(z)$."
   ]
  },
  {
   "cell_type": "markdown",
   "metadata": {},
   "source": [
    "**Konformnost holomorfnih funkcij:** Najprej se spomnimo definicije poti:\n",
    "$\\\\ \\fn{\\gamma}{[a, b]}{\\comp}$, predpostavimo tudi, da je zvezno odvedljiva."
   ]
  },
  {
   "cell_type": "markdown",
   "metadata": {},
   "source": [
    "Tir poti $\\gamma$ je množica $\\gamma^* = \\{\\gamma (t): t \\in [a, b]\\}$"
   ]
  },
  {
   "cell_type": "markdown",
   "metadata": {},
   "source": [
    "Bodi $U$ tako območje (odprta povezana množica), da je $\\gamma^* \\subseteq U$. Nadaljnje naj bo $\\fn{f}{U}{\\comp}$ holomorfna funkcija. $\\\\$ Definiramo $\\fn{f \\circ \\gamma}{[a, b]}{\\comp}$, ravno tako bo šlo za pot."
   ]
  },
  {
   "cell_type": "markdown",
   "metadata": {},
   "source": [
    "**Trditev:** Ob zgornjih oznakah je $$\\frac{d}{dt}(f \\circ \\gamma) (t_0) = f'(z_0) \\gamma'(t_0)$$"
   ]
  },
  {
   "cell_type": "markdown",
   "metadata": {},
   "source": [
    "Kjer je $z_0 = \\gamma (t_0)$"
   ]
  },
  {
   "cell_type": "markdown",
   "metadata": {},
   "source": [
    "To je podobno kot v realnih številih, s tem asteriskom, da je $f$ kompleksna funkcija, ki jo moramo obravnavati kot funkcijo dveh spremenljivk."
   ]
  },
  {
   "cell_type": "markdown",
   "metadata": {},
   "source": [
    "**Dokaz:** Kot prej označimo $z = x + iy$, $f(z) = u(x, y) + iv(x, y) \\\\$\n",
    "Definiramo $\\fn{F}{\\mathbb{R}^2}{\\mathbb{R}^2}$ s predpisom $\\displaystyle{F(x, y) = (u(x, y), v(x, y))} \\\\$\n",
    "Namesto funkcije $\\gamma$ pa definirajmo $\\fn{\\Gamma}{[a, b]}{\\mathbb{R}^2}$"
   ]
  },
  {
   "cell_type": "markdown",
   "metadata": {},
   "source": [
    "Za realne funkcije dveh spremenljivk poznamo verižno pravilo kot\n",
    "$$\\frac{d}{dt}(F \\circ \\Gamma) = JF \\cdot \\dot{\\Gamma}$$"
   ]
  },
  {
   "cell_type": "markdown",
   "metadata": {},
   "source": [
    "Z $JF$ označimo Jacobijevo matriko funkcije F.\n",
    "$$= \\begin{bmatrix}u_x & u_y \\\\ v_x & v_y\\end{bmatrix} \\begin{bmatrix} \\dot{\\gamma}_1 \\\\ \\dot{\\gamma}_2 \\end{bmatrix}\n",
    "= \\begin{bmatrix} u_x \\dot{\\gamma}_1 + u_y \\dot{\\gamma}_2 \\\\ v_x \\dot{\\gamma}_1 + v_y \\dot{\\gamma}_2 \\end{bmatrix}$$"
   ]
  },
  {
   "cell_type": "markdown",
   "metadata": {},
   "source": [
    "Upoštevamo Cauchy-Riemannovi enačbi:\n",
    "$$= \\begin{bmatrix} u_x \\dot{\\gamma}_1 - v_x \\dot{\\gamma}_2 \\\\ v_x \\dot{\\gamma}_1 + u_x \\dot{\\gamma}_2 \\end{bmatrix}$$"
   ]
  },
  {
   "cell_type": "markdown",
   "metadata": {},
   "source": [
    "Gremo nazaj na kompleksna števila (1. komponento obravnavamo kot realni del, 2. pa kot imaginarni del). V dobljenem moramo opaziti produkt dveh števil, in sicer:\n",
    "$$\\frac{d}{dt}(f \\circ \\gamma) = (u_x + iv_x) (\\dot{\\gamma} + i\\dot{\\gamma}_2) \\equiv f'(z_0) \\dot{\\gamma}(t_0)$$"
   ]
  },
  {
   "cell_type": "markdown",
   "metadata": {},
   "source": [
    "S tem je dokaz zaključen."
   ]
  },
  {
   "cell_type": "markdown",
   "metadata": {},
   "source": [
    "Naj bo $\\fn{\\gamma}{[a, b]}{\\comp}$ pot skozi neko točko $z_0$.\n",
    "$\\gamma(t_0) = \\begin{bmatrix} \\dot{\\gamma}_1 (t_0) \\\\ \\dot{\\gamma}_2 (t_0) \\end{bmatrix}$ je tangentni vektor na tir poti $\\gamma$ v $z_0$.\n",
    "$\\dot{\\gamma}(t_0)$ lahko zapišemo v polarni obliki: $\\dot{\\gamma}(t_0) = |\\dot{\\gamma}(t_0)| e^{i\\alpha}$. Kot $\\alpha$ določata komponenti $\\dot{\\gamma}(t_0)$ in je do vrtenja za $2k\\,\\pi$ enolično določen, če absolutna vrednost odvoda ni enaka 0. Če je $\\gamma$ regularna, bo ta pogoj izpolnjen."
   ]
  },
  {
   "cell_type": "markdown",
   "metadata": {},
   "source": [
    "Recimo, da imamo dve poti, $\\gamma$ in $\\delta$, ki se sekata v točki $z_0$. Kot med njima definiramo kot kot med tangentnima vektorjema:\n",
    "$$\\dot{\\gamma}(t_0) = |\\dot{\\gamma}(t_0)|e^{i\\alpha}$$\n",
    "$$\\dot{\\delta}(s_0) = |\\dot{\\delta}(s_0)|e^{i\\beta}$$\n",
    "Tedaj je kot med njima enak $\\alpha - \\beta$"
   ]
  },
  {
   "cell_type": "markdown",
   "metadata": {},
   "source": [
    "**Izrek:** Naj bosta $\\gamma$ in $\\delta$ regularni poti skozi $z_0$, $U$ pa območje, ki vsebuje oba tira poti. Naj bo $\\fn{f}{U}{\\comp}$ holomorfna in bodi $f'(z_0) \\neq 0$. Tedaj je kot med $f \\circ \\gamma$ in $f \\circ \\delta$ v $f(z_0)$ enak kotu med $\\gamma$ in $\\delta$ v $z_0$. Na kratko: Holomorfnost ohranja kot."
   ]
  },
  {
   "cell_type": "markdown",
   "metadata": {},
   "source": [
    "**Dokaz:** Od prej vemo:\n",
    "$$\\dot{\\gamma}(t_0) = |\\dot{\\gamma}(t_0)|e^{i\\alpha}$$\n",
    "$$\\dot{\\delta}(s_0) = |\\dot{\\delta}(s_0)|e^{i\\beta}$$\n",
    "Zapišimo še $f'(z_0)$ v polarni obliki:\n",
    "$$f'(z_0) = |f'(z_0)| e^{i \\varphi}$$\n",
    "Tedaj lahko izračunamo odvoda funkcij $f \\circ \\gamma$ in $f \\circ \\delta$:\n",
    "$$\\frac{d}{dt}(f \\circ \\gamma)(t_0) = |f'(z_0)||\\dot{\\gamma}(t_0)|e^{\\alpha + \\varphi}$$\n",
    "$$\\frac{d}{dt}(f \\circ \\delta)(t_0) = |f'(z_0)||\\dot{\\delta}(t_0)|e^{\\beta + \\varphi}$$\n",
    "Kot med tema funkcijama je $\\alpha + \\varphi - \\beta - \\varphi = \\alpha - \\beta$."
   ]
  },
  {
   "cell_type": "markdown",
   "metadata": {},
   "source": [
    "Holomorfnim funkcijam z neničelnim odvodom rečemo konformne funkcije."
   ]
  },
  {
   "cell_type": "markdown",
   "metadata": {},
   "source": [
    "**Kompleksne potenčne vrste:** Gre za vrste oblike $$\\sum _{n = 0}^{\\infty} a_n z^n,~a_n \\in \\comp$$"
   ]
  },
  {
   "cell_type": "markdown",
   "metadata": {},
   "source": [
    "Naj bo $\\displaystyle{\\mathcal{D} = \\{z \\in \\comp; \\sum _{n = 0}^{\\infty} a_n z^n konvergira\\}} \\\\$\n",
    "**Trditev:** Vrsta $\\displaystyle{\\sum _{n = 0}^{\\infty} a_n z^n}$ konvergira na odprtem krogu $D(0, R)$, kjer je $$\\frac{1}{R} = \\lim_{n \\to \\infty}\\text{sup} \\sqrt[n]{|a_n|}$$"
   ]
  },
  {
   "cell_type": "markdown",
   "metadata": {},
   "source": [
    "Še več, velja $$D(0, R) \\subseteq \\mathcal{D} \\subseteq \\overline{D}(0, R)$$"
   ]
  },
  {
   "cell_type": "markdown",
   "metadata": {},
   "source": [
    "**Dokaz** je podoben dokazu za realna števila"
   ]
  },
  {
   "cell_type": "markdown",
   "metadata": {},
   "source": [
    "Mimogrede: limsup je definiran kot supremum stekališč zaporedja.\n",
    "$$\\lim_{n\\to\\infty}\\text{sup } b_n = \\text{sup}\\{\\text{množica stekališč zaporedja $b_n$}\\}$$"
   ]
  },
  {
   "cell_type": "markdown",
   "metadata": {},
   "source": [
    "V praksi se pogosto izkaže, da ima zaporedje limito, torej le eno stekališče."
   ]
  },
  {
   "cell_type": "markdown",
   "metadata": {},
   "source": [
    "Radiju $R$ pravimo konvergenčni radij."
   ]
  },
  {
   "cell_type": "markdown",
   "metadata": {},
   "source": [
    "Podoben rezultat velja za vrste oblike $$\\sum_{n=0}^{\\infty} a_n (z - \\alpha)^n$$ Tedaj $R$ izračunamo enako kot prej, vrsta pa konvergira v $D(\\alpha, R)$ in morda še v kakšnih robnik točkah."
   ]
  },
  {
   "cell_type": "markdown",
   "metadata": {},
   "source": [
    "Na zaprtem krogu okoli točke $\\alpha$, ki je podmnožica $D(\\alpha, R)$, konvergira vrsta enakomerno. Dokaz za to je skoraj identičen dokazu za realna števila."
   ]
  },
  {
   "cell_type": "markdown",
   "metadata": {},
   "source": [
    "Definiramo $\\displaystyle{f(z) = \\sum_{n=0}^{\\infty} a_n z^n}$. Pri predpostavki, da $f(z)$ za izbrani $z$ konvergira, želimo izračunati odvod. Predvidevamo, da bo ta oblike:\n",
    "$$g(z) = \\sum_{n=0}^\\infty na_n z^{n-1}$$"
   ]
  },
  {
   "cell_type": "markdown",
   "metadata": {},
   "source": [
    "**Trditev:** Definiramo $f(z)$ in $g(z)$ kot prej. Trdimo, da imata enak konvergenčni radij."
   ]
  },
  {
   "cell_type": "markdown",
   "metadata": {},
   "source": [
    "**Dokaz:** Naj bo R konvergenčni radij za $f$ in R' konvergenčni radij za $g$.\n",
    "$$\\frac{1}{R} = \\lim_{n \\to \\infty}\\text{sup} \\sqrt[n]{|na_n|} = \\lim_{n \\to \\infty}\\text{sup} \\sqrt[n]{n} \\sqrt[n]{|a_n|}$$"
   ]
  },
  {
   "cell_type": "markdown",
   "metadata": {},
   "source": [
    "Iz Matematike I. vemo, da je $\\lim_{n\\to\\infty}\\sqrt[n]{n} = 1$, torej nam ostane le še $\\displaystyle{\\lim_{n \\to \\infty}\\sqrt[n]{|a_n|}} = 1/R$"
   ]
  },
  {
   "cell_type": "markdown",
   "metadata": {},
   "source": [
    "**Izrek:** Naj bosta $f$ in $g$ kot prej in naj bo $R$ njun konvergenčni radij. Potem je $f$ holomorfna na D(0, R) in velja $$f'(z) = g(z)$$"
   ]
  },
  {
   "cell_type": "markdown",
   "metadata": {},
   "source": [
    "**Dokaz:** omejimo se na odprt krog $\\overline{D} \\sub D$. Vzamemo $z, w \\in \\overline{D}$. Želimo dokazati\n",
    "$$\\Big| \\frac{f(z) - f(w)}{z - w} - g(z) \\Big| \\rightarrow 0,~\\text{ko gre } w \\to z$$"
   ]
  },
  {
   "cell_type": "markdown",
   "metadata": {},
   "source": [
    "Dokaz dokončamo naslednjič."
   ]
  }
 ],
 "metadata": {
  "language_info": {
   "name": "python"
  }
 },
 "nbformat": 4,
 "nbformat_minor": 2
}
