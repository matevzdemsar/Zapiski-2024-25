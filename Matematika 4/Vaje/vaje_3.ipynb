{
 "cells": [
  {
   "cell_type": "markdown",
   "metadata": {},
   "source": [
    "$\\newcommand{\\vct}[1]{\\overrightarrow{#1}}$\n",
    "$\\newcommand{\\pd}[2]{\\frac{\\partial {#1}}{\\partial {#2}}}$\n",
    "$\\newcommand{\\dd}[2]{\\frac{\\mathrm{d} {#1}}{\\mathrm{d} {#2}}}$\n",
    "$\\newcommand{\\wfint}[5]{\\int _{#1}^{#2} \\Psi _{#3}^* {#5} \\Psi _{#4} dx}$\n",
    "$\\newcommand{\\comp}{\\mathbb{C}}$\n",
    "$\\newcommand{\\fn}[3]{{#1}: {#2} \\rightarrow {#3}}$\n",
    "$\\newcommand{\\matrix}[1]{\\begin{bmatrix}{#1}\\end{bmatrix}}$\n",
    "$\\newcommand{\\avg}[1]{\\langle {#1} \\rangle}$"
   ]
  },
  {
   "cell_type": "markdown",
   "metadata": {},
   "source": [
    "Če je $\\fn{\\mathcal{u}}{\\mathcal{D}}{\\mathbb{R}}$ harmonična na $\\mathcal{D}$ (za kar imamo zahtevo $\\mathcal{u}_{xx} + \\mathcal{u}_{yy} = 0$) in je $\\mathcal{D}$ enostavno povezano območje, tedaj obstaja funkcija $\\fn{\\mathcal{v}}{\\mathcal{D}}{\\mathbb{R}}$, da je\n",
    "$$f(x + iy) = \\mathcal{u}(x, y) + i\\mathcal{v}(x, y)$$\n",
    "holomorfna. $f$ je določena z realnim delom."
   ]
  },
  {
   "cell_type": "markdown",
   "metadata": {},
   "source": [
    "**1. naloga:** Naj bo $\\fn{f}{\\mathcal{D}}{\\comp}$ holomorfna in naj zanjo velja, da je $|f(z)|$ konstantna ($\\forall z \\in \\mathcal{D}$). Pokaži, da je tudi $f$ konstantna."
   ]
  },
  {
   "cell_type": "markdown",
   "metadata": {},
   "source": [
    "$$|f(z)|^2 = \\mathcal{u}^2(x, y) + \\mathcal{v}^2(x, y) = C$$\n",
    "Če je $C = 0$, je zadeva očitna, saj morata biti tedaj tudi $\\mathcal{u}$ in $\\mathcal{v}$ enaki 0."
   ]
  },
  {
   "cell_type": "markdown",
   "metadata": {},
   "source": [
    "Če zahtevamo, da je $C>0$: $$\\mathcal{u}^2 + \\mathcal{v}^2 = C$$\n",
    "Obe strani odvajamo po $x$ da dobimo prvo enačbo, in po y, da dobimo drugo enačbo.\n",
    "$$2\\mathcal{u}\\mathcal{u}_x + 2\\mathcal{v}\\mathcal{v}_x = 0$$\n",
    "$$2\\mathcal{u}\\mathcal{u}_y + 2\\mathcal{v}\\mathcal{v}_y = 0$$\n",
    "Vsstavimo Cauchy-Reimannova pogoja: $\\mathcal{v}_x = -\\mathcal{u}_y$ in $\\mathcal{v}_y = \\mathcal{u}_x$\n",
    "$$\\mathcal{u}\\mathcal{u}_x - \\mathcal{v}\\mathcal{u}_y = 0$$\n",
    "$$\\mathcal{u}\\mathcal{u}_y - \\mathcal{v}\\mathcal{u}_x = 0$$\n",
    "Iz prve enačbe izrazimo $u_x$, vstavimo v drugo enačbo in množimo z $\\mathcal{u}$.\n",
    "$$\\mathcal{u}^2\\mathcal{u}_y + \\mathcal{v}^2\\mathcal{u}_y = 0$$\n",
    "$$\\mathcal{u}_y(\\mathcal{u}^2 + \\mathcal{v}^2) = 0$$\n",
    "Ker vemo, da je $\\mathcal{u}^2 + \\mathcal{v}^2 > 0$, torej mora biti $\\mathcal{u}_y = 0$. Sledi $\\mathcal{u}_x = 0$, pa tudi oba parcialna odvoda $\\mathcal{v}$ morata biti enaka 0. Sledi, da je $f$ konstantna.\n"
   ]
  },
  {
   "cell_type": "markdown",
   "metadata": {},
   "source": [
    "**2. naloga:** Poišči vse funkcije $\\fn{f}{\\comp}{\\comp}$, za katere velja:\n",
    "$$\\left|f(x + iy)\\right| = e^x(x^2 + y^2)$$"
   ]
  },
  {
   "cell_type": "markdown",
   "metadata": {},
   "source": [
    "Najprej moramo opaziti, da je $\\displaystyle{e^x(x^2 + y^2) = |z^2e^z|}$"
   ]
  },
  {
   "cell_type": "markdown",
   "metadata": {},
   "source": [
    "$$\\left|\\frac{f(z)}{z^2e^z}\\right| = 1 = \\text{konst.}$$"
   ]
  },
  {
   "cell_type": "markdown",
   "metadata": {},
   "source": [
    "Po prejšnji nalogi sledi, da je $f(z) = Cz^2e^z$, pri čemer mora biti $C$ taka konstanta, da je $|C| = 1$"
   ]
  },
  {
   "cell_type": "markdown",
   "metadata": {},
   "source": [
    "**Potenčne vrste:** Konvergenčni radij lahko izračunamo na več načinov:\n",
    "$$R = \\lim{n \\to \\infty}\\frac{|c_n|}{|c_{n+1}|}$$\n",
    "$$\\frac{1}{R} = \\lim_{n \\to \\infty}\\sqrt[n]{|c_n|}$$\n",
    "$$\\frac{1}{R} = \\lim_{n \\to \\infty}\\text{sup}\\sqrt[n]{|c_n|}$$\n",
    "Zadnja definicija je najsplošnejša."
   ]
  },
  {
   "cell_type": "markdown",
   "metadata": {},
   "source": [
    "Imejmo potenčno vrsto $\\displaystyle{\\sum_{n=0}^{\\infty}c_n(z - z_0)^n}$ s konvergenčnim radijem $R$. Ta vrsta:\n",
    "1. konvergira, če je $|z-z_0|<R$\n",
    "2. divergira, če je $|z-z_0|>R$\n",
    "3. lahko konvergira ali divergira, če je $|z - z_0|=R$. V takih primerih je pogosto težko ugotoviti, ali konvergira ali ne."
   ]
  },
  {
   "cell_type": "markdown",
   "metadata": {},
   "source": [
    "**3. naloga:** Izračunaj konvergenčni radij vrste $\\displaystyle{\\sum_{n=0}^{\\infty}\\begin{pmatrix}2n \\\\ n \\end{pmatrix} z^n}$\n",
    "$$R = \\lim_{n\\to\\infty} \\frac{|c_n|}{|c_{n+1}|} = \\lim_{n\\to\\infty} \\frac{(2n)!(n+1)!(n+1)!}{n!n!(2n+2)!} = \\lim_{n\\to\\infty}\\frac{(n+1)(n+1)}{(2n+2)(2n+2)} = \\frac{1}{4}$$"
   ]
  },
  {
   "cell_type": "markdown",
   "metadata": {},
   "source": [
    "**4. naloga:** Izračunaj konvergenčni radij vrste $\\displaystyle{\\sum_{n=0}^{\\infty}}n^pz^n$"
   ]
  },
  {
   "cell_type": "markdown",
   "metadata": {},
   "source": [
    "$$\\frac{1}{R} = \\lim_{n \\to \\infty} \\sqrt[n]{n^p} = \\lim_{n\\to\\infty}(\\sqrt[n]{n})^p = 1^p = 1$$\n",
    "Ali pri $|z| = 1$ konvergira ali divergira, je odvisno od $p$. Če je $p=1$ očitno divergira, če je $p=-1$, pa konvergira, dokler $z \\neq 1$."
   ]
  },
  {
   "cell_type": "markdown",
   "metadata": {},
   "source": [
    "$\\renewcommand{\\Sum}[1]{\\sum_{{#1}=0}^{\\infty}}$\n",
    "$\\newcommand{\\Lim}[1]{\\lim_{#1\\to\\infty}}$"
   ]
  },
  {
   "cell_type": "markdown",
   "metadata": {},
   "source": [
    "**5. naloga:** Izračunaj konvergenčni radij vrste $\\displaystyle{\\Sum{n} n!z^n}$"
   ]
  },
  {
   "cell_type": "markdown",
   "metadata": {},
   "source": [
    "$$R = \\Lim{n}\\left|\\frac{n!}{(n+1)!}\\right| = \\Lim{n}\\frac{1}{n+1} = 0 = R$$"
   ]
  },
  {
   "cell_type": "markdown",
   "metadata": {},
   "source": [
    "Torej vrsta konvergira le za $z = 0$."
   ]
  },
  {
   "cell_type": "markdown",
   "metadata": {},
   "source": [
    "**6. naloga:** Izračunaj konvergenčni radij vrste $\\displaystyle{\\Sum{n} 2^nz^{n!}}$"
   ]
  },
  {
   "cell_type": "markdown",
   "metadata": {},
   "source": [
    "$$c_{n!} = 2^n~\\text{sicer pa 0}$$"
   ]
  },
  {
   "cell_type": "markdown",
   "metadata": {},
   "source": [
    "$$\\frac{1}{R} = \\Lim{n}\\sqrt[n!]{2^n} = \\Lim{n}2^{\\frac{n}{n!}} = \\Lim{n}2^{\\frac{1}{(n-1)!}} = 2^0 = 1$$"
   ]
  },
  {
   "cell_type": "markdown",
   "metadata": {},
   "source": [
    "**7. naloga:** Okoli točke $z_0 = i$ razvij v potenčno vrsto funkcijo $f(z) = \\sin z$"
   ]
  },
  {
   "cell_type": "markdown",
   "metadata": {},
   "source": [
    "$$\\sin \\left((z - i) + i\\right) = \\sin(z-i)\\cos i + \\sin i \\cos(z-i)$$\n",
    "$$= \\cos i \\left((z-i) - \\frac{(z-i)^3}{3!} + ...\\right) + \\sin i \\left(1 - \\frac{(z-i)^2}{2} + ...\\right)$$\n",
    "Omenimo še, da je $\\sin (i) = i\\sinh(1)$ in $\\cos (i) = \\cosh(1)$"
   ]
  }
 ],
 "metadata": {
  "language_info": {
   "name": "python"
  }
 },
 "nbformat": 4,
 "nbformat_minor": 2
}
