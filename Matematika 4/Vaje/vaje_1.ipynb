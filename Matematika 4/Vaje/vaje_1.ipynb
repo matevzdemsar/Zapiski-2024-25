{
 "cells": [
  {
   "cell_type": "markdown",
   "metadata": {},
   "source": [
    "$\\newcommand{\\vct}[1]{\\overrightarrow{#1}}$\n",
    "$\\newcommand{\\pd}[2]{\\frac{\\partial {#1}}{\\partial {#2}}}$\n",
    "$\\newcommand{\\wfint}[5]{\\int _{#1}^{#2} \\Psi _{#3}^* {#5} \\Psi _{#4} dx}$\n",
    "$\\newcommand{\\comp}{\\mathbb{C}}$\n",
    "$\\newcommand{\\fn}[3]{{#1}: {#2} \\rightarrow {#3}}$\n",
    "**Množice v $\\mathbb{R}^n$**"
   ]
  },
  {
   "cell_type": "markdown",
   "metadata": {},
   "source": [
    "Definiramo razdaljo med točkami $d(x, y)$, za katero mora veljati sledeče:\n",
    "- $d(x, y) \\geq 0$\n",
    "- $d(x, y) = 0$ <=> $x = y$\n",
    "- $d(x, y) = d(y, x)$\n",
    "- $d(x, y) \\leq d(x, z) + d(z, y)$"
   ]
  },
  {
   "cell_type": "markdown",
   "metadata": {},
   "source": [
    "Zadnji neenakosti rečemo trikotniška neenakost."
   ]
  },
  {
   "cell_type": "markdown",
   "metadata": {},
   "source": [
    "Odprte krogle v $\\mathbb{R}^n$: $x_0 \\in \\mathbb{R}^n, r > 0$. Odprta krogla v $\\mathbb{R}^n$ je množica\n",
    "$$B(x_0, r) = \\{x \\in \\mathbb{R}^n; d(x, x_0) < r\\}$$\n",
    "Množica v $\\mathbb{R}^n$ je odprta, če lahko okoli vsake točke v množici narišemo odprto kroglo, ki je v celoti vsebovana v tej množici."
   ]
  },
  {
   "cell_type": "markdown",
   "metadata": {},
   "source": [
    "**Primer:** Bodi $A = \\{(x, y) \\in \\mathbb{R}^2; y \\neq 0\\}$. Ali je A odprta za $d(x, y) = \\sqrt{(x - y)^2}$?"
   ]
  },
  {
   "cell_type": "markdown",
   "metadata": {},
   "source": [
    "Zamislimo si, da je $(x_0, y_0) \\in A$. Ker je $y_0 \\neq 0$, je $|y_0| > 0$, torej ga lahko vzamemo za radij odprte krogle.\n",
    "Ali je mogoče, da je kakšna točka oblike $(x_1, 0)$ znotraj te krogle?"
   ]
  },
  {
   "cell_type": "markdown",
   "metadata": {},
   "source": [
    "Izračunajmo $d((x_1, 0), (x_0, y_0))$. Če razdaljo definiramo s standardnim skalarnim produktom, velja\n",
    "$$d((x_1, 0), (x_0, y_0)) = \\sqrt{(x_1 - x_0)^2 + y_0^2} \\geq |y_0|,$$\n",
    "torej takšna točka ne more ležati znotraj krogle."
   ]
  },
  {
   "cell_type": "markdown",
   "metadata": {},
   "source": [
    "**Definicija:** Množica je zaprta, ko je njen komplement odprta množica."
   ]
  },
  {
   "cell_type": "markdown",
   "metadata": {},
   "source": [
    "Prazna množica je hkrati odprta in zaprta: Zaprta, saj je njen komplement $\\mathbb{R}^n$, ki je odprta množica. Hkrati je odprta, saj bi sicer v njej obstajala $x \\in \\varnothing$, za katero ne bi mogli najti radija $r$, da bi bila $B(x, r) \\subseteq \\varnothing$. Ker v prazni množici ni nobenih točk, to gotovo ne more biti res, torej je $\\varnothing$ odprta. Posledično je $\\mathbb{R}^n$ hkrati odprta in zaprta, saj je njen komplement ($\\varnothing$) hkrati odprt in zaprt."
   ]
  },
  {
   "cell_type": "markdown",
   "metadata": {},
   "source": [
    "**Primer:** Bodi $A = {(x, y) \\in \\mathbb{R}^2; y = x^2}$. Pokaži, da je ta množica zaprta v $\\mathbb{R}^2$."
   ]
  },
  {
   "cell_type": "markdown",
   "metadata": {},
   "source": [
    "Preverimo, ali je $A^c$ odprta množica. Bodi $(x_0, y_0)$ taka točka, da je $y_0 \\neq x_0^2$. Poiskati moramo tak radij $r$, da odprta krogla $B((x_0, y_0), r)$ ne bo sekala parabole."
   ]
  },
  {
   "cell_type": "markdown",
   "metadata": {},
   "source": [
    "Iskanje razdalje do parabole se izkaže za težavno (z odvajanjem smo dobili polinom tretje stopnje). Na srečo iščemo le nek $r>0$, ničle polinoma pa bi nam dale največji tak radij."
   ]
  },
  {
   "cell_type": "markdown",
   "metadata": {},
   "source": [
    "Definiramo funkcijo $\\fn{f}{\\mathbb{R}^2}{\\mathbb{R}}$ s predpisom $f(x, y) = y - x^2 \\\\$\n",
    "Iščemo $\\delta \\geq 0$, da bo $f(x_0 + \\xi, y_0 + \\eta) \\geq 0$, dokler sta $|\\xi|,$ $|\\eta| < \\delta$ in je $f(x, y) = c > 0$."
   ]
  },
  {
   "cell_type": "markdown",
   "metadata": {},
   "source": [
    "$$f(x_0 + \\xi, y_0 + \\eta) = y_0 - x_0^2 + (y - 2x_0 \\xi - \\xi^2)$$\n",
    "Zahtevamo torej le, da je $|y - 2x_0 \\xi - \\xi^2| < c$"
   ]
  },
  {
   "cell_type": "markdown",
   "metadata": {},
   "source": [
    "$$|y - 2x_0 \\xi - \\xi^2| \\leq |\\eta| + 2|x_0||\\xi| + |\\xi| \\leq \\delta (2 + 2|x_0|) < c$$"
   ]
  },
  {
   "cell_type": "markdown",
   "metadata": {},
   "source": [
    "S tem smo dobili $\\delta$, ki zadošča za radij odprte krogle."
   ]
  },
  {
   "cell_type": "markdown",
   "metadata": {},
   "source": [
    "**Zvezne preslikave v $\\mathbb{R}^n$** $\\fn{f}{\\mathbb{R}^n}{\\mathbb{R}^n}$ je zvezna v $x_0 \\in \\mathbb{R}^n$, če\n",
    "$\\\\ \\forall \\varepsilon > 0 ~\\exists \\delta > 0$, da za $\\forall x \\in \\mathbb{R}^n$ velja $|f(x) - f(x_0)| < \\varepsilon$, dokler je $|x - x_0| < \\delta$"
   ]
  },
  {
   "cell_type": "markdown",
   "metadata": {},
   "source": [
    "Za zvezne preslikave ($f$) velja sledeče:\n",
    "- Če je $V \\subseteq \\mathbb{R}^n$ odprta, je $f^{-1}(V) = {x \\in \\mathbb{R}^n; f(x) \\in V}$ odprta v $\\mathbb{R}^n$.\n",
    "- Če je $Z \\subseteq \\mathbb{R}^n$ zaprta, je $f^{-1}(Z) = {x \\in \\mathbb{R}^n; f(x) \\in Z}$ zaprta v $\\mathbb{R}^n$."
   ]
  },
  {
   "cell_type": "markdown",
   "metadata": {},
   "source": [
    "**Zaporedja v $\\mathbb{R}^n$** $(a_n)_{n \\in n}$ je zaporedje v $\\mathbb{R}^n$. $a \\in \\mathbb{R}^n$ je njegova limita, če za $\\forall \\varepsilon > 0~\\exists n_0 \\in \\mathbb{R}^n$, da za vsak $n \\geq n_0$ velja $|a - a_n| < \\varepsilon$."
   ]
  },
  {
   "cell_type": "markdown",
   "metadata": {},
   "source": [
    "**Primer** Naj bo $Z \\in \\mathbb{R}^n$ zaprta podmnožica in $a_n$ zaporedje z elementi v $Z$. Naj bo $A$ limita tega zaporedja. Pokaži, da je $A \\in Z$."
   ]
  },
  {
   "cell_type": "markdown",
   "metadata": {},
   "source": [
    "Trditev dokažemo s protislovjem. Predpostavimo, da je $A \\in Z^c$ Ker je $Z^c$ odprta množica, obstaja nek radij (označimo $\\varepsilon$), da krogla $B(A, \\varepsilon)$ ne vsebuje nobenega elementa iz $Z$. Posledično ne vsebuje nobenega člena $a_n$, saj so ti vsi elementi $Z$. To pa pomeni, da A ne more biti limita zaporedja $a_n$, saj bi tedaj moral obstajati $n_0 \\in \\mathbb{N}$, da bi za vsak $n \\geq n_0$ krogla $B(A, \\varepsilon)$ vsebovala vse člene $a_n$."
   ]
  },
  {
   "cell_type": "markdown",
   "metadata": {},
   "source": [
    "Omeniti je treba, da to velja le za zaprte množice. Zaporedja znotraj odprtih množic imajo lahko limito, ki ne leži v množici. Primer: $a_n = 1/n$, na intervalu $(0, 1)$"
   ]
  },
  {
   "cell_type": "markdown",
   "metadata": {},
   "source": [
    "**Kompaktne množice:** $K \\subseteq \\mathbb{R}^n$ je kompaktna, če je zaprta in omejena. Ta definicija velja za polne množice, in $\\mathbb{R}^n$ je polna."
   ]
  },
  {
   "cell_type": "markdown",
   "metadata": {},
   "source": [
    "**Primer:** $$Z = \\{ \\left(\\frac{\\varphi ^2 \\cos \\varphi}{1 + \\varphi^2}, \\frac{\\varphi^2 \\sin \\varphi}{1 + \\varphi^2}\\right); \\varphi \\in [0, \\infty) \\} \\subseteq \\mathbb{R}^2$$"
   ]
  },
  {
   "cell_type": "markdown",
   "metadata": {},
   "source": [
    "Glede na to, da je $d(a, 0) < 1 \\forall a \\in Z$, sumimo, da je Z odprta. Preverimo lahko tako, da vzamemo zaporedje $$a_n = \\left(\\frac{4 \\pi^2 n^2}{1 + 4 \\pi^2 n^2}, 0\\right)$$ Vsi členi tega zaporedja so elementi $Z$, njegova limita (1, 0) pa ne, torej ne more biti zaprta."
   ]
  }
 ],
 "metadata": {
  "language_info": {
   "name": "python"
  }
 },
 "nbformat": 4,
 "nbformat_minor": 2
}
