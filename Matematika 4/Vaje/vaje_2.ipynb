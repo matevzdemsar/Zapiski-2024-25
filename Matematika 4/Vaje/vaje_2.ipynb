{
 "cells": [
  {
   "cell_type": "markdown",
   "metadata": {},
   "source": [
    "$\\newcommand{\\vct}[1]{\\overrightarrow{#1}}$\n",
    "$\\newcommand{\\pd}[2]{\\frac{\\partial {#1}}{\\partial {#2}}}$\n",
    "$\\newcommand{\\wfint}[5]{\\int _{#1}^{#2} \\Psi _{#3}^* {#5} \\Psi _{#4} dx}$\n",
    "$\\newcommand{\\comp}{\\mathbb{C}}$\n",
    "$\\newcommand{\\fn}[3]{{#1}: {#2} \\rightarrow {#3}}$\n",
    "$\\newcommand{\\matrix}[1]{\\begin{bmatrix}{#1}\\end{bmatrix}}$\n",
    "**Holomorfne funkcije**"
   ]
  },
  {
   "cell_type": "markdown",
   "metadata": {},
   "source": [
    "Bodi $\\fn{f}{D}{\\comp}$, kjer je $D$ odprta in omejena podmnožica $\\comp$ oziroma je območje v $\\comp$. $f$ je holomorfna na $D$, če je na $D$ odvedljiva - tedaj definiramo $\\displaystyle{f'(z) = \\lim_{h \\to 0}\\frac{f(z+h) - f(z)}{h}}$"
   ]
  },
  {
   "cell_type": "markdown",
   "metadata": {},
   "source": [
    "Če $f$ zapišemo kot $f(x + iy) = u(x, y) + iv(x, y)$, lahko zapišemo pogoj za odvedljivost, in sicer je $f$ holomorfna na $D$ natanko tedaj, ko sta $u$ in $v$ zvezni in parcialno odvedljivi na $D$ ter veljata Cauchy-Riemannovi enakosti:\n",
    "$$u_x = v_y$$\n",
    "$$u_y = - v_x$$"
   ]
  },
  {
   "cell_type": "markdown",
   "metadata": {},
   "source": [
    "**1. naloga:** Poišči odvod $\\sin(z)$ in $\\cos(z)$. Ti dve funkciji smo definirali kot\n",
    "$$\\sin(z) = \\sin x \\cosh y + i \\cos x \\sinh y$$\n",
    "$$\\cos(z) = \\cos x \\cosh y - i \\sin x \\sinh y$$"
   ]
  },
  {
   "cell_type": "markdown",
   "metadata": {},
   "source": [
    "$$\\sin'(z) = u_x + iv_x = \\cos x \\cosh y - i \\sin x \\sinh y = \\cos z$$\n",
    "$$\\cos'(z) = u_x + iv_x = -\\sin x \\cosh y - i \\cos x \\sinh y = \\sin z$$"
   ]
  },
  {
   "cell_type": "markdown",
   "metadata": {},
   "source": [
    "**2. naloga**: Bodi $\\fn{f}{D}{\\comp}$ nekonstantna holomorfna funkcija. Ali je $f_1 (z) = f(\\overline{z})$ holomorfna na $D$?"
   ]
  },
  {
   "cell_type": "markdown",
   "metadata": {},
   "source": [
    "$$f(x + iy) = u(x, y) + iv(x, y)$$\n",
    "$$u_x(x, y) = v_y(x, y)$$\n",
    "$$u_y(x, y) = - v_x(x, y)$$"
   ]
  },
  {
   "cell_type": "markdown",
   "metadata": {},
   "source": [
    "Zapišimo na ta način še $f_1$:\n",
    "$$f_1(x, y) = f(x - iy) = u(x, -y) + iv(x, -y) = U(x, y) + iV(x, y)$$\n",
    "Definirali smo funkciji $U(x, y) = u(x, -y)$ in $V(x, y) = v(x, -y)$"
   ]
  },
  {
   "cell_type": "markdown",
   "metadata": {},
   "source": [
    "$$U_x = u_x$$\n",
    "$$U_y = -u_y$$\n",
    "$$V_x = v_x$$\n",
    "$$V_y = -v_y$$"
   ]
  },
  {
   "cell_type": "markdown",
   "metadata": {},
   "source": [
    "$$U_x = u_x = v_y = -V_y$$\n",
    "$$U_y = -u_y = v_x = V_x$$"
   ]
  },
  {
   "cell_type": "markdown",
   "metadata": {},
   "source": [
    "Dobili smo $U_x = -V_y$ in $U_y = V_x$, torej Cauchy-Riemannovi enakosti veljata le, če sta oba parcialna odvoda enaka 0 - torej bi morala biti $f$ konstantna, da bi bila $f_1$ holomorfna."
   ]
  },
  {
   "cell_type": "markdown",
   "metadata": {},
   "source": [
    "**Opomba:** Kadar se v predpisu za $f$ pojavi $\\overline{z}$, tedaj $f$ zelo pogosto ni holomorfna."
   ]
  },
  {
   "cell_type": "markdown",
   "metadata": {},
   "source": [
    "**3. naloga:** Dana je funkcija $\\fn{f}{\\comp \\backslash 0}{\\comp}$ s predpisom $$f(x) = \\frac{x}{x^2 + y^2} - i\\frac{y}{x^2 + y^2}$$\n",
    "Pokaži, da je $f$ holomorfna in jo zapiši kot funkcijo kompleksne spremenljivke, torej $f(z)$"
   ]
  },
  {
   "cell_type": "markdown",
   "metadata": {},
   "source": [
    "Preverimo, ali velja $u_x = v_y$:\n",
    "$$\\frac{x^2 + y^2 - x \\cdot 2x}{(x^2 + y^2)^2} = \\frac{-x^2 - y^2 + y \\cdot 2y}{(x^2 + y^2)^2}$$\n",
    "$$\\frac{y^2 - x^2}{(x^2 + y^2)^2} = \\frac{y^2 - x^2}{(x^2 + y^2)^2}$$"
   ]
  },
  {
   "cell_type": "markdown",
   "metadata": {},
   "source": [
    "Preverimo, ali velja $u_y = v_x$:\n",
    "$$\\frac{x \\cdot 2y}{(x^2 - y^2)^2} = -\\frac{y \\cdot 2x}{(x^2 - y^2)^2}$$"
   ]
  },
  {
   "cell_type": "markdown",
   "metadata": {},
   "source": [
    "$f(z) = ?$ Opazimo, da se da $f$ zapisato kot\n",
    "$$f(x + iy) = \\frac{x - iy}{(x + iy)(x - iy)} = \\frac{1}{z}$$"
   ]
  },
  {
   "cell_type": "markdown",
   "metadata": {},
   "source": [
    "Splošnejši pristop pa bi bil, da označimo $\\displaystyle{x = \\frac{1}{2}(z + \\overline{z})}$ in $\\displaystyle{y = \\frac{1}{2i}(z - \\overline{z})}$, vendar to utegne biti nekoliko zamudno."
   ]
  },
  {
   "cell_type": "markdown",
   "metadata": {},
   "source": [
    "**4. naloga**: Bodi $\\fn{d}{D}{\\comp}$ holomorfna. Ali je $\\displaystyle{f_2(z) = \\overline{f(\\overline{z})}}$ holomorfna?"
   ]
  },
  {
   "cell_type": "markdown",
   "metadata": {},
   "source": [
    "Kot prej označimo $f(x + iy) = u(x, y) + iv(x, y)$\n",
    "$$f_2(x + iy) = \\overline{f(x - iy)} = u(x, -y) - iv(x, -y)$$"
   ]
  },
  {
   "cell_type": "markdown",
   "metadata": {},
   "source": [
    "Označimo $U(x, y) = u(x, -y)$ in $V(x, y) = -v(x, -y)$"
   ]
  },
  {
   "cell_type": "markdown",
   "metadata": {},
   "source": [
    "Izračunamo parcialne odvode obeh funkcij:\n",
    "$$U_x = u_x$$\n",
    "$$U_y = u_y$$\n",
    "$$V_x = - v_x$$\n",
    "$$V_y = -(-v_y) = v_y$$"
   ]
  },
  {
   "cell_type": "markdown",
   "metadata": {},
   "source": [
    "Hitro lahko preverimo, da Cauchy-Riemannovi enačbi veljata ne glede na izbiro $u$ in $v$, dokler je $f$ holomorfna."
   ]
  },
  {
   "cell_type": "markdown",
   "metadata": {},
   "source": [
    "Ali je funkcija $\\fn{f}{\\comp}{\\comp}$, $f(z) = y\\cdot \\mathfrak{Re}(z)$, holomorfna na $\\comp$?"
   ]
  },
  {
   "cell_type": "markdown",
   "metadata": {},
   "source": [
    "$$f(x + iy) = x^2 + ixy$$"
   ]
  },
  {
   "cell_type": "markdown",
   "metadata": {},
   "source": [
    "$$u(x, y) = x^2$$\n",
    "$$v(x, y) = xy$$"
   ]
  },
  {
   "cell_type": "markdown",
   "metadata": {},
   "source": [
    "$$u_x = 2x~\\,~u_y = 0$$\n",
    "$$v_x = y~\\,~v_y = x$$\n",
    "Cauchy-Riemannovi enakost nikakor ne veljat, razen, če je $z=0$."
   ]
  },
  {
   "cell_type": "markdown",
   "metadata": {},
   "source": [
    "**Harmonične funkcije:** funkcija $\\fn{u}{D}{\\mathbb{R}}$, kjer je $D \\subset \\mathbb{R}^2$, je holomorfna, če velja $u_{xx} + u_{yy} = 0$ na $D$. To dobimo iz Cauchy-Riemannovih enakosti, če obe odvajamo po $x$ in nato seštejemo: Če je $f$ holomorfna, sta $u$ in $v$ harmonični."
   ]
  },
  {
   "cell_type": "markdown",
   "metadata": {},
   "source": [
    "**Izrek:** Naj bo $\\fn{u}{D}{\\mathbb{R}}$ harmonična in $D$ enostavno povezano območje (tj. brez lukenj - svojčas smo takemu rekli tudi \"zvezdasto\"). Tedaj obstaja $\\fn{v}{D}{\\mathbb{R}}$, da je $f(x + iy) = u(x, y) + iv(x, y)$ holomorfna. Funkcijo $v$ lahko določimo do konstante natančno na podlagi Cauchy-Riemannovih enačb."
   ]
  },
  {
   "cell_type": "markdown",
   "metadata": {},
   "source": [
    "**5. naloga:** Bodi $\\fn{u}{\\mathbb{R}^2}{\\mathbb{R}}$ dana s predpisom $$u(x, y) = x^3 - 3xy^2$$\n",
    "Poišči tako funkcijo $\\fn{v}{\\mathbb{R}^2}{\\mathbb{R}}$, da bo $f(x + iy) = u(x, y) + iv(x, y)$ holomorfna (in nato funkcijo $f$ zapiši kot $f(z)$)."
   ]
  },
  {
   "cell_type": "markdown",
   "metadata": {},
   "source": [
    "Mimogrede: ali je $u$ harmonična? $\\\\$\n",
    "Da, kajti $u_{xx} = 6(x)$ in $u_{yy} = -6x$, torej je $u_{xx} + u_{yy} = 0$"
   ]
  },
  {
   "cell_type": "markdown",
   "metadata": {},
   "source": [
    "Iz Cauchy-Riemannovih enakosti dobimo\n",
    "$$v_y = 3x^2 - 3y^2$$\n",
    "$$v_x = -u_y = -6xy$$\n",
    "Tedaj je $$v = \\int (3x^2 - 3y^2) dy = 3x^2 y - y^3 + C(x)$$\n",
    "in hkrati $$v = \\int 6xydx = 3x^2 y + D(y)$$\n",
    "Sledi, da je C kar konstantna, torej je $v$ enaka\n",
    "$$v = 3x^2y - y^3 + C$$\n",
    "$$f(x + iy) = \\left(x^3 - 3xy^2\\right) + i(3x^2y - y^3 + C)$$\n"
   ]
  },
  {
   "cell_type": "markdown",
   "metadata": {},
   "source": [
    "Uganemo lahko, da je $f(z) = z^3$, preverimo:\n",
    "$$z^3 = (x + iy)^3 = x^3 + 3ix^2y - 3xy^2 - iy^3 = f(x + iy)$$"
   ]
  },
  {
   "cell_type": "markdown",
   "metadata": {},
   "source": [
    "Seveda pa se stvari lahko lotimo tudi na bolj formalen način."
   ]
  },
  {
   "cell_type": "markdown",
   "metadata": {},
   "source": [
    "**6. naloga:** Bodi $\\fn{u}{\\mathbb{R}^2}{\\mathbb{R}},~u(x, y) = e^x(\\cos ky + \\sin ky)$. Določi $k \\in \\mathbb{R}$ tako, da bo $u$ harmonična, in poišči tako $\\fn{v}{\\mathbb{R}^2}{\\mathbb{R}}$, da bo $f(x + iy) = u(x, y) + iv(x, y)$ holomorfna. Na koncu jo še izrazi kot $f(z)$."
   ]
  },
  {
   "cell_type": "markdown",
   "metadata": {},
   "source": [
    "$$u_{xx} = e^x\\left(\\cos ky + \\sin ky\\right)$$\n",
    "$$u_{yy} = e^x k^2\\left(-\\cos ky - \\sin ky\\right)$$"
   ]
  },
  {
   "cell_type": "markdown",
   "metadata": {},
   "source": [
    "Ker je $e^x \\neq 0 ~\\forall x \\in \\mathbb{R}$, mora veljati $(1 - k^2) = 0$, torej je $u$ harmonična za $k = \\pm 1$"
   ]
  },
  {
   "cell_type": "markdown",
   "metadata": {},
   "source": [
    "Zdaj skonstruirajmo funkcijo $v$:\n",
    "$$v_x = -u_y = k e^x (\\cos ky - \\sin ky)$$\n",
    "$$v_y = u_x = e^x (\\cos ky + \\sin ky)$$"
   ]
  },
  {
   "cell_type": "markdown",
   "metadata": {},
   "source": [
    "Obe integriramo in dobimo $$v(x, y) = e^x (\\cos y + \\sin y) + C$$"
   ]
  },
  {
   "cell_type": "markdown",
   "metadata": {},
   "source": [
    "$$f(x, y) = e^x (\\cos y + \\sin y) + i e^x (\\cos y + \\sin y) + C = e^x\\left[(\\cos y + i\\sin y) - i(\\cos y + i \\sin y)\\right] = e^{x + iy} -ie^{x + iy} + C = (1-i)e^z + C$$"
   ]
  },
  {
   "cell_type": "markdown",
   "metadata": {},
   "source": []
  }
 ],
 "metadata": {
  "language_info": {
   "name": "python"
  }
 },
 "nbformat": 4,
 "nbformat_minor": 2
}
