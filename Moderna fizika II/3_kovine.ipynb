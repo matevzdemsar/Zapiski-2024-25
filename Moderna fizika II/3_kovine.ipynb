{
 "cells": [
  {
   "cell_type": "markdown",
   "metadata": {},
   "source": [
    "$\\newcommand{\\avg}[1]{\\langle {#1} \\rangle}$"
   ]
  },
  {
   "cell_type": "markdown",
   "metadata": {},
   "source": [
    "$\\newcommand{\\vct}[1]{\\overrightarrow{#1}}$\n",
    "$\\newcommand{\\pd}[2]{\\frac{\\partial {#1}}{\\partial {#2}}}$\n",
    "$\\newcommand{\\wfint}[5]{\\int _{#1}^{#2} \\Psi _{#3}^* {#5} \\Psi _{#4} dx}$\n",
    "$\\newcommand{\\comp}{\\mathbb{C}}$\n",
    "$\\newcommand{\\fn}[3]{{#1}: {#2} \\rightarrow {#3}}$\n",
    "$\\newcommand{\\matrix}[1]{\\begin{bmatrix}{#1}\\end{bmatrix}}$\n",
    "**Električni tok v kovinah**"
   ]
  },
  {
   "cell_type": "markdown",
   "metadata": {},
   "source": [
    "Začnimo z Newtonovim zakonom:\n",
    "$$\\frac{d\\langle p \\rangle}{dt} = -e_0E - \\frac{\\langle p \\rangle}{\\tau}$$\n",
    "Tu $\\tau$ označuje povprečen čas med trkoma - želimo namreč upoštevati, da elektroni med seboj trkajo in se pri tem upočasnijo."
   ]
  },
  {
   "cell_type": "markdown",
   "metadata": {},
   "source": [
    "V stacionarnem stanju je $$\\frac{\\langle p \\rangle}{\\tau} = -e_0 E$$\n",
    "Izrazimo lahko povprečno hitrost, in sicer kot\n",
    "$$\\langle v \\rangle = -\\frac{e_0 \\tau}{m} E$$\n",
    "Vpeljemo oznako za gibljivost elektronov: $$\\beta _e = \\frac{e_0 \\tau}{m}$$\n",
    "Tako je $\\avg{v} = - \\beta _e E$"
   ]
  },
  {
   "cell_type": "markdown",
   "metadata": {},
   "source": [
    "Tedaj lahko izrazimo gostoto električnega toka:\n",
    "$$j_e = - e_0 n_e \\langle v \\rangle = n_e \\frac{e_0^2 \\tau}{m} E$$"
   ]
  },
  {
   "cell_type": "markdown",
   "metadata": {},
   "source": [
    "Tedaj lahko uvedemo še specifično prevodnost $\\sigma$ kot razmerje med gostoto električnega toka in zunanjim električnim poljem."
   ]
  },
  {
   "cell_type": "markdown",
   "metadata": {},
   "source": [
    "$$\\sigma = \\frac{e_0^2n_e\\tau}{m},~j = \\sigma E$$"
   ]
  },
  {
   "cell_type": "markdown",
   "metadata": {},
   "source": [
    "Če imamo npr. natrij, za katerega velja $\\sigma = 2.4 \\cdot 10^7 /\\Omega m$ in $n_e = 2.65 \\cdot 10^{28} /m^3$, lahko izračunamo povprečen čas med trkoma kot\n",
    "$$\\tau = \\frac{m_e \\sigma}{e_0^2n_e} = 3.2 \\cdot 10^{-14} s$$"
   ]
  },
  {
   "cell_type": "markdown",
   "metadata": {},
   "source": [
    "Izračunamo lahko tudi povprečno hitrost pri znanem toku, npr. $j = 1 A/m^3$. Tedaj je povprečna velikost hitrosti enaka $$\\left|\\avg{v}\\right| = \\frac{j}{n_ee^0} = 2.4 \\cdot 10^{-4} \\, m/s$$"
   ]
  },
  {
   "cell_type": "markdown",
   "metadata": {},
   "source": [
    "$\\newcommand{\\avg}[1]{\\langle {#1} \\rangle}$\n",
    "Opazimo, da je $\\left|\\avg{v}\\right| \\ll v_F$ (Več o Fermijevi hitrosti smo povedali na vajah 3, običajno je reda velikosti 1 m/s)"
   ]
  },
  {
   "cell_type": "markdown",
   "metadata": {},
   "source": [
    "Povprečna pot med trki je enaka $\\overline{l} = \\tau v_F$. Če nam uspe izraziti povprečno prosto pot elektronov, lahko izrazimo $\\tau$.\n",
    "Zamislimo si, da je okrog vsakega elektrona sipalni presek $\\sigma _S$. Produkt tega preseka s povprečno prosto potjo je nekakšen volumen, ki ga ima posamezen elektron samo zase.\n",
    "$$V = \\overline{l} \\sigma _S = \\frac{1}{n_e}$$\n",
    "$$\\overline{l} = \\frac{1}{\\sigma _S n_e} = \\frac{1}{\\pi R^2 n_e}$$\n",
    "Z $R$ smo označili radij, na katerega se mora atom kovine približati elektronu, da pride do sipanja. To zahteva gibanje, ki je posledica termičnega gibanja."
   ]
  },
  {
   "cell_type": "markdown",
   "metadata": {},
   "source": [
    "Pomagamoo si z ekviparticijskim izrekom:\n",
    "$$\\frac{1}{2} M \\overline{v^2} = \\overline{W_k} = \\frac{1}{2}k_BT$$\n",
    "Ker je $\\overline{v^2}$ posledica nihanja, jo izrazimo s kotno hitrostjo $\\omega$, ki pa je kar enaka :\n",
    "$$\\frac{1}{2} k_BT = \\frac{1}{2} M\\omega _D^2 R^2$$\n",
    "Tedaj je $\\displaystyle{R^2 = \\frac{k_BT}{M\\omega _D^2}}$"
   ]
  },
  {
   "cell_type": "markdown",
   "metadata": {},
   "source": [
    "Sledi:\n",
    "$$\\overline{l} = \\frac{M \\omega _D ^2}{m_e \\pi k_B T}$$\n",
    "$$\\tau = \\frac{\\overline{l}}{v_F} = \\frac{M \\omega _D ^2}{m_e \\pi k_B T v_F}$$"
   ]
  },
  {
   "cell_type": "markdown",
   "metadata": {},
   "source": [
    "Nazadnje lahko izrazimo električno upornost kot $1/\\sigma$:\n",
    "$$\\zeta = \\frac{\\pi n_a m k_B}{e_0^2 n_e M \\omega _D^2}T$$\n",
    "Pri čemer je $n_a$ gostota atomov, $n_e$ pa gostota valenčnih elektronov. To dvoje ni nujno enako, njuno razmerje pa je običajno enako številu valenčnih elektronov posameznega atoma."
   ]
  },
  {
   "cell_type": "markdown",
   "metadata": {},
   "source": [
    "**Toplotna prevodnost**"
   ]
  },
  {
   "cell_type": "markdown",
   "metadata": {},
   "source": [
    "Recimo, da obravnavamo dve površini z medsebojno temperaturno razliko $\\Delta T$\n",
    "$$\\Delta T = \\frac{dT}{dx}\\overline{l}$$\n",
    "$$j_Q = -\\delta _{n_e} \\frac{3}{2}k_B \\Delta T v_F$$\n",
    "$$\\delta _{n_e} = n_e \\frac{k_B T}{E_F}$$"
   ]
  },
  {
   "cell_type": "markdown",
   "metadata": {},
   "source": [
    "$$j_Q = -\\frac{3}{2} n_e \\frac{k_B T}{E_F} k_B \\Delta T v_F$$"
   ]
  },
  {
   "cell_type": "markdown",
   "metadata": {},
   "source": [
    "$E_F$ je kinetična energija delcev na robu prevodnega pasu. Ker je hitrost teh elektronov ravno $v_F$, jo lahko izrazimo kot $\\displaystyle{\\frac{1}{2}mv_F^2}$"
   ]
  },
  {
   "cell_type": "markdown",
   "metadata": {},
   "source": [
    "$$j_Q = -\\frac{3}{2} \\frac{n_e k_B^2 T \\Delta T v_F}{mv_F^2/2} = -3\\frac{n_e k_B^2 T \\Delta T}{mv_F}$$"
   ]
  },
  {
   "cell_type": "markdown",
   "metadata": {},
   "source": [
    "Upoštevamo še, da je $\\displaystyle{\\Delta T = \\frac{dT}{dx}\\tau v_F}$"
   ]
  },
  {
   "cell_type": "markdown",
   "metadata": {},
   "source": [
    "$$j_Q = - \\frac{3 n_e k_B^2 T \\tau}{m_e} \\frac{dT}{dx}$$\n",
    "Uvedemo toplotno prevodnost $\\displaystyle{\\lambda = \\frac{3 n_e k_B^2 T \\tau}{m_e}}$, tako je $\\displaystyle{j_Q = -\\lambda\\frac{dT}{dx}}$"
   ]
  },
  {
   "cell_type": "markdown",
   "metadata": {},
   "source": [
    "Kot zanimivost primerjajmo električno in toplotno prevodnost:\n",
    "$$\\frac{\\lambda}{\\sigma} = \\frac{3n_e k_B^2 T \\tau m_e}{m e_0^2 \\tau n_e} = \\frac{3k_B^2T}{e_0^2}$$\n",
    "Torej je razmerje med $\\lambda$ in $\\sigma$ neodvisno od snovi. To je pričakovati, saj toploto prenašajo elektroni, ki so v vseh snoveh enaki. Treba pa je omeniti, da naš faktor 3 ni popolnoma pravilen, saj smo nekje vmes naredili aproksimacijo. Pravilni rezultat se od našega ne razlikuje bistveno, gre pa za\n",
    "$$\\frac{\\lambda}{\\sigma} = \\frac{\\pi^2k_B^2T}{3e_0^2}$$\n",
    "Zmotili bi se torej za približno 10%."
   ]
  },
  {
   "cell_type": "markdown",
   "metadata": {},
   "source": [
    "**Polprevodniki**"
   ]
  },
  {
   "cell_type": "markdown",
   "metadata": {},
   "source": [
    "Gre za izolatorje z dovolj ozko energijsko vrzeljo med valenčnim in prevodnim pasom. Primer sta silicij ($W_g = 1.1~eV$) in germanij ($W_g = 0.7~eV$)"
   ]
  },
  {
   "cell_type": "markdown",
   "metadata": {},
   "source": [
    "Ko elektron (npr. zaradi termičnega gibanja) preide preko energijske vrzeli, se v valenčnem pasu ustvari vrzel, ki jo lahko obravnavamo kot nekakšen nosilec pozitivnega naboja."
   ]
  },
  {
   "cell_type": "markdown",
   "metadata": {},
   "source": [
    "Energija delca v prevodnem pasu je enaka:\n",
    "$$W_e = W_g + \\frac{1}{2} \\cdot \\frac{\\hbar^2 k^2}{m_e^*}$$\n",
    "Energija vrzeli pa:\n",
    "$$W_v = - \\frac{1}{2} \\cdot \\frac{\\hbar^2 k^2}{m_v^*}$$"
   ]
  },
  {
   "cell_type": "markdown",
   "metadata": {},
   "source": [
    "Električni tok v polprevodniku ima dva prispevka, in sicer od gibanja elektronov ter gibanja vrzeli.\n",
    "$$j = -e_0 n_e \\avg{v_e} + e_0 n_v \\avg{v_v} = e_0 n_e \\beta _e E + e_0 n_v \\beta _v E$$"
   ]
  },
  {
   "cell_type": "markdown",
   "metadata": {},
   "source": [
    "Označili smo $\\avg{v_v} = \\beta _v E$"
   ]
  },
  {
   "cell_type": "markdown",
   "metadata": {},
   "source": [
    "Fermijev energijski nivo, (ki ga dobimo iz Fermi-Diracove porazdelitve), je enak $W_F = W_g/2$, če je $m_v^* = m_e^*$"
   ]
  },
  {
   "cell_type": "markdown",
   "metadata": {},
   "source": [
    "Pokažimo, zakaj je tako: $m_v^* = m_e^*$ v čistih polprevodnikih, torej brez dodatnih primesi. To v praksi pomeni, da je število elektronov enako številu vrzeli.\n",
    "$$N_e = \\int f(W)dg,~\\text{pri čemer je } dg = \\frac{4\\pi (2m_e^*)^{3/2}}{h^3}\\sqrt{W-W_g}dW$$\n"
   ]
  },
  {
   "cell_type": "markdown",
   "metadata": {},
   "source": [
    "Označimo še $A_p = \\displaystyle{\\frac{4\\pi(2m_e^*)^{3/2}}{h^3}}$"
   ]
  },
  {
   "cell_type": "markdown",
   "metadata": {},
   "source": [
    "$$N_e = A_p \\int_{W_g}^{\\infty} \\frac{\\sqrt{W - W_g}}{e^{-\\beta(W - W_F)} + 1}dW$$"
   ]
  },
  {
   "cell_type": "markdown",
   "metadata": {},
   "source": [
    "Medtem je število vrzeli enako\n",
    "$$A_v \\int_{-\\infty}^{0}(1 - f(W))\\sqrt{-W}dW = A_v \\int_{-\\infty}^{0}\\left(1 - \\frac{1}{e^{\\beta(W - W_F)} + 1}\\sqrt{-W}dW\\right)$$\n",
    "Spet smo označili\n",
    "$$A_v = \\frac{4\\pi (2m_v^*)^{3/2}}{h^3}$$"
   ]
  },
  {
   "cell_type": "markdown",
   "metadata": {},
   "source": [
    "(Kajti v prevodnem pasu zavzemajo elektroni energije, večje od $W_g$, v valenčnem pa imajo vrzeli lahko le energije, manjše od 0)"
   ]
  },
  {
   "cell_type": "markdown",
   "metadata": {},
   "source": [
    "Izraz v integralu $N_v$ predelamo v $\\displaystyle{\\frac{1}{e^{-\\beta(W - W_F)} + 1}}$ in uvedemo novo spremenljivko $W' = -W$"
   ]
  }
 ],
 "metadata": {
  "language_info": {
   "name": "python"
  }
 },
 "nbformat": 4,
 "nbformat_minor": 2
}
