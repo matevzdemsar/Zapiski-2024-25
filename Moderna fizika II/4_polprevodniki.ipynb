{
 "cells": [
  {
   "cell_type": "markdown",
   "metadata": {},
   "source": [
    "$\\newcommand{\\vct}[1]{\\overrightarrow{#1}}$\n",
    "$\\newcommand{\\pd}[2]{\\frac{\\partial {#1}}{\\partial {#2}}}$\n",
    "$\\newcommand{\\dd}[2]{\\frac{\\mathrm{d} {#1}}{\\mathrm{d} {#2}}}$\n",
    "$\\newcommand{\\wfint}[5]{\\int _{#1}^{#2} \\Psi _{#3}^* {#5} \\Psi _{#4} dx}$\n",
    "$\\newcommand{\\comp}{\\mathbb{C}}$\n",
    "$\\newcommand{\\fn}[3]{{#1}: {#2} \\rightarrow {#3}}$\n",
    "$\\newcommand{\\matrix}[1]{\\begin{bmatrix}{#1}\\end{bmatrix}}$\n",
    "$\\newcommand{\\avg}[1]{\\langle {#1} \\rangle}$"
   ]
  },
  {
   "cell_type": "markdown",
   "metadata": {},
   "source": [
    "**Čisti polprevodniki**"
   ]
  },
  {
   "cell_type": "markdown",
   "metadata": {},
   "source": [
    "$$N_e = A_p \\int_{W_g}^{\\infty}\\frac{1}{1 + e^{\\beta(W_F - W)}}\\sqrt{W - W_g}dW = A_p \\int_{0}^{\\infty}\\frac{1}{1 + e^{\\beta(W'' + W_g - W_F)}}\\sqrt{W''}\\,dW''$$\n",
    "$$N_v = A_v \\int_{0}^{\\infty}\\frac{1}{1 + e^{\\beta(W - W_F)}}\\sqrt{-W}dW = A_v \\int_{0}^{\\infty}\\frac{1}{1 + e^{\\beta(W' + W_F)}}\\sqrt{W'}\\,dW'$$"
   ]
  },
  {
   "cell_type": "markdown",
   "metadata": {},
   "source": [
    "V prvem integralu smo uporbili substitucijo $W'' = W - W_g$, v drugem pa $W' = -W$. Vredno se je spomniti še na vrednosti konstant"
   ]
  },
  {
   "cell_type": "markdown",
   "metadata": {},
   "source": [
    "$$A_p = \\frac{4\\pi (2m_e^*)^2}{h^3}$$\n",
    "$$A_v = \\frac{4\\pi (2m_v^*)^2}{h^3}$$\n",
    "Iz razmerja efektivnih mas elektronov in vrzeli lahko torej izračunamo $W_F$. Če je $m_e^* = m_v^*$, je $\\displaystyle{W_F = \\frac{W_g}{2}} \\\\$\n",
    "Sicer: Še vedno uporabimo zahtevo $N_e = N_v$, dobimo $$W_F = \\frac{W_g}{2} + \\frac{3}{4}k_BT\\ln\\frac{m_v^*}{m_e^*}$$"
   ]
  },
  {
   "cell_type": "markdown",
   "metadata": {},
   "source": [
    "**Dopiran polprevodnik:** Npr. Silicij, dopiran z arzenom. Vezavna energija elektrona na $\\text{As}^+$ ion:\n",
    "$$W_0 = \\frac{1}{2}\\alpha^2mc^2 = -13.6\\,eV$$\n",
    "$$\\alpha = \\frac{e_0^2}{4\\pi \\varepsilon _0 \\hbar c} = \\frac{1}{137}$$\n",
    "Ker je elektron na arzen bolj šibko vezan, moramo pri njegovi vezavni energiji upoštevati tudi relativno dielektričnost silicija, ki je $\\varepsilon = 10$\n",
    "$$\\Delta W_d = -\\frac{e_0^4m_e^*}{32\\pi^2(\\varepsilon _0 \\varepsilon)^2\\hbar^2} = -\\frac{1}{2}\\alpha^2m_ec^2\\frac{1}{\\varepsilon^2} \\approx 10^{-3}\\,W_0$$"
   ]
  },
  {
   "cell_type": "markdown",
   "metadata": {},
   "source": [
    "To pomeni, da imamo znotraj energijske špranje stanja, ki jih elektroni lahko zasedejo. Podoben izračun lahko opravimo za aluminij (ki ni donor elektronov, temveč akceptor) in dobimo podoben, le različno predznačen, rezultat.\n",
    "- As v Si: $\\Delta W_d = -0.05\\,eV$\n",
    "- Al v Si: $\\Delta W_a = 0.06\\,eV$"
   ]
  },
  {
   "cell_type": "markdown",
   "metadata": {},
   "source": [
    "Označimo z $n_d$ številsko gostoto donorskih stanj. Tedaj je $$n_e = n_v + n_d(1 - f(W_d)) = n_v + n_d \\frac{1}{e^{\\beta(W_F - W_d)} + 1}$$"
   ]
  },
  {
   "cell_type": "markdown",
   "metadata": {},
   "source": [
    "$$W_F = W_g - k_BT\\ln\\frac{n_e}{n_d}$$"
   ]
  },
  {
   "cell_type": "markdown",
   "metadata": {},
   "source": [
    "V donorjih je $W_d = W_g + \\Delta W_d$ (seveda je $W_d$ negativen), v akceptorjih pa je $W_a = \\Delta W_a$"
   ]
  },
  {
   "cell_type": "markdown",
   "metadata": {},
   "source": [
    "**Stik P-N** Polprevodnikom z donorskim pasom pravimo polprevodniki tipa $N$, polprevodnikom z akceptorskim pasom pa polprevodniki tipa $P$. Če ju staknemo, pbo prišlo do rekombinacije, zaradi katere bo nastalo električno polje okoli stika. Z $x=0$ označimo položaj stika. $\\\\[3mm]$\n",
    "- $x<0$: $\\displaystyle{E(x) = -\\frac{\\rho}{\\varepsilon \\varepsilon _0}(x - \\frac{x_0}{2})}$ $\\\\[3mm]$\n",
    "- $x>0$: $\\displaystyle{E(x) = \\frac{\\rho}{\\varepsilon \\varepsilon _0}}(x + \\frac{x_0}{2})$ $\\\\[3mm]$\n",
    "- $x=0$: $\\displaystyle{E(x) = \\frac{\\rho}{\\varepsilon \\varepsilon _0}}\\frac{x_0}{2}$ $\\\\[3mm]$"
   ]
  },
  {
   "cell_type": "markdown",
   "metadata": {},
   "source": []
  }
 ],
 "metadata": {
  "language_info": {
   "name": "python"
  }
 },
 "nbformat": 4,
 "nbformat_minor": 2
}
