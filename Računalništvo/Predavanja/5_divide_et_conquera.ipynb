{
 "cells": [
  {
   "cell_type": "markdown",
   "metadata": {},
   "source": [
    "Recimo, da imamo problem reda $n$. Namesto, da bi ga reševali v trenutni obliki, ga razdelimo na $a$ podproblemov reda $n/b$. Ko to ponovimo dovoljkrat, dobimo $\\displaystyle{a^{\\log_b(n)}}$ podproblemov reda 1. Ko te rešimo, rešitve združimo nazaj v rešitev na originalni problem."
   ]
  },
  {
   "cell_type": "markdown",
   "metadata": {},
   "source": [
    "$$a^{log_b(n)} = b^{\\log_b(a)\\cdot\\log_b(n)} = n^{\\log_b(a)}$$"
   ]
  },
  {
   "cell_type": "markdown",
   "metadata": {},
   "source": [
    "$$T(n) = \\sum_{i=0}^{\\log_b(n)}a^{i}\\left[U\\left(\\frac{n}{b^i}\\right) + V\\left(\\frac{n}{b^i}\\right)\\right] + O(n^{\\log_b(a)})$$"
   ]
  },
  {
   "cell_type": "markdown",
   "metadata": {},
   "source": [
    "Hitrost je torej odvisna od hitrosti $U(n) + V(n)$. Da bomo manj pisali, označimo to z $f(n)$."
   ]
  },
  {
   "cell_type": "markdown",
   "metadata": {},
   "source": [
    "**Krovni izrek:** Imamo tri možnosti.\n",
    "1. $f(n) = O\\left(n^{\\log_b(a) - \\varepsilon}\\right),\\,\\varepsilon > 0 \\Rightarrow T(n) = O\\left(n^{\\log_b(a)}\\right)$\n",
    "2. $f(n) = O\\left(n^{\\log_b(a)}\\right)\\Rightarrow T(n) = O\\left(n^{\\log_b(a)}\\log(n)\\right)$\n",
    "3. $f(n) = O\\left(n^{\\log_b(a) + \\varepsilon}\\right),\\,\\varepsilon > 0 \\Rightarrow T(n) = O(f(n))$"
   ]
  },
  {
   "cell_type": "markdown",
   "metadata": {},
   "source": [
    "**Dokaz:** Začnimo s prvo možnostjo:\n",
    "$$T(n) = \\sum_{i=0}^{\\log_b(n)}a^i\\left(\\frac{n}{b^i}\\right)^{\\log_b(a) - \\varepsilon} = n^{\\log_b(a)-\\varepsilon} \\sum_{i=0}^{\\log_b(a)}a^{i}b^{-i\\log_b(a)}b^{i\\varepsilon}= \\sum_{i=0}^{\\log_b(a)}a^{i}a^{-i}b^{i\\varepsilon} = ... = O\\left(n^{\\log_b(a)}\\right)$$\n",
    "(Vmes samo uporabimo izraz za vsoto končne geometrijske vrste)"
   ]
  },
  {
   "cell_type": "markdown",
   "metadata": {},
   "source": [
    "Druga možnost:\n",
    "$$\\sum_{i=0}^{\\log_b(a)}a^if\\left(\\frac{n}{b^i}\\right) = n^{\\log_b(a)}\\sum_{i=0}{\\log_b(a)}a^ia^{-i} = n^{\\log_b(a)}\\log_b(n) + ... = O\\left(n^{\\log_b(a)}\\log_b(n)\\right)$$"
   ]
  },
  {
   "cell_type": "markdown",
   "metadata": {},
   "source": [
    "Tretja možnost: Velja $$af\\left(\\frac{n}{b}\\right) \\leq cf(n),\\,0<c<1$$\n",
    "$$\\sum_{i=0}^{\\log_b(n)}a^{i}f\\left(\\frac{n}{b^i}\\right)^{\\log_b(a) + \\varepsilon} \\leq n^{\\log_b(a) + \\varepsilon} \\sum_{i=0}^{\\log_b(a)}c^i = ... = n^{\\log_b(a)+\\varepsilon}$$"
   ]
  },
  {
   "cell_type": "markdown",
   "metadata": {},
   "source": [
    "Primera principa \"deli in vladaj\" sta bisekcija ($b = 2, a = 1$) in merge sort ($b = a = 2$)"
   ]
  },
  {
   "cell_type": "markdown",
   "metadata": {},
   "source": [
    "**Množenje matrik:** Denimo, da sta obe matriki velikosti $n \\times n$. Tedaj je Skupno število množenj enako $n^3$, seštevanj pa $n^2(n-1)$, ima postopek skupno časovno zahtevnost $O(n^3)$."
   ]
  },
  {
   "cell_type": "markdown",
   "metadata": {},
   "source": [
    "Matrično seštevanje pa ima zahtevnost $O(n^2)$, saj ima matrika $n^2$ elementov, ki jih moramo samo sešteti med sabo."
   ]
  },
  {
   "cell_type": "markdown",
   "metadata": {},
   "source": [
    "Kako zmanjšati število množenj?"
   ]
  },
  {
   "cell_type": "markdown",
   "metadata": {},
   "source": [
    "**Strassenova delitev:** Uporabimo bločno množenje:\n",
    "$$A = \\begin{bmatrix} A_{11} & A_{12} \\\\ A_{21} & A_{22} \\end{bmatrix}~B = \\begin{bmatrix} B_{11} & B_{12} \\\\ B_{21} & B_{22} \\end{bmatrix}$$\n",
    "$$C = \\begin{bmatrix} C_{11} & C_{12} \\\\ C_{21} & C_{22} \\end{bmatrix}$$"
   ]
  },
  {
   "cell_type": "markdown",
   "metadata": {},
   "source": [
    "Zdaj lahko namesto osmih množenj naredimo samo sedem, kar nam stvar opazno pospeši. To plačamo tako, da namesto štirih seštevanj naredimo 18, vendar je seštevanje matrik $O(n^2)$, zato v asimptotski zahtevnosti ni pomemben. Le-ta je enaka približno $O(n^{2.8})$"
   ]
  },
  {
   "cell_type": "markdown",
   "metadata": {},
   "source": [
    "**Primer:** Računanje pospeškov posameznih teles v sistemu teles. Naivna metoda bi bila posikati vse pare sil - teh je $\\displaystyle{\\frac{n(n-1)}{2}}$, zato imamo časovno zahtevnost $O(n^2)$"
   ]
  },
  {
   "cell_type": "markdown",
   "metadata": {},
   "source": [
    "Kako stvar pospešimo? Če izračunamo težišče vseh ostalih teles, lahko izračunamo le silo težišča na originalno telo. Pri tem imamo celo majhno računsko napako. Edina zahteva je, da mora biti razdalja med posameznim telesom in ostalimi telesi dovolj velika."
   ]
  },
  {
   "cell_type": "markdown",
   "metadata": {},
   "source": [
    "Formalno razdelimo naše območje na kvadrate/kocke, dokler ti ne vsebujejo največ eno telo. Tedaj z lahkoto izračunamo težišče vsakega kvadrata/kocke. Zaenkrat obravnavajmo primer s kvadrati, s kockami je podobno. Nazadnje ocenimo, ali se nam bolj splača izračunati posamezne sile ali samo silo do skupnega težišča - za to izračunamo nek parameter $b$. Časovna zahtevnost tega postopka je $O(n\\log n)$"
   ]
  }
 ],
 "metadata": {
  "language_info": {
   "name": "python"
  }
 },
 "nbformat": 4,
 "nbformat_minor": 2
}
