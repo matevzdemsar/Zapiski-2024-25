{
 "cells": [
  {
   "cell_type": "markdown",
   "metadata": {},
   "source": [
    "Preden se lotimo urejanja, najprej potrebujemo dober algoritem za mešanje. Obstaja več možnosti, najhitrejša je tale:\n",
    "1. Izberemo naključen element seznama in ga damo na prvo mesto. (Verjetnost, da nek element pristane tu, je 1/N.)\n",
    "2. Postopek ponovimo s seznamom, ki ne vsebuje prvega elementa.\n",
    "3. In tako dalje."
   ]
  },
  {
   "cell_type": "code",
   "execution_count": 9,
   "metadata": {},
   "outputs": [],
   "source": [
    "import random\n",
    "def mix(l):\n",
    "    if not len(l):\n",
    "        return l\n",
    "    else:\n",
    "        i = random.choice(range(len(l))) - 1\n",
    "        l[0], l[i] = l[i], l[0]\n",
    "        return [l[0]] + mix(l[1:])"
   ]
  },
  {
   "cell_type": "code",
   "execution_count": 15,
   "metadata": {},
   "outputs": [
    {
     "name": "stdout",
     "output_type": "stream",
     "text": [
      "[3, 7, 5, 1, 4, 8, 9, 6, 2]\n"
     ]
    }
   ],
   "source": [
    "x = [1, 2, 3, 4, 5, 6, 7, 8, 9]\n",
    "print(mix(x))"
   ]
  },
  {
   "cell_type": "markdown",
   "metadata": {},
   "source": [
    "Načini urejanja:\n",
    "- Urejanje z izbiranjem: Izmed elementov seznama izberemo najmanjšega in ga damo na začetek. Postopek ponovimo s preostankom seznama. Časovna zahtevnost je $O(n^2)$ in ni stabilno (če sta dva elementa enaka, ju vseeno zamenja)\n",
    "- Mehurčno urejanje: Gledamo pare zaporednih elementov in ju zamenjamo tako, da je večji na koncu. Ko gremo s tem čez cel seznam, bo največji element na koncu. Postopek ponovimo s preostankom seznama.\n",
    "- Merge sort: Ko imamo dva urejena seznama (dolžin $m$ in $n$), ju lahko združimo s časovno zahtevnostjo $O(n+m)$: Določimo indeksa $i$ in $j$, ki sta na začetku enaka 0, in definiramo nov seznam $c$. Če je $a[i] < b[j]$, tedaj $a[i]$ vstavimo v $c$ in $i$ povečamo za 1. Če je $a[i] > b[j]$, tedaj $b[j]$ vstavimo v $c$ in $j$ povečamo za 1. Temu postopku pravimo zlivanje. Ko urejamo seznam, ga razdelimo na dve polovici, in ko uredimo ti polovici, ju s tem postopkom zlijemu skupaj. Stvar pa je rekurzivna, torej lahko tudi polovici seznama uredimo po takem postopku. Časovna zahtevnost takega postopka je $O(n \\log n)$\n",
    "- Quicksort: Izberemo pivot in seznam razdelimo na seznam elementov, ki so od tega pivota manjši, in seznam elementov, ki so od tega pivota večji. Postopek rekurzivno ponovimo za ta seznama."
   ]
  },
  {
   "cell_type": "markdown",
   "metadata": {},
   "source": []
  }
 ],
 "metadata": {
  "kernelspec": {
   "display_name": "Python 3",
   "language": "python",
   "name": "python3"
  },
  "language_info": {
   "codemirror_mode": {
    "name": "ipython",
    "version": 3
   },
   "file_extension": ".py",
   "mimetype": "text/x-python",
   "name": "python",
   "nbconvert_exporter": "python",
   "pygments_lexer": "ipython3",
   "version": "3.13.2"
  }
 },
 "nbformat": 4,
 "nbformat_minor": 2
}
