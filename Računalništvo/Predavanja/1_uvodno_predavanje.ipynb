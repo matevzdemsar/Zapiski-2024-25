{
 "cells": [
  {
   "cell_type": "markdown",
   "metadata": {},
   "source": [
    "Predavanja: 2 uri na teden $\\\\$\n",
    "Vaje: 1 ura na teden $\\\\$\n",
    "Pogoj za ustni izpit je opravljen pisni izpit, če slednjega pišemo 10, nam ni treba na ustni izpit."
   ]
  },
  {
   "cell_type": "markdown",
   "metadata": {},
   "source": [
    "Snov:\n",
    "- osnovni python\n",
    "- napredni python\n",
    "- algoritmi in algoritmične paradigme\n",
    "- podatkovne strukture\n",
    "- toolbox uporabnih stvari"
   ]
  },
  {
   "cell_type": "markdown",
   "metadata": {},
   "source": [
    "$\\textbf{Python}$"
   ]
  },
  {
   "cell_type": "markdown",
   "metadata": {},
   "source": [
    "- Boolove vrednosti: True in False (operatorji and, or, not)\n",
    "- Številske vrednosti: Cela števila (int), float(ing point)\n",
    "- Nizi znakov."
   ]
  },
  {
   "cell_type": "markdown",
   "metadata": {},
   "source": [
    "Cela števila so (v principu) lahko arbitrarno velika, se bo pa pri 4300 števkah pritožil, da je stvar verjetno slaba ideja."
   ]
  },
  {
   "cell_type": "markdown",
   "metadata": {},
   "source": [
    "Števila s 'plavajočo vejico' (float) so natančna le na 53 bitov, kar je"
   ]
  },
  {
   "cell_type": "code",
   "execution_count": 2,
   "metadata": {},
   "outputs": [
    {
     "data": {
      "text/plain": [
       "15.954589770191001"
      ]
     },
     "execution_count": 2,
     "metadata": {},
     "output_type": "execute_result"
    }
   ],
   "source": [
    "import math\n",
    "math.log(2 ** 53, 10)"
   ]
  },
  {
   "cell_type": "markdown",
   "metadata": {},
   "source": [
    "16 decimalk. Pri čemer npr `1000.0` ne šteje kot 1 decimalka, temveč 5."
   ]
  },
  {
   "cell_type": "markdown",
   "metadata": {},
   "source": [
    "Kaj naredimo, če hočemo string \"Mati je rekla 'kruh'\"? $\\\\$\n",
    "\\'kruh\\' "
   ]
  },
  {
   "cell_type": "markdown",
   "metadata": {},
   "source": [
    "Imamo tudi druge znake:\n",
    "- `\\n` - nova vrstica,\n",
    "- `\\t` - tabulator itd, $\\\\$\n",
    "z \\ lahko napišemo vse Unicode znake, običajno se take stvari pogoogla."
   ]
  },
  {
   "cell_type": "markdown",
   "metadata": {},
   "source": [
    "Primer neumnosti, ki jih lahko dela python:"
   ]
  },
  {
   "cell_type": "code",
   "execution_count": 4,
   "metadata": {},
   "outputs": [
    {
     "name": "stdout",
     "output_type": "stream",
     "text": [
      "<class 'int'> 4\n",
      "<class 'float'> 22.4\n",
      "<class 'int'> 11\n",
      "<class 'str'>  x  x  x  x  x  x  x  x  x  x  x \n",
      "<class 'bool'> False\n"
     ]
    }
   ],
   "source": [
    "x = False\n",
    "\n",
    "x = x + 4\n",
    "print(type(x), x)\n",
    "x = x * 5.6\n",
    "print(type(x), x)\n",
    "x = int(x / 2)\n",
    "print(type(x), x)\n",
    "x = x * ' x '\n",
    "print(type(x), x)\n",
    "x = not x\n",
    "print(type(x), x)\n"
   ]
  },
  {
   "cell_type": "markdown",
   "metadata": {},
   "source": [
    "Za začetnike je to prijazno, se pa tega ni dobro navaditi."
   ]
  },
  {
   "cell_type": "markdown",
   "metadata": {},
   "source": [
    "$\\textbf{Kontrolne strukture}$\n",
    "- pogojni stavki `if`, `elif`, `else`\n",
    "- `while` zanka\n",
    "- `for` zanka\n",
    "- `break` in `continue`\n",
    "- včasih `try` in `except`"
   ]
  },
  {
   "cell_type": "markdown",
   "metadata": {},
   "source": [
    "`for` zanko uporabimo, ko ima zanka predvideno število korakov. `while` zanka dobi navodila, kdaj naj se ustavi. $\\\\$\n",
    "Zanke `while` se očitno lažje zaciklajo. Prekinemo jih z `break`. $\\\\$\n",
    "`continue` zanko prekine in nato nadaljuje z naslednjo iteracijo. Na primer:"
   ]
  },
  {
   "cell_type": "code",
   "execution_count": 6,
   "metadata": {},
   "outputs": [
    {
     "name": "stdout",
     "output_type": "stream",
     "text": [
      "12\n",
      "9\n",
      "6\n",
      "3\n",
      "0\n"
     ]
    }
   ],
   "source": [
    "x = 15\n",
    "while x > 0:\n",
    "    x -= 1\n",
    "    if x % 3:\n",
    "        continue\n",
    "    else:\n",
    "        print(x)"
   ]
  },
  {
   "cell_type": "markdown",
   "metadata": {},
   "source": [
    "`try` in `except` je mehanizem za lovljenje napak. Če imamo na primer neko število, lahko preverimo, ali je enako 0:"
   ]
  },
  {
   "cell_type": "code",
   "execution_count": 3,
   "metadata": {},
   "outputs": [
    {
     "name": "stdout",
     "output_type": "stream",
     "text": [
      "To število je 0.\n",
      "To število ni 0.\n"
     ]
    }
   ],
   "source": [
    "# s = int(input())\n",
    "# npr. s = 0\n",
    "s = 0\n",
    "try:\n",
    "    10 / s\n",
    "except:\n",
    "    print('To število je 0.')\n",
    "\n",
    "s = 1\n",
    "try:\n",
    "    10 / s\n",
    "    print('To število ni 0.')\n",
    "except:\n",
    "    print('To število je 0.')"
   ]
  },
  {
   "cell_type": "markdown",
   "metadata": {},
   "source": [
    "Lahko smo bolj specifični:"
   ]
  },
  {
   "cell_type": "code",
   "execution_count": 4,
   "metadata": {},
   "outputs": [
    {
     "name": "stdout",
     "output_type": "stream",
     "text": [
      "To število je 0.\n"
     ]
    }
   ],
   "source": [
    "s = 0\n",
    "try:\n",
    "    10 / s\n",
    "except ZeroDivisionError:\n",
    "    print('To število je 0.')"
   ]
  },
  {
   "cell_type": "markdown",
   "metadata": {},
   "source": [
    "Poznamo `ZeroDivisionError`, `IndexError` ipd."
   ]
  },
  {
   "cell_type": "markdown",
   "metadata": {},
   "source": [
    "`list`, `tuple`:\n",
    "`list`zapišemo z ogletimi oklepaji, `tuple` z navadnimi."
   ]
  },
  {
   "cell_type": "code",
   "execution_count": 5,
   "metadata": {},
   "outputs": [],
   "source": [
    "s = [1, 2, 3, 'string']\n",
    "s[2] = 4"
   ]
  },
  {
   "cell_type": "code",
   "execution_count": 6,
   "metadata": {},
   "outputs": [
    {
     "data": {
      "text/plain": [
       "[1, 2, 4, 'string']"
      ]
     },
     "execution_count": 6,
     "metadata": {},
     "output_type": "execute_result"
    }
   ],
   "source": [
    "s"
   ]
  },
  {
   "cell_type": "markdown",
   "metadata": {},
   "source": [
    "Za seznam `s` lahko uporabimo indekse od -4 do 3 (če je negativen, šteje od zadaj). Ko računamo indekse, moramo biti pozorni, da ni \"izven\" seznama. Ravno tako moramo paziti, da ne dobimo negativnega indeksa."
   ]
  },
  {
   "cell_type": "markdown",
   "metadata": {},
   "source": [
    "List slicing:"
   ]
  },
  {
   "cell_type": "code",
   "execution_count": 7,
   "metadata": {},
   "outputs": [
    {
     "data": {
      "text/plain": [
       "[2, 4]"
      ]
     },
     "execution_count": 7,
     "metadata": {},
     "output_type": "execute_result"
    }
   ],
   "source": [
    "s[1:3]"
   ]
  },
  {
   "cell_type": "markdown",
   "metadata": {},
   "source": [
    "(zgornja meja je izključena - s[0:len(s)] vrne cel seznam.)"
   ]
  },
  {
   "cell_type": "code",
   "execution_count": 8,
   "metadata": {},
   "outputs": [
    {
     "data": {
      "text/plain": [
       "[4, 'string']"
      ]
     },
     "execution_count": 8,
     "metadata": {},
     "output_type": "execute_result"
    }
   ],
   "source": [
    "s[2:len(s)]"
   ]
  },
  {
   "cell_type": "code",
   "execution_count": 9,
   "metadata": {},
   "outputs": [
    {
     "data": {
      "text/plain": [
       "[4, 'string']"
      ]
     },
     "execution_count": 9,
     "metadata": {},
     "output_type": "execute_result"
    }
   ],
   "source": [
    "s[2:]"
   ]
  },
  {
   "cell_type": "markdown",
   "metadata": {},
   "source": [
    "s[::2] nam da vsak drugi element, s[::-1] nam vrne cel seznam od zadaj, ipd."
   ]
  },
  {
   "cell_type": "markdown",
   "metadata": {},
   "source": [
    "Stvari, ki jih lahko še počnemo s seznami:"
   ]
  },
  {
   "cell_type": "code",
   "execution_count": 10,
   "metadata": {},
   "outputs": [
    {
     "data": {
      "text/plain": [
       "[1, 2, 4, 'string', 'a', 'b', 'c']"
      ]
     },
     "execution_count": 10,
     "metadata": {},
     "output_type": "execute_result"
    }
   ],
   "source": [
    "s + ['a', 'b', 'c']"
   ]
  },
  {
   "cell_type": "code",
   "execution_count": 11,
   "metadata": {},
   "outputs": [
    {
     "data": {
      "text/plain": [
       "[1, 2, 4, 'string', 1, 2, 4, 'string', 1, 2, 4, 'string']"
      ]
     },
     "execution_count": 11,
     "metadata": {},
     "output_type": "execute_result"
    }
   ],
   "source": [
    "s * 3"
   ]
  },
  {
   "cell_type": "markdown",
   "metadata": {},
   "source": [
    "`tuple` je podoben seznamu, vendar ga ne moremo spreminjati. To je uporabno za to ali ono."
   ]
  },
  {
   "cell_type": "markdown",
   "metadata": {},
   "source": [
    "Podobne akrobacije kot s seznami lahko počnemo tudi z nabori:"
   ]
  },
  {
   "cell_type": "code",
   "execution_count": 12,
   "metadata": {},
   "outputs": [
    {
     "data": {
      "text/plain": [
       "(1, 2, 3, 3, 4, 5)"
      ]
     },
     "execution_count": 12,
     "metadata": {},
     "output_type": "execute_result"
    }
   ],
   "source": [
    "(1, 2, 3) + (3, 4, 5)"
   ]
  },
  {
   "cell_type": "markdown",
   "metadata": {},
   "source": [
    "Dobimo nov nabor, torej to smemo. Ne smemo pa poskušati spreminjati tega nabora:"
   ]
  },
  {
   "cell_type": "code",
   "execution_count": 14,
   "metadata": {},
   "outputs": [
    {
     "name": "stdout",
     "output_type": "stream",
     "text": [
      "Tega ne smemo.\n"
     ]
    }
   ],
   "source": [
    "t = (1, 2, 3)\n",
    "try:\n",
    "    t[2] = 0\n",
    "except TypeError:\n",
    "    print('Tega ne smemo.')"
   ]
  },
  {
   "cell_type": "markdown",
   "metadata": {},
   "source": [
    "Množice:"
   ]
  },
  {
   "cell_type": "code",
   "execution_count": 16,
   "metadata": {},
   "outputs": [],
   "source": [
    "mnozica = set([1, 3, 3, 3, 4, 5])"
   ]
  },
  {
   "cell_type": "code",
   "execution_count": 17,
   "metadata": {},
   "outputs": [
    {
     "data": {
      "text/plain": [
       "{1, 3, 4, 5}"
      ]
     },
     "execution_count": 17,
     "metadata": {},
     "output_type": "execute_result"
    }
   ],
   "source": [
    "mnozica"
   ]
  },
  {
   "cell_type": "code",
   "execution_count": 18,
   "metadata": {},
   "outputs": [],
   "source": [
    "mnozica_2 = set([2, 3, 4, 5, 6])"
   ]
  },
  {
   "cell_type": "code",
   "execution_count": 19,
   "metadata": {},
   "outputs": [
    {
     "data": {
      "text/plain": [
       "{1, 2, 3, 4, 5, 6}"
      ]
     },
     "execution_count": 19,
     "metadata": {},
     "output_type": "execute_result"
    }
   ],
   "source": [
    "mnozica | mnozica_2"
   ]
  },
  {
   "cell_type": "code",
   "execution_count": 20,
   "metadata": {},
   "outputs": [
    {
     "data": {
      "text/plain": [
       "{3, 4, 5}"
      ]
     },
     "execution_count": 20,
     "metadata": {},
     "output_type": "execute_result"
    }
   ],
   "source": [
    "mnozica & mnozica_2"
   ]
  },
  {
   "cell_type": "code",
   "execution_count": 22,
   "metadata": {},
   "outputs": [
    {
     "data": {
      "text/plain": [
       "{2, 6}"
      ]
     },
     "execution_count": 22,
     "metadata": {},
     "output_type": "execute_result"
    }
   ],
   "source": [
    "mnozica_2 - mnozica"
   ]
  },
  {
   "cell_type": "markdown",
   "metadata": {},
   "source": [
    "$\\textbf{Slovarji}$"
   ]
  },
  {
   "cell_type": "code",
   "execution_count": 23,
   "metadata": {},
   "outputs": [],
   "source": [
    "dictionary = {\"key1\": 123, \"key2\": 456, \"key3\": 789}"
   ]
  },
  {
   "cell_type": "code",
   "execution_count": 24,
   "metadata": {},
   "outputs": [
    {
     "name": "stdout",
     "output_type": "stream",
     "text": [
      "key1\n",
      "key2\n",
      "key3\n"
     ]
    }
   ],
   "source": [
    "for x in dictionary:\n",
    "    print(x)"
   ]
  },
  {
   "cell_type": "code",
   "execution_count": 25,
   "metadata": {},
   "outputs": [
    {
     "data": {
      "text/plain": [
       "123"
      ]
     },
     "execution_count": 25,
     "metadata": {},
     "output_type": "execute_result"
    }
   ],
   "source": [
    "dictionary[\"key1\"]"
   ]
  },
  {
   "cell_type": "code",
   "execution_count": 27,
   "metadata": {},
   "outputs": [
    {
     "name": "stdout",
     "output_type": "stream",
     "text": [
      "('key1', 123)\n",
      "('key2', 456)\n",
      "('key3', 789)\n"
     ]
    }
   ],
   "source": [
    "for x in dictionary.items():\n",
    "    print(x)"
   ]
  },
  {
   "cell_type": "markdown",
   "metadata": {},
   "source": [
    "$\\textbf{Funkcije}$"
   ]
  },
  {
   "cell_type": "code",
   "execution_count": 29,
   "metadata": {},
   "outputs": [],
   "source": [
    "def ime_funkcije(argument1, argument2):\n",
    "    pass"
   ]
  },
  {
   "cell_type": "markdown",
   "metadata": {},
   "source": [
    "Taka funkcija sprejme dva argumenta in ne naredi nič. Bravo mi."
   ]
  },
  {
   "cell_type": "markdown",
   "metadata": {},
   "source": [
    "$\\textbf{Izpeljani seznami, slovarji in množice}$"
   ]
  },
  {
   "cell_type": "code",
   "execution_count": 34,
   "metadata": {},
   "outputs": [],
   "source": [
    "s1 = [x ** 2 for x in range(0, 9) if x % 2]\n",
    "s2 = [(i, j) for i in range(0, 5) for j in range(3, 7) if i + j > 7]"
   ]
  },
  {
   "cell_type": "code",
   "execution_count": 35,
   "metadata": {},
   "outputs": [
    {
     "data": {
      "text/plain": [
       "[(2, 6), (3, 5), (3, 6), (4, 4), (4, 5), (4, 6)]"
      ]
     },
     "execution_count": 35,
     "metadata": {},
     "output_type": "execute_result"
    }
   ],
   "source": [
    "s2"
   ]
  },
  {
   "cell_type": "markdown",
   "metadata": {},
   "source": [
    "S slovarji in množicami lahko počnemo podobno, izpeljan tuple je generator."
   ]
  },
  {
   "cell_type": "code",
   "execution_count": 42,
   "metadata": {},
   "outputs": [
    {
     "name": "stdout",
     "output_type": "stream",
     "text": [
      "123\n",
      "123\n",
      "123\n",
      "Redefiniramo f\n",
      "124\n",
      "123\n"
     ]
    }
   ],
   "source": [
    "def f(x, y, z):\n",
    "    return 100 * x + 10 * y + z\n",
    "\n",
    "print(f(1, 2, 3))\n",
    "print(f(x=1, y=2, z=3))\n",
    "print(f(y=2, z=3, x=1))\n",
    "\n",
    "print('Redefiniramo f')\n",
    "\n",
    "def f(x, y, z=4):\n",
    "    return 100 * x + 10 * y + z\n",
    "\n",
    "print(f(1, 2))\n",
    "print(f(1, 2, 3))"
   ]
  },
  {
   "cell_type": "code",
   "execution_count": 44,
   "metadata": {},
   "outputs": [],
   "source": [
    "def poli(x, *koef):\n",
    "    #koef je tuple z argumenti, ki niso nujno potrebni. Čezenj lahko greš s for zanko.\n",
    "    pass"
   ]
  },
  {
   "cell_type": "markdown",
   "metadata": {},
   "source": [
    "Lambda funkcije:\n",
    "Ekvivalentno matematičnamu zapisu\n",
    "$$x \\rightarrow e$$"
   ]
  },
  {
   "cell_type": "code",
   "execution_count": 51,
   "metadata": {},
   "outputs": [],
   "source": [
    "function = lambda x: x * x"
   ]
  },
  {
   "cell_type": "code",
   "execution_count": 52,
   "metadata": {},
   "outputs": [
    {
     "data": {
      "text/plain": [
       "4"
      ]
     },
     "execution_count": 52,
     "metadata": {},
     "output_type": "execute_result"
    }
   ],
   "source": [
    "function(2)"
   ]
  },
  {
   "cell_type": "code",
   "execution_count": 53,
   "metadata": {},
   "outputs": [],
   "source": [
    "function2 = lambda x, y: x * y"
   ]
  },
  {
   "cell_type": "code",
   "execution_count": 54,
   "metadata": {},
   "outputs": [
    {
     "data": {
      "text/plain": [
       "42"
      ]
     },
     "execution_count": 54,
     "metadata": {},
     "output_type": "execute_result"
    }
   ],
   "source": [
    "function2(6, 7)"
   ]
  },
  {
   "cell_type": "code",
   "execution_count": 55,
   "metadata": {},
   "outputs": [],
   "source": [
    "function3 = lambda: 42"
   ]
  },
  {
   "cell_type": "code",
   "execution_count": 56,
   "metadata": {},
   "outputs": [
    {
     "data": {
      "text/plain": [
       "42"
      ]
     },
     "execution_count": 56,
     "metadata": {},
     "output_type": "execute_result"
    }
   ],
   "source": [
    "function3()"
   ]
  },
  {
   "cell_type": "markdown",
   "metadata": {},
   "source": [
    "$\\textbf{Funkcije višjega reda} \\\\$\n",
    "To so funkcije, ki sprejmejo funkcijo kot argument ali pa jo vrnejo. V matematiki bi bil to integral. $\\\\$\n",
    "Primeri: `map`, `filter` `reduce`"
   ]
  },
  {
   "cell_type": "markdown",
   "metadata": {},
   "source": [
    "`map` sprejme funkcijo in seznam, nato izvede funkcijo na celem seznamu. $\\\\$\n",
    "`filter` sprejme seznam in funkcijo, ki vrne True ali False, nato na njeni podlagi filtrira seznam. $\\\\$\n",
    "`reduce` izvaja funkcijo dveh argumentov na seznamu z različnimi kombinacijami elementov. $\\\\$\n",
    "$\\\\$\n",
    "Tako lahko na primer definiramo numerično integriranje ali kaj podobnega."
   ]
  },
  {
   "cell_type": "code",
   "execution_count": 60,
   "metadata": {},
   "outputs": [
    {
     "name": "stdout",
     "output_type": "stream",
     "text": [
      "2500.0\n"
     ]
    }
   ],
   "source": [
    "def integral(f, a, b, n=100):\n",
    "    vsota = 0\n",
    "\n",
    "    if b <= a:\n",
    "        a, b = b, a\n",
    "\n",
    "    d = (b - a) / n\n",
    "\n",
    "    for i in range(n):\n",
    "        vsota += f(a + n*d)\n",
    "    \n",
    "    return vsota\n",
    "\n",
    "print(integral(lambda x: x ** 2 + 2 * x + 1, 2, 4)) # integral x ** 2 + 2 * x + 1 v mejah od 2 do 4"
   ]
  },
  {
   "cell_type": "markdown",
   "metadata": {},
   "source": [
    "$\\textbf{Dekoratorji} \\\\$\n",
    "Profesor je zanesljivo o tem povedal kaj zanimivega, na žalost se mu je preveč mudilo, da bi se dalo slediti. $\\\\$\n",
    "Bomo pa stvar obravnavali na vajah.\n"
   ]
  }
 ],
 "metadata": {
  "kernelspec": {
   "display_name": "Python 3",
   "language": "python",
   "name": "python3"
  },
  "language_info": {
   "codemirror_mode": {
    "name": "ipython",
    "version": 3
   },
   "file_extension": ".py",
   "mimetype": "text/x-python",
   "name": "python",
   "nbconvert_exporter": "python",
   "pygments_lexer": "ipython3",
   "version": "3.12.7"
  }
 },
 "nbformat": 4,
 "nbformat_minor": 2
}
