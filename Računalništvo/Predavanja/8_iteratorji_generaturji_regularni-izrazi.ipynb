{
 "cells": [
  {
   "cell_type": "markdown",
   "metadata": {},
   "source": [
    "Iteratorji so objekti, pri katerih gremo lahko od enega elementa do drugega in na vsakem izvedemo nek ukaz. V Pythonu imamo za to metodi `__iter__()` in `__next__()`. Primer: iterator, ki sprejme seznam naravnih števil, gre čez seznam in sestavi seznam, enak prvotnemu, le da n-temu elementu prišteje 1."
   ]
  },
  {
   "cell_type": "code",
   "execution_count": 10,
   "metadata": {},
   "outputs": [],
   "source": [
    "class Plus1:\n",
    "    def __init__(self, x):\n",
    "        self.x = x\n",
    "        self.n = len(x)\n",
    "\n",
    "    def __iter__(self):\n",
    "        self.i = 0\n",
    "        return self\n",
    "    \n",
    "    def __next__(self):\n",
    "        if self.i < self.n:\n",
    "            nx = self.x[:self.i] + [self.x[self.i] + 1] + self.x[(self.i+1):]\n",
    "            self.i += 1\n",
    "            return nx\n",
    "        else:\n",
    "            raise StopIteration"
   ]
  },
  {
   "cell_type": "code",
   "execution_count": 18,
   "metadata": {},
   "outputs": [
    {
     "name": "stdout",
     "output_type": "stream",
     "text": [
      "[1, 0, 0, 0]\n",
      "[0, 1, 0, 0]\n",
      "[0, 0, 1, 0]\n",
      "[0, 0, 0, 1]\n"
     ]
    }
   ],
   "source": [
    "x = [0, 0, 0, 0]\n",
    "for i in Plus1(x):\n",
    "    print(i)"
   ]
  },
  {
   "cell_type": "markdown",
   "metadata": {},
   "source": [
    "Alternativno: (to je primer generatorja)"
   ]
  },
  {
   "cell_type": "code",
   "execution_count": 25,
   "metadata": {},
   "outputs": [],
   "source": [
    "def plus_1(x):\n",
    "    for i in range(len(x)):\n",
    "        yield x[:i] + [x[i] + 1] + x[(i+1):]"
   ]
  },
  {
   "cell_type": "code",
   "execution_count": 26,
   "metadata": {},
   "outputs": [
    {
     "name": "stdout",
     "output_type": "stream",
     "text": [
      "[1, 0, 0, 0]\n",
      "[0, 1, 0, 0]\n",
      "[0, 0, 1, 0]\n",
      "[0, 0, 0, 1]\n"
     ]
    }
   ],
   "source": [
    "for j in plus_1(x):\n",
    "    print(j)\n"
   ]
  },
  {
   "cell_type": "markdown",
   "metadata": {},
   "source": [
    "**Regularni izrazi**"
   ]
  },
  {
   "cell_type": "markdown",
   "metadata": {},
   "source": [
    "S $\\Sigma$ označimo množico vseh znakov. S $\\Sigma^*$ označimo množico vseh besed ali jezik. $\\Sigma$ mora biti končna, $\\Sigma^*$ pa je lahko tudi neskončen."
   ]
  },
  {
   "cell_type": "markdown",
   "metadata": {},
   "source": [
    "Definiramo lahko regularen jezik:\n",
    "- $\\emptyset$\n",
    "- {$\\varepsilon$} (z $\\varepsilon$ označimo prazen znak - v Pythonu '').\n",
    "- {a} za vse $a \\in \\Sigma$"
   ]
  },
  {
   "cell_type": "markdown",
   "metadata": {},
   "source": [
    "Na regularnem jeziku definiramo tudi operacije:\n",
    "- Unija: $A \\cup B = \\{x: ~x \\in A \\text{ ali } x \\in B\\}$\n",
    "- Stik: $AB = \\{xy:~x \\in A \\text{ in } y\\in B\\}$"
   ]
  },
  {
   "cell_type": "markdown",
   "metadata": {},
   "source": [
    "S tema dvema operacija lahko sestavimo vse končne jezike."
   ]
  },
  {
   "cell_type": "markdown",
   "metadata": {},
   "source": [
    "Omenimo še eno množico:\n",
    "- $L^* = \\{x_1x_2...x_n: x_1, x_2, ..., x_n \\in L\\}$: Množica vseh besed, ki jih lahko sestavimo iz dostopnih črk. $\\\\$\n",
    "Primer: {a}* = {$\\varepsilon$, a, aa, aaa, aaaa, ...}. Včasih postavimo še kakšno dodatno pravilo, npr. števila, zapisana v dvojiškem sistemu, se morajo vedno začeti z 1."
   ]
  },
  {
   "cell_type": "markdown",
   "metadata": {},
   "source": [
    "V Pythonu imamo sledeče izraze:\n",
    "$\\{\\varepsilon\\}\\to$ '' $\\\\$\n",
    "$\\{a\\}\\to$ 'a' $\\\\$\n",
    "$A \\cup B$ $\\to$ a + b $\\\\$\n",
    "AB $\\to$ ab $\\\\$\n",
    "A* $\\to$ a $*$"
   ]
  },
  {
   "cell_type": "markdown",
   "metadata": {},
   "source": [
    "$\\{c_1, c_2, c_3, ..., c_n\\} \\to [c_1c_2c_3...c_n] \\\\$\n",
    "$\\{A, B, ..., Z\\} \\to [A-Z] \\\\$\n",
    "$A^+ = AA^* \\to a+ \\\\$\n",
    "$A^? = \\{\\varepsilon\\} \\cup A \\to a?$"
   ]
  },
  {
   "cell_type": "markdown",
   "metadata": {},
   "source": [
    "Z jeziki se gremo lahko tudi nekaj podobnega aritmetiki, kajti:\n",
    "- $p + q = q + p$\n",
    "- $p + (q + r) = (p + q) + r$\n",
    "- $(p + q)r = pr + qr \\\\$\n",
    "Primer: $p^* = \\varepsilon + pp^* = \\varepsilon + p + pp + ppp + ...$, kar je nekoliko podobno Taylorjevi vrsti:\n",
    "$$\\frac{1}{1-x} = 1 + x + x \\cdot x + x \\cdot x \\cdot x + ...$$"
   ]
  },
  {
   "cell_type": "markdown",
   "metadata": {},
   "source": [
    "Do regularnih izrazov v Pythonu dostopamo s knjižnico `re`"
   ]
  }
 ],
 "metadata": {
  "kernelspec": {
   "display_name": "Python 3",
   "language": "python",
   "name": "python3"
  },
  "language_info": {
   "codemirror_mode": {
    "name": "ipython",
    "version": 3
   },
   "file_extension": ".py",
   "mimetype": "text/x-python",
   "name": "python",
   "nbconvert_exporter": "python",
   "pygments_lexer": "ipython3",
   "version": "3.13.2"
  }
 },
 "nbformat": 4,
 "nbformat_minor": 2
}
