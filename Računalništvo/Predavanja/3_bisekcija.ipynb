{
 "cells": [
  {
   "cell_type": "markdown",
   "metadata": {},
   "source": [
    "Recimo, da želimo uganiti število med 1 in 31 v čim manj poskusih. Pri vsakem poskusu dobimo enega od treh izzivov: \"Večje\", \"Manjše\" in \"Bravo\". Stvari se lotimo tako, da najprej poskusimo s srednjo vrednostjo, torej 16, ki nam število možnosti razdeli na dva dela."
   ]
  },
  {
   "cell_type": "markdown",
   "metadata": {},
   "source": [
    "Recimo:"
   ]
  },
  {
   "cell_type": "code",
   "execution_count": 22,
   "metadata": {},
   "outputs": [
    {
     "name": "stdout",
     "output_type": "stream",
     "text": [
      "11\n"
     ]
    }
   ],
   "source": [
    "x = range(1, 32)\n",
    "e = 12   # Iskana vrednost\n",
    "\n",
    "def bisekcija(x, e):\n",
    "    def r_bisekcija(i, j):\n",
    "        # i in j bosta indeksa - tako je rekurzija hitrejša.\n",
    "        # na začetku je i = 0, j = len(x) - 1\n",
    "        if j < i:\n",
    "            return None\n",
    "        k = (i + j) // 2\n",
    "        if x[k] == e:\n",
    "            return k\n",
    "        elif x[k] < e:\n",
    "            return r_bisekcija(k + 1, j)\n",
    "        else:\n",
    "            return r_bisekcija(i, k - 1)\n",
    "    return r_bisekcija(0, len(x) - 1)\n",
    "\n",
    "print(bisekcija(x, e))"
   ]
  },
  {
   "cell_type": "markdown",
   "metadata": {},
   "source": [
    "Še iterativna implementacija:"
   ]
  },
  {
   "cell_type": "code",
   "execution_count": 25,
   "metadata": {},
   "outputs": [
    {
     "name": "stdout",
     "output_type": "stream",
     "text": [
      "11\n"
     ]
    }
   ],
   "source": [
    "def bisekcija(x, e):\n",
    "    i = 0\n",
    "    j = len(x) - 1\n",
    "    while i <= j:\n",
    "        k = (i + j) // 2\n",
    "        if x[k] == e:\n",
    "            return k\n",
    "        elif x[k] > e:\n",
    "            j = k - 1\n",
    "        else:\n",
    "            i = k + 1\n",
    "    return None\n",
    "\n",
    "print(bisekcija(x, e))"
   ]
  },
  {
   "cell_type": "markdown",
   "metadata": {},
   "source": [
    "Iterativno reševanje je hitrejše od bisekcije, oba načina pa porabita ogromno spomina."
   ]
  },
  {
   "cell_type": "markdown",
   "metadata": {},
   "source": [
    "V primeru neurejenega seznama bisekcija ni uporabna, uporabiti moramo običajno iskanje - tega lahko definiramo iterativno, z rekurzijo ali z razpolavljanjem."
   ]
  },
  {
   "cell_type": "code",
   "execution_count": 33,
   "metadata": {},
   "outputs": [
    {
     "name": "stdout",
     "output_type": "stream",
     "text": [
      "11\n"
     ]
    }
   ],
   "source": [
    "def iskanje(x, e):\n",
    "    for (i, f) in enumerate(x):\n",
    "        if f == e:\n",
    "            return i\n",
    "    return None\n",
    "print(iskanje(x, e))"
   ]
  },
  {
   "cell_type": "code",
   "execution_count": 34,
   "metadata": {},
   "outputs": [
    {
     "name": "stdout",
     "output_type": "stream",
     "text": [
      "11\n"
     ]
    }
   ],
   "source": [
    "def iskanje(x, e):\n",
    "    i = 0\n",
    "    while i < len(x):\n",
    "        if x[i] == e:\n",
    "            return i\n",
    "        i += 1\n",
    "    return None\n",
    "print(iskanje(x, e))"
   ]
  },
  {
   "cell_type": "code",
   "execution_count": 27,
   "metadata": {},
   "outputs": [
    {
     "data": {
      "text/plain": [
       "11"
      ]
     },
     "execution_count": 27,
     "metadata": {},
     "output_type": "execute_result"
    }
   ],
   "source": [
    "def iskanje(i=0):\n",
    "    if i >= len(x):\n",
    "        return None\n",
    "    if x[i] == e:\n",
    "        return i\n",
    "    return iskanje(i + 1)\n",
    "iskanje()"
   ]
  },
  {
   "cell_type": "markdown",
   "metadata": {},
   "source": [
    "Nazadnje definirajmo iskanje z razpolavljanjem. Operiramo pod predpostavko, da je v seznamu le en element, kakršnega iščemo (torej, da se vrednost 12 pojavi le enkrat)."
   ]
  },
  {
   "cell_type": "code",
   "execution_count": 30,
   "metadata": {},
   "outputs": [
    {
     "data": {
      "text/plain": [
       "11"
      ]
     },
     "execution_count": 30,
     "metadata": {},
     "output_type": "execute_result"
    }
   ],
   "source": [
    "def iskanje(i=0, j=len(x)-1):\n",
    "    if j < i:\n",
    "        return None\n",
    "    if i == j:\n",
    "        if x[i] == e:\n",
    "            return i\n",
    "        else:\n",
    "            return None\n",
    "    k = iskanje(i, (i+j)//2)\n",
    "    if k:\n",
    "        return k\n",
    "    else:\n",
    "        return iskanje((i+j)//2+1, j)\n",
    "iskanje()"
   ]
  },
  {
   "cell_type": "markdown",
   "metadata": {},
   "source": [
    "S preizkusom pokažemo, da je iskanje s `for` zanko mnogo hitrejše od iskanja z `while` zanko."
   ]
  },
  {
   "cell_type": "markdown",
   "metadata": {},
   "source": [
    "Kako določimo učinkovitost programa?"
   ]
  },
  {
   "cell_type": "markdown",
   "metadata": {},
   "source": [
    "Po odvisnosti od velikosti problema. Danes je $n$ dolžina seznama $x$. T(n) je čas, potreben za rešitev problema. Sestavljena je iz konstante in asimptotske zahtevnosti problema. V bistvu nas zanima člen števila operacij, ki ni zanemarljiv, ko pošljemo $n$ proti neskončno."
   ]
  },
  {
   "cell_type": "markdown",
   "metadata": {},
   "source": [
    "Vsak program ima nekolikšen čas inicializacije, ki pa ga pri časovni zahtevnosti ne štejemo."
   ]
  },
  {
   "cell_type": "markdown",
   "metadata": {},
   "source": [
    "Če konstanto zanemarimo, dobimo $O(f(n))$ ali asimptotsko zahtevnost. Primer:\n",
    "$$T(n) = 10^3 + 10\\,000\\,000 n^2 + 5 \\text{ ima asimptotsko zahtevnost $n^3$. Hkrati pa mora biti $n \\gt 10^6$, da se vodilni člen sploh pozna}$$\n"
   ]
  },
  {
   "cell_type": "markdown",
   "metadata": {},
   "source": [
    "Kako izračunamo $T(n)$?"
   ]
  },
  {
   "cell_type": "markdown",
   "metadata": {},
   "source": [
    "Preštejemo število opearcij, ki jih naredimo v enem koraku. Npr. pri iskanju elementov po seznamu s for zanko:\n",
    "$$T(n) = T(n-1) + 1$$\n",
    "(naredili smo eno primerjavo: x == e)\n",
    "$$= T(n-2) + 2$$\n",
    "$$... = T(1) + n - 1$$\n",
    "$$T(1) = 1 \\Rightarrow T(n) = n \\in O(n)$$"
   ]
  },
  {
   "cell_type": "markdown",
   "metadata": {},
   "source": [
    "Iskanje z bisekcijo v urejenem seznamu:\n",
    "$$T(n) = 2 + T(n/2)$$\n",
    "(Naredili smo dve primerjavi: x == e in x > e)\n",
    "$$= 4 + T(n/4)$$\n",
    "$$... = T(\\frac{n}{2^k}) + 2k$$\n",
    "Končamo, ko je $\\displaystyle{\\frac{n}{2^k} = 1}$, torej ko je $k = \\log _2n$\n",
    "Torej je $$T(n) = T(1) + 2\\log _2(n) \\in O(\\log n)$$"
   ]
  },
  {
   "cell_type": "markdown",
   "metadata": {},
   "source": [
    "Stvar lahko tudi izmerimo, kajti pri računanju zahtevnosti bomo pogosto dobili najslabši možni čas, program pa bo pogosto hitrejši od naše napovedi."
   ]
  }
 ],
 "metadata": {
  "kernelspec": {
   "display_name": "Python 3",
   "language": "python",
   "name": "python3"
  },
  "language_info": {
   "codemirror_mode": {
    "name": "ipython",
    "version": 3
   },
   "file_extension": ".py",
   "mimetype": "text/x-python",
   "name": "python",
   "nbconvert_exporter": "python",
   "pygments_lexer": "ipython3",
   "version": "3.13.2"
  }
 },
 "nbformat": 4,
 "nbformat_minor": 2
}
