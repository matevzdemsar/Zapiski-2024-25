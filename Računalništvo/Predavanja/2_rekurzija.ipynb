{
 "cells": [
  {
   "cell_type": "markdown",
   "metadata": {},
   "source": [
    "Rekurzivna funkcija je funkcija, ki kliče samo sebe. Poskrbeti moramo, da se nekje ustavi."
   ]
  },
  {
   "cell_type": "code",
   "execution_count": 4,
   "metadata": {},
   "outputs": [
    {
     "name": "stdout",
     "output_type": "stream",
     "text": [
      "1534\n"
     ]
    }
   ],
   "source": [
    "def recursion(x):\n",
    "    if x > 1000:\n",
    "        return 1\n",
    "    else:\n",
    "        return x + recursion(2 * x)\n",
    "\n",
    "print(recursion(3))"
   ]
  },
  {
   "cell_type": "code",
   "execution_count": 9,
   "metadata": {},
   "outputs": [
    {
     "data": {
      "text/plain": [
       "[7, 6, 5, 4, 3, 2, 1]"
      ]
     },
     "execution_count": 9,
     "metadata": {},
     "output_type": "execute_result"
    }
   ],
   "source": [
    "x = [1, 2, 3, 4, 5]\n",
    "# Želimo funkcijo, ke nam bo vrnila obrnjen seznam, torej [5, 4, 3, 2, 1]\n",
    "# Najpreprostejša rešitev:\n",
    "y = x[::1]\n",
    "# Lahko pa se naloge lotimo z rekurzijo:\n",
    "def r_gr(x, y=[]):\n",
    "    if not x:\n",
    "        return y\n",
    "    else:\n",
    "        y = y + x[-1:]           # Slicamo x od zadnjega elementa naprej, alternativno [x[-1]]\n",
    "        return r_gr(x[:-1], y)\n",
    "r_gr([1, 2, 3, 4, 5, 6, 7])"
   ]
  },
  {
   "cell_type": "markdown",
   "metadata": {},
   "source": [
    "Ta implementacija ima manjšo težavo: ves čas ustvarjamo nove elemente, kar je potratno. Stvar se da narediti mnogo hitreje, na primer, da bi namesto celega x kot funkcija jemala le index naslednjega elementa v x. V vsakem primeru pa je stvar nekoliko počasnejša, saj se mora funkcija ponovno klicati za vsak element x, torej je globina rekurzije enaka dolžini seznama x."
   ]
  },
  {
   "cell_type": "code",
   "execution_count": 16,
   "metadata": {},
   "outputs": [
    {
     "data": {
      "text/plain": [
       "[8, 7, 6, 5, 4, 3, 2, 1]"
      ]
     },
     "execution_count": 16,
     "metadata": {},
     "output_type": "execute_result"
    }
   ],
   "source": [
    "def r_bis(x):\n",
    "    n = len(x) // 2\n",
    "    if n == 0:\n",
    "        return x\n",
    "    else:\n",
    "        return r_bis(x[n:]) + r_bis(x[:n])\n",
    "r_bis([1, 2, 3, 4, 5, 6, 7, 8])"
   ]
  },
  {
   "cell_type": "markdown",
   "metadata": {},
   "source": [
    "Taka metoda je hitrejša, saj je globina rekurzije logaritemska (če dolžino seznama podvojimo, bomo morali dodati le še en nivo rekurzije.)"
   ]
  },
  {
   "cell_type": "markdown",
   "metadata": {},
   "source": [
    "Primer: Binomski simbol $\\displaystyle{\\begin{pmatrix}n \\\\ k\\end{pmatrix}}$ predstavlja število podmnožic dolžine $k$, ki jih lahko sestavimo v množici z $n$ elementi. Stvar si lahko predstavljamo rekurzivno:\n",
    "$$\\displaystyle{\\begin{pmatrix}n \\\\ k\\end{pmatrix}} = \\displaystyle{\\begin{pmatrix}n-1 \\\\ k-1\\end{pmatrix}} + \\displaystyle{\\begin{pmatrix}n-1 \\\\ k\\end{pmatrix}}$$\n",
    "$\\displaystyle{\\begin{pmatrix}n-1 \\\\ k-1\\end{pmatrix}}$ predstavlja število možnosti, ki še ostanejo, če izbrani element umestimo v podmnožico, $\\displaystyle{\\begin{pmatrix}n-1 \\\\ k\\end{pmatrix}}$ pa število možnosti, ki ostanejo, če ga ne."
   ]
  },
  {
   "cell_type": "markdown",
   "metadata": {},
   "source": [
    "Problem: ista vrednost se bo klicala večkrat. To lahko rešimo tako, da si vrednosti zapomnimo, lahko pa stvar rešimo tudi brez rekurzije, torej tako, da zgradimo Pascalov trikotnik."
   ]
  },
  {
   "cell_type": "markdown",
   "metadata": {},
   "source": [
    "Z rekurzijo lahko definiramo tudi integral (ne ravno integrala, temveč trapezno vsoto, ko integral razdelimo na $n$ delov)."
   ]
  },
  {
   "cell_type": "code",
   "execution_count": 17,
   "metadata": {},
   "outputs": [
    {
     "data": {
      "text/plain": [
       "17.312617748651714"
      ]
     },
     "execution_count": 17,
     "metadata": {},
     "output_type": "execute_result"
    }
   ],
   "source": [
    "def integral2(f, a, b, n=100):\n",
    "    def vsota(s, x1, y1, k):\n",
    "        if k>n:\n",
    "            return s\n",
    "        else:\n",
    "            x2 = ((n - k) * a + k * b) / n\n",
    "            y2 = f(x2)\n",
    "            return vsota(s + (b - a) * (y1 + y2) / (2 * n), x2, y2, k+1)\n",
    "    return vsota(0.0, a, f(a), 1)\n",
    "integral2(lambda x: 2 ** x, 2, 4)"
   ]
  },
  {
   "cell_type": "markdown",
   "metadata": {},
   "source": [
    "Repna rekurzija: Če nam uspe rekurzivno funkcijo implementirati tako, da si ti ni treba zapomniti vmesnih rešitev, je stvar bistveno hitrejša, saj zapisovanje informacij porabi precej časa. repna rekurzija za obračanje seznama bi bila:"
   ]
  },
  {
   "cell_type": "code",
   "execution_count": 18,
   "metadata": {},
   "outputs": [],
   "source": [
    "def obrni_seznam(x):\n",
    "    def obrni(i, y):\n",
    "        if i >= len(x):\n",
    "            return y\n",
    "        else:\n",
    "            y += [x[i]]\n",
    "            return obrni(i+1, y)\n",
    "    obrni(0, [])\n",
    "obrni_seznam([1, 2, 3, 4, 5, 6, 7, 8])"
   ]
  },
  {
   "cell_type": "markdown",
   "metadata": {},
   "source": [
    "Tu rekurzijo izvajamo tako, da se z vsakim klicem bolje približamo končni rešitvi, in na koncu vrnemo kar to."
   ]
  },
  {
   "cell_type": "markdown",
   "metadata": {},
   "source": [
    "**Preiskovanje:** Označimo četverico $(S, s, G, \\sigma)$.\n",
    "- $S$ predstavlja množico vseh možnih rešitev\n",
    "- $s \\in S$ je začetno stanje (začetni predlog za rešitev)\n",
    "- G je množica ustreznih rešitev\n",
    "- $\\sigma$ je funkcija, ki nam na podlagi kandidata generira nove kandidate ($\\sigma (s) = \\{q_1, q_2, q_3, ... q_n\\}$)"
   ]
  },
  {
   "cell_type": "markdown",
   "metadata": {},
   "source": [
    "To pomeni, da lahko rešitev na nek problem poiščemo tako, da začnemo z $s$, pogledamo, če ni rešitev, razvijemo $\\sigma (s)$ in dobimo $\\{q_1, q_2 ... q_n\\}$.\n",
    "Nato imamo dve možnosti: Lahko najprej obravnavamo $q_1$, ga po potrebi razvijemo s $\\sigma$, obravnavamo te in tako naprej. Druga možnost je, da najprej razvijemo vse $q$ in gremo šele nato naprej. Tema dvema načinoma iskanja pravimo iskanje v globino (DFS) in iskanje v širino (BFS). "
   ]
  },
  {
   "cell_type": "markdown",
   "metadata": {},
   "source": [
    "Preiskovalni algoritem izgleda približno tako:"
   ]
  },
  {
   "cell_type": "code",
   "execution_count": 19,
   "metadata": {},
   "outputs": [],
   "source": [
    "s = 0 # Začetna vrednost\n",
    "G = {'nekaj', None}\n",
    "sigma = lambda q: sigma(q)\n",
    "def preišči(S):\n",
    "    front = {s}\n",
    "    while front != set():\n",
    "        # Izberi q iz front\n",
    "        q = 'nekaj iz front'\n",
    "        if q in G:\n",
    "            return q\n",
    "        else: front = front - q + sigma(q)\n",
    "        # Paziti moramo, da je sigma taka funkcija, da se q nikoli več ne bo pojavil v front, sicer se bo funkcija zaciklala.\n",
    "    return None"
   ]
  },
  {
   "cell_type": "markdown",
   "metadata": {},
   "source": [
    "Primer problema: Dobimo seznam naravnih števil $x$ in želeno vsoto $v$. Želimo najti $y \\subseteq x$, da bo vsota elementov $y$ enaka $v$. $\\\\$\n",
    "V tem primeru je $S$ množica vseh podmnožic $x$, $s$ je prazen seznam, $G$ so podmnožice $x$, za katere velja $\\sum _{i \\in x} i = v$.\n",
    "Lahko izberemo $\\sigma(s) = {s, i} ~\\text{ za } i \\in x-s$"
   ]
  },
  {
   "cell_type": "markdown",
   "metadata": {},
   "source": [
    "Boljša rešitev: Izberemo element iz $x$ in si ogledamo možnosti, da ga dodamo ali da ga ne dodamo."
   ]
  },
  {
   "cell_type": "code",
   "execution_count": null,
   "metadata": {},
   "outputs": [],
   "source": [
    "x = [1, 3, 5, 2, 2, 8, 3, 3, 6]\n",
    "v = 10\n",
    "s = []\n",
    "def sigma(i, y):\n",
    "    return y, y + [i]\n",
    "# Tej funkciji sigma potem vnašamo elemente iz x, da dobivamo različne podmnožice. Sproti preverjamo, ali ima katera izmed njih vsoto v."
   ]
  }
 ],
 "metadata": {
  "kernelspec": {
   "display_name": "Python 3",
   "language": "python",
   "name": "python3"
  },
  "language_info": {
   "codemirror_mode": {
    "name": "ipython",
    "version": 3
   },
   "file_extension": ".py",
   "mimetype": "text/x-python",
   "name": "python",
   "nbconvert_exporter": "python",
   "pygments_lexer": "ipython3",
   "version": "3.13.2"
  }
 },
 "nbformat": 4,
 "nbformat_minor": 2
}
