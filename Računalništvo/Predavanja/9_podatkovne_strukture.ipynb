{
 "cells": [
  {
   "cell_type": "markdown",
   "metadata": {},
   "source": [
    "Obravnavali bomo dve podatkovni strukturi: Vrsta in kopica."
   ]
  },
  {
   "cell_type": "markdown",
   "metadata": {},
   "source": [
    "Najprej bomo obravnavali `array` in `list`. $\\\\$\n",
    "Array ali polje je podatkovni tip, ki določen del spomina nameni podatkom določenega tipa. Ima operacije npr. `init`, ki ustvari polje določene velikosti, `read`, ki omogoči dostopanje do podatkov v polju itd. $\\\\$\n",
    "Seznam je podatkovni tip, ki hrani končno zaporedje elementov. Smiseln nabor operacij za seznam je `add`, `remove`, `size` in `traverse`."
   ]
  },
  {
   "cell_type": "markdown",
   "metadata": {},
   "source": [
    "Dinamično polje je polje, ki mu lahko dodajamo elemente. To najhitreje storimo tako, da polju že vnaprej namenimo neko količino spomina. Ko to količino dosežemo, jo podvojimo in prepišemo seznam. (Vsakič znova generirati tabelo bi bilo zelo zamudno, saj bi morali to storiti za vsak nov element - dobili bi časovno zahtevnost $\\mathcal{O}(n^2)$)."
   ]
  },
  {
   "cell_type": "markdown",
   "metadata": {},
   "source": [
    "Povezani seznam je seznam, v katerem so med elementi določene povezave. To pomeni, da elemente zelo enostavno izbrišemo: če želimo izbrisati $k$-ti element, moramo le postaviti povezavo med $k-1$ in $k+1$ elementom."
   ]
  },
  {
   "cell_type": "markdown",
   "metadata": {},
   "source": [
    "Sklad (stack) je podatkovni tip, ki hrani elemente, dostopamo pa lahko samo do tistega, ki je bil dodan nazadnje. Ima operaciji `add` in `remove`."
   ]
  },
  {
   "cell_type": "markdown",
   "metadata": {},
   "source": [
    "Vrsta (queue) je podatkovni tip, pri katerem elemente dodajamo na eni strani, odvzemamo pa na drugi strani. (Običajno dodajamo na koncu, vzemamo pa z začetka)."
   ]
  },
  {
   "cell_type": "markdown",
   "metadata": {},
   "source": [
    "Vrsto lahko definiramo s povezanim seznamom ali dinamičnim poljem."
   ]
  },
  {
   "cell_type": "markdown",
   "metadata": {},
   "source": [
    "Prioritetna vrsta (priority queue): Vsak element v vrsti ima pridruženo numerično prioriteto. Ko vzamemo element iz vrste, vzamemo element z najvišjo prioriteto. Taki vrsti pogosto rečemo tudi kopica (heap)."
   ]
  },
  {
   "cell_type": "markdown",
   "metadata": {},
   "source": [
    "Implementacija je možna s seznamom ali dinamičnim poljem."
   ]
  },
  {
   "cell_type": "markdown",
   "metadata": {},
   "source": [
    "Tedaj imamo dve možnosti: Seznam uredimo ali pa ne. Če ga urejamo, ima jemanje elementa časovno zahtevnost $\\mathcal{O}(1)$, dodajanje pa $\\mathcal{O}(n)$, saj moramo najprej poiskati primerno mesto zanj, kar ima zahtevnost $\\mathcal{O}$(log $n$), nato pa še vriniti element, kar ima zahtevnost $\\mathcal{O}(n)$. Če imamo neurejen seznam, ima jemanje elementa z najvišjo prioriteto zahtevnost $\\mathcal{O}(n)$, dodajanje novega elementa pa $\\mathcal{O}(n)$."
   ]
  },
  {
   "cell_type": "markdown",
   "metadata": {},
   "source": [
    "Ali se da oboje doseči v log $n$? "
   ]
  },
  {
   "cell_type": "markdown",
   "metadata": {},
   "source": [
    "Imejmo drevo. V root-u tega drevesa je najvišji element, iz njega pa vodita dve drevesi, ki imata ravno tako to lastnost. Tako gre potem do najmanjših elementov. $\\\\$\n",
    "Jemanje elementa: Izberemo višje izmed dveh števil, ki sta eno mesto pod vrhom, in ga prestavimo na vrh. Postopek rekurzivno ponovimo na vejah drevesa. Ta operacija ima časovno zahtevnost $\\mathcal{O}(1) + \\mathcal{O}(h)$, kjer je $h$ višina drevesa. Če bomo imeli smolo, bo ta enaka $n$, če bomo pametno dodajali, pa bo enaka log($n$). $\\\\$\n",
    "Dodajanje elementa: Element dodamo na prvo prosto mesto, ki je najbližje korenini (da drevo ne bo previsoko). Nato preverimo, ali je dodani element večji od elementa nad njim, in če je, ju zamenjamo. Spet smo dobili časovno zahtevnost $\\mathcal{O}(1) + \\mathcal{O}(h)$."
   ]
  },
  {
   "cell_type": "markdown",
   "metadata": {},
   "source": [
    "Problem: Ker brisanje spreminja obliko drevesa, lahko pridemo v situacijo, ko se naša kopica spremeni v povezan seznam. Da to rešimo, moramo nekoliko prilagoditi postopek jemanja."
   ]
  },
  {
   "cell_type": "markdown",
   "metadata": {},
   "source": [
    "Prilagodimo ga tako, da namesto elementa z dna drevesa (torej takoj ob korenini) na vrh postavimo element z vrha drevesa (najdlje stran od korenine). Nato pa menjamo elemente, dokler ne bo imelo drevo spet zahtevane oblike. S tem poskrbimo, da so vsi nivoji maksimalno zapolnjeni."
   ]
  },
  {
   "cell_type": "markdown",
   "metadata": {},
   "source": [
    "Uporaba kopic: Sortiranje (heap sort) ima učinkovitost $n$ log $n$"
   ]
  }
 ],
 "metadata": {
  "kernelspec": {
   "display_name": "Python 3",
   "language": "python",
   "name": "python3"
  },
  "language_info": {
   "name": "python",
   "version": "3.13.3"
  }
 },
 "nbformat": 4,
 "nbformat_minor": 2
}
