{
 "cells": [
  {
   "cell_type": "markdown",
   "metadata": {},
   "source": [
    "$\\newcommand{\\vct}[1]{\\overrightarrow{#1}}$\n",
    "$\\newcommand{\\pd}[2]{\\frac{\\partial {#1}}{\\partial {#2}}}$\n",
    "$\\newcommand{\\wfint}[5]{\\int _{#1}^{#2} \\Psi _{#3}^* {#5} \\Psi _{#4} dx}$\n",
    "$\\newcommand{\\comp}{\\mathbb{C}}$\n",
    "$\\newcommand{\\fn}[3]{{#1}: {#2} \\rightarrow {#3}}$\n",
    "$\\newcommand{\\matrix}[1]{\\begin{bmatrix}{#1}\\end{bmatrix}}$\n",
    "$\\newcommand{\\avg}[1]{\\langle {#1} \\rangle}$\n",
    "**Fourierova analiza in Diracova delta**"
   ]
  },
  {
   "cell_type": "markdown",
   "metadata": {},
   "source": [
    "Ravni val je rešitev diferencialne enačbe $\\ddot{y} = -\\omega^2y$ in ima obliko $e^{iwt}$"
   ]
  },
  {
   "cell_type": "markdown",
   "metadata": {},
   "source": [
    "$$\\int_{-\\infty}^{\\infty}e^{iwt}e^{-iw't} = \\begin{cases} 0 & w \\neq w' \\\\ \\infty & w = w'\\end{cases}$$"
   ]
  },
  {
   "cell_type": "markdown",
   "metadata": {},
   "source": [
    "Regulariziramo:\n",
    "$$\\lim_{\\beta \\to 0}\\int_{-\\infty}^{\\infty}e^{\\beta |t|} e^{iwt} + e^{-iw't}dt = \\lim_{\\beta \\to 0} \\left[\\frac{e^{\\beta |t|} e^{iwt} e^{-iw't}}{iw - iw' - \\beta} \\Big|^{\\infty}_{-\\infty} + \\frac{e^{\\beta |t|} e^{iwt} e^{-iw't}}{iw - iw' + \\beta}\\Big|^{\\infty}_{-\\infty}\\right]$$\n",
    "$$=\\lim_{\\beta \\to 0}\\frac{2\\beta}{(w-w')^2 + \\beta^2}$$"
   ]
  },
  {
   "cell_type": "markdown",
   "metadata": {},
   "source": [
    "Velja $\\displaystyle{\\int_{-\\infty}^{\\infty} \\frac{2\\beta}{(w-w')^2 + \\beta^2}dw = 2\\pi}$ S tem smo zadevo za silo normalizirali."
   ]
  },
  {
   "cell_type": "markdown",
   "metadata": {},
   "source": [
    "Diracova $\\delta (x)$:\n",
    "$$\\delta(x) = \\frac{1}{2\\pi} \\lim_{\\beta \\to 0}\\frac{2\\beta}{x^2 - \\beta^2}$$\n",
    "Je distribucija (verjetnostna prazdelitev). Ni formalna funkcija, opazimo na primer, da ima enote. Njena vrednost je 1 za $w = w'$, sicer pa 0."
   ]
  },
  {
   "cell_type": "markdown",
   "metadata": {},
   "source": [
    "$$f(x_0) = \\int_{-\\infty}^{\\infty}f(x)\\delta(x-x_0)dx$$"
   ]
  },
  {
   "cell_type": "markdown",
   "metadata": {},
   "source": [
    "$\\delta(x - x_0)d x$ se v integralu obnaša popolnoma normalno. Če uvedemo novo spremenljivko $u(x)$, se obnaša kot verjetnostna porazdelitev:\n",
    "$$\\int f(x)\\delta(x)dx = \\int f(x(u))d(x(u))\\left|\\frac{dx}{du}\\right|du$$"
   ]
  },
  {
   "cell_type": "markdown",
   "metadata": {},
   "source": [
    "$\\delta(u) = \\delta(x)\\left|\\frac{dx}{du}\\right| \\\\$\n",
    "$\\delta(kx) = \\frac{\\delta(x)}{|k|}$"
   ]
  },
  {
   "cell_type": "markdown",
   "metadata": {},
   "source": [
    "Še ena zanimiva stvar:\n",
    "$$\\delta(x^2 - x_0^2) = \\delta((x-x_0)(x+x_0)) = \\frac{\\delta(x-x_0)}{|2x_0|} + \\frac{\\delta(x-x_0)}{|2x_0|}$$"
   ]
  },
  {
   "cell_type": "markdown",
   "metadata": {},
   "source": [
    "Pri zadnjem predavanju smo nekaj podobnega naredili pri približku stacionarne faze, ko smo ocenili\n",
    "$$\\lim_{f''(x_0) \\to \\infty} e^{-i\\frac{f''(x_0)}{2}(x-x_0)^2} = \\sqrt{\\frac{2\\pi i}{f''(x_0)}}\\delta(x-x_0)$$"
   ]
  },
  {
   "cell_type": "markdown",
   "metadata": {},
   "source": [
    "Vsako funkcijo, ki ima integral od $-\\infty$ do $\\infty$ enak 1 in imam maksimum okoli ene same točke, bi lahko izlimitirali v $\\delta$ funkcijo."
   ]
  },
  {
   "cell_type": "markdown",
   "metadata": {},
   "source": [
    "npr. $\\displaystyle{\\lim_{a \\to \\infty} \\frac{\\sin ax}{\\sqrt{\\pi} x} = \\delta(x)}$"
   ]
  },
  {
   "cell_type": "markdown",
   "metadata": {},
   "source": [
    "Zakaj je $\\delta$ funkcija uporabna?\n",
    "1. Ker ima lepo Fourierjevo transformacijo.\n",
    "2. Ker lahko zniža dimenzijo integrala: če imamo na primer $$\\iint f(x, y) \\delta(x-y)dxdy$$\n",
    "nam $\\delta(x, y)$ v integral avtomatsko vstavi $x = y$, dobimo torej $\\displaystyle{\\int f(y, y) dy}$"
   ]
  },
  {
   "cell_type": "markdown",
   "metadata": {},
   "source": [
    "Pri menjavi spremenljivk v višjih dimenzijah nam $\\delta$ funkcija da Jacobijevo matriko: $\\delta(x)dx\\delta(y)dy\\delta(z)dz = \\delta^{3}(x, y, z)dxdydz = \\delta^3(u, v, w)dudvdw$"
   ]
  },
  {
   "cell_type": "markdown",
   "metadata": {},
   "source": [
    "Še ena lastnost $\\delta$ funkcije: Ima enote. Če ji damo nekaj z enoto $m$, bo imela $\\delta$ funkcija enoto $m^{-1}$."
   ]
  },
  {
   "cell_type": "markdown",
   "metadata": {},
   "source": [
    "Recimo, da imamo $\\delta^3(\\vct{r} - \\vct{r_0})dxdydz$ - to je točkasti naboj v $\\vct{r_0}$. Želimo ga izraziti v sferičnih koordinatah\n",
    "$$\\delta^3(\\vct{r} - \\vct{r_0})dxdydz = \\delta^3(\\vct{r} - \\vct{r_0}) r^2 dr \\sin \\vartheta d\\vartheta d\\varphi = \\delta(r-r_0)\\delta(\\vartheta - \\vartheta _0)\\delta(\\varphi - \\varphi _0) dr d\\vartheta d\\varphi$$"
   ]
  },
  {
   "cell_type": "markdown",
   "metadata": {},
   "source": [
    "Oziroma $\\displaystyle{\\delta(\\vct{r}-\\vct{r_0}) = \\frac{\\delta(r-r_0)}{r^2} \\frac{\\delta(\\vartheta - \\vartheta _0)}{\\sin\\vartheta}\\delta(\\varphi - \\varphi _0)}$"
   ]
  },
  {
   "cell_type": "markdown",
   "metadata": {},
   "source": [
    "Za $\\vct{r_0} = 0$ moramo to narediti malo drugače, in sicer:\n",
    "$$\\int\\delta^3(\\vct{r}) r^2 \\sin\\vartheta d\\vartheta d\\varphi = 4\\pi\\int\\delta^3(\\vct{r})r^2dr = 4\\pi \\int \\delta(r)dr$$\n",
    "kajti površina sfere je $4 \\pi r^2$, $r^3$ pa ima v ničli očitno enako vrednost kot $r$.\n",
    "$$\\delta^3(\\vct{r}) = \\frac{\\delta(r)}{4 \\pi r^2}$$"
   ]
  },
  {
   "cell_type": "markdown",
   "metadata": {},
   "source": [
    "**Primer iz fizike osnovnih delcev:** Seštejemo po vseh možnih valovnih vektorjih. Ker se delci pogosto gibljejo z veliko hitrostjo, operiramo v prostoru-času, torej 4-dimenzionalnem prostoru. $\\\\$ Mimogrede: Definirati moramo $H(E)$ ... heavyside funkcija: $H(E) = 0$ za $E < 0$, $H(E) = 1$ za $E > 0$. Ker negativna energija nima smisla.\n",
    "$$\\iint\\iint X \\delta(E^2 - mc^2 - \\vct{p}^2) H(E) d^4p = \\iint\\iint X \\left[\\frac{\\delta(E-E_p)}{|2E_p|} + \\frac{\\delta(E + E_p)}{|2E_p|}\\right] H(E) dE d^3 p$$"
   ]
  },
  {
   "cell_type": "markdown",
   "metadata": {},
   "source": [
    "Z $X$ smoo označili količino, katere povprečje nas zanima."
   ]
  },
  {
   "cell_type": "markdown",
   "metadata": {},
   "source": [
    "$\\delta(E + E_p)$ je enaka 0, saj bi zahtevala negativno $E$. Ostane nam torej le še $\\delta(E-E_p)$."
   ]
  },
  {
   "cell_type": "markdown",
   "metadata": {},
   "source": [
    "$$=\\iint\\iint X \\frac{d^3p}{|2E_p|}$$"
   ]
  },
  {
   "cell_type": "markdown",
   "metadata": {},
   "source": [
    "**Odvodi in integrali $\\delta$ funkcije**"
   ]
  },
  {
   "cell_type": "markdown",
   "metadata": {},
   "source": [
    "$$\\int_{-\\infty}^{x}\\delta(t)dt = H(x),\\,~\\text{obratno je } \\frac{dH}{dx} = \\delta(x)$$"
   ]
  },
  {
   "cell_type": "markdown",
   "metadata": {},
   "source": [
    "Uporaba: Maskiranje in lepljenje funkcij:\n",
    "$\\\\ f(x)H(x)$ nam da funkcijo, ki ima vrednost 0 pri $x \\gt 0$\n",
    "$\\\\ f(x)H(x) + g(x)H(-x)$ nam v točki $x=0$ zlepi funkciji $f$ in $g$ "
   ]
  },
  {
   "cell_type": "markdown",
   "metadata": {},
   "source": [
    "Kaj pa odvod $\\delta (x)$? V točki $x=0$ ima s pozitivne strani pozitivno neskončno visoko in neskončno tanko špico, z negativne strani pa negativno neskončno špico. To je nekakšen točkast dipol."
   ]
  },
  {
   "cell_type": "markdown",
   "metadata": {},
   "source": [
    "Oglejmo si per partes:\n",
    "$$\\int f(x) \\delta'(x) = \\delta(x)f(x)\\Big|^{\\infty}_{-\\infty} - \\int f'(x)\\delta(x) = -f'(0)$$"
   ]
  },
  {
   "cell_type": "markdown",
   "metadata": {},
   "source": [
    "Če namesto $f(x)$ vstavimo $xf(x)$, dobimo $-f(x)$:\n",
    "$$x\\delta(x) = 0$$\n",
    "$$x\\delta'(x) = -\\delta(x)$$\n",
    "$$x^2\\delta''(x) = \\delta(x)$$"
   ]
  },
  {
   "cell_type": "markdown",
   "metadata": {},
   "source": [
    "Za lažjo predstavo obravnavajmo električni monopol (ta je lahko točkast):\n",
    "$$\\rho _e = e\\delta(x-x_0)$$\n",
    "$$W_e = \\int U(x)\\delta(x-x_0)dx = eU_e(x)$$\n",
    "Zdaj poglejmo še dipol:\n",
    "$$\\rho _e = -p\\delta'(x-x_0)$$\n",
    "$$W_e = -p \\int U(x)\\delta'(x-x_0)dx = -p\\frac{dU}{dx} = \\vct{p} \\cdot \\vct{E}$$"
   ]
  },
  {
   "cell_type": "markdown",
   "metadata": {},
   "source": [
    "$$\\int\\delta(x)f(x)dx = f''(x) = \\lim_{h \\to 0}\\frac{f(x+h) - 2f(x) + f(x-h)}{h^2}$$\n",
    "$$\\int \\delta'''(x)f(x)dx = -f'''(x)$$"
   ]
  },
  {
   "cell_type": "markdown",
   "metadata": {},
   "source": [
    "Lahko si mislimo, da je $\\delta''(x)$ kvadrupol, torej delec z nabojem oblike (+-)(-+) = [+-+] $\\\\$\n",
    "$\\delta'''(x)$ pa bi bil delec z nabojem oblike [+-+][-+-]"
   ]
  },
  {
   "cell_type": "markdown",
   "metadata": {},
   "source": [
    "**Fourierjeva analiza:** Z $\\delta$ funkcijo smo pokazali, da so ravni valovi ortogonalni."
   ]
  },
  {
   "cell_type": "markdown",
   "metadata": {},
   "source": [
    "$$\\frac{1}{2\\pi}\\int_{-\\infty}^{\\infty}e^{iwt}e^{-iw't}dt = \\delta(w-w')$$\n",
    "To nam omogoča, da neko funkcijo $f(t)$ zapišemo kot\n",
    "$$f(t) = \\int_{-\\infty}^{\\infty} F(w)e^{iwt}dw = a_1\\vct{e_1} + a_2\\vct{e_2} + ...$$\n",
    "Funkciji $F(w)$ pravimo spekter $f$. Kako to obrnemo?\n",
    "$$\\int_{-\\infty}^{\\infty}f(x)e^{-iw't}dt = \\iint F(w)e^{iwt}e^{-iwt}dtdw = \\int_{-\\infty}^{\\infty} F(w) 2\\pi \\delta(w-w')\\delta w = 2\\pi F(w')$$\n",
    "Tedaj je $\\displaystyle{F(w') = \\frac{1}{2\\pi}\\int_{-\\infty}^{\\infty}f(t)e^{-iwt}dt}$"
   ]
  },
  {
   "cell_type": "markdown",
   "metadata": {},
   "source": [
    "S tem lahko prehajamo med časovnim in frekvenčnim prostorom:\n",
    "$$\\begin{align*}\n",
    "f(t) & \\leftrightarrow F(w) \\\\\n",
    "f'(t) & \\leftrightarrow iwF(w) \\\\\n",
    "e^{iw_0t} & \\leftrightarrow \\delta(w-w_0) \\\\\n",
    "\\delta(t-t_0) & \\leftrightarrow \\frac{1}{2\\pi} e^{-iw_0t} \\\\\n",
    "\\frac{1}{\\sqrt{2\\pi \\sigma^2}} & \\leftrightarrow \\frac{1}{2\\pi} e^{-\\frac{\\cos^2t^2}{2}} \\\\\n",
    "\\cos w_0 t & \\leftrightarrow \\frac{1}{2} \\left(\\delta(w-w_0) + \\delta(w+w_0)\\right) \\\\\n",
    "\\int_{-\\infty}^{\\infty}f(t)dt & \\leftrightarrow 2\\pi F(0) \\\\\n",
    "\\text{Soda realna funkcija} & \\leftrightarrow \\text{Realna hermitska funkcija} \\\\\n",
    "\\end{align*}$$"
   ]
  },
  {
   "cell_type": "markdown",
   "metadata": {},
   "source": [
    "**Konvolucija:** Imamo linearni proces, poznamo impulzni odziv, torej:\n",
    "$\\\\ \\delta(t)$ na vhodu $\\rightarrow g(t)$ na izhodu.\n",
    "$\\\\ f(t)$ na vhodu $\\rightarrow$ ? na izhodu."
   ]
  },
  {
   "cell_type": "markdown",
   "metadata": {},
   "source": [
    "$$f(t) = \\int f(t')\\delta(t-t')dt' \\rightarrow (f \\circ g)(t)\\int f(t')g(t-t')dt$$"
   ]
  },
  {
   "cell_type": "markdown",
   "metadata": {},
   "source": [
    "$$\\rho = e \\delta(r - r_0) \\rightarrow U(\\vct{r}) = \\frac{e}{4\\pi \\varepsilon _0 |\\vct{r}-\\vct{r_0}|}$$\n",
    "V treh dimenzijah pa $$U(\\vct{r}) = \\iiint \\frac{\\rho(\\vct{r}) d^3\\vct{r}}{4\\pi\\varepsilon _0 |\\vct{r} - \\vct{r_0}|}$$"
   ]
  },
  {
   "cell_type": "markdown",
   "metadata": {},
   "source": [
    "$$\\begin{align*}\n",
    "f(t) & \\rightarrow F(t) \\\\\n",
    "g(t) & \\rightarrow G(t) \\\\\n",
    "(f \\circ g)(t) & \\rightarrow (F \\cdot G)(t) \\\\\n",
    "\\end{align*}$$"
   ]
  },
  {
   "cell_type": "markdown",
   "metadata": {},
   "source": [
    "Računalnikarji imajo to zelo radi, kajti pretvorba $f, g \\rightarrow f \\circ g$ ima časovno zahtevnost $O(n^2)$,\n",
    "Fourierjeva transformacija pa $O(n \\log n)$. Bolj specifično je najprej treba narediti Fourierjevo transformacijo, nato zmnožiti F in G, kar ima zahtevnost $O(n)$, nazadnje pa spet narediti transformacijo nazaj, kar pomeni še enkrat $O(n\\log n)$."
   ]
  },
  {
   "cell_type": "markdown",
   "metadata": {},
   "source": [
    "Funkcijo zapišemo kot funkcijsko vrsto:\n",
    "$$f(t) = \\sum_{n = 0}^{\\infty} c_n e^{int}$$\n",
    "$$c_n = \\frac{1}{2\\pi} \\int_{-\\infty}^{\\infty}f(t)e^{iwt}dt$$"
   ]
  },
  {
   "cell_type": "markdown",
   "metadata": {},
   "source": [
    "Uporabimo lahko tudi diskretno Fourierjevo transformacijo:\n",
    "$$c_n = \\frac{1}{N} \\sum_{k=0}^{n-1} f_k e^{-2 \\pi i k/N}$$"
   ]
  },
  {
   "cell_type": "markdown",
   "metadata": {},
   "source": []
  }
 ],
 "metadata": {
  "language_info": {
   "name": "python"
  }
 },
 "nbformat": 4,
 "nbformat_minor": 2
}
