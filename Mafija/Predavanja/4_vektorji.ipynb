{
 "cells": [
  {
   "cell_type": "markdown",
   "metadata": {},
   "source": [
    "$\\newcommand{\\vct}[1]{\\overrightarrow{#1}}$\n",
    "$\\newcommand{\\pd}[2]{\\frac{\\partial {#1}}{\\partial {#2}}}$\n",
    "$\\newcommand{\\dd}[2]{\\frac{\\mathrm{d} {#1}}{\\mathrm{d} {#2}}}$\n",
    "$\\newcommand{\\wfint}[5]{\\int _{#1}^{#2} \\Psi _{#3}^* {#5} \\Psi _{#4} dx}$\n",
    "$\\newcommand{\\comp}{\\mathbb{C}}$\n",
    "$\\newcommand{\\fn}[3]{{#1}: {#2} \\rightarrow {#3}}$\n",
    "$\\newcommand{\\matrix}[1]{\\begin{bmatrix}{#1}\\end{bmatrix}}$\n",
    "$\\newcommand{\\avg}[1]{\\langle {#1} \\rangle}$"
   ]
  },
  {
   "cell_type": "markdown",
   "metadata": {},
   "source": [
    "**Vektorji**"
   ]
  },
  {
   "cell_type": "markdown",
   "metadata": {},
   "source": [
    "Običajno vektorje zapišemo kot $\\vct{v} = (v_x, v_y, v_z) = v_x\\vct{e}_x + v_y\\vct{e}_y + v_z\\vct{e}_z$"
   ]
  },
  {
   "cell_type": "markdown",
   "metadata": {},
   "source": [
    "To ni popolno, saj imajo lahko vektorji različna izhodišča. Vektorje moramo biti sposobni paralelno prestavljati po prostoru, kar pa je mogoče le v kartezičnih sistemih."
   ]
  },
  {
   "cell_type": "markdown",
   "metadata": {},
   "source": [
    "V kartezičnem koordinatnem sistemu imamo vektorski in skalarni produkt (poleg tega pa še projekcijo enega vektorja na drugega):\n",
    "$$\\vct{v} \\cdot \\vct{w} = v_x w_x + v_y w_y + v_z w_z$$\n",
    "$$\\vct{v} \\times \\vct{w} = (v_yw_z - v_zw_y, v_zw_x - v_xw_z, v_xw_y - v_yw_x)$$\n",
    "$$\\vct{v}_{\\vct{u}} = \\frac{\\vct{v}\\cdot\\vct{u}}{\\vct{u}\\cdot\\vct{u}} \\vct{u}$$"
   ]
  },
  {
   "cell_type": "markdown",
   "metadata": {},
   "source": [
    "Kot že omenjeno, pa v nekartezičnem prostoru (kakršen je vsak prostor, s katerim se ukvarja fizika, razen, če lahko problem rešujemo v lokalno, torej aproksimiramo, da prostor lahko opišemo kartezično.)"
   ]
  },
  {
   "cell_type": "markdown",
   "metadata": {},
   "source": [
    "**Menjava (ortonormirane) baze:** To storimo z matriko, recimo ji $T$. Imejmo bazi $A$ in $B$.\n",
    "$$\\vct{e}_{Bi} = \\sum_{j} \\vct{e}_{Aj} T_{ji}$$\n",
    "$$\\vct{e}_{Ai} = \\sum_{j} \\vct{e}_{Bj} T_{ji}^{-1}$$"
   ]
  },
  {
   "cell_type": "markdown",
   "metadata": {},
   "source": [
    "Če torej vektor $\\vct{v}$ izrazimo v bazi $A$ kot $\\displaystyle{\\vct{v} = \\sum_{i}v_{Ai}}$, je v bazi $B$ to enako $\\displaystyle{\\vct{v} = \\sum_{j} v_{Bj} \\vct{e}_{Bj}}$, kjer je $$v_{Bj} = \\sum_{i} T_{ji}^{-1} v_{Ai}$$"
   ]
  },
  {
   "cell_type": "markdown",
   "metadata": {},
   "source": [
    "Če se torej baza transformira s $T$, se komponente transformirajo s $T^{-1}$. Kar se transformira kot vektor (torej z matriko $T$), imenujemo kovariantni vektor. Kar se transformira kot komponenta, torej z matriko $T^{-1}$, imenujemo kontravariantni vektor."
   ]
  },
  {
   "cell_type": "markdown",
   "metadata": {},
   "source": [
    "**Indeksna notacija:**\n",
    "- Dvojni indeks je tisti, po katerem seštevamo\n",
    "- Enojni indeks je indeks rezultata\n",
    "- Trojni ali več: Error"
   ]
  },
  {
   "cell_type": "markdown",
   "metadata": {},
   "source": [
    "Primer:\n",
    "- $\\vct{v}\\cdot\\vct{w} \\to \\sum_{i}v_iw_i \\to v_kw_k$\n",
    "- $A\\vct{v} \\to \\sum_{j}A_{ij}v_{j \\to A_{ij} v_j}$\n",
    "- $A^T \\vct{v} \\to A_{ji}v_j$\n",
    "- $AB \\to \\sum_{j}A_{ij}B_{jk} \\to A_{ij}B_{jk}$\n",
    "- Identična matrika: $\\delta _{ij} v_j = v_i$, pri čemer z $\\delta _{ij}$ označimo Kroneckerjevo $\\delta$\n",
    "- Sled matrike: Tr(A) $\\to A_{ii}$\n",
    "- Vektorski produkt: $\\vct{u} \\times \\vct{v} \\to \\varepsilon _{ijk} u_{j} v_{k}$; pri tem je $\\varepsilon _{ijk}$ tako imenovan Levi-Civita tenzor, katerega komponente so enake $$\\varepsilon _{ijk} = \\begin{cases} \\begin{pmatrix}1 & 2 & 3 \\\\ 2 & 3 & 1 \\\\ 3 & 1 & 2\\end{pmatrix} & \\to 1 \\\\[5mm] \\begin{pmatrix}3 & 2 & 1 \\\\ 1 & 3 & 2 \\\\ 2 & 1 & 3\\end{pmatrix} & \\to -1\\end{cases}$$\n",
    "- Mešani produkt: $(\\vct{u} \\times \\vct{v}) \\cdot \\vct{w} \\to \\varepsilon _{ijk}u_jv_kw_i = \\varepsilon _{jki}u_jv_kw_i$\n",
    "- Dvojni vektorski produkt. $\\vct{a} \\times (\\vct{b} \\times \\vct{c}) \\to \\varepsilon _{kij} \\varepsilon _{klm} a_j b_l c_m$"
   ]
  },
  {
   "cell_type": "markdown",
   "metadata": {},
   "source": [
    "To se da početi tudi, ko bazo transformiramo, le koeficienti se nekoliko spremenijo."
   ]
  },
  {
   "cell_type": "markdown",
   "metadata": {},
   "source": [
    "**Rotacijske matrike:** Bodi $T$ rotacijska matrika oblike\n",
    "$$T = \\begin{bmatrix} \\cos\\varphi & -\\sin\\varphi \\\\ \\sin\\varphi & \\cos\\varphi \\end{bmatrix}$$"
   ]
  },
  {
   "cell_type": "markdown",
   "metadata": {},
   "source": [
    "Če z njo vrtimo nek vektor $\\vct{v}$, lahko t vektor odvajamo po času:\n",
    "$$\\dot{\\vct{v}} = \\frac{d}{dt}(T\\vct{v_0}) = \\begin{bmatrix} -\\sin\\varphi & -\\cos\\varphi \\\\ \\cos\\varphi & - \\sin\\varphi \\end{bmatrix}\\dot{\\varphi}\\vct{v_0}$$"
   ]
  },
  {
   "cell_type": "markdown",
   "metadata": {},
   "source": [
    "Trenutni odvod v času $t=0$ je torej $$\\dot{\\vct{v}}(0) = \\omega \\begin{bmatrix}0 & -1 \\\\ 1 & 0\\end{bmatrix} \\vct{v}(0)$$"
   ]
  },
  {
   "cell_type": "markdown",
   "metadata": {},
   "source": [
    "Za splošen čas pa velja $$\\dot{\\vct{v}} = \\omega \\begin{bmatrix}0 & -1 \\\\ 1 & 0\\end{bmatrix} \\vct{v} = \\omega \\^L \\vct{v}$$"
   ]
  },
  {
   "cell_type": "markdown",
   "metadata": {},
   "source": [
    "To je nekakšna diferencialna enačba, katere rešitev je operator rotacije: matrika $e^{\\^L\\varphi}$. Matriki $\\^L$ pravimo generator rotacije. To je podobno kot operator $e^{h \\partial}$, ki smo ga izpeljali pri prvem predavanju (tam je generator translacije predstavljal $\\partial$)."
   ]
  },
  {
   "cell_type": "markdown",
   "metadata": {},
   "source": [
    "V 3D se stvar dodatno zakomplicira:\n",
    "$$\\frac{d\\vct{v}}{d\\varphi} = \\vct{n} \\times \\vct{v} = ... = \\begin{bmatrix} 0 & -n_z & n_y \\\\ n_z & 0 & n_x \\\\ -n_y & -n_x & 0 \\end{bmatrix} \\vct{v} = \\^L\\vct{v}$$"
   ]
  },
  {
   "cell_type": "markdown",
   "metadata": {},
   "source": [
    "Lahko si mislimo, da je matrika $\\^L$ enaka linearni kombinaciji treh matrik, in sicer:\n",
    "$$L_x = \\begin{bmatrix} 0 & 0 & 0 \\\\ 0 & 0 & 1 \\\\ 0 & -1 & 0 \\end{bmatrix}$$\n",
    "$$L_y = \\begin{bmatrix} 0 & 0 & 1 \\\\ 0 & 0 & 0 \\\\ -1 & 0 & 0 \\end{bmatrix}$$\n",
    "$$L_z = \\begin{bmatrix} 0 & -1 & 0 \\\\ 1 & 0 & 0 \\\\ 0 & 0 & 0 \\end{bmatrix}$$\n",
    "Tedaj je naša $\\^L$ neke vrste vektor $\\^L = (n_xL_x, n_yL_y, n_zL_z)$"
   ]
  },
  {
   "cell_type": "markdown",
   "metadata": {},
   "source": [
    "Tako lahko zapišemo $\\vct{v} =e^{\\varphi \\^L \\vct{n}}\\vct{v}_0$, pri čemer je $\\^L \\vct{n}$ nekakšen skalarni produkt."
   ]
  },
  {
   "cell_type": "markdown",
   "metadata": {},
   "source": [
    "Ker matrike $L_x, L_y, L_z$ ne komutirajo, nam to stvari hudo zakomplicira. Kjer se take stvari uporablja, imamo Rodriguezovo formulo, ki je blazno dolga in nepraktična."
   ]
  },
  {
   "cell_type": "markdown",
   "metadata": {},
   "source": [
    "Imamo pa sledečo lepo lastnost: $$T - T^T = 2\\sin\\varphi\\begin{bmatrix} 0 & -n_z & n_y \\\\ n_z & 0 & n_x \\\\ -n_y & -n_x & 0 \\end{bmatrix}$$"
   ]
  },
  {
   "cell_type": "markdown",
   "metadata": {},
   "source": [
    "Mimogrede: takšen operator si lahko izmislimo za vse trojice objektov, za katere velja $L_x L_y - L_y L_x = \\pm L_z$."
   ]
  },
  {
   "cell_type": "markdown",
   "metadata": {},
   "source": [
    "**Linearni operatorji:**"
   ]
  },
  {
   "cell_type": "markdown",
   "metadata": {},
   "source": [
    "Gre za preslikave oblike $\\vct{\\alpha}(\\vct{v})$. Te so linearne, če velja:\n",
    "- $(\\vct{\\alpha} + \\vct{\\beta})(\\vct{v}) = \\vct{\\alpha}(\\vct{v}) + \\vct{\\beta}(\\vct{v}) \\\\$\n",
    "- $(t\\vct{\\alpha})(\\vct{v}) = t\\vct{\\alpha}(v)$"
   ]
  },
  {
   "cell_type": "markdown",
   "metadata": {},
   "source": [
    "Transformiranje komponent $\\vct{\\alpha}$ pri menjavi baze:\n",
    "$$\\vct{\\alpha}(\\vct{e}_{Bi}) = \\vct{\\alpha}(T_{ji}\\vct{e_{Aj}}) = T_{ji}\\alpha _{Bj}$$\n",
    "$$\\alpha _{Bj} = T_{ij}^T\\alpha _{Aj}$$\n",
    "Transformacija z matriko $T^T$ je kovariantna. Baza dualnega prostora (tj. prostora linearnih operatorjev) pa je kontravariantna."
   ]
  },
  {
   "cell_type": "markdown",
   "metadata": {},
   "source": [
    "Uvedemo kovariantne indekse:\n",
    "$$\\alpha _{Bi} = T_i^j \\alpha _{Aj} \\to v_{B}^i = (T^{-1})_j^i\\alpha _{A}^j$$"
   ]
  },
  {
   "cell_type": "markdown",
   "metadata": {},
   "source": [
    "Če je bila transformacija za običajne indekse kontravariantna, je zdaj kovariantna. In obratno. V splošnem lahko zapišemo:\n",
    "$$\\vct{v}=v^i\\vct{e}_i = (T^{-1})^i_k v_A^k (T)^j_i \\vct{e}_{Aj}$$"
   ]
  },
  {
   "cell_type": "markdown",
   "metadata": {},
   "source": [
    "S tem smo pravzaprav uvedli dve bazi, in sicer\n",
    "- $\\vct{e}_i$ = baza vektorjev\n",
    "- $\\vct{e}^i$ = dualna baza (baza linearnih operatorjev)"
   ]
  },
  {
   "cell_type": "markdown",
   "metadata": {},
   "source": [
    "Skalarni produkt:\n",
    "$$\\vct{v}\\vct{w} = v_iw^i = v^iw_i$$\n",
    "Uvedemo metrični tenzor, za katerega velja $g_{ij} = e_i e_j$ - pove nam, kako ukrivljenost prostora vpliva na skalarni produkt.\n",
    "$$v_i = g_{ij}v^{j}$$\n",
    "$$(g_{ij})^{-1} = g^{ij}$$\n",
    "$$v^{i} = g^{ij}v_j$$"
   ]
  },
  {
   "cell_type": "markdown",
   "metadata": {},
   "source": [
    "Vektorji v dualni bazi so izohipse/nivojnice. Bazo dualnega prostora si lahko predstavljamo kot vzporedne ravnine, ki so pravokotne na vektorje iz običajnega prostora. Skalarni produkt je primerljiv s štetjem ravnin, ki jih seka vektor."
   ]
  }
 ],
 "metadata": {
  "language_info": {
   "name": "python"
  }
 },
 "nbformat": 4,
 "nbformat_minor": 2
}
