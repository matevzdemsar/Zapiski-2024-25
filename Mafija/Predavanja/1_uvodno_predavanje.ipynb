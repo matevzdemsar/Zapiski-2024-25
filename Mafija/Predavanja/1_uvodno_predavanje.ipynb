{
 "cells": [
  {
   "cell_type": "markdown",
   "metadata": {},
   "source": [
    "Probleme ločimo na zvezne in diskretne.\n",
    "Zvezno vs. Diskretno $\\\\$\n",
    "Integral, diferencial vs. Vsota, diferenca ($\\Delta$) $\\\\$\n",
    "Diferencialne enačba vs. Diferenčne enačbe $\\\\$\n",
    "Sistemi LDE vs. Matrični sistemi $\\\\$\n",
    "Analitični približki vs. Numerične metode $\\\\$"
   ]
  },
  {
   "cell_type": "markdown",
   "metadata": {},
   "source": [
    "Predpostavimo, da lahko probleme prevedemo na brezdimenzijske probleme."
   ]
  },
  {
   "cell_type": "markdown",
   "metadata": {},
   "source": [
    "Pri tem predmetu se ukvarjamo s problemi, ki jih lahko z določenimi približki rešimo analitično, brez teh približkov pa bi bilo potrebno numerično reševanje."
   ]
  },
  {
   "cell_type": "markdown",
   "metadata": {},
   "source": [
    "Snov: Vektorski račun, diferencialni operatorji, tenzorski račun, diferencialne enačbe (nekaj tipičnih primerov) $\\\\$\n",
    "(Večinoma plod 19. stoletja) $\\\\$\n",
    "Nazadnje teorija kaosa, ki je malo novejša."
   ]
  },
  {
   "cell_type": "markdown",
   "metadata": {},
   "source": [
    "Literatura: Kodre: Matematika v fiziki in tehniki"
   ]
  },
  {
   "cell_type": "markdown",
   "metadata": {},
   "source": [
    "**Diferenciali in linearne aproksimacije:**\n",
    "- Naklon (v geometriji), oz. hitrost spremembe. Piši $\\displaystyle{y' = \\frac{dy}{dx}}$\n",
    "- Prispevek k celoti: $dV$ kot del volumna, $dm$ kot del mase.\n",
    "V čem je razlika? Prispevek k celoti sam po sebi ne pomeni nič, moramo integrirati, da dobimo nekaj fizikalno pomenljivega.\n",
    "- Približki, odkimi, napake ($x \\to x + dx$ ali $x + \\delta x$). Če neke količine ne poznamo točno ali pa je ne moremo izračunati."
   ]
  },
  {
   "cell_type": "markdown",
   "metadata": {},
   "source": [
    "Če nam uspe, bomo hoteli imeti linearen približek, in sicer iz dveh razlogov:\n",
    "1. Linearne enačbe običajno zelo lahko rešimo\n",
    "2. Veliko fizikalnih pojavov je linearnih"
   ]
  },
  {
   "cell_type": "markdown",
   "metadata": {},
   "source": [
    "Najpogostejši primer takega približka je, za nek majhen $dx$:\n",
    "$$f(x + dx) \\approx f(x) + f'(x)dx$$"
   ]
  },
  {
   "cell_type": "markdown",
   "metadata": {},
   "source": [
    "Na primer: $(x + \\varepsilon)^3 = x^3 + 3x^2 + 3x\\varepsilon^2 + \\varepsilon^3 \\approx x^3 + 3x^2 \\varepsilon$"
   ]
  },
  {
   "cell_type": "markdown",
   "metadata": {},
   "source": [
    "Z numeričnega stališča to ni super, saj je analitično odvajanje dolgotrajno, numerično pa nenatančno. Namesto tega uvedemo dualna števila:\n",
    "$$a + b\\varepsilon,~\\varepsilon^2 \\approx 0$$\n",
    "S tem avtomatsko dobimo odvod funkcije, na primer:\n",
    "$$x \\to x + \\varepsilon$$\n",
    "$$x^2 \\to x^2 + 2x \\varepsilon$$\n",
    "$$x^3 \\to x^3 + 3x^2 \\varepsilon$$\n",
    "$$\\sin(x^2) \\to \\sin(x^2 + 2x\\varepsilon) = \\sin(x^2) + 2x\\varepsilon\\cos(x^2)$$\n",
    "V splošnem:\n",
    "$$f(a + b\\varepsilon) = f(a) + f'(a)b\\varepsilon$$"
   ]
  },
  {
   "cell_type": "markdown",
   "metadata": {},
   "source": [
    "Prednost tega je, da gre stvar rekurzivno, torej lahko izračunaš (v primeru $\\sin x^2$) najprej aproksimacijo $x^2$ in jo šele nato vstaviš v funkcijo $\\sin$. Stvar pa lahko v celoti naredimo z računalnikom, namesto da bi morali ročno analitično odvajati."
   ]
  },
  {
   "cell_type": "markdown",
   "metadata": {},
   "source": [
    "Za natančnejše račune se bomo morali posloviti od linearnega razvoja in uporabiti polinomske aproksimacije."
   ]
  },
  {
   "cell_type": "markdown",
   "metadata": {},
   "source": [
    "**Polinomske aproksimacije.** Imamo več možnosti:\n",
    "1. Interpolacija $\\\\$\n",
    "Eksaktna v izbranih točkah, vendar naletimo na problem Rungejeve oscilacije: Če izberemo preveč točk, bo začel polinom oscilirati. Z dobro izbiro točk lahko aproksimacije minimiziramo, primer tega so Čebiševi vozli: Funkcijo aproksimiramo znotraj nekega intervala, gostota točk je največja na robu integrala, kar poskrbi, da vsaj na tem intervalu ne bo prihajalo do prevelikih oscilacij. Taka izbira nam v integralu podvoji natančnost. To najbolje deluje za funkcije ki nima prevelikih odvodov višjih stopenj.\n",
    "2. Minimizacija napake\n",
    "- Fitanje: minimiziramo $\\displaystyle{\\sum_i (f(x_i) - p(x_i))^2w_i}$, kjer so $w_i$ uteži $\\\\$\n",
    "- V integralu $\\displaystyle{\\min \\int (f(x) - p(x)) w(x) dx}$ dobimo ortogonalne polinome. Funkcijo lahko poskusimo razviti po teh polinomih. (V skrajnem primeru nas to pripelje do Fourierjeve vrste). $\\\\$\n",
    "Izkaže se, da je fitanje po $n$ ekvidistančnih (!) točkah ekvivalentno razvoju po prvih $n$ ortogonalnih polinomih.\n",
    "- Minimiziramo $\\max|f(x_i) - p(x_i)|$. Ekvisocilacijski izrek: $\\min \\max |f(x) - p(x)|$ je dosežen, ko je največje odstopanje $f(x) - p(x)$ nasprotno enako najmanjšemu. $\\\\$\n",
    "Remezev algoritem: Na nekem intervalu poiščemo presečišča funkcije $f$ in polinoma $p$, s katerih želimo funkcijo aproksimirati. Interval nato razdelimo na manjše intervale na podlagi teh presečišč in poiščemo ekstrem $f(x) - p(x)$. Želimo, da so absolutne vrednosti teh maksimumov enake. Tedaj je $p$ najboljša aproksimacija za $f$ na izbranem intervalu. V praksi to pomeni, da preprečimo, da bi bila aproksimacija dobra na nekaterih takih intervalih in slaba na drugih, temveč je na vseh intervalih enako dobra.\n"
   ]
  },
  {
   "cell_type": "markdown",
   "metadata": {},
   "source": [
    "3. Taylorjeva / McLaurinova vrsta $\\\\$\n",
    "Uporabimo pri analitičnih približkih za majhne odmike od neke vrednosti. V takih primerih si lahko privoščimo, da je približek pri večjih odmikih manj natančen, saj nas veliki odmiki ne zanimajo. $\\\\$\n",
    "Taylorjeva vrsta:\n",
    "$$f(x + h) = f(h) + f'(x) h + f''(x) \\frac{h^2}{2} + ... = \\sum_{n=0}^\\infty f^(n)(x)\\frac{h^n}{n!}$$\n",
    "Iz matematike (najbrž 1) vemo, da ta vrsta konvergira do prvega pola v kompleksnih številih, kar pa načeloma ni problem, saj delamo z majhnimi odmiki. Taylorjeva vrsta je posebej uporabna za računanje limit (saj imajo te majhne odmike) in pri obravnavi funkcij, ki se jih ne da izraziti z elementarnimi funkcijami (npr. intergrali funkcij, ki jih ne moremo analitično integrirati)"
   ]
  },
  {
   "cell_type": "markdown",
   "metadata": {},
   "source": [
    "$\\sin x = x - \\frac{x^3}{3!} + \\frac{x^5}{5!} - \\frac{x^7}{7!} + ... \\\\\n",
    "\\cos x = 1 - \\frac{x^2}{2!} + \\frac{x^4}{4!} - \\frac{x^6}{6!} + ... \\\\\n",
    "e^x = 1 + x + \\frac{x^2}{2!} + \\frac{x^3}{3!} + \\frac{x^4}{4!} + ... \\\\\n",
    "\\frac{1}{1 - x} = 1 + x + x^2 + x^3 + x^4 + ... ~|x| < 1 \\\\\n",
    "\\ln(1 + x) = x - \\frac{x^2}{2!} + \\frac{x^3}{3!} - \\frac{x^4}{4!} + ... ~|x| < 1 \\\\\n",
    "(1 + x)^n = 1 + nx + \\begin{pmatrix} n \\\\ 2 \\end{pmatrix} x^2 + ... ~|x| < 1$"
   ]
  },
  {
   "cell_type": "markdown",
   "metadata": {},
   "source": [
    "Čas za nekaj NSFW matematike:\n",
    "$$f(x + h) = f + h \\partial f + \\frac{h^2}{2} \\partial^2 f + ... =$$\n",
    "$$= (1 + h\\partial + \\frac{h^2}{2!} \\partial^2 + ...) f = e^{h\\partial} f$$"
   ]
  },
  {
   "cell_type": "markdown",
   "metadata": {},
   "source": [
    "$e^{h \\partial}$ imenujemo operator translacije - gre za to, da funkcijo $f$ \"prestavimo\" za $h$ vzdolž $x$ osi. V več dimenzijah je stvar podobna:\n",
    "$$f(\\overrightarrow{r} + \\overrightarrow{h}) = e^{\\overrightarrow{h} \\cdot \\overrightarrow{\\nabla}} f(\\overrightarrow{r})$$"
   ]
  },
  {
   "cell_type": "markdown",
   "metadata": {},
   "source": [
    "Ko funkcije razvijemo po Taylorju, jih z veliko lahkoto seštevamo, ravno tako jih lahko množimo:\n",
    "$$\\sin x \\cdot \\cos x = ... = x - \\frac{4}{6} x^3 + \\frac{16}{120} x^5 + o(x^7)$$"
   ]
  },
  {
   "cell_type": "markdown",
   "metadata": {},
   "source": [
    "Deljenje si poenostavimo tako, da stvar prevedemo na $(1 - x)^{-1}$. Primer:\n",
    "$$\\frac{\\sin x}{\\cos x} = \\frac{x - \\frac{x^3}{3!} + o(x^5)}{1 - \\frac{x^2}{2!} + \\frac{x^4}{4!} + o(x^6)}$$"
   ]
  },
  {
   "cell_type": "markdown",
   "metadata": {},
   "source": [
    "V imenovalcu imamo člen oblike (1 + nekaj), zato zadevo obravnavamo kot geometrijsko vrsto:\n",
    "$$\\left(x - \\frac{x^3}{3!} + o(x^5)\\right)\\left(1 + (\\frac{x^2}{2!} + \\frac{x^4}{4!} + o(x^6)) + (\\frac{x^2}{2!} + \\frac{x^4}{4!} + o(x^6))^2 \\right) $$\n",
    "$$= \\left(x - \\frac{x^3}{3!} + o(x^5)\\right)\\left(1 + \\frac{x^2}{2!} + o(x^4)\\right) = ...$$"
   ]
  },
  {
   "cell_type": "markdown",
   "metadata": {},
   "source": [
    "Ali pa na primer $$\\frac{xe^x}{\\sin x} = \\frac{x(1 + x + x^2/2 + o(x^3))}{x(1 - \\frac{x^2}{3!} + o(x^5))} = $$\n",
    "$$= \\frac{1 + x + x^2/2 + o(x^3)}{1 - \\left[\\frac{x^2}{3!} + o(x^5)\\right]}...$$\n",
    "Običajno je dobro, da vzamemo več kot dva člena razvoja, nam pa to bistveno poenostavi deljenje."
   ]
  },
  {
   "cell_type": "markdown",
   "metadata": {},
   "source": [
    "Lahko razvijemo tudi inverz Taylorjeve vrste, vendar imamo dva pogoja, in sicer:\n",
    "- $f(x) = 0$ , tj. inverz razvijemo okoli točke, v kateri je $f(x_0) = 0$\n",
    "- $f'(x) \\neq 0 \\\\$\n",
    "Na kratko: Prvi člen naj bo linearen."
   ]
  },
  {
   "cell_type": "markdown",
   "metadata": {},
   "source": [
    "Primer: $x = \\sin y$\n",
    "$$y = x + \\frac{y^3}{3!} - \\frac{x^5}{5!} + o(x^7)$$\n",
    "$$= x + \\frac{1}{3!}\\left(x + \\frac{y^3}{3!} - \\frac{y^5}{5!} + ...\\right)^3 - \\left(\\frac{x^5}{5!} + \\frac{1}{5!}\\left(\\frac{y^3}{3!} - \\frac{y^5}{5!} + ...\\right)^5 + o(x^7)\\right)$$\n",
    "Namesto $y$ vstavljamo vrsto $x + \\frac{y^3}{3!} - \\frac{x^5}{5!} + o(x^7)$, da dobimo vedno več členov z $x$, členi z $y$ pa dobivajo vedno višjo potenco. Na koncu člene z $y$ zanemarimo (saj razvijamo okoli 0 in je $y$ majhen), ostane le vrsta z $x$. $\\\\$\n",
    "V zgornjem primeru gre za $$x + \\frac{x^3}{3!} + \\frac{3}{40} x^5 + o(x^7)$$"
   ]
  },
  {
   "cell_type": "markdown",
   "metadata": {},
   "source": [
    "**Seštevanje vrst v zaključni obliki**\n",
    "Nekatere so lepo rešljive.\n",
    "$$f(x) = \\sum_{n=0}^\\infty n (n+1)^2 x^n~(\\text{na obeh straneh integriramo in delimo z x})$$\n",
    "$$\\frac{1}{x} \\int _0^x f(x) dx = \\frac{1}{x} \\sum_{n=0}^\\infty n(n+1)x^{n+1}$$\n",
    "$$\\frac{1}{x} \\int _0^x f(x) dx = \\sum_{n=0}^\\infty n(n+1)x^n$$\n",
    "(Ponavljamo, dokler se ne znebimo vseh neželenih členov, in dobimo geometrijsko vrsto.)\n",
    "$$\\int _0^x \\frac{1}{x} \\int _0^x \\frac{1}{x} \\int _0^x f(x)dx = \\sum_{n=0}^\\infty x^{n+1} - \\int _0^x \\frac{1}{1-x}dx$$"
   ]
  },
  {
   "cell_type": "markdown",
   "metadata": {},
   "source": [
    "$$\\int _0^x \\frac{1}{x} \\int _0^x \\frac{1}{x} \\int _0^x f(x)dx = \\frac{1}{1-x} - \\int _0^x \\frac{1}{1-x}dx$$\n",
    "Na koncu vse skupaj trikrat odvajamo in dobimo rešitev."
   ]
  },
  {
   "cell_type": "markdown",
   "metadata": {},
   "source": [
    "**Pospeševanje vrste:** Če delne vsote vrste počasi konvergirajo, lahko poskusimo ekstrapolirati vrsto, ki konvergira hitreje. $\\\\$"
   ]
  },
  {
   "cell_type": "markdown",
   "metadata": {},
   "source": [
    "Aitkenova metoda: Predpostavimo, da se zaporedje delnih vsot $s_n$ eksponentno približuje limiti $s$. Označimo:\n",
    "- $S_{n+1} = \\~S_n + aq^2$\n",
    "- $S_{n} = \\~S_n + aq$\n",
    "- $S_{n-1} = \\~S_n + a$"
   ]
  },
  {
   "cell_type": "markdown",
   "metadata": {},
   "source": [
    "Izrazimo $\\~S_n$:\n",
    "$$\\~S_n = S_{n+1} - \\frac{(S_{n+1} - S_{n})^2}{S_{n+1} - 2S_n + S_{n-1}}$$"
   ]
  },
  {
   "cell_type": "markdown",
   "metadata": {},
   "source": [
    "V števcu ulomka prepoznamo kvadrat numeričnega približka prvega odvoda, v imenovalcu pa numerični približek drugega odvoda."
   ]
  },
  {
   "cell_type": "markdown",
   "metadata": {},
   "source": [
    "**Primer** $\\ln(2)$ še kar počasi konvergira počasi. Prvih pet delnih vsot je $(1, 0.5, 0.833, 0.583, 0.783)$.\n",
    "Iz prve, druge in tretje ekstrapoliramo $\\~S_2 = 0.7$, iz druge, tretje in četrte dobimo $\\~S_3 = 0.690$, iz tretje, četrte in pete pa $\\~S_4 = 0.694$. Vidimo, da nam ta vrsta že skoraj takoj da rezultat, ki je natančen na dve decimalki. Seveda nam nič ne preprečuje, da tega ne bi ponovili: $\\~{\\~S_3} = 0.693$, kar je na tri decimalke natančno."
   ]
  },
  {
   "cell_type": "markdown",
   "metadata": {},
   "source": [
    "To je primerljivo z Newtonovo metoda, vzamemo\n",
    "$$x_{n+1} = x - \\frac{f}{f'}$$\n",
    "Ali drugače:\n",
    "$$\\~S = S - \\frac{\\frac{d}{dn}S}{\\frac{d^2}{dn^2}S},~\\text{vzeli smo }f = \\frac{dS}{dn}$$"
   ]
  }
 ],
 "metadata": {
  "language_info": {
   "name": "python"
  }
 },
 "nbformat": 4,
 "nbformat_minor": 2
}
