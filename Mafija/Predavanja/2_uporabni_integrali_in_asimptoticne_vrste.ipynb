{
 "cells": [
  {
   "cell_type": "markdown",
   "metadata": {},
   "source": [
    "$\\newcommand{\\vct}[1]{\\overrightarrow{#1}}$\n",
    "$\\newcommand{\\pd}[2]{\\frac{\\partial {#1}}{\\partial {#2}}}$\n",
    "$\\newcommand{\\wfint}[5]{\\int _{#1}^{#2} \\Psi _{#3}^* {#5} \\Psi _{#4} dx}$\n",
    "$\\newcommand{\\comp}{\\mathbb{C}}$\n",
    "$\\newcommand{\\fn}[3]{{#1}: {#2} \\rightarrow {#3}}$\n",
    "**Integrali**\n",
    "$$S_i (x) = \\int_{0}^{x} \\frac{\\sin (t)}{t}dt$$\n",
    "$$C_i (x) = \\int_{x}^{\\infty} \\frac{\\cos (t)}{t}dt$$\n",
    "$$E_i (x) = \\int_{-\\infty}^{x} \\frac{e^t}{t}dt$$\n",
    "$$L_i (x) = \\int_{0}^{x} \\frac{1}{\\ln(t)}dt$$\n",
    "$$\\text{erf}(x) = \\frac{2}{\\sqrt{\\pi}} \\int_{0}^{x} e^{-t^2}dt$$\n",
    "$$S(x) = \\int_{0}^{x} \\sin (t^2) dt$$\n",
    "$$C(x) = \\int_{0}^{x} \\cos (t^2) dt$$"
   ]
  },
  {
   "cell_type": "markdown",
   "metadata": {},
   "source": [
    "**Pogoste diferencialne enačbe:**\n",
    "- Besselova diferencialna enačba: $\\displaystyle{x^2\\pd{^2y}{x^2} + x \\pd{y}{x} + (x^2 - \\alpha^2)y = 0} \\\\$\n",
    "Rešitev: Rešita jo funkciji $\\mathcal{J}_\\alpha (x)$, ki je regularna v izhodišču ($x^\\alpha$) in $\\mathcal{Y}_\\alpha (x)$, ki ima v izhodišču ($x=0$) pol.\n",
    "- Sferična Besselova diferencialna enačba (pogosta v cilindričnih ali sferičnih koordinatah): $\\displaystyle{x^2 \\pd{^2y}{x^2} + 2x\\pd{y}{x} + (x^2 - n(n+1))y = 0} \\\\$\n",
    "Rešitvi sta: $\\displaystyle{j_n(x) = \\sqrt{\\frac{\\pi}{2x}} \\mathcal{J}_{n+\\frac{1}{2}}(x)}$ in $\\displaystyle{y_n(x) = \\sqrt{\\frac{\\pi}{2x}} \\mathcal{Y}_{n+\\frac{1}{2}}(x)} \\\\$\n",
    "Izgledata grozno, a v sferičnih koordinatah se izkažeta za še kar enostavni: $\\displaystyle{j_0 (x) = \\frac{\\sin x}{x},\\,~j_1 = \\frac{\\sin x}{x^2} - \\frac{\\cos x}{x}} ...$\n",
    "- Aing-jeva diferencialna enačba: $\\displaystyle{\\pd{^2y}{x^2}}$."
   ]
  },
  {
   "cell_type": "markdown",
   "metadata": {},
   "source": [
    "Rešitve transcendentnih enačb (niso analitično rešljive):\n",
    "- $x = a\\sin x$\n",
    "- $x = a\\tan x$\n",
    "- $xe^x = y$"
   ]
  },
  {
   "cell_type": "markdown",
   "metadata": {},
   "source": [
    "Rešitev $xe^x = y$ se imenuje Lambertova funkcija (kot že omenjeno, enačba ni analitično rešljiva, lahko pa rešitev poiščemo z iteracijo. Stvar je bila potrebna dovoljkrat, da je dobila ime.)"
   ]
  },
  {
   "cell_type": "markdown",
   "metadata": {},
   "source": [
    "Obravnavajmo podoben primer:\n",
    "$$x = a^x = a^{a^x} = ... = a^{a^{a^{a^{a^{a^{a^x}}}}}}$$"
   ]
  },
  {
   "cell_type": "markdown",
   "metadata": {},
   "source": [
    "Stvar konvergira za $e^{-e} < a < e^{1/e}$, označimo tudi $x = T (a)$ (T ... power tower)\n"
   ]
  },
  {
   "cell_type": "markdown",
   "metadata": {},
   "source": [
    "Lahko zapišemo $xa^{-x} = 1$, torej lahko rešitev zapišemo z Lambertovo funkcijo kot $x = \\frac{W(-\\ln a)}{-\\ln a},$ kjer je $W$ Lambertova funkcija."
   ]
  },
  {
   "cell_type": "markdown",
   "metadata": {},
   "source": [
    "**Integrali in vrste posebnega pomena:**\n",
    "Gamma funkcija:\n",
    "$$\\Gamma (x) = \\int_{0}^{\\infty}t^{x-1}e^{-t}dt$$\n",
    "$$n! = \\int_{0}^{\\infty} t^ne^{-t}dt$$\n",
    "Eliptični integrali:\n",
    "$$K(k) = \\int_{0}^{\\pi/2} \\frac{d\\vartheta}{\\sqrt{1-k^2\\sin^2\\vartheta}}$$\n",
    "$$E(k) = \\int_{0}^{\\pi/2} \\sqrt{1-k^2\\sin^2\\vartheta} d\\vartheta$$\n",
    "Eliptična integrala dobita ime po obsegu elipse, ki je enak 4aE(e), uporabna pa sta pri vseh stvareh, ki vključujejo Pitagorov izrek, npr. magnetno polje izven osi tuljave."
   ]
  },
  {
   "cell_type": "markdown",
   "metadata": {},
   "source": [
    "**Primer: Matematično nihalo** $\\\\$\n",
    "$$ml^2\\ddot{\\vartheta} = -mgl\\sin \\vartheta ~\\,\\text{ (integriramo na obeh straneh)}$$\n",
    "$$\\frac{1}{2}ml^2\\dot{\\vartheta} + mgl(1 - \\cos \\vartheta) = mgl(1 - \\cos \\vartheta _0)$$\n"
   ]
  },
  {
   "cell_type": "markdown",
   "metadata": {},
   "source": [
    "$$\\int_{0}^{\\vartheta _0} \\frac{d\\vartheta}{2w_0\\sqrt{\\sin^2\\frac{\\vartheta _0}{2} - \\sin^2\\frac{\\vartheta}{2}}} = \\frac{t_0}{4}$$\n",
    "Ko stvar nekaj predelamo (uporabiti moramo substitucijo $\\displaystyle{\\sin u = \\frac{\\sin^2 (\\vartheta / 2)}{\\sin^2 (\\vartheta _0)}}$), dobimo:\n",
    "$$\\frac{t_0}{4}w_0 = K(\\sin\\frac{\\vartheta}{2})$$"
   ]
  },
  {
   "cell_type": "markdown",
   "metadata": {},
   "source": [
    "Kako razvijemo $K(k)$ in $E(k)$? Uporabimo binomsko vrsto:\n",
    "$$K(k) = \\int_{0}^{\\pi/2} \\frac{d\\vartheta}{\\sqrt{1 - k^2 \\sin^2 \\vartheta}} = \\int_{0}^{\\pi/2} \\sum_{n=0}^{\\infty} \\begin{pmatrix}-1/2 \\\\ n\\end{pmatrix}(-k^2\\sin^2\\vartheta)^nd\\vartheta$$"
   ]
  },
  {
   "cell_type": "markdown",
   "metadata": {},
   "source": [
    "$$= \\sum_{n=0}^{\\infty} (-k^2)\\begin{pmatrix}-1/2 \\\\ n\\end{pmatrix} \\int_{0}^{\\pi/2}\\sin^{2n}\\vartheta d\\vartheta$$\n",
    "V integralu prepoznamo $\\displaystyle{B(\\frac{1}{2} + n, \\frac{1}{2})} = \\frac{\\sqrt{\\pi} \\Gamma\\left(n+\\frac{1}{2}\\right)}{n!}$\n",
    "$$= \\frac{\\pi}{2} \\sum_{n=0}^{\\infty}\\left(\\frac{(2n)!}{n!^2\\,2^{2n}}\\right)^2 k^{2n} = \\frac{\\pi}{2}\\left[1 + \\left(\\frac{1}{2}\\right)^2k^2 + \\left(\\frac{1 \\cdot 3}{2 \\cdot 4}\\right)^2 k^4 + \\left(\\frac{1 \\cdot 3 \\cdot 5}{2 \\cdot 4 \\cdot 6}\\right)^2 k^6 + ... \\right]$$"
   ]
  },
  {
   "cell_type": "markdown",
   "metadata": {},
   "source": [
    "Za $E(k)$ pa dobimo:\n",
    "$$E(k) = \\frac{\\pi}{2}\\left[1 - \\sum_{n=1}^{\\infty} \\frac{1}{n}\\left(\\frac{(2n)!}{n!^2\\,2^{2n}}\\right)^2k^{2n}\\right]$$"
   ]
  },
  {
   "cell_type": "markdown",
   "metadata": {},
   "source": [
    "Obstajajo tudi **nepopolni eliptični integrali:** \n",
    "$\\displaystyle{w_0 t = \\int_{0}^{z}\\frac{d\\vartheta}{\\sqrt{1-k^2\\sin^2\\vartheta}}} =: F(z, k)$. Gre za nekakšen inverz nihanja."
   ]
  },
  {
   "cell_type": "markdown",
   "metadata": {},
   "source": [
    "Če je $z = \\pi/2$, dobimo popoln eliptični integral: $F(\\pi/2, k) = K(k)$ $\\\\$\n",
    "Najprej naredimo substitucijo:\n",
    "$$\\sin z = \\frac{\\sin (\\vartheta/2)}{\\sin (\\vartheta _0/2)}$$\n",
    "Nato poiščemo inverz:\n",
    "$$z = \\text{am}(w_0t, k) \\leftrightarrow w_0t = F(z, k)$$\n",
    "Z `am` smo označili Jacobijevo amplitudo. Označimo\n",
    "$$sn(x, k) = \\sin(\\text{am}(x, k))$$\n",
    "$$cn(x, k) = \\cos(\\text{am}(x, k))$$\n",
    "$$dn(x, k) = \\frac{d}{dx} am(x, k)$$\n",
    "$sn(x, k)$ in $cn(x, k)$ sta eksaktni rešitvi matematičnega nihala pri kateri koli amplitudi. Pri majhnih $x$ se dobro ujemata s funkcijama $\\sin$ in $\\cos$, pri večjih $x$ pa gresta nekam po svoje."
   ]
  },
  {
   "cell_type": "markdown",
   "metadata": {},
   "source": [
    "Omenimo še skrajnost $k \\to 1$: tedaj je $sn(x, 1) = \\tanh(x)$, $cn(x, 1) = dn(x, 1) = \\cosh^{-1}(x)$"
   ]
  },
  {
   "cell_type": "markdown",
   "metadata": {},
   "source": [
    "\"Če ne greste delat magisterija iz tega, se tega ne dotikajte.\""
   ]
  },
  {
   "cell_type": "markdown",
   "metadata": {},
   "source": [
    "Riemannova $\\zeta$ funkcija: $$\\zeta (s) = \\sum _n n^{-s}$$"
   ]
  },
  {
   "cell_type": "markdown",
   "metadata": {},
   "source": [
    "Matematiki si že dolgo belijo glavo s tem, kje so njene ničle. Zaenkrat so bile vse najdene ničle (ki jih je precej) oblike $\\displaystyle{-\\frac{1}{2} + ix,\\,~x\\in\\mathbb{R}}$, vendar nihče ne zna dokazati, da so vse ničle take."
   ]
  },
  {
   "cell_type": "markdown",
   "metadata": {},
   "source": [
    "**Asimptotične vrste.**\n",
    "- Razvijamo jih okrog $\\infty$\n",
    "- Divergirajo (za izbrano število členov je približek boljši za večji x)\n",
    "- Za izbrani x vrsta po nekaj členih začne divergirati\n",
    "- Primer: Multipolni razvoj - \"porazdelitev ni pomembna\" $\\\\$\n",
    "(npr. gravitacijsko polje ravne palice. Ko si dovolj daleč, lahko aproksimiraš palico aproksimiraš na točko in polje izraziš kot $1/r$. Ko prideš bližje, se vse skupaj sesuje)"
   ]
  },
  {
   "cell_type": "markdown",
   "metadata": {},
   "source": [
    "Zgled: Porazdelitev naboja. $$V(r) = \\int \\frac{\\rho(r')}{|r-r'|}dr' = \\int \\frac{\\rho(r')}{r\\left(1 - \\frac{r'}{r}\\right)}$$\n",
    "$$= \\int \\sum_{n=0}^{\\infty}\\frac{1}{r}\\left(\\frac{r'}{r}\\right)^n\\rho(r')dr'$$\n",
    "Ta integral konvergira, če je $\\displaystyle{\\left|\\frac{r'}{r}\\right|} < 1$. Toda če integriramo od 0 do $\\infty$, tega nikakor ne moremo zagotoviti. Integral torej divergira."
   ]
  },
  {
   "cell_type": "markdown",
   "metadata": {},
   "source": [
    "Drug primer: Vzemimo erfc(x) oziroma komplement funkcije erf.\n",
    "$$\\text{erf}(x) = 1 - \\text{erf}(x) = \\frac{2}{\\sqrt{\\pi}}\\int_{x}^{\\infty} e^{-x^2}dx$$\n",
    "Uporabimo suubstitucijo, da meje integriranje premaknemo na $[0, \\infty)$.\n",
    "$$ = \\frac{2}{\\sqrt{\\pi}} e^{-x^2}\\int_{0}^{\\infty} e^{-u^2}e^{2ux}du = \\frac{2}{\\sqrt{\\pi}}e^{-x^2}\\sum_{n=0}^{\\infty}\\int_{0}^{\\infty}\\frac{(-u^2)^n}{n!}e^{-2ux}du$$"
   ]
  },
  {
   "cell_type": "markdown",
   "metadata": {},
   "source": [
    "Uporabimo substitucijo $t = 2ux$, da v integralu dobimo $\\Gamma$ funkcijo:\n",
    "$$= \\frac{2}{\\pi}e^{-x^2}\\sum_{n=0}^{\\infty}\\frac{(-1)^n(2n)!}{n!(2x)^{2n+1}}$$"
   ]
  },
  {
   "cell_type": "markdown",
   "metadata": {},
   "source": [
    "Pri dovolj velikih x in dovolj malo členih ta vrsta nekaj časa konvergira (nato pa začne divergirati). Spet je problem v tem, da vrste ne moreš razviti po Taylorju in je potem poslati v neskončno. Kljub temu pa smo lahko na ta način poljubno natančni. Stvar lahko naredimo tudi bolj matematično korektno z metodo Per partes in dobimo približno isto stvar."
   ]
  },
  {
   "cell_type": "markdown",
   "metadata": {},
   "source": [
    "**Picardova iteracija** Če rešujem diferencialno enačbo oblike $\\dot{y} = \\mathcal{F}(y, x)$, lahko uporabimo rekurzivno zaporedje\n",
    "$$\\dot{y}_{n+1} = \\mathcal{F}(y_n, x)$$\n",
    "Na kratko: v $\\mathcal{F}$ vstavimo, kar imamo, nato integriramo in dobimo nov približek."
   ]
  },
  {
   "cell_type": "markdown",
   "metadata": {},
   "source": [
    "To konvergira, kadar je $\\mathcal{F}$ Lipschitzevo zvezna. V praksi pač poskusiš in upaš na najboljše."
   ]
  },
  {
   "cell_type": "markdown",
   "metadata": {},
   "source": [
    "**Približek stacionarne faze** $\\\\$\n",
    "$$f = \\int_{-\\infty}^{\\infty} g(z) e^{i\\varphi(z)}dz$$"
   ]
  },
  {
   "cell_type": "markdown",
   "metadata": {},
   "source": [
    "Kjer se amplituda $g(z)$ spreminja počasi, faza $e^{-\\varphi(z)}$ pa hitro."
   ]
  },
  {
   "cell_type": "markdown",
   "metadata": {},
   "source": [
    "Aproksimiramo: Kjer je faza stacionarna (tj. se spreminja relativno počasi), je $g(z)e^{i\\varphi(z)}$ neničelno, sicer aproksimirao na 0. Kajti tam, kjer se faza zelo hitro spreminjata, se zaporedna nihaja približno odštejeta."
   ]
  },
  {
   "cell_type": "markdown",
   "metadata": {},
   "source": [
    "$$\\int_{-\\infty}^{\\infty} g(z) e^{i\\varphi(z)}dz \\cong \\int_{-\\infty}^{\\infty} g(z_0)e^{i\\varphi(z)}$$\n",
    "$z_0$ predstavljajo točke, kjer je faza stacionarna.\n",
    "Na $\\varphi(z)$ uporabimo Taylorjev razvoj: $\\varphi(z) \\approx \\varphi _0 + \\frac{1}{2} \\varphi''(z_0) (z - z_0)^2$\n",
    "$$f = \\int_{-\\infty}^{\\infty} g(z_0)e^{i\\varphi _0}e^{\\frac{1}{2} \\varphi''(z_0)(z-z_0)^2}dz$$\n",
    "Integral Gaussove porazdelitve pa poznamo.\n",
    "$$f = e^{i\\varphi _0} g(z_0) \\sqrt{\\frac{2\\pi i}{\\varphi''(z_0)}}$$"
   ]
  },
  {
   "cell_type": "markdown",
   "metadata": {},
   "source": [
    "Besselova funkcija (tista z začetka ure):\n",
    "$$\\mathcal{J}_n (x) = \\frac{1}{2\\pi} \\int_{-\\pi}^{\\pi}e^{i(nt - x\\sin t)}dt$$"
   ]
  },
  {
   "cell_type": "markdown",
   "metadata": {},
   "source": [
    "To je grdo. Ampak lahko razvijemo.\n",
    "- $g(t) = 1$\n",
    "- $\\varphi (t) = nt - x \\sin t$\n",
    "- $\\varphi'(t) = n - x \\cos t$\n",
    "- $\\varphi''(t) = x \\sin t \\\\$\n",
    "Stacionarne faze dobimo if $\\varphi'(t)$, in sicer so pri $t_0 \\approx \\pi/2$"
   ]
  },
  {
   "cell_type": "markdown",
   "metadata": {},
   "source": [
    "$$\\varphi(t_0) \\approx x,~\\,\\varphi''(t_0) \\approx x$$\n",
    "Dobimo torej aproksimacijo $$\\mathcal{J}_n(x) \\approx \\frac{1}{2\\pi}e^{i(nt_0 - x + \\pi/4)}\\sqrt{\\frac{2\\pi}{x}} + \\frac{1}{2\\pi}e^{i(nt_0 + x + \\pi/4)}\\sqrt{\\frac{\\pi}{x}}$$\n",
    "$$= \\sqrt{\\frac{2}{\\pi x}} \\cos\\left(x - \\frac{n\\pi}{2} + \\frac{\\pi}{4}\\right),\\,~x \\gg n$$"
   ]
  },
  {
   "cell_type": "markdown",
   "metadata": {},
   "source": []
  }
 ],
 "metadata": {
  "language_info": {
   "name": "python"
  }
 },
 "nbformat": 4,
 "nbformat_minor": 2
}
