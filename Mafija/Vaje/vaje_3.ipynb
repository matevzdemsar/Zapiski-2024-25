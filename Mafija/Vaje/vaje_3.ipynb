{
 "cells": [
  {
   "cell_type": "markdown",
   "metadata": {},
   "source": [
    "$\\newcommand{\\vct}[1]{\\overrightarrow{#1}}$\n",
    "$\\newcommand{\\pd}[2]{\\frac{\\partial {#1}}{\\partial {#2}}}$\n",
    "$\\newcommand{\\wfint}[5]{\\int _{#1}^{#2} \\Psi _{#3}^* {#5} \\Psi _{#4} dx}$\n",
    "$\\newcommand{\\comp}{\\mathbb{C}}$\n",
    "$\\newcommand{\\fn}[3]{{#1}: {#2} \\rightarrow {#3}}$"
   ]
  },
  {
   "cell_type": "markdown",
   "metadata": {},
   "source": [
    "**Diferencialne enačbe:** Poišči maksimum funkcije $f(x, y) = 1 + xy$ na enotski krožnici.\n",
    "$\\\\$ Imamo tri metode: eksplicitno reševanje, Lagrangeovi multiplikatorji in parametrizacija."
   ]
  },
  {
   "cell_type": "markdown",
   "metadata": {},
   "source": [
    "Eksplicitno reševanje: Vstavimo $y = \\sqrt{1-x^2}$, odvajamo po $x$ in dobimo rešitev. $\\\\$\n",
    "Lagrangeovi multiplikatorji: Označimo $g(x, y) = x^2 + y^2 - 1$, nato konstruiramo funkcijo $$\\mathcal{L} = f(x, y) + \\lambda g(x, y)$$ In poiščemo $\\lambda, x, y$ za atere velja $\\nabla \\mathcal{L} = 0$. $\\\\$\n",
    "Parametrizacija: $x$ in $y$ lahko parametriziramo kot $\\cos \\varphi$ in $\\sin \\varphi$ in nato $f$ odvajamo po $\\varphi$."
   ]
  },
  {
   "cell_type": "markdown",
   "metadata": {},
   "source": [
    "**2. naloga:** Enačba ovojnice tetiv dolžine $l$ med ordinato in absciso"
   ]
  },
  {
   "cell_type": "markdown",
   "metadata": {},
   "source": [
    "$$y = f(x, a, b) = b - \\frac{b}{a}x$$\n",
    "$$\\frac{y}{b} + \\frac{x}{a} = 1$$\n",
    "$$l = \\sqrt{a^2 + b^2} ~\\text{oziroma } b = \\pm \\sqrt{l^2 - a^2}$$\n",
    "Izberemo $b > 0$, torej $\\displaystyle{g(x, y, a) := \\frac{y}{\\sqrt{l^2 - a^2}} + \\frac{x}{a} - 1 = 0}$"
   ]
  },
  {
   "cell_type": "markdown",
   "metadata": {},
   "source": [
    "Potrebujemo še sledeči premislek: če se naklon tetive spremeni za zelo malo, bo na njej neka točka, ki se praktično ne premakne. Ta točka je ravno na iskani ovojnici, v njej pa velja:\n",
    "$$\\pd{g}{a} = 0 = \\frac{ya}{\\left(l^2 - a^2\\right)^{3/2}} - \\frac{x}{a^2} = 0$$\n",
    "Po nekaj računanja dobimo $$a^2 = \\frac{x^{2/3}l^2}{y^{2/3} + x^{2/3}}$$\n",
    "$$a = \\frac{x^{1/3}l}{\\sqrt{x^{2/3} + y^{2/3}}}$$\n",
    "$$b = \\sqrt{l^2 - a^2} = \\frac{y^{1/3}l}{\\sqrt{x^{2/3} + y^{2/3}}}$$"
   ]
  },
  {
   "cell_type": "markdown",
   "metadata": {},
   "source": [
    "Ko to vstavimo v začetno enačbo, dobimo (po še več računanja, ki se mi ga ne prepisuje):\n",
    "$$x^{2/3} + y^{2/3} = l^{2/3}$$\n",
    "Tako parametrizirano krivuljo imenujemo asteroida. Njena praktična uporaba je, da nam oppisuje, kje lahko na avtobsu stojimo, da nas na postaji ne zadanejo vrata."
   ]
  },
  {
   "cell_type": "markdown",
   "metadata": {},
   "source": [
    "**3. naloga:** Kodre 30/9 Koliko se palica dolžine $l = 10\\,m$ s prožnostnim koeficientom $E=500\\,N/cm^2$ in gostoto $\\rho = 1.5\\,g/cm^3$ raztegne zaradi lastne teže?"
   ]
  },
  {
   "cell_type": "markdown",
   "metadata": {},
   "source": [
    "Reševanje: izrazimo silo\n",
    "$$dF = F(x+dx) - F(x) = gdm = \\rho g S dx$$\n",
    "$$F = \\rho g S x$$"
   ]
  },
  {
   "cell_type": "markdown",
   "metadata": {},
   "source": [
    "Hookov zakon: $\\displaystyle{\\frac{F}{S} = E \\frac{\\Delta x}{x}} = E\\frac{dy}{dx}$"
   ]
  },
  {
   "cell_type": "markdown",
   "metadata": {},
   "source": [
    "Z $dy$ smo označili raztezek koščka traku dolžine $dx$."
   ]
  },
  {
   "cell_type": "markdown",
   "metadata": {},
   "source": [
    "$$\\int_{0}^{l}\\rho g xdx = \\int_{0}^{y_{cel}} Edy$$\n",
    "$$y_{cel} = \\frac{\\rho g l^2}{E}$$\n",
    "ko vstavimo številke, dobimo $y_{cel} = 0.15\\,m$"
   ]
  },
  {
   "cell_type": "markdown",
   "metadata": {},
   "source": [
    "**4. naloga:** Kodre 30/11 Epruveto s plinom vrtimo (okoli vrha) s hitrostjo $w$. $\\rho(r) = ?$"
   ]
  },
  {
   "cell_type": "markdown",
   "metadata": {},
   "source": [
    "$$F = m w^2 r \\Rightarrow dF = w^2 r dm$$"
   ]
  },
  {
   "cell_type": "markdown",
   "metadata": {},
   "source": [
    "$$dm = \\rho S dr$$"
   ]
  },
  {
   "cell_type": "markdown",
   "metadata": {},
   "source": [
    "$$dp = \\frac{dF}{S} = w^2\\rho r dr$$ "
   ]
  },
  {
   "cell_type": "markdown",
   "metadata": {},
   "source": [
    "V idealnem plinu velja $\\rho = \\frac{pM}{RT}$, to vstavimo namesto $\\rho$.\n",
    "$$\\frac{dp}{p} = \\frac{M}{RT} w^2 rdr$$\n",
    "$$\\int_{p_0}^{p(r)} \\frac{dp}{p} = \\frac{Mw^2}{RT} \\int_{0}^{r}r'dr'$$"
   ]
  },
  {
   "cell_type": "markdown",
   "metadata": {},
   "source": [
    "$$p(r) = p_0 e^{\\frac{Mw^2}{RT}r^2}$$"
   ]
  },
  {
   "cell_type": "markdown",
   "metadata": {},
   "source": [
    "Obravnavamo robne pogoje: Če je evpruveta odprta na osi vrtenja, je $p_0$ enak zunanjemu tlaku. Če je epruveta odprta stran od osi, je $p(L)$ enak zunanjemu tlaku (z $L$ smo označili dolžino epruvete). Če je zaprta, moramo privzeti, da je notri neka masa plina, in enačimo $\\displaystyle{m = \\int_{0}^{L}\\rho S dr}$. $\\rho$ izrazimo iz $p$."
   ]
  },
  {
   "cell_type": "markdown",
   "metadata": {},
   "source": [
    "**5. naloga:** Na zgornjo ploskev odsekanega stožca delujemo z navorom $M$, poznamo njegov strižni modul $G$. Velja naj\n",
    "$$\\frac{F}{S} = G\\frac{\\Delta l}{h}$$"
   ]
  },
  {
   "cell_type": "markdown",
   "metadata": {},
   "source": [
    "$$\\frac{dF}{2\\pi rdr} = \\frac{Grd\\varphi}{dz}$$\n",
    "$$dM = rdF = r\\frac{G2\\pi r^2 dr d\\varphi}{dz}$$\n",
    "$$M = \\frac{r^4 G 2 \\pi d\\varphi}{4dz}$$\n",
    "$$r(z) = 2R - \\frac{zR}{L}$$\n",
    "$$d\\varphi = \\frac{2M}{G\\pi} \\frac{z}{r^4}$$"
   ]
  },
  {
   "cell_type": "markdown",
   "metadata": {},
   "source": [
    "$$\\varphi = \\frac{2M}{G\\pi} \\int_{0}^{L}\\frac{z}{R^4\\left(2 - \\frac{z}{L}\\right)^4}$$ "
   ]
  },
  {
   "cell_type": "markdown",
   "metadata": {},
   "source": [
    "Uvedemo spremenljivko $u = 2-\\frac{z}{L}$, $du = -\\frac{1}{L} dz$"
   ]
  },
  {
   "cell_type": "markdown",
   "metadata": {},
   "source": [
    "$$\\varphi = \\frac{2M}{G\\pi} \\int_{2}^{1} - \\frac{L}{R^4u^4}du = \\frac{2ML}{G\\pi R^4} \\frac{1}{-3u^3}\\Big|^{2}_{1}$$\n",
    "$$= \\frac{7ML}{12G\\pi R^4}$$"
   ]
  },
  {
   "cell_type": "markdown",
   "metadata": {},
   "source": [
    "**6. naloga:** Na ravno ležeči vzmeti določimo točko, nato zvmet obrnemo, da stoji pokončno (vpeta je na obeh koncih). Kam se premakne označena točka?"
   ]
  },
  {
   "cell_type": "markdown",
   "metadata": {},
   "source": [
    "$$dm = \\frac{m}{l}dx$$\n",
    "Na točko deluje sila gravitacije preostanka vzmeti, torej:\n",
    "$$dF_g = \\pd{F}{x}dx = g\\frac{m}{l}dx$$"
   ]
  },
  {
   "cell_type": "markdown",
   "metadata": {},
   "source": [
    "$$F_g(x) = \\frac{gl}{m}(x - x_0) = F_0 + \\frac{gm}{l}x$$\n",
    "To je sila gravitacije, ki deluje na vzmet na dolžini x."
   ]
  },
  {
   "cell_type": "markdown",
   "metadata": {},
   "source": [
    "Nato moramo upoštevati silo vzmeti. Majhen odsek vzmeti $dx$ bo imel raztezek $dy$, silo vzmeti izrazimo kot $\\displaystyle{F = -kl\\frac{dy}{dx}}$"
   ]
  },
  {
   "cell_type": "markdown",
   "metadata": {},
   "source": [
    "Zakaj ga izrazimo tako? Za vsak delček vzmeti ($dx$) si moremo misliti, da ima svoj prožnostni koeficient $k'$. Skupni prožnostni koeficient lahko izračunamo kot $\\displaystyle{\\frac{1}{k} = \\sum_{i}\\frac{1}{k_i'} = \\frac{N}{k_i} \\Rightarrow k = \\frac{L}{\\delta y}}$"
   ]
  },
  {
   "cell_type": "markdown",
   "metadata": {},
   "source": [
    "$$y = \\frac{1}{kl} \\int_{0}^{l/2} F(x) dx = \\frac{1}{kl}\\left(\\frac{F_0}{2} l + \\frac{mgl}{4}\\right)$$\n",
    "Ker je vzmet vpeta, dobimo robni pogoj, iz katerega dobimo $F_0 = -mg/2$.\n",
    "Tedaj je $y_{1/2} = \\frac{mg}{8k}$"
   ]
  },
  {
   "cell_type": "markdown",
   "metadata": {},
   "source": [
    "To je skrček spodnje polovice vzmeti, torej sredina vzmeti konča na višini $\\displaystyle{\\frac{3mg}{8k}}$"
   ]
  }
 ],
 "metadata": {
  "language_info": {
   "name": "python"
  }
 },
 "nbformat": 4,
 "nbformat_minor": 2
}
