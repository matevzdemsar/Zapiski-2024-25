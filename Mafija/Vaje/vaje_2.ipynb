{
 "cells": [
  {
   "cell_type": "markdown",
   "metadata": {},
   "source": [
    "**1. naloga:** Kodre 23/14: Svetloba prehaja skozi snov. Pri tem se lomi, torej iz je žarek, ki gre iz snovi, vzporeden žarku, ki pride v snov, razdalja med njunima potema pa je $x$. Če se vhodni kot žarka $\\alpha$ spremeni za $\\delta \\alpha = 0.5^\\circ$, kakšen je $\\delta x$? Poznamo lomna količnika, in sicer 1.5 v snovi in 1 izven nje."
   ]
  },
  {
   "cell_type": "markdown",
   "metadata": {},
   "source": [
    "Prejšnjič smo že izrazili $$x = h\\frac{\\sin(\\alpha - \\beta(\\alpha))}{\\cos\\beta(\\alpha)}$$"
   ]
  },
  {
   "cell_type": "markdown",
   "metadata": {},
   "source": [
    "$$dx = d(h\\frac{\\sin(\\alpha - \\beta)}{\\cos\\beta}) = h \\frac{\\cos(\\alpha - \\beta)}{\\cos \\beta} d\\alpha + \\frac{-\\cos(\\alpha - \\beta) \\cos(\\beta) + \\sin(\\alpha - \\beta) \\sin \\beta}{\\cos^2\\beta} d\\beta$$ "
   ]
  },
  {
   "cell_type": "markdown",
   "metadata": {},
   "source": [
    "Lomni zakon: $\\sin \\alpha = n \\sin \\beta$. Odvajamo na obeh straneh:\n",
    "$$\\cos \\alpha \\, d \\alpha = n \\cos \\beta \\, d \\beta$$\n",
    "$$d\\beta = \\frac{\\cos \\alpha}{n \\cos \\beta} d \\alpha$$"
   ]
  },
  {
   "cell_type": "markdown",
   "metadata": {},
   "source": [
    "Vstavimo v zgornjo enačbo in dobimo:\n",
    "$$dx = hd\\alpha \\left(\\frac{n\\cos(\\alpha - \\beta) \\cos ^2 \\beta + \\sin(\\alpha - \\beta) \\sin \\beta \\cos \\alpha - \\cos(\\alpha - \\beta) \\cos \\beta \\cos \\alpha}{n \\cos^3\\beta}\\right)$$ "
   ]
  },
  {
   "cell_type": "markdown",
   "metadata": {},
   "source": [
    "Tu nimamo kaj dosti lepšati, vstavimo noter številke ($\\alpha = 60^\\circ,~n=1.5,~h=5\\text{ cm},~d\\alpha = 0.5^\\circ$)."
   ]
  },
  {
   "cell_type": "markdown",
   "metadata": {},
   "source": [
    "**Razvoji v vrste, iteracije ...** Kodre 27/1: Tylorjev razvoj za $\\tan(x)$ na tri različne načine."
   ]
  },
  {
   "cell_type": "markdown",
   "metadata": {},
   "source": [
    "1. Način: po definiciji."
   ]
  },
  {
   "cell_type": "markdown",
   "metadata": {},
   "source": [
    "$$f(x) = \\sum_{0}^\\infty \\frac{f^{(n)}(x)}{n!}$$"
   ]
  },
  {
   "cell_type": "markdown",
   "metadata": {},
   "source": [
    "$$\\frac{d}{dx} \\tan(x) = \\frac{1}{\\cos^2(x)}$$\n",
    "$$\\frac{d^2}{dx^2} \\tan(x) = \\frac{2\\sin(x)}{\\cos^3(x)}$$\n",
    "$$\\frac{d^3}{dx^3} \\tan(x) = \\frac{2 cos^4(x) + 6\\sin^2x\\cos^2x}{\\cos^6x}$$"
   ]
  },
  {
   "cell_type": "markdown",
   "metadata": {},
   "source": [
    "V x = 0: $tan(x) = 0$, $\\left(tan(x)\\right)' = 1$, $\\left(\\tan(x)\\right)'' = 0$, $\\left(\\tan(x)\\right)''' = 2$, sledi: $$tan(x) \\approx x + \\frac{x^3}{3} + o(x^5)$$"
   ]
  },
  {
   "cell_type": "markdown",
   "metadata": {},
   "source": [
    "2. Način: Iz taylorjevih razvojev za kosinus in sinus:\n",
    "$$\\sin(x) = x - \\frac{x^3}{3!} + \\frac{x^5}{5!} - \\frac{x^7}{7!} + ...$$\n",
    "$$\\cos(x) = 1 - \\frac{x^2}{2!} + \\frac{x^4}{4!} - \\frac{x^6}{6!} + ...$$\n",
    "$$\\tan(x) = \\frac{\\sin(x)}{\\cos(x)} = \\frac{x - \\frac{x^3}{3!} + \\frac{x^5}{5!} + o(x^7)}{1 - \\left[\\frac{x^2}{2!} - \\frac{x^4}{4!} + o(x^6)\\right]}$$\n",
    "$$\\tan(x) = \\left(x - \\frac{x^3}{3!} + \\frac{x^5}{5!} + o(x^7)\\right)\\left(1 + \\left[\\frac{x^2}{2!} - \\frac{x^4}{4!}\\right] + \\left[\\frac{x^2}{2!} - \\frac{x^4}{4!}\\right]^2  + o(x^6) \\right)$$\n",
    "$$= \\left(x - \\frac{x^3}{3!} + \\frac{x^5}{5!} + o(x^7) \\right) \\left(1 + \\frac{x^2}{2!} - \\frac{x^4}{4!} + \\frac{x^4}{4} + o(x^6)\\right)$$\n",
    "$$= x + \\frac{x^3}{2} - x^5\\left(\\frac{1}{4!} - \\frac{1}{4}\\right) - \\frac{x^3}{3!} - \\frac{x^5}{2!3!} + \\frac{x^5}{5!} + o(x^6)$$\n",
    "Ker je tangens liha funkcija, pričakujemo, da bo njen 6. odvod enak 0, torej namesto $o(x^6)$ lahko pišemo $o(x^7)$."
   ]
  },
  {
   "cell_type": "markdown",
   "metadata": {},
   "source": [
    "$$= x - \\frac{x^3}{2} - \\frac{x^3}{6} - x^5 \\left(\\frac{1}{24} - \\frac{6}{24}\\right) - \\frac{x^5}{12} + \\frac{x^5}{120} + o(x^7)$$\n",
    "$$= x - \\frac{x^3}{3} + x^5 \\left(\\frac{5}{24} - \\frac{1}{12} + \\frac{1}{120}\\right) + o(x^7)$$\n",
    "$$= x - \\frac{x^3}{3} + x^5 \\left(\\frac{25 - 10 + 1}{120}\\right) + o(x^7)$$\n",
    "$$= x - \\frac{x^3}{3} + x^5 \\left(\\frac{16}{120}\\right) + o(x^7)$$\n",
    "$$= x - \\frac{x^3}{3} + x^5 \\left(\\frac{2}{15}\\right) + o(x^7)$$"
   ]
  },
  {
   "cell_type": "markdown",
   "metadata": {},
   "source": [
    "3. način: Odvod $\\to$ Razvoj $\\to$ Integral"
   ]
  },
  {
   "cell_type": "markdown",
   "metadata": {},
   "source": [
    "$y = \\tan(x) \\\\$\n",
    "$\\displaystyle{x = \\arctan(y) = \\int_{0}^{y}\\frac{1}{1 + u^2} du = \\int_{0}^{y}[1 - u^2 + u^4 - u^6 + o(u^8)] = y - \\frac{y^3}{3} + \\frac{y^5}{5} - \\frac{y^7}{7} + o(y^9)}$.\n",
    "Da iz $y$ dobimo nazaj x, uporabimo iteracijo:\n",
    "$$y = x + \\frac{y^3}{3} - \\frac{y^5}{5} - \\frac{y^7}{7} + o(y^9)$$\n",
    "$$= x + \\frac{\\left(x + \\frac{y^3}{3!} - \\frac{x^5}{5!} + ... \\right)^3}{3} + \\frac{\\left(x + \\frac{y^3}{3!} + ...\\right)^5}{5} + \\frac{(x + ...)^7}{7} + o(y^9)$$\n",
    "$$= x + \\frac{1}{3}\\left(x^3 + x^2y^3 + 3x^2\\frac{y^5}{5} + 3x\\frac{y^6}{9} + ...\\right) + \\frac{1}{5}\\left(x^5 + 5x^4\\frac{y^3}{3} + ... \\right) + x^7 + ...$$\n",
    "$$y \\approx x + \\frac{x^3}{3} + \\frac{x^2y^3}{3} + \\frac{x^2y^5}{5} + x\\frac{y^6}{9} + \\frac{x^5}{5} + \\frac{x^4y^3}{y} + \\frac{x^7}{7}$$\n"
   ]
  },
  {
   "cell_type": "markdown",
   "metadata": {},
   "source": [
    "Naredimo še eno iteracijo, pri čemer ne gremo preko reda $o(y^7)$:\n",
    "$$y = x + \\frac{1}{3} \\left[x + \\frac{x^3}{3} - \\frac{x^5}{5} + \\frac{x^2y^3}{5}\\right]^3 - \\frac{1}{5}\\left[x + \\frac{x^3}{3}\\right]^5 + \\frac{x^7}{7} + o(y^9)$$"
   ]
  },
  {
   "cell_type": "markdown",
   "metadata": {},
   "source": [
    "$$y = x + \\frac{1}{3}\\left[x^3 + x^5 - \\frac{3x^7}{5} + \\frac{3x^4y^3}{5} + \\frac{x^7}{3}\\right] - \\frac{1}{5}\\left[x^5 + \\frac{5x^7}{3}\\right] + \\frac{x^7}{7} + o(y^9)$$"
   ]
  },
  {
   "cell_type": "markdown",
   "metadata": {},
   "source": [
    "$$= x + \\frac{x^3}{3} + \\frac{x^5}{5} - \\frac{x^7}{5} + \\frac{x^4y^3}{5} + \\frac{x^7}{9} - \\frac{x^5}{5} - \\frac{x^7}{7} -\\frac{3x^4y^3}{5} + \\frac{x^7}{7} + o(y^9)$$"
   ]
  },
  {
   "cell_type": "markdown",
   "metadata": {},
   "source": [
    "$$= x + \\frac{x^3}{3} + \\frac{2x^5}{15} + o(x^7)$$"
   ]
  },
  {
   "cell_type": "markdown",
   "metadata": {},
   "source": [
    "**Naloga 3.** Razvij $\\displaystyle{f(x) = \\coth(x) - \\frac{1}{x}}$"
   ]
  },
  {
   "cell_type": "markdown",
   "metadata": {},
   "source": [
    "Možnost 1: $$\\coth(x) = \\frac{e^x + e^{-x}}{e^x - e^{-x}}$$\n",
    "In uživaj."
   ]
  },
  {
   "cell_type": "markdown",
   "metadata": {},
   "source": [
    "Možnost 2: Razvoj odvoda."
   ]
  },
  {
   "cell_type": "markdown",
   "metadata": {},
   "source": [
    "$$(\\coth (x))' = -\\frac{1}{\\sinh^2(x)} = \\frac{-1}{\\cosh 2x - 1} = \\frac{-2}{\\frac{4x^2}{2!} + \\frac{16x^4}{4!} + \\frac{64x^6}{6!} + o(x^8)}$$"
   ]
  },
  {
   "cell_type": "markdown",
   "metadata": {},
   "source": [
    "$$= -\\frac{1}{x^2}\\frac{1}{1 - \\left[- \\frac{32x^4}{4!} - \\frac{128x^6}{6!} - o(x^8)\\right]}$$"
   ]
  },
  {
   "cell_type": "markdown",
   "metadata": {},
   "source": [
    "$$=-\\frac{1}{x^2}\\left[1 - \\left(\\frac{32x^4}{4!} + \\frac{128x^6}{6!} + o(x^8)\\right) +\\left(\\frac{32x^4}{4!} + \\frac{128x^6}{6!} + o(x^8)\\right)^2\\right]$$\n",
    "$$... = -\\frac{1}{x^2} + \\frac{1}{3} - \\frac{3x^2}{45} + ...$$"
   ]
  },
  {
   "cell_type": "markdown",
   "metadata": {},
   "source": [
    "Če stvar integriramo, dobimo nekaj v stilu $\\coth(x) = \\displaystyle{\\frac{1}{x} +\\frac{x}{3} - \\frac{1}{45} x^3 + o(x^5)}$"
   ]
  },
  {
   "cell_type": "markdown",
   "metadata": {},
   "source": [
    "**Picardova iteracija:** $$g'(x) = 1 - g^2(x)$$"
   ]
  },
  {
   "cell_type": "markdown",
   "metadata": {},
   "source": [
    "Izberemo si prvo iteracijo, nato uporabljamo postopek $\\displaystyle{~g^{(n+1)}(t) = g(t_0) + \\int_{t_0}^{t}1 - g^{(n)}(u) du}$\n",
    "1. iteracija: $g = 0$\n",
    "2. iteracija: $g = 0 + \\int_{0}^{x} 1 - g^2 du = x$\n",
    "3. iteracija: $g = 0 + \\int_{0}^{x} 1 - u^2 du = x - \\frac{x^3}{3}$\n",
    "4. iteracija: $g = 0 + \\int_{0}^{x}1 - (x - \\frac{x^3}{3})^2 = x - \\frac{x^3}{3} + \\frac{2x^5}{15} - \\frac{x^7}{63}$"
   ]
  },
  {
   "cell_type": "markdown",
   "metadata": {},
   "source": [
    "Dobili smo prvih nekaj členov Taylorjeve vrste funkcije $\\tanh (x)$. Enačbo pa reši tudi $\\coth (x)$."
   ]
  },
  {
   "cell_type": "markdown",
   "metadata": {},
   "source": [
    "Ni pa nujno, da bo vrsta konvergirala. Če bi npr. vzeli $\\displaystyle{g(x) = \\frac{1}{x}}$, bi divergirala. Če bi vzeli $\\displaystyle{\\frac{h(x)}{x^2}}$, kjer je $h$ neka druga funkcija, bi dobili diferencialno enačbo za $h$, ki bi se jo dalo iterirati."
   ]
  }
 ],
 "metadata": {
  "kernelspec": {
   "display_name": "Python 3",
   "language": "python",
   "name": "python3"
  },
  "language_info": {
   "name": "python",
   "version": "3.13.2"
  }
 },
 "nbformat": 4,
 "nbformat_minor": 2
}
