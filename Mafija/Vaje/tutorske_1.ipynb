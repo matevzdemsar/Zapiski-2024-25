{
 "cells": [
  {
   "cell_type": "markdown",
   "metadata": {},
   "source": [
    "$\\newcommand{\\vct}[1]{\\overrightarrow{#1}}$\n",
    "$\\newcommand{\\pd}[2]{\\frac{\\partial {#1}}{\\partial {#2}}}$\n",
    "$\\newcommand{\\wfint}[5]{\\int _{#1}^{#2} \\Psi _{#3}^* {#5} \\Psi _{#4} dx}$\n",
    "$\\newcommand{\\comp}{\\mathbb{C}}$\n",
    "$\\newcommand{\\fn}[3]{{#1}: {#2} \\rightarrow {#3}}$\n",
    "**Logaritmiranje in odvajanje**"
   ]
  },
  {
   "cell_type": "markdown",
   "metadata": {},
   "source": [
    "Imamo $y = f(x)$. Na obeh straneh logaritmiramo in odvajamo:\n",
    "$$\\ln y = \\ln f(x)$$\n",
    "$$\\frac{\\delta y}{y} = \\frac{f'(x)}{f(x)} \\delta x$$"
   ]
  },
  {
   "cell_type": "markdown",
   "metadata": {},
   "source": [
    "**Razvoj v vrsto:** Množimo dve funkciji, ki ju moremo razviti v vrsto do nekega člena:\n",
    "$(a_0 + a_1x + a_2x^2 + O(x^3))(b_0 + b_1x + b_2x^2 + O(x^3))$\n",
    "$$= (a_0b_0 + a_0b_1x + a_0b_2x^2 + a_1b_0x + a_1b_1x^2 + a_2b_0x^2 + O(x^3)),$$\n",
    "če ima člen stopnjo večjo ali enako $x^3$, ga ne pišemo."
   ]
  },
  {
   "cell_type": "markdown",
   "metadata": {},
   "source": [
    "Če ima funkcija obliko $\\displaystyle{f(x) = \\frac{g(x)}{h(x)}}$, moramo najprej poiskati vrsto za $\\displaystyle{\\frac{1}{h(x)}}$, kar storimo z razvojem\n",
    "$$\\frac{1}{1-y} = 1 + y + y^2 + y^3 + ...$$\n",
    "(Če dobimo enačbo oblike $1/(1+y)$, pač vstavimo $-y$ inn dobimo podoben rezultat.) $\\\\$\n",
    "Nazadnje lahko stvar rešimo tako, da poiščemo inverz. Recimo, da dobimo $x = y + y^2$\n",
    "$$y = x - y^2$$\n",
    "V $y^2$ vstavimo y:\n",
    "$$y = x - (x - y^2)^2 = x - x^2 + 2xy^2 - y^4$$\n",
    "Ko spet vstavimo $y = x - y^2$, dobimo člene reda $x^3$, ki nas ne zanimajo več. Naša rešitev je torej $y = x - x^2 + O(x^3)$ "
   ]
  },
  {
   "cell_type": "markdown",
   "metadata": {},
   "source": [
    "**Naloga:** Imamo palico dolžine $l$ in s premerom $2R$, temperatura na enem koncu palice je $T_0$, na drugem pa $T_1 > T_0$. $\\\\$\n",
    "Reševanje: Temperaturni raztezek je\n",
    "$$\\frac{du}{dx} = \\alpha (x, (T-T_0)(x)) (T-T_0)$$\n",
    "Težava: Temperaturni profil se spreminja zaradi spreminjanja dolžine. Zato stvar računamo z iteracijo:\n",
    "$$u^{(n)} = \\int_{0}^{l_n} \\frac{du}{dx}dx \\approx \\int_{0}^{l_{n-1}} \\frac{du}{dx}dx$$"
   ]
  },
  {
   "cell_type": "markdown",
   "metadata": {},
   "source": [
    "Na začetku bodi $\\alpha = \\text{konst.},$ tedaj je $\\displaystyle{\\frac{du}{dx} = \\alpha (T-T_0)(x) = \\alpha \\frac{x}{l} (T_1 - T_0)}$"
   ]
  },
  {
   "cell_type": "markdown",
   "metadata": {},
   "source": [
    "$$u^{(1)} = \\int_{0}^{l^{(0)}} \\alpha \\frac{x}{l} (T_1 - T_0) dx = \\frac{\\alpha l^{(0)}}{2}(T_0 - T_1)$$\n",
    "$$l^{(1)} = l^{(0)} + u_1 = l^{(0)}\\left(1 + \\frac{\\alpha}{2}(T_1 - T_0)\\right)$$\n",
    "$$(T-T_0)^{(2)} = \\frac{x}{l^{(1)}}(T_1 - T_0) = \\frac{x}{l^{(0)}}(T_1 - T_0)\\left(1 - \\frac{\\alpha}{2}(T_1 - T_0) + \\sigma ((T_1 - T_0)^2)\\right)$$\n",
    "$$u^{(2)} = \\int_{0}^{l^{(1)}}\\alpha \\frac{x}{l^{(0)}}(T_1 - T_0)\\left(1 - \\frac{\\alpha}{2} (T_1 - T_0) + \\sigma ((T_1 - T_0)^2)\\right)dx$$\n",
    "$$= \\frac{\\alpha x^2}{2 l^{(0)}}(T_1 - T_0) \\left(1 - \\frac{\\alpha}{2} (T_1 - T_0) + \\sigma ((T_1 - T_0)^2)\\right) \\Big|_{0}^{l^{(1)}} = ...$$\n",
    "$$\\approx \\frac{\\alpha {l^{(0)}}^2}{2}(T_1 - T_0) \\left(1 + \\frac{\\alpha}{2} (T_1 - T_0) - \\frac{\\alpha^2}{4}(T_1 - T_0)^2 + \\sigma((T_1 - T_0)^3) \\right)$$\n",
    "$$l^{(2)} = l^{(1)} + u^{(2)} = l^{(0)}\\left(1 + \\frac{\\alpha}{2}(T_1 - T_0) - \\frac{\\alpha^2}{4}(T_1 - T_0)^2 + ...\\right)$$"
   ]
  },
  {
   "cell_type": "markdown",
   "metadata": {},
   "source": [
    "Lahko si stvar še bolj zakompliciramo in rečemo, da je tudi $\\alpha$ odvisen od temperature, in sicer naj bo $\\alpha = \\alpha _0 + c(T-T_0)$ Nalogo rešujemo podobno kot prej, le da namesto $\\alpha$ v integral vstavljamo $\\alpha^{(n)}$."
   ]
  }
 ],
 "metadata": {
  "language_info": {
   "name": "python"
  }
 },
 "nbformat": 4,
 "nbformat_minor": 2
}
