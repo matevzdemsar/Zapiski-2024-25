{
 "cells": [
  {
   "cell_type": "markdown",
   "metadata": {},
   "source": [
    "**1. naloga:** Kodre str. 20, naloga 26: Skiciraj krivuljo za Gaussov integral."
   ]
  },
  {
   "cell_type": "markdown",
   "metadata": {},
   "source": [
    "$$\\text{erf}(x) = \\frac{2}{\\sqrt{\\pi}} \\int _0^x e^{-t^2}dt$$"
   ]
  },
  {
   "cell_type": "markdown",
   "metadata": {},
   "source": [
    "Gaussova porazdelitev: $$P(x) = \\frac{1}{\\sqrt{2\\pi}\\sigma} \\int^{\\sigma}_{-\\sigma} e^{-\\frac{x^2}{2\\sigma^2}}$$\n",
    "uporabimo substitucijo $t = \\frac{x}{\\sqrt{2}\\sigma}$ \n",
    "$$= \\frac{1}{\\sqrt{\\pi}} \\int^{\\frac{1}{\\sqrt{2}}}_{-\\frac{1}{\\sqrt{2}}} e^{-t^2}dt = \\text{erf}(\\frac{1}{\\sqrt{2}})$$"
   ]
  },
  {
   "cell_type": "markdown",
   "metadata": {},
   "source": [
    "Iz tabele vidimo, da je to enako 0.67"
   ]
  },
  {
   "cell_type": "markdown",
   "metadata": {},
   "source": [
    "Za erf velja sledeče:\n",
    "- erf $(0) = 0$\n",
    "- erf $(\\infty) = 1$\n",
    "- erf $(1/\\sqrt{2}) \\approx 0.67$\n",
    "- monotona, strogo naraščajoča\n",
    "- liha\n",
    "- erf' $(0) = \\frac{2}{\\sqrt{\\pi}}$"
   ]
  },
  {
   "cell_type": "markdown",
   "metadata": {},
   "source": [
    "Na podlagi teh informacij lahko skiciramo erf."
   ]
  },
  {
   "cell_type": "markdown",
   "metadata": {},
   "source": [
    "Kako dokažemo, da je $$\\frac{1}{\\sqrt{2\\pi}\\sigma} \\int^{\\infty}_{-\\infty}e^{\\frac{x^2}{2\\sigma ^2}}dx = 1?$$"
   ]
  },
  {
   "cell_type": "markdown",
   "metadata": {},
   "source": [
    "Izrazimo kvadrat tega integrala:\n",
    "$$I^2 = \\frac{2}{\\pi \\sigma^2} \\int ^\\infty _0 \\int ^\\infty _0 e^{-\\frac{x^2 + y^2}{2\\sigma^2}}dxdy$$"
   ]
  },
  {
   "cell_type": "markdown",
   "metadata": {},
   "source": [
    "Vpeljemo polarne koordinate, $x^2 + y^2 = r^2$:"
   ]
  },
  {
   "cell_type": "markdown",
   "metadata": {},
   "source": [
    "$$I^2 = \\frac{2}{\\pi \\sigma ^2} = \\int ^\\frac{\\pi}{2}_0 \\int ^\\infty _0 e^{-\\frac{r^2}{2\\sigma ^2}}rdrd\\varphi$$"
   ]
  },
  {
   "cell_type": "markdown",
   "metadata": {},
   "source": [
    "Rešujemo s substitucijo $t = \\frac{r^2}{2\\sigma ^2}$:"
   ]
  },
  {
   "cell_type": "markdown",
   "metadata": {},
   "source": [
    "$$I^2 = \\frac{2}{\\pi \\sigma^2} \\frac{\\pi}{2} \\sigma ^2 \\int ^\\infty _0 -e^{-t} dt = 1$$"
   ]
  },
  {
   "cell_type": "markdown",
   "metadata": {},
   "source": [
    "Ker je $I^2 = 1$, sklepamo $I = \\pm 1$, in $I = -1$ očitno ne more biti res, saj je $e^{-x} > 0 ~ \\forall x$"
   ]
  },
  {
   "cell_type": "markdown",
   "metadata": {},
   "source": [
    "2. način:"
   ]
  },
  {
   "cell_type": "markdown",
   "metadata": {},
   "source": [
    "Na integralu uporabimo substitucijo $t = \\frac{x^2}{2\\sigma^2}$ in dobimo $\\Gamma$ funkcijo."
   ]
  },
  {
   "cell_type": "markdown",
   "metadata": {},
   "source": [
    "**2. naloga:** Kodre str. 19 naloga 8: Za $x \\geq 0$ skiciraj $y = x \\ln x - x + 1$"
   ]
  },
  {
   "cell_type": "markdown",
   "metadata": {},
   "source": [
    "V limiti $x \\to 0$:\n",
    "$$\\lim_{x \\to 0} y = \\lim_{x \\to 0} x \\ln x - \\lim_{x \\to 0} x + \\lim_{x \\to 0} 1 = 1 + \\lim_{x \\to 0} \\left( \\frac{\\ln x}{x^{-1}}\\right)$$\n",
    "Uporabimo L'Hopitalovo pravilo:\n",
    "$$= 1 + \\lim_{x \\to 0}\\frac{1/x}{-1/x^2} = 1 + \\lim_{x \\to 0} (-x) = 1$$"
   ]
  },
  {
   "cell_type": "markdown",
   "metadata": {},
   "source": [
    "Vemo:\n",
    "- $y(0) = 1$\n",
    "- $y(1) = 0$\n",
    "- $y(e) = 1$\n",
    "- $y'(1) = 0$\n",
    "- v neskončnosti narašča."
   ]
  },
  {
   "cell_type": "markdown",
   "metadata": {},
   "source": [
    "Mimogrede: $\\displaystyle{y(x) = \\int _1^x ln(t) dt} \\sim \\sum _1^x ln(t) = \\ln(x!)$"
   ]
  },
  {
   "cell_type": "markdown",
   "metadata": {},
   "source": [
    "Boljša aproksimacija za $x!$ je Stirlingova formula: $\\displaystyle{x! \\approx \\sqrt{2\\pi x} \\left(\\frac{x}{e}\\right)^x}$"
   ]
  },
  {
   "cell_type": "markdown",
   "metadata": {},
   "source": [
    "**3. naloga:** Skiciraj $\\displaystyle{f(x) = \\frac{x}{e^{-x} - 1} + \\frac{x}{2}}$"
   ]
  },
  {
   "cell_type": "markdown",
   "metadata": {},
   "source": [
    "$$f(x) = \\frac{x}{2} \\cdot \\frac{e^{-x} + 1}{e^{-x} - 1} \\left(\\frac{/\\cdot e^{x/2}}{/\\cdot e^{x/2}}\\right) = \\frac{x}{2} \\cdot \\frac{\\cosh \\frac{x}{2}}{\\sinh \\frac{x}{2}}$$"
   ]
  },
  {
   "cell_type": "markdown",
   "metadata": {},
   "source": [
    "Ker je $\\cosh x$ soda funkcija, $x$ in $\\sinh x$ pa lihi funkciji, je $f(x)$ soda funkcija."
   ]
  },
  {
   "cell_type": "markdown",
   "metadata": {},
   "source": [
    "V okolici $x=0$ jo razvijmo po Taylorju:\n",
    "$$f(x) \\approx - \\frac{1 + \\frac{x^2}{8}}{1 + \\frac{x^2}{24}} \\approx - (1 + \\frac{x^2}{8})(1 - \\frac{x^2}{24}) = - 1 - \\frac{x^2}{12} + \\sigma(x^3)$$"
   ]
  },
  {
   "cell_type": "markdown",
   "metadata": {},
   "source": [
    "$\\sigma (x^3)$ je napaka naše aproksimacije, ki je v okolici ničle majhna."
   ]
  },
  {
   "cell_type": "markdown",
   "metadata": {},
   "source": [
    "Iz te aproksimacije dobimo še sledeče podatke o funkciji:\n",
    "- $f(0) = -1$\n",
    "- $f'(0) = 0$"
   ]
  },
  {
   "cell_type": "markdown",
   "metadata": {},
   "source": [
    "Poiščemo še asimptoto:\n",
    "- $f(x \\to \\infty) \\sim -\\frac{x}{2}$"
   ]
  },
  {
   "cell_type": "markdown",
   "metadata": {},
   "source": [
    "Kar se tiče risanja funkcij, je to to."
   ]
  },
  {
   "cell_type": "markdown",
   "metadata": {},
   "source": [
    "**Diferenciali:**"
   ]
  },
  {
   "cell_type": "markdown",
   "metadata": {},
   "source": [
    "**4. naloga:** Kodre str. 24, naloga 6: Ura z nihalom vsak dan zaostane za 1 minuto. Za koliko je treba spremeniti dolžino nihala, da bo kazala prav? Vemo:\n",
    "- $m = 1$ kg\n",
    "- $t_0 \\approx 2$ s\n",
    "- $\\delta t_0 / t_0 = 1$ min/dan\n",
    "- $\\delta l = ?$ "
   ]
  },
  {
   "cell_type": "markdown",
   "metadata": {},
   "source": [
    "$$t_0 = \\frac{2\\pi}{\\sqrt{g}} \\sqrt{l}$$\n",
    "$$\\ln{t_0} = \\ln{\\frac{2\\pi}{\\sqrt{g}}} + \\ln{\\sqrt{l}} ~\\text{ (Na obeh straneh odvajamo)}$$\n",
    "$$\\frac{d t_0}{t_0} = \\frac{dl}{2l}$$\n",
    "$$\\frac{\\delta l}{l} = 2\\frac{\\delta t_0}{t_0}$$"
   ]
  },
  {
   "cell_type": "markdown",
   "metadata": {},
   "source": [
    "**5. naloga:** Kodre str. 23, naloga 11: Wheatstonov mostiček, $l = 1\\,$ m, $\\delta x = 0.3 m$, $\\delta R_x = ? \\\\$\n",
    "Torej, kako natančno lahko merimo upor neznanega upornika, če moremo razdaljo izmeriti na $\\delta x$ natančno?"
   ]
  },
  {
   "cell_type": "markdown",
   "metadata": {},
   "source": [
    "Ko skozi ampermeter teče tok 0, je padec napetosti na obeh koncih žice enak.\n",
    "$$R_x I_A = R_1 I_B$$\n",
    "$$R_0 I_A = R_2 I_B$$\n",
    "$$\\frac{R_x}{R_0} = \\frac{x}{l - x}$$"
   ]
  },
  {
   "cell_type": "markdown",
   "metadata": {},
   "source": [
    "Kot prej lahko na obeh straneh logaritmiramo in nato odvajamo:\n",
    "$$\\frac{\\delta R_x}{R_x} = \\frac{l}{x(l-x)} \\delta x$$"
   ]
  },
  {
   "cell_type": "markdown",
   "metadata": {},
   "source": [
    "Vidimo, da je natančnost na sredini žice največja, in sicer:\n",
    "$$\\frac{\\delta R_x}{R_x} = \\frac{4 \\delta{x}}{l} = 1.2 \\cdot 10^{-3}$$"
   ]
  },
  {
   "cell_type": "markdown",
   "metadata": {},
   "source": [
    "Da se tudi skicirati funkcijo $\\displaystyle{\\frac{\\delta R_x}{R_x}\\left(\\frac{x}{l}\\right)}$"
   ]
  },
  {
   "cell_type": "markdown",
   "metadata": {},
   "source": [
    "**6. naloga:** Kodre 23/12: Imamo $\\alpha = \\frac{1}{R} \\frac{dR}{dT}$ = 0.004/K. Kakšen $\\delta x$ predstavlja sprememba temperature $\\delta T = 1^\\circ$ C?"
   ]
  },
  {
   "cell_type": "markdown",
   "metadata": {},
   "source": [
    "Od prej vemo:\n",
    "$$\\frac{\\delta R_x}{\\delta x} = \\frac{R_x \\cdot l}{x(l - x)}$$"
   ]
  },
  {
   "cell_type": "markdown",
   "metadata": {},
   "source": [
    "Hkrati je $\\frac{\\delta  R_x}{\\delta x} = \\frac{\\delta R_x}{\\delta T} \\frac{\\delta T}{\\delta x} = R_x \\alpha \\frac{\\delta T}{\\delta x}$"
   ]
  },
  {
   "cell_type": "markdown",
   "metadata": {},
   "source": [
    "$$R_x \\alpha \\frac{\\delta T}{\\delta x} = R_x \\frac{l}{x(l-x)}$$\n",
    "$$\\alpha \\delta T \\cdot x (l-x)= \\delta x$$"
   ]
  },
  {
   "cell_type": "markdown",
   "metadata": {},
   "source": [
    "Za $\\delta T = 1$ K dobimo $\\delta x$ = 1 mm"
   ]
  },
  {
   "cell_type": "markdown",
   "metadata": {},
   "source": [
    "**7. naloga:** Kodre 24/9: Rentgenska svetloba potuje skozi dve plasti. Prva ima debelino $x_1$, druga debelino $x_2$. $\\\\ \\Delta j = j(x_2) - j(x_1) =~ ? \\\\$\n",
    "Pri katerem $\\mu$ je $\\Delta j$ maksimalen?"
   ]
  },
  {
   "cell_type": "markdown",
   "metadata": {},
   "source": [
    "Interpretacija: Koliko delcev se ja absorbiralo v drugi plasti? $\\\\$\n",
    "Vemo: $j(x + dx) - j(x) = -\\mu j(x) dx$"
   ]
  },
  {
   "cell_type": "markdown",
   "metadata": {},
   "source": [
    "$$j(x) = j(0) \\cdot e^{-\\mu x}$$\n",
    "$$\\Delta j = j(0) \\cdot e^{-\\mu (x_1 + x_2)} - j(0) \\cdot e^{-\\mu x_1}$$\n"
   ]
  },
  {
   "cell_type": "markdown",
   "metadata": {},
   "source": [
    "$$\\frac{d\\Delta j}{d\\mu} = j(0) \\cdot \\left(x_1 e^{-\\mu x_1} - (x_1 + x_2) e^{-\\mu (x_1 + x_2)}\\right)$$"
   ]
  },
  {
   "cell_type": "markdown",
   "metadata": {},
   "source": [
    "Želimo $\\displaystyle{\\frac{d\\Delta j}{d\\mu} = 0}$"
   ]
  },
  {
   "cell_type": "markdown",
   "metadata": {},
   "source": [
    "$$x_1 e^{-\\mu x_1} = (x_1 + x_2) e^{-\\mu (x_1 + x_2)}$$\n",
    "$$e^{-\\mu x_2} = \\frac{x_1}{x_1 + x_2}$$\n",
    "$$\\mu = -\\frac{\\ln\\left(\\frac{x_1}{x_1 + x_2}\\right)}{x_2}$$"
   ]
  },
  {
   "cell_type": "markdown",
   "metadata": {},
   "source": [
    "Lahko vstavimo podatke, za $x_1 = 2~cm,~x_2 = 5~cm$ dobimo približno $0.25/cm$"
   ]
  },
  {
   "cell_type": "markdown",
   "metadata": {},
   "source": [
    "**8. naloga:** Kodre 23/14: Svetloba prehaja skozi snov. Pri tem se lomi, torej iz je žarek, ki gre iz snovi, vzporeden žarku, ki pride v snov, razdalja med njunima potema pa je $x$. Če se vhodni kot žarka $\\alpha$ spremeni za $\\delta \\alpha = 0.5^\\circ$, kakšen je $\\delta x$? Poznamo lomna količnika, in sicer 1.5 v snovi in 1 izven nje."
   ]
  },
  {
   "cell_type": "markdown",
   "metadata": {},
   "source": [
    "Označimo $\\beta$ ... kot žarka v snovi. Iz njega lahko izračunamo dolžino poti žarka skozi snov, kajti $h = d\\cos \\beta$.\n",
    "Nadaljevanje sledi prihodnjič."
   ]
  },
  {
   "cell_type": "markdown",
   "metadata": {},
   "source": []
  }
 ],
 "metadata": {
  "language_info": {
   "name": "python"
  }
 },
 "nbformat": 4,
 "nbformat_minor": 2
}
