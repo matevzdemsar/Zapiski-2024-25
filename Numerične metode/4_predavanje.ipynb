{
 "cells": [
  {
   "cell_type": "markdown",
   "metadata": {},
   "source": [
    "$\\newcommand{\\vct}[1]{\\overrightarrow{#1}}$\n",
    "$\\newcommand{\\pd}[2]{\\frac{\\partial {#1}}{\\partial {#2}}}$\n",
    "$\\newcommand{\\wfint}[5]{\\int _{#1}^{#2} \\Psi _{#3}^* {#5} \\Psi _{#4} dx}$\n",
    "$\\newcommand{\\comp}{\\mathbb{C}}$\n",
    "$\\newcommand{\\fn}[3]{{#1}: {#2} \\rightarrow {#3}}$\n",
    "$\\newcommand{\\matrix}[1]{\\begin{bmatrix}{#1}\\end{bmatrix}}$\n",
    "$\\newcommand{\\avg}[1]{\\langle {#1} \\rangle}$\n",
    "**Reševanje nelinearnih enačb**"
   ]
  },
  {
   "cell_type": "markdown",
   "metadata": {},
   "source": [
    "Za polinome stopnje pet ali več ni analitičnih rešitev, moramo \"ugibati\"."
   ]
  },
  {
   "cell_type": "markdown",
   "metadata": {},
   "source": [
    "Primer: Tračnica dolžine $l$ se zaradi temperaturne razlike raztegne za $\\Delta l$, pri tem se usloči. Predvidevamo, da se usloči v obliki krožnega loka. Zanima nas, za koliko se dvigne sredina tračnice."
   ]
  },
  {
   "cell_type": "markdown",
   "metadata": {},
   "source": [
    "Lahko dobimo enačbo, ki pa ne bo rešljiva na roke.\n",
    "$$\\frac{l + \\Delta l}{2} = R \\varphi$$\n",
    "$$\\sin \\varphi = \\frac{l}{2 R}$$\n",
    "Sledi:\n",
    "$$\\frac{l + \\Delta l}{2} = \\frac{l}{2\\sin\\varphi}\\varphi$$\n",
    "$$\\left(1 + \\frac{\\Delta l}{l}\\right)\\sin\\varphi - \\varphi = 0$$"
   ]
  },
  {
   "cell_type": "markdown",
   "metadata": {},
   "source": [
    "Zanima nas sicer x, ki pa ga bomo izrazili iz $\\varphi$, npr. kot $\\displaystyle{x = \\frac{l}{2\\sin\\varphi}(1 - \\cos \\varphi)}$.\n",
    "$\\\\$ Dobili smo tako imenovano transcendenčno enačbo, ki ni rešljiva v zaključeni obliki, tj. ne obstaja formula za $x$, lahko ga le aproksimiramo z vrstami in podobnim."
   ]
  },
  {
   "cell_type": "markdown",
   "metadata": {},
   "source": [
    "Numerično lahko take ničle iščemoo na več načinov, najočitnejši je bisekcija. Če je $\\fn{f}{[a, b]}{\\mathbb{R}}$ zvezna in je $f(a) \\cdot f(b) < 0$, mora biti na tem intervalu vsaj ena ničla. Razpolovimo interval in pogledamo, na kateri strani se nahaja ničla. Leva in desna stran obravnavanega intervala bosta konvergirali proti točki, v kateri je $f(x) = 0$. Ničli se lahko poljubno približamo, lahko npr. zahtevamo, da je $|b-a|\\lt\\varepsilon$"
   ]
  },
  {
   "cell_type": "markdown",
   "metadata": {},
   "source": [
    "Število potrebnih ponovitev:\n",
    "$$\\frac{b-a}{2^k} \\leq \\varepsilon$$\n",
    "$$k \\gt \\log _2 \\frac{|b-a|}{\\varepsilon}$$"
   ]
  },
  {
   "cell_type": "markdown",
   "metadata": {},
   "source": [
    "Če je $|b-a| = 1$ in $\\varepsilon = 10^{-10}$, je $k \\approx 30$. Da se hitreje, je pa ta metoda enostavna in zanesljiva. Njena slabost pa je, da se jo zelo težko posploši na sisteme linearnih enačb (tj. če imamo dve nelinearni enačbi z dvema neznankama)."
   ]
  },
  {
   "cell_type": "markdown",
   "metadata": {},
   "source": [
    "Mimogrede: $\\displaystyle{c = a - \\frac{b-a}{2}}$ se izkaže za boljšo formulo razpolovišča kot $\\displaystyle{c = \\frac{a + b}{2}}$. Iz nekega razloga ima manjšo računsko napako."
   ]
  },
  {
   "cell_type": "markdown",
   "metadata": {},
   "source": [
    "Drugi način: Iteracija z začetnim približkom $x_0$\n",
    "$$f(x = 0) ~\\text{preoblikujemo v } x = g(x)$$\n",
    "$$x_{r+1} = g(x_r)$$\n",
    "Če to konvergira, konvergira proti ničli od $f$.\n",
    "Primeri izbir za $g$:\n",
    "$$g(x) = x - f(x)$$\n",
    "$$g(x) = x - Cf(x),~c\\neq 0$$\n",
    "$$g(x) = x - h(h)g(x),~h\\neq 0$$"
   ]
  },
  {
   "cell_type": "markdown",
   "metadata": {},
   "source": [
    "Primer:\n",
    "$$p(x) = x^3 - 5x^2 + 1$$\n",
    "$$x = \\frac{x^3 + 1}{5}$$"
   ]
  },
  {
   "cell_type": "code",
   "execution_count": 6,
   "metadata": {},
   "outputs": [],
   "source": [
    "import numpy as np\n",
    "import matplotlib.pyplot as plt"
   ]
  },
  {
   "cell_type": "code",
   "execution_count": 28,
   "metadata": {},
   "outputs": [],
   "source": [
    "x = np.arange(-2.75, 2.75, 0.01)\n",
    "def p(x):\n",
    "    return x ** 3 - 5 * x + 1"
   ]
  },
  {
   "cell_type": "code",
   "execution_count": 29,
   "metadata": {},
   "outputs": [
    {
     "data": {
      "image/png": "[encoded data removed]",
      "text/plain": [
       "<Figure size 640x480 with 1 Axes>"
      ]
     },
     "metadata": {},
     "output_type": "display_data"
    }
   ],
   "source": [
    "plt.plot(x, p(x))\n",
    "plt.grid()"
   ]
  },
  {
   "cell_type": "markdown",
   "metadata": {},
   "source": [
    "Vzamemo začetni približek $x_0 = 2$"
   ]
  },
  {
   "cell_type": "code",
   "execution_count": 3,
   "metadata": {},
   "outputs": [
    {
     "name": "stdout",
     "output_type": "stream",
     "text": [
      "1.8\n",
      "1.3664\n",
      "0.7102271397888\n",
      "0.27165092268126223\n",
      "0.2040092537964148\n",
      "0.20169816387407655\n",
      "0.2016411029636626\n",
      "0.2016397105413703\n",
      "0.20163967657279377\n",
      "0.2016396757441256\n"
     ]
    }
   ],
   "source": [
    "x = 2\n",
    "def g(x): return (x ** 3 + 1) / 5\n",
    "for _ in range(10):\n",
    "    x = g(x)\n",
    "    print(x)"
   ]
  },
  {
   "cell_type": "markdown",
   "metadata": {},
   "source": [
    "Zaporedje konvergira proti neki ničli, vendar je bil naš začetni približek bližje ničli pri $x = 2.2$."
   ]
  },
  {
   "cell_type": "markdown",
   "metadata": {},
   "source": [
    "Dokažemo lahko, da zaporedje $x_{r+1} = g(x_r)$ konvergira k neki $\\alpha$, če je $g$ skrčitev na intervalu $[\\alpha - \\delta, \\alpha + \\delta]$ (tj. če je $|g(x_1) - g(x_2)| \\leq m|x_1 - x_2|,~m\\in[0, 1)$). Poleg tega velja:\n",
    "$$|x_r - \\alpha| \\leq m^r |x_0 - \\alpha|$$\n",
    "$$|x_{r+1} - \\alpha| \\leq \\frac{m}{1-m}|x_r - x_{r-1}|$$\n",
    "Problem: Če je $m \\approx 1$, dobimo zelo slabo oceno."
   ]
  },
  {
   "cell_type": "code",
   "execution_count": 37,
   "metadata": {},
   "outputs": [
    {
     "name": "stdout",
     "output_type": "stream",
     "text": [
      "2.1876749999999996\n",
      "2.294008340977633\n",
      "2.6144319732123416\n",
      "3.774061604220126\n",
      "10.95120023354713\n",
      "262.87283106655957\n",
      "3633014.4627461606\n",
      "9.590281961429148e+18\n",
      "1.7641037513160762e+56\n",
      "1.0980000657263335e+168\n"
     ]
    }
   ],
   "source": [
    "x = 2.15\n",
    "def g(x): return (x ** 3 + 1) / 5\n",
    "for _ in range(10):\n",
    "    x = g(x)\n",
    "    print(x)"
   ]
  },
  {
   "cell_type": "markdown",
   "metadata": {},
   "source": [
    "To je pa še slabše."
   ]
  },
  {
   "cell_type": "markdown",
   "metadata": {},
   "source": [
    "Lagrangeov izrek: $$\\left|g(x) - g(y)\\right| = \\left|g'(\\xi)\\right||x-y|$$"
   ]
  },
  {
   "cell_type": "markdown",
   "metadata": {},
   "source": [
    "Ker mora biti to manjše ali enako $m \\in [0, 1)$, dobimo zahtevo $g'(\\xi) \\lt 1$"
   ]
  },
  {
   "cell_type": "markdown",
   "metadata": {},
   "source": [
    "Če bo torej odvod v ničli $g'(\\alpha) \\lt 0$, bo zaporedje lahko konvergiralo proti njej, če pa je $g'(\\alpha) \\geq 1$, pa ne bo konvergiralo proti tej ničli. Očitno je v  našem primeru $x_1=0.2$ tako imenovana \"privlačna\" ničla, $x_2 = 2.2$ pa odbojna."
   ]
  },
  {
   "cell_type": "markdown",
   "metadata": {},
   "source": [
    "Če je $g$ v okolici negibne točke (ničle) $a$ p-krat zvezno odvedljiva in je $g^{(k)}(\\alpha) = 0$ za $k = 1, 2, ... p - 1$ ter $g^{(p)}(\\alpha) \\neq 0$, ima iterativna metoda $x_{r+1} = g(x_r)$ v bližini rešitve $\\alpha$ red konvergence $p$. To pomeni:\n",
    "- $p=1$: Vsaka nova iteracija nam da konstantno število novih točnih decimalk.\n",
    "- $p=2$: Vsaka nova iteracija nam podvoji število točnih decimalk.\n",
    "- $p=3$: Vsaka nova iteracija nam potroji število točnih decimalk."
   ]
  },
  {
   "cell_type": "markdown",
   "metadata": {},
   "source": [
    "Iteracija za $\\sqrt{a}$, $a \\gt 0$: $$g(x) = \\frac{x^2 + a}{2x}$$\n",
    "Ta metoda ima kvadratično konvergenco in dokazano deluje."
   ]
  },
  {
   "cell_type": "code",
   "execution_count": 43,
   "metadata": {},
   "outputs": [
    {
     "name": "stdout",
     "output_type": "stream",
     "text": [
      "3.1666666666666665\n",
      "3.162280701754386\n",
      "3.162277660169842\n",
      "3.1622776601683795\n"
     ]
    }
   ],
   "source": [
    "a = 10\n",
    "x = 3\n",
    "def g(x):\n",
    "    return (x ** 2 + a) / 2 / x\n",
    "for _ in range(4):\n",
    "    x = g(x)\n",
    "    print(x)"
   ]
  },
  {
   "cell_type": "code",
   "execution_count": 44,
   "metadata": {},
   "outputs": [
    {
     "name": "stdout",
     "output_type": "stream",
     "text": [
      "3.1622776601683795\n"
     ]
    }
   ],
   "source": [
    "print(np.sqrt(10))"
   ]
  },
  {
   "cell_type": "markdown",
   "metadata": {},
   "source": [
    "V štirih iteracijah smo torej dobili iskani rezultat."
   ]
  },
  {
   "cell_type": "code",
   "execution_count": 47,
   "metadata": {},
   "outputs": [
    {
     "name": "stdout",
     "output_type": "stream",
     "text": [
      "16.829\n",
      "16.530252569968507\n",
      "16.527552973378178\n",
      "16.527552752903258\n",
      "16.527552752903258\n"
     ]
    }
   ],
   "source": [
    "a = 273.16\n",
    "x = 20\n",
    "for _ in range(4):\n",
    "    x = g(x)\n",
    "    print(x)\n",
    "print(np.sqrt(273.16))"
   ]
  },
  {
   "cell_type": "code",
   "execution_count": 49,
   "metadata": {},
   "outputs": [
    {
     "name": "stdout",
     "output_type": "stream",
     "text": [
      "23219.23758673\n",
      "12588.084925246707\n",
      "8098.863269096006\n",
      "6854.669460135583\n",
      "6741.752400950002\n",
      "6740.8067816586945\n",
      "6740.80671533163\n",
      "6740.80671533163\n"
     ]
    }
   ],
   "source": [
    "a = 45438475.173460\n",
    "x = 1000\n",
    "for _ in range(7):\n",
    "    x = g(x)\n",
    "    print(x)\n",
    "print(np.sqrt(45438475.173460))"
   ]
  },
  {
   "cell_type": "markdown",
   "metadata": {},
   "source": [
    "Ker imamo opravka s kvadratno konvergenco, naša iteracija zelo hitro knovergira."
   ]
  },
  {
   "cell_type": "markdown",
   "metadata": {},
   "source": [
    "Lahko stvar pospešimo, in sicer tako, da vzamemo $g_1 = g(g(x))$. Kako preverimo, da je $\\sqrt{a}$ negibna točka funkcije $g(g(x))$?\n",
    "$$g_1(\\sqrt{a}) = g(g(\\sqrt{a})) = g(\\sqrt{a})$$"
   ]
  },
  {
   "cell_type": "markdown",
   "metadata": {},
   "source": [
    "Red konvergence:\n",
    "$$g_1'(x) = g'(g(x))g'(x)$$\n",
    "$$g_1'(\\sqrt{a}) = \\left[g'(sqrt{a})\\right]^2$$\n",
    "Ker je $g(\\sqrt{a})$ reda (vsaj) 2, je $g_1'(a) = g(\\sqrt{a}) = 0$\n",
    "$$g_1''(x) = g''(g(x))g'(x)g'(x) + g'(g(x))g''(x)$$\n",
    "$$g_1''(\\sqrt{a}) = 0 + 0 = 0$$"
   ]
  },
  {
   "cell_type": "markdown",
   "metadata": {},
   "source": [
    "To lahko počnemo še naprej, vendar pri četrtem odvodu dobimo neničeln člen."
   ]
  },
  {
   "cell_type": "markdown",
   "metadata": {},
   "source": [
    "Konvergenca je odvisna tudi od začetnega pogoja. $g$ mora biti namreč skrčitev, torej mora biti $x_0$ na območju, na katerem je odvod manjši od 1. $\\\\$\n",
    "Primer: $g(x) = x^3 - 2x^3 - 2x + 6$\n",
    "$$g'(x) = 3x^2 - 4x - 2$$\n",
    "$$|3x^2 - 4x - 2| \\lt 1$$"
   ]
  },
  {
   "cell_type": "markdown",
   "metadata": {},
   "source": [
    "Za oba primera poiščemo ničle:\n",
    "$$3x^2 - 4x - 3 \\lt 0$$\n",
    "$$x_{1, 2} = \\frac{4 \\pm \\sqrt{16 + 36}}{6} = \\frac{2\\pm\\sqrt{13}}{3}$$"
   ]
  },
  {
   "cell_type": "markdown",
   "metadata": {},
   "source": [
    "$$3x^2 - 4x - 1 \\lt 0$$\n",
    "$$x_{3, 4} = \\frac{4 \\pm \\sqrt{16 + 12}}{6} = \\frac{2 \\pm \\sqrt{7}}{3}$$"
   ]
  },
  {
   "cell_type": "markdown",
   "metadata": {},
   "source": [
    "Pogledamo, na katerih intervalih ima funkcija željeni predznak in dobimo, da konvergira za\n",
    "$$x \\in \\left(\\frac{2 + \\sqrt{7}}{3}, \\frac{2+\\sqrt{13}}{3}\\right)$$"
   ]
  }
 ],
 "metadata": {
  "kernelspec": {
   "display_name": "Python 3",
   "language": "python",
   "name": "python3"
  },
  "language_info": {
   "codemirror_mode": {
    "name": "ipython",
    "version": 3
   },
   "file_extension": ".py",
   "mimetype": "text/x-python",
   "name": "python",
   "nbconvert_exporter": "python",
   "pygments_lexer": "ipython3",
   "version": "3.13.2"
  }
 },
 "nbformat": 4,
 "nbformat_minor": 2
}
