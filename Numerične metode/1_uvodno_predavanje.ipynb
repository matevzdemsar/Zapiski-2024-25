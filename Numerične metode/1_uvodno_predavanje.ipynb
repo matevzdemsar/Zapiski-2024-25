{
 "cells": [
  {
   "cell_type": "markdown",
   "metadata": {},
   "source": [
    "Pri programiranju uporabljamo MatLab. Izogibamo se for zankam, rekurzija pa sploh odpade, ker je počasna."
   ]
  },
  {
   "cell_type": "markdown",
   "metadata": {},
   "source": [
    "**Napake pri računanju:** Neodstranljiva napaka $D_n$ zaradi napake v podatkih, napaka metode $D_m$ (npr. pri Taylorjevi vrsti je za sinus je napaka manjša ali enaka naslednjemu členu), zaokrožitvena napaka $D_z$ (za zaokroževanje na predstavljiva števila - to delamo sproti, zato moramo biti previdni)"
   ]
  },
  {
   "cell_type": "markdown",
   "metadata": {},
   "source": [
    "**Primer:** Izračunali bi radi vrednost $e^{-x}$."
   ]
  },
  {
   "cell_type": "markdown",
   "metadata": {},
   "source": [
    "$$\\text{Dva načina: } ~e^{-x} = \\sum ^\\infty _{n=0} (-1) \\frac{x^n}{n!}~ \\text{ ali } ~\\frac{1}{\\sum ^\\infty _{n = 0} x^n / n!}$$"
   ]
  },
  {
   "cell_type": "markdown",
   "metadata": {},
   "source": [
    "Prvi način se izkaže za slabšega. Zakaj? Pri prvem načinu začnemo z velikimi števili in jim prištevamo zelo majhna. Ker smo omejeni s številom mest, na katera lahko računamo, se tista majhna števila zaokrožijo na 0, torej zadnjih nekaj členov popolnoma izpustimo. Imamo toraj veliko število, ki mu moramo večkrat odšteti 0, da bi dobili majhno število. To seveda ne deluje. Drugi pristop je še kar natančen, saj izračuna veliko število (sicer ne nujno natančno), in vrne obratno vrednost tega števila, ki je primerno majhna."
   ]
  },
  {
   "cell_type": "markdown",
   "metadata": {},
   "source": [
    "Računamo člene zaporedja:\n",
    "$$a_{n+1} = \\frac{5}{2} a_n - a_{n-1};~a_0 = 1, a_1 = 1/2$$"
   ]
  },
  {
   "cell_type": "markdown",
   "metadata": {},
   "source": [
    "Vzamemo nastavek $a_n = \\lambda^n$\n",
    "$$\\lambda^{n+1} = \\frac{5}{2} \\lambda^n - \\lambda^{n-1}$$\n",
    "$$\\lambda^2 - \\frac{5}{2} \\lambda + 1 = 0$$\n",
    "$$\\lambda _1 = 2,~\\lambda _2 = \\frac{1}{2}$$\n",
    "$$a_n = \\alpha \\cdot 2^n + \\beta \\cdot \\left( \\frac{1}{2} \\right)^n$$\n",
    "Vstavimo začetno pogoje;\n",
    "$$a_n = (\\frac{1}{2})^n = 2^{-n}$$"
   ]
  },
  {
   "cell_type": "markdown",
   "metadata": {},
   "source": [
    "Računalnik se tega problema loti s for zanko, ki ni vedno zanesljiva. Za zgornji primer je še kar natančen, napaka po 2000 členih zaporedja je cca. $10^{-8}$."
   ]
  },
  {
   "cell_type": "markdown",
   "metadata": {},
   "source": [
    "Zdaj vzemimo drugačno zaporedje:\n",
    "$$a_n = \\frac{10}{3}a_{n-1} - a_{n-2}$$\n",
    "Podobno kot prej lahko izračunamo $a_n = \\alpha 3^n + \\beta 3^{-n}$. Sledi, da pri dovolj velikih $n$ stvar eksponentno narašča. "
   ]
  },
  {
   "cell_type": "markdown",
   "metadata": {},
   "source": [
    "Kako poskrbimo, da računalnik še vedno dobi natančen rezultat?"
   ]
  },
  {
   "cell_type": "markdown",
   "metadata": {},
   "source": [
    "Zaporedje začnemo računati od zadaj, definiramo $\\~{a}_N = 1$; $\\~{a}_{N-1} = 1$, sledi $$\\~{a}_{N-1} = \\frac{10}{3} \\~{a}_N - \\~{a}_{N+1}$$\n",
    "Ko pridemo do $\\~{a}_0$, seveda ne dobimo $a_0$, podanega z začetno vrednostjo, zato vse skupaj delimo z $\\~{a}_0$:\n",
    "$$a_N = \\frac{\\~{a}_n}{\\~{a}_0}$$ "
   ]
  },
  {
   "cell_type": "markdown",
   "metadata": {},
   "source": [
    "Sistem linearnih enačb z $n$ neznanmaki:\n",
    "$$A \\mathbf{x} = \\mathbf{b};~a \\in \\mathbb{R}^{m \\times n}, ~\\mathbf{x} \\in \\mathbb{R}^{n \\times 1}~\\mathbf{b}, \\in \\mathbb{R}^{m \\times 1}$$"
   ]
  },
  {
   "cell_type": "markdown",
   "metadata": {},
   "source": [
    "Če je $m=n$ in $detA \\neq 0$, nam Matematika II da rešitev $x = A^{-1}b$. Če je $rank(A) = rank([A, b])$, sistem ima rešitve."
   ]
  },
  {
   "cell_type": "markdown",
   "metadata": {},
   "source": [
    "Mi tega ne bomo počeli. Oglejmo si najprej, kako Vektor množimo z matriko."
   ]
  },
  {
   "cell_type": "markdown",
   "metadata": {},
   "source": [
    "$A = [\\mathbf{a_1}, \\mathbf{a_2}, ... \\mathbf{a_n}]$, $\\mathbf{x} = [x_1, x_2, ..., x_n]$"
   ]
  },
  {
   "cell_type": "markdown",
   "metadata": {},
   "source": [
    "Če lahko $\\mathbf{b}$ zapišemo kot $$\\mathbf{b} = \\sum _1^n x_i {a_i},$$ je $\\mathbf{x}$ rešitev enačbe."
   ]
  },
  {
   "cell_type": "markdown",
   "metadata": {},
   "source": [
    "Posebej pomembni bojo sistemi, kjer je matrika A zgornje ali spodnje trikotna, učinkovito lahko rešimo tudi v tridiagonalnih sistemih (glavna diagonala + 1 zgoraj + 1 spodaj)."
   ]
  },
  {
   "cell_type": "markdown",
   "metadata": {},
   "source": [
    "Vektorske in matrične norme:"
   ]
  },
  {
   "cell_type": "markdown",
   "metadata": {},
   "source": [
    "$\\newcommand{\\fn}[3]{{#1}: {#2} \\rightarrow {#3}}$"
   ]
  },
  {
   "cell_type": "markdown",
   "metadata": {},
   "source": [
    "Vektorska norma je preslikava $\\fn{||\\cdot||}{\\mathbb{R}^n}{\\mathbb{R}}$, za katero velja:\n",
    "- $||\\mathbf{x}|| \\geq 0$, enakost velja za $\\mathbf{x} = 0$\n",
    "- $||\\alpha \\mathbf{x}|| = |\\alpha| ||\\mathbf{x}||$\n",
    "- $||\\mathbf{x} + \\mathbf{y}|| \\leq ||\\mathbf{x}|| + ||\\mathbf{y}|| \\\\$\n",
    "Za vsak $\\mathbf{x, y} \\in \\mathbb{R}^n$ in $\\alpha \\in \\mathbb{R}$"
   ]
  },
  {
   "cell_type": "markdown",
   "metadata": {},
   "source": [
    "Pomembnejše norme:\n",
    "- $||\\mathbf{x}||_1 = \\sum _{i=1}^n x_i$ (Manhattanska norma)\n",
    "- $||\\mathbf{x}||_2 = \\left(\\sum _{i=1}^n x_i^2\\right)^{1/2}$ (Evklidska norma)\n",
    "- $||\\mathbf{x}||_\\infty = \\max _{i = 1, 2, ..., n} |x_i|$ ($\\infty$ norma)"
   ]
  },
  {
   "cell_type": "markdown",
   "metadata": {},
   "source": [
    "Da se pokazati, da so norme ekvivalentne, v smislu, da če gre norma nekega vektorja proti 0 v eni normi, bo šlo proti 0 tudi v drugi normi."
   ]
  },
  {
   "cell_type": "markdown",
   "metadata": {},
   "source": [
    "podobno definiramo tudi normo matrike:\n",
    "- $||A|| \\geq 0$, enakost velja za $A = 0$\n",
    "- $||\\alpha A|| = |\\alpha| ||A||$\n",
    "- $||A + B|| \\leq ||A|| + ||B||$\n",
    "- $||AC|| \\leq ||A|| \\cdot ||C||$"
   ]
  },
  {
   "cell_type": "markdown",
   "metadata": {},
   "source": [
    "Lahko si zamislimo nekaj takih, najbolj intuitivna je \"koren iz vsote kvadratov vseh elementov matrike\" ($||\\cdot||_F$). Pogoste pa so tudi \"vsota maksimumov absolutnih vrednosti po vseh vrsticah\" ($||\\cdot||_\\infty$), \"vsota maksimumov aboslutnih vrednosti po vseh stolpcih\" ($||\\cdot||_1$) in $||\\cdot||_2 = \\sum _i \\sqrt{\\lambda _i (A^TA)}$."
   ]
  }
 ],
 "metadata": {
  "kernelspec": {
   "display_name": "Python 3",
   "language": "python",
   "name": "python3"
  },
  "language_info": {
   "codemirror_mode": {
    "name": "ipython",
    "version": 3
   },
   "file_extension": ".py",
   "mimetype": "text/x-python",
   "name": "python",
   "nbconvert_exporter": "python",
   "pygments_lexer": "ipython3",
   "version": "3.13.2"
  }
 },
 "nbformat": 4,
 "nbformat_minor": 2
}
