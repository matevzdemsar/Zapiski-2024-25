{
 "cells": [
  {
   "cell_type": "markdown",
   "metadata": {},
   "source": [
    "Za obrnljivo matriko $A$ definiramo število občutljivosti\n",
    "$$\\kappa (A) = ||A^{-1}||||A||$$\n",
    "Pri reševanju sistemov linearnih enačb oblike $A\\mathbf{x} = \\mathbf{b}$ s $\\kappa$ izrazimo občutljivost rešitve na motnje v $A$ in $\\mathbf{b}$.\n",
    "$$\\frac{||\\delta \\mathbf{x}||}{||x||} \\leq \\frac{\\kappa (A)}{1 - \\kappa (A) \\frac{||\\delta A||}{||A||}} \\left(\\frac{||\\delta A||}{||A||} + \\frac{||\\delta \\mathbf{b}||}{||\\mathbf{b}||}\\right)$$"
   ]
  },
  {
   "cell_type": "markdown",
   "metadata": {},
   "source": [
    "Primer: Hilbertova matrika $\\displaystyle{H_n = \\left(\\frac{1}{i + j - 1}\\right)_{i, j}^n}$ nam da precejšnjo napako, $\\kappa = 1.1 \\cdot 10^{18}$. Sledi, da nam bo tudi pri zelo natančnih podatkih ($||\\delta A||, ||\\delta \\mathbf{b}|| \\sim 10^{-16}$) računalnik vrnil problematične rezultate. Čim je $\\kappa \\geq 10^e$, moramo poskusiti sistem enačb pretvoriti na nekaj bolj obvladljivega."
   ]
  },
  {
   "cell_type": "markdown",
   "metadata": {},
   "source": [
    "Imejmo spodnje trikotno obrnljivo matriko $L \\in \\mathbb{R}^{n\\times n}$ in sistem enačb $L\\mathbb{x} = \\mathbb{b}$, $b \\in \\mathbb{R}^n$."
   ]
  },
  {
   "cell_type": "markdown",
   "metadata": {},
   "source": [
    "Gre za sistem oblike $$\\begin{bmatrix} l_{11} & 0 & 0 & \\dots & 0 \\\\ l_{21} & l_{22} & 0 & \\dots & 0 \\\\ l_{31} & l_{32} & l_{33} & \\dots & 0 \\\\ \\dots & \\dots & \\dots & \\dots & \\dots \\\\ l_{n1} & l_{n2} & l_{n3} & \\dots & l_{nn} \\end{bmatrix} \\begin{bmatrix} x_1 \\\\ x_2 \\\\ x_3 \\\\ ... \\\\ x_n \\end{bmatrix} = \\begin{bmatrix} b_1 \\\\ b_2 \\\\ b_3 \\\\ \\dots \\\\ b_n \\end{bmatrix}$$"
   ]
  },
  {
   "cell_type": "markdown",
   "metadata": {},
   "source": [
    "Takoj vidimo $\\displaystyle{x_1 = \\frac{b_1}{l_{11}}} \\\\$\n",
    "$x_2$ dobimo s pomočjo $x_1$: $\\displaystyle{x_1 = \\frac{b_1 - l_21 x_1}{l_{22}}} \\\\$\n",
    "Ko to počnemo še naprej, dobimo: $$x_i = \\frac{b_i - \\sum_{j=1}^{i-1} l_{ij}x_j}{l_{ii}}$$"
   ]
  },
  {
   "cell_type": "markdown",
   "metadata": {},
   "source": [
    "V Matlabu ima ta koda obliko: $\\\\$\n",
    "function x = direktno(L, b) $\\\\$\n",
    "n = size(L, 1); $\\\\$\n",
    "x = zeros(n, 1); $\\\\$\n",
    "for i=1:n $\\\\$\n",
    "$~$ $~$ x(i) = (b(i) - L(i, 1:i-1) $*$ x(1:i-1))/L(i,i); $\\\\$\n",
    "end"
   ]
  },
  {
   "cell_type": "markdown",
   "metadata": {},
   "source": [
    "Časovna zahtevnost: Število operacij je $$\\sum_{i=1}^n (2i - 1) = ... = n(n+1) - n = n^2$$"
   ]
  },
  {
   "cell_type": "markdown",
   "metadata": {},
   "source": [
    "Časovna zahtevnost takega algoritma je torej O($n^2$). To ni zelo hitro, vendar je dokazano, da hitreje ne gre. Za splošne sisteme je časovna zahtevnost O($n^3$), in večinoma smo že obupali nad idejo, da bi stvar pospešili. Ni pa še dokazano, da se ne da."
   ]
  },
  {
   "cell_type": "markdown",
   "metadata": {},
   "source": [
    "**LU razcep:** Osnovna ideja večine algoritmov: Problem prevedemo na enostavnejšega, ki ima neko želeno obliko, rešimo enostavnejši sistem in nato iz rešitev enostavnejšega sistema dobimo rešitev prvotnega sistema. LU razcep nam to omogoča."
   ]
  },
  {
   "cell_type": "markdown",
   "metadata": {},
   "source": [
    "Osnovna ideja: Bodi $A \\neq 0$. Idealno bi bilo, da bi lahko $A$ zapisalo kot produkt matrik $LU$, kjer je $L$ spodnje-trikotna, $U$ pa zgornje-trikotna.\n",
    "Tedaj velja:\n",
    "$$A\\mathbf{x} = \\mathbf{b}$$\n",
    "$$(LU)\\mathbf{x} = \\mathbf{b}$$\n",
    "$$L(U\\mathbf{x}) = \\mathbf{b}$$\n",
    "$$\\text{Označimo $\\mathbf{y} = U\\mathbf{x}$}$$\n",
    "$$L\\mathbf{y} = \\mathbf{b}$$\n",
    "$$U\\mathbf{x} = \\mathbf{y}$$"
   ]
  },
  {
   "cell_type": "markdown",
   "metadata": {},
   "source": [
    "Dobimo dva sistema enačb z zgornje- in spodnjetrikotno matriko (obenem želimo še, da ima L po diagonali enice), ki ju oba znamo hitro rešiti. Težava se pojavi, ker se nekaterih matrik ne da lapo razcepiti."
   ]
  },
  {
   "cell_type": "markdown",
   "metadata": {},
   "source": [
    "Velja, da lahko matriko  razcepimo, če velja det $A_k \\neq 0 ~\\forall k \\in {1, 2, ..., n}$, kjer je $A_k$ kvadratna poddeterminanta matrike $A$, ki vsebuje prvih $k$ stolpcev in vrstic. Formalno se temu reče vodilni minor."
   ]
  },
  {
   "cell_type": "markdown",
   "metadata": {},
   "source": [
    "Torej:\n",
    "$$A = \\begin{bmatrix} A_k & A_{12} \\\\ A_{21} & A_{22} \\end{bmatrix}$$\n",
    "$A_k \\in \\mathbb{R}^{k\\times k}$"
   ]
  },
  {
   "cell_type": "markdown",
   "metadata": {},
   "source": [
    "Dokaz: (=>) Želimo \n",
    "$$A = \\begin{bmatrix} A_k & A_{12} \\\\ A_{21} & A_{22} \\end{bmatrix} = LU = \\begin{bmatrix} L_k & 0 \\\\ L_{21} & L_{22} \\end{bmatrix} \\begin{bmatrix} U_k & U_{12} \\\\ 0 & U_{22} \\end{bmatrix} = \\begin{bmatrix} L_k U_k & L_kU_{12} \\\\ L_{21}U_{k} & L_{21}U_{12} + L_{22}U_{22} \\end{bmatrix}$$\n",
    "$$\\text{det}A_k = \\text{det}(L_kU_k) = \\text{det}L_k\\text{det}U_k$$\n",
    "Ker morata biti $L$ in $U$ zgornje- in spodnjetrikotni obrnljivi matriki, je to gotovo neničelno."
   ]
  },
  {
   "cell_type": "markdown",
   "metadata": {},
   "source": [
    "(<=):\n",
    "Indukcija po n: Pri $n=1$ je zadeva očitna. Za $n \\to n+1$ konstruiramo\n",
    "$$\\begin{bmatrix} A_n & a \\\\ b^T & a_{n,n} \\end{bmatrix},~A_n = L_nU_n \\text{po predpostavki}$$\n",
    "Vzamemo\n",
    "$$A_{n+1} = \\begin{bmatrix}A_n & 0 \\\\ l^T & 1 \\end{bmatrix}$$\n",
    "In preverimo, da to zadošča."
   ]
  },
  {
   "cell_type": "markdown",
   "metadata": {},
   "source": [
    "Kaj pa, če $A$ ni obrnljiva? Tedaj naredimo t. i. razcep z delnim pivotiranjem:\n",
    "$$PA\\mathbf{x} = LU\\mathbf{x} = p\\mathbf{b}$$"
   ]
  },
  {
   "cell_type": "markdown",
   "metadata": {},
   "source": [
    "Če je $A_{11} = 0$, kar bi nam takoj preprečilo razcep, poiščemo največji neničeln element v prvem stolpcu ($\\mathbb{a_{\\bullet 1}}$) in naredimo zamenjavo vrstic. Postopek nato ponovimo na podmatriki $A[2:n][2:n]$, nato na $A[3:n][3:n]$ in tako naprej za celotno diagonalo. Ker izbiramo (po absolutni vrednosti) največje elemente, računamo, da bojo vsi glavni minorji neničelni."
   ]
  },
  {
   "cell_type": "markdown",
   "metadata": {},
   "source": [
    "Celoten postopek:\n",
    "Naj bo $A^{(j)}$ matrika $A$ na j-tem koraku. $\\\\$ V j-tem stolpcu v vrsticah od j do n poiščemo največji element po absolutni vrednosti:\n",
    "$\\text{max}_{j \\leq i \\leq n}\\big|a_{ij}^{(j)}\\big| \\\\$\n",
    "Zamenjamo vrstico, kjer je največji element, z j-to vrstico. $\\\\$\n",
    "Izvedemo Gaussovo eliminacijo na preostalih vrsticah. $\\\\$\n",
    "Ko postopek ponovimo za vse vrstice, je zgornji trikotnik matrike $A$ enak $U$, spodnji pa $L$."
   ]
  },
  {
   "cell_type": "markdown",
   "metadata": {},
   "source": [
    "P je permutacijaska matrika, ki nam pove, kako moramo premešati stolpce."
   ]
  }
 ],
 "metadata": {
  "language_info": {
   "name": "python"
  }
 },
 "nbformat": 4,
 "nbformat_minor": 2
}
